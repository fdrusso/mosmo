{
 "cells": [
  {
   "cell_type": "code",
   "execution_count": 1,
   "id": "bad8d67d-f34c-4445-8969-c57fd45b63c3",
   "metadata": {
    "jupyter": {
     "source_hidden": true
    },
    "tags": []
   },
   "outputs": [
    {
     "name": "stderr",
     "output_type": "stream",
     "text": [
      "WARNING:absl:No GPU/TPU found, falling back to CPU. (Set TF_CPP_MIN_LOG_LEVEL=0 and rerun for more info.)\n"
     ]
    }
   ],
   "source": [
    "import projectpath\n",
    "\n",
    "import escher\n",
    "from importlib import resources\n",
    "import ipywidgets as widgets\n",
    "import jax\n",
    "import jax.numpy as jnp\n",
    "import json\n",
    "import matplotlib.pyplot as plt\n",
    "import numpy as np\n",
    "import pandas as pd\n",
    "import panel as pn\n",
    "import scipy\n",
    "\n",
    "import files.pw\n",
    "from knowledge import kb\n",
    "from knowledge.thermo import Thermodynamics\n",
    "from model.core import DbXref, Molecule, Reaction\n",
    "from model.reaction_network import ReactionNetwork\n",
    "from preso.escher.escher_model import escher_model\n",
    "from sim import fba_gd\n",
    "from sim.convenience_kinetics import ConvenienceKinetics, ReactionKinetics, PackedNetworkKinetics\n",
    "\n",
    "jax.config.update('jax_enable_x64', True)\n",
    "jnp.zeros(1)  # triggers the jax GPU warning\n",
    "\n",
    "KB = kb.configure_kb()\n",
    "thermo = Thermodynamics(p_h=7.3, p_mg=1.5, ionic_strength=0.25, temperature=298.15)\n",
    "RT = 8.314463e-3 * 298.15  # kJ / mol\n",
    "FARADAY = 96.485332  # kC / mol\n",
    "\n",
    "escher_options = {\n",
    "    'menu': 'zoom',\n",
    "    'enable_editing': False,\n",
    "    'never_ask_before_quit': True,\n",
    "    'reaction_styles': ['color', 'size', 'abs'],\n",
    "    'reaction_scale': [\n",
    "        {'type': 'value', 'value': 0, 'color': '#eeeeee', 'size': 3},\n",
    "        {'type': 'value', 'value': 5, 'color': '#1f77b4', 'size': 20},\n",
    "    ],\n",
    "}"
   ]
  },
  {
   "cell_type": "markdown",
   "id": "5d410d34-e0fc-4d94-a115-3befa98c91d5",
   "metadata": {},
   "source": [
    "## PMF"
   ]
  },
  {
   "cell_type": "code",
   "execution_count": 2,
   "id": "dacf00d7-e335-4849-a4a9-eecab944c605",
   "metadata": {},
   "outputs": [
    {
     "name": "stdout",
     "output_type": "stream",
     "text": [
      "At Δψ = -150 mV and ΔpH = 0.60:\n",
      "ΔGp = FΔψ + RT ln(H+[p]/H+[c]) = -14.473 + -3.425 = -17.898\n"
     ]
    }
   ],
   "source": [
    "water = KB(\"h2o\")\n",
    "proton = KB(\"h+\")\n",
    "proton_p = Molecule(_id='h+.p', name=\"proton (periplasm)\", shorthand=\"H+(p)\", charge=+1)\n",
    "electron = Molecule(_id='e-', name='electron', shorthand='e-', charge=-1, mass=0.000548579903, xrefs=(DbXref(\"CHEBI\",\"10545\"),))\n",
    "ignore = set([proton, proton_p, electron, water])  # All ignored for kinetic purposes\n",
    "\n",
    "d_psi = -150  # mV\n",
    "ph_p = 6.7\n",
    "dg_p_psi = d_psi / 1000 * FARADAY  # mV * V/mV * (kJ/kC)/V * kC/mol = kJ/mol\n",
    "dg_p_ph = -np.log(10) * RT * (thermo.cc.p_h.m - ph_p)\n",
    "dg_p = dg_p_psi + dg_p_ph\n",
    "thermo.set_formation_delta_g(proton_p, -dg_p)\n",
    "\n",
    "print(f\"At Δψ = {d_psi} mV and ΔpH = {thermo.cc.p_h.m - ph_p:.2f}:\")\n",
    "print(f\"ΔGp = FΔψ + RT ln(H+[p]/H+[c]) = {dg_p_psi:.3f} + {dg_p_ph:.3f} = {dg_p:.3f}\")"
   ]
  },
  {
   "cell_type": "markdown",
   "id": "88014da8-2bc8-486b-a3bc-5575b99c53a5",
   "metadata": {},
   "source": [
    "## NAD(P)(H) Couple"
   ]
  },
  {
   "cell_type": "code",
   "execution_count": 3,
   "id": "f1ff3446-2e98-4d36-b02e-fc08b42c156e",
   "metadata": {},
   "outputs": [],
   "source": [
    "# All Km in mM, all kcat in 1/s\n",
    "reaction_kinetics = {}\n",
    "\n",
    "nad = KB(\"nad.ox\")\n",
    "nadh = KB(\"nad.red\")\n",
    "nadp = KB(\"nadp.ox\")\n",
    "nadph = KB(\"nadp.red\")\n",
    "\n",
    "nad_reduction = Reaction(\"nad_red\", name=\"NAD reduction\", aka=[\"NAD half-cell\"], stoichiometry={nad: -1, proton: -1, electron: -2, nadh: +1})\n",
    "nadp_reduction = Reaction(\"nadp_red\", name=\"NADP reduction\", aka=[\"NADP half-cell\"], stoichiometry={nadp: -1, proton: -1, electron: -2, nadph: +1})\n",
    "\n",
    "udha = Reaction(\n",
    "    _id=\"UdhA\", \n",
    "    name=\"Energy-independent transhydrogenase\",\n",
    "    stoichiometry={nadh: -1, nadp: -1, nad: +1, nadph: +1},\n",
    "    catalyst=Molecule(_id=\"UdhA\"),\n",
    "    xrefs=(DbXref(\"EC\", \"1.6.1.1\"),\n",
    "           DbXref(\"RHEA\", \"11692\"),\n",
    "           DbXref(\"KEGG\", \"R00112\"),\n",
    "           DbXref(\"METACYC\", \"PYRNUTRANSHYDROGEN-RXN\"),\n",
    "           DbXref(\"GO\", \"0008746\")),\n",
    ")\n",
    "reaction_kinetics[udha] = ReactionKinetics.thermo_consistent(\n",
    "    reaction=udha, delta_g=thermo.reaction_delta_g(udha), km={nad: 0.133, nadph: 0.068}, kcat_f=200, ki={nadph: 1.0})\n",
    "\n",
    "pntab = Reaction(\n",
    "    _id=\"PntAB\", \n",
    "    name=\"PMF-coupled transhydrogenase\",\n",
    "    stoichiometry={nadh: -1, nadp: -1, proton_p: -1, nad: +1, nadph: +1, proton: +1},\n",
    "    catalyst=Molecule(_id=\"PntAB\"),\n",
    "    xrefs=(DbXref(\"EC\", \"7.1.1.1\"),\n",
    "           DbXref(\"RHEA\", \"47992\"),\n",
    "           DbXref(\"METACYC\", \"TRANS-RXN0-277\")),\n",
    ")\n",
    "reaction_kinetics[pntab] = ReactionKinetics.thermo_consistent(reaction=pntab, delta_g=thermo.reaction_delta_g(pntab), kv=1., ignore=ignore)"
   ]
  },
  {
   "cell_type": "markdown",
   "id": "9ae2c36b-51bf-4569-825b-b00b85ed3312",
   "metadata": {},
   "source": [
    "## NADH Dehydrogenase I"
   ]
  },
  {
   "cell_type": "code",
   "execution_count": 4,
   "id": "f69c8d8f-2e97-4ac3-87f7-d5a5cd4f4a32",
   "metadata": {},
   "outputs": [],
   "source": [
    "qone = KB(\"q.ox\")\n",
    "qol = KB(\"q.red\")\n",
    "q_reduction = Reaction(\"q_red\", name=\"Ubiquinone Reduction\", aka=[\"Ubiquinone half-cell\"], stoichiometry={qone: -1, electron: -2, qol: +1})\n",
    "\n",
    "ndh1 = Reaction(\n",
    "    _id=\"ndh1\",\n",
    "    name=\"NADH:ubiquinone oxidoreductase (H+ translocating)\",\n",
    "    stoichiometry={nadh: -1, qone: -1, proton: -5, nad: +1, qol: +1, proton_p: +4},\n",
    "    catalyst=Molecule(_id=\"NuoA-N\"),\n",
    "    xrefs=(DbXref(\"EC\", \"7.1.1.2\"),\n",
    "           DbXref(\"RHEA\", \"29091\"),\n",
    "           DbXref(\"KEGG\", \"R11945\"),\n",
    "           DbXref(\"METACYC\", \"NADH-DEHYDROG-A-RXN\"),\n",
    "           DbXref(\"GO\", \"0008137\")),\n",
    "    reversible=False,\n",
    ")\n",
    "reaction_kinetics[ndh1] = ReactionKinetics.thermo_consistent(\n",
    "    reaction=ndh1, delta_g=thermo.reaction_delta_g(ndh1), km={nadh: 0.013, qone: 0.08}, kcat_f=26., ignore=ignore)"
   ]
  },
  {
   "cell_type": "markdown",
   "id": "3a7771d5-415b-4b85-9bf2-582de10b4708",
   "metadata": {},
   "source": [
    "## Cytochrome bo3 and bd1 Oxidases\n",
    "- $bo_3$ is low-affinity (and presumably high-turnover?), used in high O2\n",
    "- _bd_-I is high-affinity, used in low oxygen\n",
    "- But both use the same EC number, 7.1.13, which complicates using kinetic data from BRENDA.\n",
    "- $K_M$ values have been reported with respect to QH2, but not with respect to O2. However, we do know that bdI is expressed under low-oxygen conditions, and is consistently referred to as high-affinity for oxygen. Try to reflect this in the kinetics. Unknown(?) how this translates to affinity for QH2.\n",
    "- It is possible we will want to model the kinetics of ndh1, cytbo3, and cytbd1 in more mechanistic detail (e.g. as in https://www.sciencedirect.com/science/article/pii/S0005272811001587) rather than the random-order equilibrium binding assumptions of convenience kinetics. But today is not that day."
   ]
  },
  {
   "cell_type": "code",
   "execution_count": 5,
   "id": "e6bc3ccb-d7f5-4450-8711-611a68dcd88b",
   "metadata": {},
   "outputs": [],
   "source": [
    "oxygen = Molecule(\n",
    "    _id=\"o2\", name=\"oxygen\", shorthand=\"O2\",\n",
    "    formula=\"O2\", charge=0, mass=31.998,\n",
    "    xrefs=(DbXref(\"CHEBI\", \"15379\"), DbXref(\"KEGG\", \"C00007\"))\n",
    ")\n",
    "\n",
    "# Some dispute on the stoichiometry of this? BiGG has both CYTBO3 and CYTBO3_4pp.\n",
    "# But note that the core reaction 2 QH2 + O2 <=> 2 Q + 2 H2O has a ΔG of a whopping -286.1, more than enough to offset 8 pumped protons at 17.9 each.\n",
    "cytbo3 = Reaction(\n",
    "    _id=\"cytbo3\",\n",
    "    name=\"Cytochrome bo3 Oxidase\",\n",
    "    stoichiometry={qol: -2, proton: -8, oxygen: -1, qone: +2, proton_p: +8, water: +2},  # some sources base this on 1/2 O2; we use 1 O2\n",
    "    catalyst=Molecule(_id=\"CyoABCDE\"),\n",
    "    xrefs=(DbXref(\"EC\", \"7.1.1.3\"),\n",
    "           DbXref(\"RHEA\", \"30251\"),\n",
    "           DbXref(\"KEGG\", \"R11335\"),\n",
    "           DbXref(\"METACYC\", \"RXN0-5268\"),\n",
    "           DbXref(\"GO\", \"0009486\")),\n",
    "    reversible=False,\n",
    ")\n",
    "reaction_kinetics[cytbo3] = ReactionKinetics.thermo_consistent(\n",
    "    reaction=cytbo3, delta_g=thermo.reaction_delta_g(cytbo3), km={qol: 0.05, oxygen: 0.05}, kcat_f=300., ignore=ignore)  # unknown\n",
    "\n",
    "cytbd1 = Reaction(\n",
    "    _id=\"cytbd1\",\n",
    "    name=\"Cytochrome bd1 Oxidase\",\n",
    "    stoichiometry={qol: -2, proton: -4, oxygen: -1, qone: +2, proton_p: +4, water: +2},  # some sources base this on 1/2 O2; we use 1 O2\n",
    "    catalyst=Molecule(_id=\"CydAB\"),  # or CbdAB / CyxAB. But then, that should a third reaction, shouldn't it?\n",
    "    xrefs=(DbXref(\"EC\", \"7.1.1.7\"),\n",
    "           DbXref(\"RHEA\", \"40527\"),\n",
    "           DbXref(\"KEGG\", \"R11325\"),\n",
    "           DbXref(\"METACYC\", \"RXN0-5266\")),\n",
    "    reversible=False,\n",
    ")\n",
    "# Numbers from Jünemann et al (1995) Biochemistry\n",
    "reaction_kinetics[cytbd1] = ReactionKinetics.thermo_consistent(\n",
    "    reaction=cytbd1, delta_g=thermo.reaction_delta_g(cytbd1), km={qol: 0.04, oxygen: 2e-3}, kcat_f=470., ignore=ignore)  # unknown\n"
   ]
  },
  {
   "cell_type": "markdown",
   "id": "6b58d6e2-bcfb-4072-93fe-6b65c9303696",
   "metadata": {},
   "source": [
    "### Put in the KB (commented out)"
   ]
  },
  {
   "cell_type": "code",
   "execution_count": 7,
   "id": "b0c5af3c-581c-4a4c-9318-1fc6af45e07b",
   "metadata": {},
   "outputs": [],
   "source": [
    "# KB.put(KB.compounds, proton_p)\n",
    "# KB.put(KB.compounds, electron)\n",
    "\n",
    "# KB.put(KB.reactions, nad_reduction)\n",
    "# KB.put(KB.reactions, nadp_reduction)\n",
    "# KB.put(KB.reactions, q_reduction)\n",
    "# KB.put(KB.reactions, udha)\n",
    "# KB.put(KB.reactions, pntab)\n",
    "# KB.put(KB.reactions, ndh1)\n",
    "# KB.put(KB.reactions, cytbo3)\n",
    "# KB.put(KB.reactions, cytbd1)"
   ]
  },
  {
   "cell_type": "markdown",
   "id": "02a5d213-7e89-48d3-a7e4-551cb16a1a42",
   "metadata": {},
   "source": [
    "## Build the network and ODE system\n",
    "\n",
    "Characteristics of the netork:\n",
    "- Include NAD/NADP transhydrogenases. Eventual plan is to include an extensive reservoir/buffer of electrons.\n",
    "- Concentrate on Q/QH2 (ubiquinone) as the intermediate carrier. Eventually extend to menaquinone and demethylmenaquinone.\n",
    "- Concentrate on the 'mainline' ETC NADH -> O2.\n",
    "- Include half-cell reduction (or oxidation) reactions for each carrier pool -- NAD+/NADH, NADP+/NADPH, and Q/QH2 -- as boundaries or connections to external metabolism, including glycolysis, PPP, TCA cycle (and specifically SDH). A point of interest is how the balance among these electron sources/sinks affects flow through the ETC."
   ]
  },
  {
   "cell_type": "code",
   "execution_count": 6,
   "id": "7b6d197e-8fba-46b0-a7b6-bf222ced0e53",
   "metadata": {},
   "outputs": [
    {
     "name": "stdout",
     "output_type": "stream",
     "text": [
      "       UdhA  PntAB  ndh1  cytbo3  cytbd1  nad_red  nadp_red  q_red\n",
      "NADH     -1     -1    -1       0       0        1         0      0\n",
      "NADP+    -1     -1     0       0       0        0        -1      0\n",
      "NAD+      1      1     1       0       0       -1         0      0\n",
      "NADPH     1      1     0       0       0        0         1      0\n",
      "H+(p)     0     -1     4       8       4        0         0      0\n",
      "H+        0      1    -5      -8      -4       -1        -1      0\n",
      "Q         0      0    -1       2       2        0         0     -1\n",
      "QH2       0      0     1      -2      -2        0         0      1\n",
      "O2        0      0     0      -1      -1        0         0      0\n",
      "H2O       0      0     0       2       2        0         0      0\n",
      "e-        0      0     0       0       0       -2        -2     -2\n"
     ]
    },
    {
     "data": {
      "application/vnd.jupyter.widget-view+json": {
       "model_id": "624b89a4885046ea81a15bcc150ee3b8",
       "version_major": 2,
       "version_minor": 0
      },
      "text/plain": [
       "Builder(enable_editing=False, menu='zoom', never_ask_before_quit=True, reaction_data={'UdhA': 1, 'PntAB': 1, '…"
      ]
     },
     "metadata": {},
     "output_type": "display_data"
    }
   ],
   "source": [
    "network = ReactionNetwork([udha, pntab, ndh1, cytbo3, cytbd1, nad_reduction, nadp_reduction, q_reduction])\n",
    "print(pd.DataFrame(network.s_matrix,\n",
    "                   index=[mol.label for mol in network.reactants()],\n",
    "                   columns=[rxn.label for rxn in network.reactions()],\n",
    "                   dtype=int))\n",
    "\n",
    "escher.Builder(\n",
    "    **escher_options,\n",
    "    model_json=json.dumps(escher_model(\"electron_transport\", network.reactions())),\n",
    "    map_json=resources.read_text(files.pw, 'electron_transport.json'),\n",
    "    reaction_data={rxn.label: 1 for rxn in network.reactions()},\n",
    ")"
   ]
  },
  {
   "cell_type": "markdown",
   "id": "f07591b4-5975-43a3-b657-5d954ab58af1",
   "metadata": {},
   "source": [
    "## FBA, balancing electron flux via NAD, NADP, and Q pools"
   ]
  },
  {
   "cell_type": "code",
   "execution_count": 7,
   "id": "497e4d4b-10ba-437e-8df7-6e6212075097",
   "metadata": {
    "tags": []
   },
   "outputs": [
    {
     "data": {
      "application/vnd.jupyter.widget-view+json": {
       "model_id": "79c276b495cb41a3847d1f139a2b27a7",
       "version_major": 2,
       "version_minor": 0
      },
      "text/plain": [
       "HBox(children=(VBox(children=(Builder(enable_editing=False, height=400, menu='zoom', never_ask_before_quit=Tru…"
      ]
     },
     "metadata": {},
     "output_type": "display_data"
    }
   ],
   "source": [
    "boundaries = [proton, proton_p, electron, oxygen, water]\n",
    "fba = fba_gd.FbaGd(\n",
    "    network, \n",
    "    intermediates=[reactant for reactant in network.reactants() if reactant not in boundaries],\n",
    "    objectives={'fluxes': fba_gd.VelocityObjective(network, {nad_reduction: 0, nadp_reduction: 0, q_reduction: 0})},\n",
    ")\n",
    "\n",
    "diag = escher.Builder(\n",
    "    **escher_options,\n",
    "    height=400,\n",
    "    map_json=resources.read_text(files.pw, 'electron_transport.json'),\n",
    "    reaction_data={r.label: 0 for r in network.reactions()},\n",
    ")\n",
    "\n",
    "slider_opts = {'min': -5, 'max': 5, 'step': 0.1, 'continuous_update': False, 'readout': True, 'readout_format': '.1f'}\n",
    "nadh_slider = widgets.FloatSlider(**slider_opts, description='NADH', value=0)\n",
    "nadph_slider = widgets.FloatSlider(**slider_opts, description='NADPH', value=0)\n",
    "qh2_slider = widgets.FloatSlider(**slider_opts, description='QH2', value=0)\n",
    "\n",
    "def update_fba(change):\n",
    "    fba.update_params({'fluxes': {nad_reduction: nadh_slider.value, nadp_reduction: nadph_slider.value, q_reduction: qh2_slider.value}})\n",
    "    soln = fba.solve()\n",
    "    diag.reaction_data = {r.label: v for r, v in zip(network.reactions(), soln.velocities)}\n",
    "\n",
    "nadh_slider.observe(update_fba, names='value')\n",
    "nadph_slider.observe(update_fba, names='value')\n",
    "qh2_slider.observe(update_fba, names='value')\n",
    "dashboard = widgets.HBox(\n",
    "    [widgets.VBox([diag], layout = widgets.Layout(width='75%', height='100%')),\n",
    "     widgets.VBox([nadh_slider, nadph_slider, qh2_slider], layout = widgets.Layout(width='25%', height='100%'))],\n",
    "    layout = widgets.Layout(width='1200px', height='400px', border='1px solid green')\n",
    ")\n",
    "dashboard"
   ]
  },
  {
   "cell_type": "markdown",
   "id": "41e193a8-f5fe-43a2-8bf7-3a42aca312a2",
   "metadata": {},
   "source": [
    "Observations from FBA explorations\n",
    "- Electrons pass into ETC only if nadp_red + nad_red > 0\n",
    "- If nadp_red < 0, PMF drives transhydrogenase, but if nadp_red > 0, PntAB can drive PMF. Actually this has to depend on the enrgetics, but FBA ignores that\n",
    "- (Infered) ndh1 + q_red = cytbo3 + cytbd1, but without additional constraints the distribution between the two cytochromes is variable\n",
    "- There are actually a few paths; maybe elementary mode analysis would be useful"
   ]
  },
  {
   "cell_type": "code",
   "execution_count": 8,
   "id": "2f7fb07e-ca0e-4f87-a1d6-30e714e433f1",
   "metadata": {
    "jupyter": {
     "source_hidden": true
    },
    "tags": []
   },
   "outputs": [
    {
     "data": {
      "application/vnd.jupyter.widget-view+json": {
       "model_id": "205611027cd44bfb91355778ba751734",
       "version_major": 2,
       "version_minor": 0
      },
      "text/plain": [
       "VBox(children=(IntSlider(value=0, description='Mode', layout=Layout(width='272px'), max=13), Text(value='UdhA …"
      ]
     },
     "metadata": {},
     "output_type": "display_data"
    }
   ],
   "source": [
    "from sim.elementary_modes import elementary_modes\n",
    "\n",
    "def build_internal_system(network, bounds):\n",
    "    \"\"\"Returns S matrix with rows for internal (non-bounds) metabolites only.\"\"\"\n",
    "    intermediates = [met not in bounds for met in network.reactants()]\n",
    "    return network.s_matrix[intermediates].astype(int)\n",
    "\n",
    "def mode_formula(network, mode):\n",
    "    parts = []\n",
    "    for reaction, coeff in zip(network.reactions(), mode):\n",
    "        if coeff == -1:\n",
    "            parts.append('-')\n",
    "        elif coeff < 0:\n",
    "            parts.append(f'- {-coeff}')\n",
    "        elif coeff == 1:\n",
    "            if parts:\n",
    "                parts.append('+')\n",
    "        elif coeff > 0:\n",
    "            if parts:\n",
    "                parts.append(f'+ {coeff}')\n",
    "            else:\n",
    "                parts.append(f'{coeff}')\n",
    "        \n",
    "        if coeff:\n",
    "            parts.append(reaction.label)\n",
    "    \n",
    "    return ' '.join(parts)\n",
    "\n",
    "def show_modes(network, modes, rev):\n",
    "    s_elementary = (network.s_matrix.astype(int) @ modes)\n",
    "    net_reactions = []\n",
    "    for i, (mode, reversible) in enumerate(zip(s_elementary.T, rev)):\n",
    "        stoich = {}\n",
    "        for met, count in zip(network.reactants(), mode):\n",
    "            if count != 0:\n",
    "                stoich[met] = count\n",
    "\n",
    "        net_reaction = Reaction(_id=f'mode{i}', name=f'Elementary Mode {i}', stoichiometry=stoich, reversible=reversible)\n",
    "        net_reactions.append(net_reaction)\n",
    "\n",
    "    w = f'{160 + modes.shape[1] * 8:d}px' if modes.shape[1] < 80 else '100%'\n",
    "    mode_select = widgets.IntSlider(\n",
    "        value=0,\n",
    "        min=0,\n",
    "        max=modes.shape[1] - 1,\n",
    "        description='Mode',\n",
    "        continuous_update=True,\n",
    "        readout=True,\n",
    "        layout={'width': w}\n",
    "    )\n",
    "    mode_fluxes = widgets.Text(description='flux ratios', layout={'width': '100%'})\n",
    "    mode_net = widgets.Text(description='net reaction', layout={'width': '100%'})\n",
    "    diag = escher.Builder(**escher_options, height=400, map_json=resources.read_text(files.pw, 'electron_transport.json'), reaction_data={})\n",
    "\n",
    "    def show_mode(change):\n",
    "        mode = mode_select.value\n",
    "        mode_fluxes.value = mode_formula(network, modes.T[mode])\n",
    "        mode_net.value = net_reactions[mode].formula\n",
    "        diag.reaction_data = {r.label: v for r, v in zip(network.reactions(), modes.T[mode])}\n",
    "\n",
    "    mode_select.observe(show_mode, names='value')\n",
    "    show_mode(None)\n",
    "\n",
    "    return widgets.VBox([mode_select, mode_fluxes, mode_net, diag])\n",
    "\n",
    "modes, rev = elementary_modes(build_internal_system(network, boundaries), (reaction.reversible for reaction in network.reactions()))\n",
    "show_modes(network, modes, rev)"
   ]
  },
  {
   "cell_type": "markdown",
   "id": "f5a9334d-3f5e-457d-a369-c6ec2d50706f",
   "metadata": {
    "tags": []
   },
   "source": [
    "## Kinetics\n",
    "### Concentrations, including Q and QH2\n",
    "\n",
    "- https://www.sciencedirect.com/science/article/pii/S0005272897000340 Table 2 gives (aerobic) .36 ubiquinone, .22 demethylmenaquinone, and .02 menaquinone μmol / g DCW\n",
    "- http://book.bionumbers.org/how-big-is-an-e-coli-cell-and-what-is-its-mass/ gives 430 fg DCW for one cell @ 40 min doubling time, standard for minimal + glucose. This translates to ~ 1.3 fL ~= 1.3 pg.\n",
    "- Regardless of cell size, the expectation is that 1 g DCW ~ 3 g wet weight ~ 3 ml cell volume\n",
    "- This gives us 3.6e-7 mol / 3e-3 l = 1.2e-4 M = **0.12 mM UQ, 0.07 mM DMK, 0.007 mM MK**\n",
    "- Alternate path: 3.6e-7 mol/gDCW * 4.3e-13 gDCW/cell * 6e23 count/mol ~ 93000 count/cell ~ 0.093 mM.\n",
    "  - Rough rule of thumb numbers aren't all consistent, but this is in the same range.\n",
    "- Assuming this is actually the total of Q + QH2. We need to find an estimate of the steady-state redox charge of the Q pool\n",
    "\n",
    "**Not explored yet**: these are concentrations as if quinones are solubilized within the full cellular volume (3d), when they in fact diffuse within the membrane (2d). Rationalization for now is that reported values e.g. for Km also use concentration. This may be another facet in which we need a more specialized model for these kinetics. OTOH if the bottom line is that these enzyme are more or less saturated wrt Q and QH2 then it's all moot anyway."
   ]
  },
  {
   "cell_type": "code",
   "execution_count": 9,
   "id": "622b08f5-98ab-47db-92a9-45ff9f385ea1",
   "metadata": {},
   "outputs": [],
   "source": [
    "concs = {\n",
    "    nad: 2.55,\n",
    "    nadh: 8.36e-02,\n",
    "    nadp: 2.08e-03,\n",
    "    nadph: 1.21e-01,\n",
    "    oxygen: 0.25,  # http://book.bionumbers.org/what-are-environmental-o2-and-co2-concentrations/\n",
    "    proton: np.power(10, -7.3) * 1000,\n",
    "    proton_p: np.power(10, -6.7) * 1000,\n",
    "    qol: 0.04,\n",
    "    qone: 0.06,\n",
    "    water: 1.0,  # activity of the solvent, not concentration per se\n",
    "}\n",
    "\n",
    "# Enzyme concentrations taken from https://pubmed.ncbi.nlm.nih.gov/26641532/.\n",
    "# Cell volume(s) from https://www.ncbi.nlm.nih.gov/pmc/articles/PMC3146540/\n",
    "cell_volume = 3.0e-15\n",
    "avogadro = 6.022e23\n",
    "enzymes = {\n",
    "    udha: 448 / avogadro / cell_volume,\n",
    "    pntab: np.mean([1938, 2977]) / avogadro / cell_volume,\n",
    "    ndh1: np.mean([934, 935, 393, 748, 305, 294, 437, 133, 229]) / avogadro / cell_volume,\n",
    "    cytbo3: np.mean([2616, 957, 136]) / avogadro / cell_volume,\n",
    "    cytbd1: np.mean([344, 43]) / avogadro / cell_volume,\n",
    "}\n",
    "\n",
    "equations = ConvenienceKinetics(network, reaction_kinetics, ignore=ignore)\n",
    "state0 = network.reactant_vector(concs)\n",
    "enz_state = network.reaction_vector(enzymes)"
   ]
  },
  {
   "cell_type": "markdown",
   "id": "02dd37bb-2824-4573-99d3-fb37ddc0bd9c",
   "metadata": {},
   "source": [
    "### Steady State"
   ]
  },
  {
   "cell_type": "code",
   "execution_count": 10,
   "id": "fc66aac6-c657-404b-a6fe-af344e0ab75a",
   "metadata": {},
   "outputs": [],
   "source": [
    "couples = [\n",
    "    (nadp, nadph),\n",
    "    (nad, nadh),\n",
    "    (qone, qol),\n",
    "]\n",
    "couples_i = np.array([[network.reactant_index(couple[0]), network.reactant_index(couple[1])] for couple in couples])\n",
    "couples_capacity = np.sum(state0[couples_i], axis=-1)\n",
    "intermediates_i = np.array([i for i, reactant in enumerate(network.reactants()) if reactant not in boundaries])\n",
    "\n",
    "# x[i] = charge(couple[i])\n",
    "def adjusted_state(state, x):\n",
    "    reduced_form = x * couples_capacity\n",
    "    return jnp.asarray(state).at[couples_i[:, 0]].set(couples_capacity - reduced_form).at[couples_i[:, 1]].set(reduced_form)\n",
    "\n",
    "# include terms for 0 <= x <= 1\n",
    "def ss_residual(x):\n",
    "    dmdt = equations.dstate_dt(adjusted_state(state0, x), enz_state)\n",
    "    return jnp.concatenate([jnp.maximum(0, -x) + jnp.maximum(0, x - 1), dmdt[intermediates_i]])\n"
   ]
  },
  {
   "cell_type": "code",
   "execution_count": 11,
   "id": "15c78c9a-64c2-4d77-bc57-b9b11dafee6b",
   "metadata": {},
   "outputs": [
    {
     "data": {
      "text/plain": [
       "array([0.56353698, 0.05425494, 0.08265202])"
      ]
     },
     "execution_count": 11,
     "metadata": {},
     "output_type": "execute_result"
    }
   ],
   "source": [
    "soln = scipy.optimize.least_squares(\n",
    "    fun=jax.jit(ss_residual),\n",
    "    x0=jnp.ones(3) * 0.5,\n",
    "    jac=jax.jit(jax.jacfwd(ss_residual)),\n",
    ")\n",
    "soln.x"
   ]
  },
  {
   "cell_type": "markdown",
   "id": "4a2ef4e4-dbb0-4c89-8b88-d994227d4e4f",
   "metadata": {},
   "source": [
    "Of course, without an external source of electrons, the steady state is depleted. Drive influx via nadp_red, nad_red, and q_red"
   ]
  },
  {
   "cell_type": "code",
   "execution_count": 12,
   "id": "a9f2132f-8083-44e3-b802-0d9cddd809e9",
   "metadata": {},
   "outputs": [
    {
     "name": "stdout",
     "output_type": "stream",
     "text": [
      "CPU times: user 8.62 s, sys: 45.3 ms, total: 8.67 s\n",
      "Wall time: 8.55 s\n"
     ]
    }
   ],
   "source": [
    "%%time\n",
    "drivers = [nadp_reduction, nad_reduction, q_reduction]\n",
    "drivers_i = np.array([network.reaction_index(driver) for driver in drivers])\n",
    "driver_mask = np.array([0., 1., 0.])\n",
    "rate_range = np.linspace(-1e-4, 1e-4, 21)\n",
    "\n",
    "def network_rates(state, enz_state, driver_rates):\n",
    "    rates = equations.reaction_rates(state, enz_state)\n",
    "    rates = rates.at[drivers_i].add(driver_rates)\n",
    "    return rates\n",
    "\n",
    "def residual(x, driver_rates):\n",
    "    rates = network_rates(adjusted_state(state0, x), enz_state, driver_rates)\n",
    "    dmdt = network.s_matrix @ rates\n",
    "    return jnp.concatenate([jnp.maximum(0, -x) + jnp.maximum(0, x - 1), dmdt[intermediates_i]])\n",
    "\n",
    "pool_charge = []\n",
    "for rate in rate_range:\n",
    "    soln = scipy.optimize.least_squares(\n",
    "        fun=jax.jit(residual),\n",
    "        jac=jax.jit(jax.jacfwd(residual)),\n",
    "        x0 = jnp.ones(3) * 0.5,\n",
    "        args=((rate * driver_mask,)),\n",
    "    )\n",
    "    pool_charge.append(soln.x)"
   ]
  },
  {
   "cell_type": "code",
   "execution_count": 13,
   "id": "9282a15f-cbbd-48e3-93d2-aba9cdd501e1",
   "metadata": {},
   "outputs": [],
   "source": [
    "pool_charge = np.array(pool_charge)\n",
    "states = np.array([adjusted_state(state0, x) for x in pool_charge])\n",
    "velocities = np.array([network_rates(state, enz_state, rate * driver_mask) for state, rate in zip(states, rate_range)])\n",
    "dmdts = velocities @ network.s_matrix.T\n",
    "ss_loss = np.sqrt(np.mean(np.square(dmdts[:, intermediates_i]), axis=-1))\n",
    "bounds_loss = np.sqrt(np.mean(np.square(np.maximum(0, -pool_charge) + np.maximum(0, pool_charge - 1)), axis=-1))"
   ]
  },
  {
   "cell_type": "code",
   "execution_count": 14,
   "id": "64882336-3d48-4ff6-9359-0894fbcfb3cc",
   "metadata": {},
   "outputs": [
    {
     "data": {
      "image/png": "[encoded data removed]",
      "text/plain": [
       "<Figure size 432x288 with 1 Axes>"
      ]
     },
     "metadata": {
      "needs_background": "light"
     },
     "output_type": "display_data"
    }
   ],
   "source": [
    "fig, ax = plt.subplots()\n",
    "for (oxidized, reduced), charges in zip(couples, pool_charge.T):\n",
    "    ax.plot(rate_range*1000, charges, label=reduced.label)\n",
    "ax.legend()\n",
    "ax.set_xlabel(\"Net e- flux into NADH\")\n",
    "# ax.set_xticks(rate_range, rotation=45)\n",
    "ax.set_ylabel(\"Reduced fraction\")\n",
    "plt.show()"
   ]
  },
  {
   "cell_type": "code",
   "execution_count": 15,
   "id": "461fb9c6-c010-4201-84fa-fa246c3888d6",
   "metadata": {},
   "outputs": [
    {
     "data": {
      "image/png": "[encoded data removed]",
      "text/plain": [
       "<Figure size 432x288 with 1 Axes>"
      ]
     },
     "metadata": {
      "needs_background": "light"
     },
     "output_type": "display_data"
    }
   ],
   "source": [
    "fig, ax = plt.subplots()\n",
    "for r, v in zip(network.reactions(), velocities.T):\n",
    "    if r not in drivers:\n",
    "        ax.plot(rate_range*1000, v, label=r.label)\n",
    "ax.legend()\n",
    "ax.set_xlabel(\"Net e- flux into NADH\")\n",
    "ax.set_ylabel(\"Reaction flux\")\n",
    "plt.show()"
   ]
  },
  {
   "cell_type": "markdown",
   "id": "04f9f321-55c5-4bcb-900c-467fd6d0ab22",
   "metadata": {},
   "source": [
    "Ndh1 is saturated, with very small Vmax. Nothing can get through. Interesting structure, though."
   ]
  },
  {
   "cell_type": "code",
   "execution_count": 16,
   "id": "d1d10aaf-e5f3-4bb8-bed8-db91d74e836c",
   "metadata": {},
   "outputs": [
    {
     "data": {
      "image/png": "[encoded data removed]",
      "text/plain": [
       "<Figure size 432x288 with 1 Axes>"
      ]
     },
     "metadata": {
      "needs_background": "light"
     },
     "output_type": "display_data"
    }
   ],
   "source": [
    "fig, ax = plt.subplots()\n",
    "for b in boundaries:\n",
    "    ax.plot(rate_range*1000, dmdts[:, network.reactant_index(b)], label=b.label)\n",
    "ax.legend()\n",
    "ax.set_xlabel(\"Net e- flux into NADH\")\n",
    "ax.set_ylabel(\"Net boundary flux\")\n",
    "plt.show()"
   ]
  },
  {
   "cell_type": "markdown",
   "id": "7be404b1-81ce-429d-8530-7ab16613925a",
   "metadata": {},
   "source": [
    "- e- flux is consistent (though two electrons per unit of flux throguh reduction half-reaction)\n",
    "- H+ efflux is highest at most _negative_ flux through nad_reduction, i.e. PMF-coupled transhydrogenase is lowest"
   ]
  },
  {
   "cell_type": "code",
   "execution_count": 17,
   "id": "bc92e2e5-c7e0-47ad-bf2c-a273314443a7",
   "metadata": {},
   "outputs": [
    {
     "data": {
      "image/png": "[encoded data removed]",
      "text/plain": [
       "<Figure size 432x288 with 1 Axes>"
      ]
     },
     "metadata": {
      "needs_background": "light"
     },
     "output_type": "display_data"
    }
   ],
   "source": [
    "fig, ax = plt.subplots()\n",
    "ax.plot(rate_range*1000, ss_loss, label=\"steady-state\")\n",
    "ax.plot(rate_range*1000, bounds_loss, label=\"bounds\")\n",
    "ax.legend()\n",
    "ax.set_xlabel(\"Net e- flux into NADH\")\n",
    "ax.set_ylabel(\"RMS loss\")\n",
    "plt.show()"
   ]
  },
  {
   "cell_type": "markdown",
   "id": "a140e834-3ad2-446b-9dac-4378b82c92b6",
   "metadata": {},
   "source": [
    "Steady-state RMS loss is on par with overall flux numbers, i.e. not steady state at all. So the rest of the results are not really valid anyway.\n",
    "\n",
    "**Bottom line:** Need much more Ndh1 capacity for any of this to make sense."
   ]
  },
  {
   "cell_type": "code",
   "execution_count": 18,
   "id": "9e45e6f8-c76c-4a9b-9d94-ca46cb1a323c",
   "metadata": {},
   "outputs": [
    {
     "data": {
      "text/html": [
       "<div>\n",
       "<style scoped>\n",
       "    .dataframe tbody tr th:only-of-type {\n",
       "        vertical-align: middle;\n",
       "    }\n",
       "\n",
       "    .dataframe tbody tr th {\n",
       "        vertical-align: top;\n",
       "    }\n",
       "\n",
       "    .dataframe thead th {\n",
       "        text-align: right;\n",
       "    }\n",
       "</style>\n",
       "<table border=\"1\" class=\"dataframe\">\n",
       "  <thead>\n",
       "    <tr style=\"text-align: right;\">\n",
       "      <th></th>\n",
       "      <th>enz_conc</th>\n",
       "      <th>kcat_f</th>\n",
       "      <th>kcat_b</th>\n",
       "      <th>Vmax_f</th>\n",
       "      <th>Vmax_b</th>\n",
       "    </tr>\n",
       "  </thead>\n",
       "  <tbody>\n",
       "    <tr>\n",
       "      <th>[UdhA] NADH + NADP+ &lt;=&gt; NAD+ + NADPH</th>\n",
       "      <td>2.479796e-07</td>\n",
       "      <td>200.000000</td>\n",
       "      <td>6.649484e+01</td>\n",
       "      <td>0.000050</td>\n",
       "      <td>1.648937e-05</td>\n",
       "    </tr>\n",
       "    <tr>\n",
       "      <th>[PntAB] NADH + NADP+ + H+(p) &lt;=&gt; NAD+ + NADPH + H+</th>\n",
       "      <td>1.360290e-06</td>\n",
       "      <td>183.230423</td>\n",
       "      <td>4.032658e-02</td>\n",
       "      <td>0.000249</td>\n",
       "      <td>5.485584e-08</td>\n",
       "    </tr>\n",
       "    <tr>\n",
       "      <th>[ndh1] NADH + Q + 5 H+ =&gt; NAD+ + QH2 + 4 H+(p)</th>\n",
       "      <td>2.711047e-07</td>\n",
       "      <td>26.000000</td>\n",
       "      <td>1.130132e-02</td>\n",
       "      <td>0.000007</td>\n",
       "      <td>3.063841e-09</td>\n",
       "    </tr>\n",
       "    <tr>\n",
       "      <th>[cytbo3] 2 QH2 + 8 H+ + O2 =&gt; 2 Q + 8 H+(p) + 2 H2O</th>\n",
       "      <td>6.843426e-07</td>\n",
       "      <td>300.000000</td>\n",
       "      <td>3.461037e-25</td>\n",
       "      <td>0.000205</td>\n",
       "      <td>2.368535e-31</td>\n",
       "    </tr>\n",
       "    <tr>\n",
       "      <th>[cytbd1] 2 QH2 + 4 H+ + O2 =&gt; 2 Q + 4 H+(p) + 2 H2O</th>\n",
       "      <td>1.071073e-07</td>\n",
       "      <td>470.000000</td>\n",
       "      <td>3.984043e-39</td>\n",
       "      <td>0.000050</td>\n",
       "      <td>4.267199e-46</td>\n",
       "    </tr>\n",
       "  </tbody>\n",
       "</table>\n",
       "</div>"
      ],
      "text/plain": [
       "                                                        enz_conc      kcat_f  \\\n",
       "[UdhA] NADH + NADP+ <=> NAD+ + NADPH                2.479796e-07  200.000000   \n",
       "[PntAB] NADH + NADP+ + H+(p) <=> NAD+ + NADPH + H+  1.360290e-06  183.230423   \n",
       "[ndh1] NADH + Q + 5 H+ => NAD+ + QH2 + 4 H+(p)      2.711047e-07   26.000000   \n",
       "[cytbo3] 2 QH2 + 8 H+ + O2 => 2 Q + 8 H+(p) + 2...  6.843426e-07  300.000000   \n",
       "[cytbd1] 2 QH2 + 4 H+ + O2 => 2 Q + 4 H+(p) + 2...  1.071073e-07  470.000000   \n",
       "\n",
       "                                                          kcat_b    Vmax_f  \\\n",
       "[UdhA] NADH + NADP+ <=> NAD+ + NADPH                6.649484e+01  0.000050   \n",
       "[PntAB] NADH + NADP+ + H+(p) <=> NAD+ + NADPH + H+  4.032658e-02  0.000249   \n",
       "[ndh1] NADH + Q + 5 H+ => NAD+ + QH2 + 4 H+(p)      1.130132e-02  0.000007   \n",
       "[cytbo3] 2 QH2 + 8 H+ + O2 => 2 Q + 8 H+(p) + 2...  3.461037e-25  0.000205   \n",
       "[cytbd1] 2 QH2 + 4 H+ + O2 => 2 Q + 4 H+(p) + 2...  3.984043e-39  0.000050   \n",
       "\n",
       "                                                          Vmax_b  \n",
       "[UdhA] NADH + NADP+ <=> NAD+ + NADPH                1.648937e-05  \n",
       "[PntAB] NADH + NADP+ + H+(p) <=> NAD+ + NADPH + H+  5.485584e-08  \n",
       "[ndh1] NADH + Q + 5 H+ => NAD+ + QH2 + 4 H+(p)      3.063841e-09  \n",
       "[cytbo3] 2 QH2 + 8 H+ + O2 => 2 Q + 8 H+(p) + 2...  2.368535e-31  \n",
       "[cytbd1] 2 QH2 + 4 H+ + O2 => 2 Q + 4 H+(p) + 2...  4.267199e-46  "
      ]
     },
     "execution_count": 18,
     "metadata": {},
     "output_type": "execute_result"
    }
   ],
   "source": [
    "data = {}\n",
    "for rxn in network.reactions():\n",
    "    if rxn not in drivers:\n",
    "        data[rxn] = {\n",
    "            \"enz_conc\": enzymes[rxn],\n",
    "            \"kcat_f\": reaction_kinetics[rxn].kcat_f,\n",
    "            \"kcat_b\": reaction_kinetics[rxn].kcat_b,\n",
    "            \"Vmax_f\": enzymes[rxn] * reaction_kinetics[rxn].kcat_f,\n",
    "            \"Vmax_b\": enzymes[rxn] * reaction_kinetics[rxn].kcat_b,\n",
    "        }\n",
    "pd.DataFrame(data).T"
   ]
  },
  {
   "cell_type": "markdown",
   "id": "e2b1ab5c-78cc-415c-b83f-5988707f1228",
   "metadata": {},
   "source": [
    "- Ndh1 is indeed limiting, with Vmax = 7e-6 mM/s (check units). No way that's enough.\n",
    "- UdhA is not much better, 5e-5 mM/s. This _could_ be correct under aerobic growth on glucose, where the NADPH => NADH route is not important\n",
    "- Cytochrome bd1 is as limited as UdhA. This probably _is_ correct, as it is down-regulated in high O2\n",
    "\n",
    "Gotta check either the kinetics or the enzyme levels for Ndh1"
   ]
  },
  {
   "cell_type": "markdown",
   "id": "dfffbe4e-cb3c-458a-8132-1b390828944c",
   "metadata": {},
   "source": [
    "### Try with Ndh1 kcats aribtrarily 100x higher"
   ]
  },
  {
   "cell_type": "code",
   "execution_count": 19,
   "id": "960cc2be-f869-4d9b-80b8-2d799fdcbbe1",
   "metadata": {},
   "outputs": [
    {
     "data": {
      "image/png": "[encoded data removed]",
      "text/plain": [
       "<Figure size 1152x216 with 4 Axes>"
      ]
     },
     "metadata": {
      "needs_background": "light"
     },
     "output_type": "display_data"
    }
   ],
   "source": [
    "_kinetics = {k: v for k, v in reaction_kinetics.items()}\n",
    "_kinetics[ndh1] = ReactionKinetics.thermo_consistent(\n",
    "    reaction=ndh1, delta_g=thermo.reaction_delta_g(ndh1), km={nadh: 0.013, qone: 0.08}, kcat_f=2600., ignore=ignore)\n",
    "_equations = ConvenienceKinetics(network, _kinetics, ignore=ignore)\n",
    "\n",
    "def _network_rates(state, enz_state, driver_rates):\n",
    "    rates = _equations.reaction_rates(state, enz_state)\n",
    "    rates = rates.at[drivers_i].add(driver_rates)\n",
    "    return rates\n",
    "\n",
    "def _residual(x, driver_rates):\n",
    "    rates = _network_rates(adjusted_state(state0, x), enz_state, driver_rates)\n",
    "    dmdt = network.s_matrix @ rates\n",
    "    return jnp.concatenate([jnp.maximum(0, -x) + jnp.maximum(0, x - 1), dmdt[intermediates_i]])\n",
    "\n",
    "rate_range = np.linspace(-1e-4, 1e-4, 101)\n",
    "_pool_charge = []\n",
    "for rate in rate_range:\n",
    "    soln = scipy.optimize.least_squares(\n",
    "        fun=jax.jit(_residual),\n",
    "        jac=jax.jit(jax.jacfwd(_residual)),\n",
    "        x0 = jnp.ones(3) * 0.5,\n",
    "        args=((rate * driver_mask,)),\n",
    "    )\n",
    "    _pool_charge.append(soln.x)\n",
    "\n",
    "_pool_charge = np.array(_pool_charge)\n",
    "_states = np.array([adjusted_state(state0, x) for x in _pool_charge])\n",
    "_velocities = np.array([_network_rates(state, enz_state, rate * driver_mask) for state, rate in zip(_states, rate_range)])\n",
    "_dmdts = _velocities @ network.s_matrix.T\n",
    "_ss_loss = np.sqrt(np.mean(np.square(_dmdts[:, intermediates_i]), axis=-1))\n",
    "_bounds_loss = np.sqrt(np.mean(np.square(np.maximum(0, -_pool_charge) + np.maximum(0, _pool_charge - 1)), axis=-1))\n",
    "\n",
    "fig, ax = plt.subplots(1, 4, figsize=(16, 3))\n",
    "\n",
    "for (oxidized, reduced), charges in zip(couples, _pool_charge.T):\n",
    "    ax[0].plot(rate_range*1000, charges, label=reduced.label)\n",
    "ax[0].legend()\n",
    "ax[0].set_xlabel(\"Net e- flux into NADH\")\n",
    "ax[0].set_ylabel(\"Reduced fraction\")\n",
    "\n",
    "for r, v in zip(network.reactions(), _velocities.T):\n",
    "    if r not in drivers:\n",
    "        ax[1].plot(rate_range*1000, v, label=r.label)\n",
    "ax[1].legend()\n",
    "ax[1].set_xlabel(\"Net e- flux into NADH\")\n",
    "ax[1].set_ylabel(\"Reaction flux\")\n",
    "\n",
    "for b in boundaries:\n",
    "    ax[2].plot(rate_range*1000, _dmdts[:, network.reactant_index(b)], label=b.label)\n",
    "ax[2].legend()\n",
    "ax[2].set_xlabel(\"Net e- flux into NADH\")\n",
    "ax[2].set_ylabel(\"Net boundary flux\")\n",
    "\n",
    "ax[3].plot(rate_range*1000, _ss_loss, label=\"steady-state\")\n",
    "ax[3].plot(rate_range*1000, _bounds_loss, label=\"bounds\")\n",
    "ax[3].legend()\n",
    "ax[3].set_xlabel(\"Net e- flux into NADH\")\n",
    "ax[3].set_ylabel(\"RMS loss\")\n",
    "\n",
    "plt.tight_layout()\n",
    "plt.show()"
   ]
  },
  {
   "cell_type": "markdown",
   "id": "0f46a53b-fa0b-4b74-8168-15dffde89301",
   "metadata": {},
   "source": [
    "Much more what we expect\n",
    "- QH2 reduced fraction, reaction rates, H+ efflux, all proportional to positive e- flux into NADH\n",
    "- Can't run backward, at least not in this configuration\n",
    "  - No real flux except for UdhA\n",
    "  - steady-state error increases rapidly\n",
    "- Not particularly smooth, some instability somewhere"
   ]
  },
  {
   "cell_type": "code",
   "execution_count": null,
   "id": "8eb43718-08b5-4e29-ab38-3590eb50b785",
   "metadata": {},
   "outputs": [],
   "source": []
  }
 ],
 "metadata": {
  "kernelspec": {
   "display_name": "Python 3 (ipykernel)",
   "language": "python",
   "name": "python3"
  },
  "language_info": {
   "codemirror_mode": {
    "name": "ipython",
    "version": 3
   },
   "file_extension": ".py",
   "mimetype": "text/x-python",
   "name": "python",
   "nbconvert_exporter": "python",
   "pygments_lexer": "ipython3",
   "version": "3.8.5"
  }
 },
 "nbformat": 4,
 "nbformat_minor": 5
}
