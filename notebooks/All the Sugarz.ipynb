{
 "cells": [
  {
   "cell_type": "markdown",
   "id": "90f191fe-4d72-41e2-be44-897a3992ce69",
   "metadata": {
    "tags": []
   },
   "source": [
    "# Init"
   ]
  },
  {
   "cell_type": "code",
   "execution_count": 1,
   "id": "7f930a20",
   "metadata": {},
   "outputs": [],
   "source": [
    "import projectpath\n",
    "\n",
    "import collections\n",
    "import itertools\n",
    "import os\n",
    "\n",
    "import ipywidgets as widgets\n",
    "import ipysheet\n",
    "import pandas as pd\n",
    "\n",
    "from kb import kb\n",
    "from scheme import Molecule, Reaction, DbXref, Variation, Specialization\n",
    "\n",
    "REFDB = kb.REFDB\n",
    "KB = kb.KB"
   ]
  },
  {
   "cell_type": "markdown",
   "id": "9dfafa79-33a0-4350-b1ce-9bfc3aa5e019",
   "metadata": {},
   "source": [
    "# Identify all forms of Glucose (and other sugars)\n",
    "\n",
    "### NOTES\n",
    "- The intent is not for this notebook or any script derived from it to be able to generate the KB unsupervised across all cases, but to assist a thinking scientist in covering a lot of ground quickly.\n",
    "- Power tools, not robots.\n",
    "- Scientific judgement is the final word."
   ]
  },
  {
   "cell_type": "markdown",
   "id": "9cbb39f5-2ec9-42d3-990e-60f6744b44c1",
   "metadata": {},
   "source": [
    "## Variations and Specialization relationships\n",
    "- D and L forms are canonical\n",
    "- For most sugars, D is the default (call out the exceptions?)\n",
    "    - For phospho forms, neutral is canonical but 2- is default for each phosphate @pH=7.3\n",
    "- Remaining variation (esp ring-chain tautomerism) is with respect to canonical forms\n"
   ]
  },
  {
   "cell_type": "code",
   "execution_count": 2,
   "id": "11cbd374-8322-48ce-8753-1b1633ef419d",
   "metadata": {},
   "outputs": [],
   "source": [
    "VARIATIONS = {\n",
    "    'DL': Variation('DL', ['D', 'L']),\n",
    "    'ring-chain': Variation('ring-chain', ['open', 'r6a', 'r6b', 'r5a', 'r5b']),\n",
    "    \n",
    "    # Modification, not isomerization\n",
    "    'phospho': Variation('phospho', ['1P', '2P', '3P', '4P', '5P', '6P', 'bis']),\n",
    "    'deoxy': Variation('deoxy', ['deoxy']),\n",
    "    \n",
    "    # For sugars, these are only relevant for phospho- forms\n",
    "    'charge': Variation('charge', ['4-', '2-', '0']),\n",
    "}\n",
    "\n",
    "variations = ['DL', 'phospho', 'ring-chain', 'charge']"
   ]
  },
  {
   "cell_type": "markdown",
   "id": "99449bed-7e88-4a74-b435-dcceaae9237e",
   "metadata": {},
   "source": [
    "## Generate possible names and map to reference ChEBI compounds\n",
    "- Monosaccharide code reference: https://www.genome.jp/kegg/catalog/codes2.html\n",
    "- Name could hit preferred name or AKA\n",
    "    - Preferred name takes priority\n",
    "    - More general form takes priority\n",
    "- For hexoses, pyranose is semi-canonical, e.g. 'β-D-glucose' is 'β-D-glucopyranose'. But for pentoses we assume the furanose form, e.g 'β-D-ribose' is 'β-D-ribofuranose'. Ribopyranose is still possible. This could be trickyish."
   ]
  },
  {
   "cell_type": "code",
   "execution_count": 82,
   "id": "e1e04835-95c0-4e15-9b65-176e1d3cb803",
   "metadata": {},
   "outputs": [],
   "source": [
    "code = 'Hep'\n",
    "stem = 'hept'\n",
    "carbons = 7"
   ]
  },
  {
   "cell_type": "code",
   "execution_count": 83,
   "id": "46cbef80-312e-4f2d-bae4-233c2fd22b8d",
   "metadata": {},
   "outputs": [
    {
     "data": {
      "application/vnd.jupyter.widget-view+json": {
       "model_id": "035c13a621904f67b44a14473c71e1b4",
       "version_major": 2,
       "version_minor": 0
      },
      "text/plain": [
       "Sheet(cells=(Cell(column_end=0, column_start=0, numeric_format=None, row_end=0, row_start=0, squeeze_row=False…"
      ]
     },
     "metadata": {},
     "output_type": "display_data"
    }
   ],
   "source": [
    "# Form-name generation patterns, in the order they should be applied.\n",
    "name_gen = {\n",
    "    'D': ['D-{}'],\n",
    "    'L': ['L-{}'],\n",
    "\n",
    "    'deoxy': ['deoxy-{}', 'deoxy{}'],\n",
    "\n",
    "    'open': ['aldehydo-{}', 'keto-{}'],\n",
    "    # 'r6a': ['alpha-{}opyran'],  # too ambiguous: 'alpha-{}'],\n",
    "    # 'r6b': ['beta-{}opyran'],  # too ambiguous: 'beta-{}'],\n",
    "    'r6a': ['alpha-{}opyran', 'alpha-{}'],  # accept the ambiguity and resolve it later\n",
    "    'r6b': ['beta-{}opyran', 'beta-{}'],\n",
    "    'r5a': ['alpha-{}ofuran'],\n",
    "    'r5b': ['beta-{}ofuran'],\n",
    "\n",
    "    'sugar': ['{}ose'],\n",
    "\n",
    "    '1P': ['{} 1-phosphate', '{} 1 phosphate'],\n",
    "    '2P': ['{} 2-phosphate', '{} 2 phosphate'],\n",
    "    '3P': ['{} 3-phosphate', '{} 3 phosphate'],\n",
    "    '4P': ['{} 4-phosphate', '{} 4 phosphate'],\n",
    "    '5P': ['{} 5-phosphate', '{} 5 phosphate'],\n",
    "    '6P': ['{} 6-phosphate', '{} 6 phosphate'],\n",
    "    'bis': ['{} bisphosphate',\n",
    "            '{}-bisphosphate',\n",
    "            '{} 1,6-bisphosphate',\n",
    "            '{}-1,6-bisphosphate',\n",
    "            '{} 1,5-bisphosphate',\n",
    "            '{}-1,5-bisphosphate'],\n",
    "    \n",
    "    '0': ['{}(0)', '{}(neutral)'],  # No modifier is indistinguishable from the parent form.\n",
    "    '2-': ['{}(2-)', '{}[2-]'],\n",
    "    '4-': ['{}(4-)', '{}[4-]'],\n",
    "}\n",
    "if carbons <= 5:\n",
    "    name_gen.update({\n",
    "        'r6a': ['alpha-{}opyran'],\n",
    "        'r6b': ['beta-{}opyran'],\n",
    "        'r5a': ['alpha-{}ofuran', 'alpha-{}'],\n",
    "        'r5b': ['beta-{}ofuran', 'beta-{}'],\n",
    "    })\n",
    "\n",
    "def generate_names(stem, form):\n",
    "    names = [stem]\n",
    "    tags = {'sugar'} | {tag for tag in form if tag is not None}\n",
    "\n",
    "    # Generation steps need to be applied in the order they appear in the dict\n",
    "    for tag, patterns in name_gen.items():\n",
    "        if tag in tags:\n",
    "            names = [pat.format(name) for pat in patterns for name in names]\n",
    "    return names\n",
    "\n",
    "def build_shorthand(code, form):\n",
    "    tokens = [code]\n",
    "    tokens.extend(token for token in form if token)\n",
    "    return '.'.join(tokens)\n",
    "\n",
    "# Generate all possible names for each form, and map name back to form.\n",
    "possible_names = {}\n",
    "for form in itertools.product(*[[None] + VARIATIONS[v].form_names for v in variations]):\n",
    "    form = tuple(f for f in form if f is not None)\n",
    "    possible_names[form] = generate_names(stem, form)\n",
    "name_form = {}\n",
    "for form, names in possible_names.items():\n",
    "    for name in names:\n",
    "        if name not in name_form:\n",
    "            name_form[name] = form\n",
    "        else:\n",
    "            print(f'Name collision: {name} = {name_form[name]} or {form}')\n",
    "\n",
    "# Find by name first\n",
    "all_names = list(name_form.keys())\n",
    "found = collections.defaultdict(list)\n",
    "for doc in REFDB.CHEBI.find({'name': {'$in': all_names}}).collation({'locale': 'en', 'strength': 1}):\n",
    "    found[name_form[doc['name']]].append(doc)\n",
    "# Fall back to AKA. There are cases where the same name is an AKA for multiple forms.\n",
    "for doc in REFDB.CHEBI.find({'aka': {'$in': all_names}}).collation({'locale': 'en', 'strength': 1}):\n",
    "    for name in doc['aka']:\n",
    "        if name in name_form:\n",
    "            found[name_form[name]].append(doc)\n",
    "\n",
    "# Map form -> compound, most general first. Also track compound -> form to detect ambiguities.\n",
    "mapped_compound = {}\n",
    "compound_form = collections.defaultdict(list)\n",
    "for form, docs in sorted(found.items(), key=lambda kv: [x if x else '' for x in kv[0]]):\n",
    "    # Only the first hit.\n",
    "    compound = kb.CODECS[Molecule].decode(docs[0])\n",
    "    # Only the most general form.\n",
    "    if compound not in compound_form:\n",
    "        mapped_compound[form] = compound\n",
    "    # But keep track of form ambiguities\n",
    "    compound_form[compound].append(form)\n",
    "\n",
    "# Switch over to KB id scheme, but keep the xref to ChEBI.\n",
    "for form, compound in mapped_compound.items():\n",
    "    if compound.xrefs == None:\n",
    "        compound.xrefs = set()\n",
    "    compound.xrefs.add(DbXref('CHEBI', compound._id))\n",
    "    compound.shorthand = build_shorthand(code, form)\n",
    "    compound._id = compound.shorthand\n",
    "\n",
    "df = pd.DataFrame(({\n",
    "    'form': f'({\", \".join(f for f in form if f)})',\n",
    "    'name': compound.name,\n",
    "    'formula': compound.formula if compound.formula else '',\n",
    "    'charge': compound.charge if compound.charge is not None else '',\n",
    "    'xrefs': ', '.join(str(xref) for xref in sorted(compound.xrefs)) if compound.xrefs else '',\n",
    "} for form, compound in mapped_compound.items()))\n",
    "widget = ipysheet.from_dataframe(df)\n",
    "widget"
   ]
  },
  {
   "cell_type": "markdown",
   "id": "1f929302-d50f-4ad9-b269-e3d711850ce0",
   "metadata": {},
   "source": [
    "### Build Specialization relationships. Fill in any missing canonical forms."
   ]
  },
  {
   "cell_type": "code",
   "execution_count": 84,
   "id": "5f2cead5-eeb1-4c72-b282-44593a5bf9af",
   "metadata": {},
   "outputs": [
    {
     "ename": "KeyError",
     "evalue": "('D',)",
     "output_type": "error",
     "traceback": [
      "\u001b[0;31m---------------------------------------------------------------------------\u001b[0m",
      "\u001b[0;31mKeyError\u001b[0m                                  Traceback (most recent call last)",
      "\u001b[0;32m/tmp/ipykernel_212320/1700373198.py\u001b[0m in \u001b[0;36m<module>\u001b[0;34m\u001b[0m\n\u001b[1;32m     49\u001b[0m \u001b[0;31m# Finally, set the defaults. Figure out a more general/scalable way to do this...\u001b[0m\u001b[0;34m\u001b[0m\u001b[0;34m\u001b[0m\u001b[0;34m\u001b[0m\u001b[0m\n\u001b[1;32m     50\u001b[0m \u001b[0mroot\u001b[0m \u001b[0;34m=\u001b[0m \u001b[0mmapped_compound\u001b[0m\u001b[0;34m[\u001b[0m\u001b[0;34m(\u001b[0m\u001b[0;34m)\u001b[0m\u001b[0;34m]\u001b[0m\u001b[0;34m\u001b[0m\u001b[0;34m\u001b[0m\u001b[0m\n\u001b[0;32m---> 51\u001b[0;31m \u001b[0mroot\u001b[0m\u001b[0;34m.\u001b[0m\u001b[0mdefault_form\u001b[0m \u001b[0;34m=\u001b[0m \u001b[0mSpecialization\u001b[0m\u001b[0;34m(\u001b[0m\u001b[0mroot\u001b[0m\u001b[0;34m.\u001b[0m\u001b[0m_id\u001b[0m\u001b[0;34m,\u001b[0m \u001b[0;34m(\u001b[0m\u001b[0;34m'D'\u001b[0m\u001b[0;34m,\u001b[0m\u001b[0;34m)\u001b[0m\u001b[0;34m,\u001b[0m \u001b[0mmapped_compound\u001b[0m\u001b[0;34m[\u001b[0m\u001b[0;34m'D'\u001b[0m\u001b[0;34m,\u001b[0m\u001b[0;34m]\u001b[0m\u001b[0;34m.\u001b[0m\u001b[0m_id\u001b[0m\u001b[0;34m)\u001b[0m\u001b[0;34m\u001b[0m\u001b[0;34m\u001b[0m\u001b[0m\n\u001b[0m\u001b[1;32m     52\u001b[0m \u001b[0;34m\u001b[0m\u001b[0m\n\u001b[1;32m     53\u001b[0m \u001b[0;31m# root.variations ...? only isomers, or isomers + mods? is it then canonical for anything?\u001b[0m\u001b[0;34m\u001b[0m\u001b[0;34m\u001b[0m\u001b[0;34m\u001b[0m\u001b[0m\n",
      "\u001b[0;31mKeyError\u001b[0m: ('D',)"
     ]
    }
   ],
   "source": [
    "canon = [\n",
    "    {'groups': ['DL'], 'variations': ['ring-chain']},\n",
    "    {'groups': ['DL', 'phospho'], 'variations': ['ring-chain', 'charge']},\n",
    "]\n",
    "\n",
    "for group_def in canon:\n",
    "    variant_map = {}\n",
    "    for v in group_def['groups']:\n",
    "        for f in VARIATIONS[v].form_names:\n",
    "            variant_map[f] = v\n",
    "    for v in group_def['variations']:\n",
    "        for f in VARIATIONS[v].form_names:\n",
    "            variant_map[f] = v\n",
    "\n",
    "    # Possible canonical forms from all combinations in the group\n",
    "    for canonical_form in itertools.product(*(VARIATIONS[v].form_names\n",
    "                                              for v in group_def['groups'])):\n",
    "        canonical_id = build_shorthand(code, canonical_form)\n",
    "        observed = collections.defaultdict(set)\n",
    "        \n",
    "        # Find all subforms from combinations of the remaining variations\n",
    "        for subform in itertools.product(*([None] + VARIATIONS[v].form_names \n",
    "                                           for v in group_def['variations'])):\n",
    "            subform = tuple(f for f in subform if f is not None)\n",
    "            if not subform:\n",
    "                # None for all remaining variations is just the canonical form itself; skip.\n",
    "                continue\n",
    "            \n",
    "            specific_variant = mapped_compound.get(canonical_form + subform)\n",
    "            if specific_variant:\n",
    "                specific_variant.canonical_form = Specialization(canonical_id, subform, specific_variant._id)\n",
    "                for f in subform:\n",
    "                    observed[variant_map[f]].add(f)\n",
    "\n",
    "        # A possible becomes an actual canonical form if any of its subforms was observed\n",
    "        if observed:\n",
    "            canonical = mapped_compound.get(canonical_form)\n",
    "            # An actual canonical form must exist, even if overlooked in the reference\n",
    "            if canonical is None:\n",
    "                print(f'Canonical form {canonical_form} is not defined in the reference. Creating...')\n",
    "                canonical = Molecule(_id=canonical_id, name=possible_names[canonical_form][0])\n",
    "                mapped_compound[canonical_form] = canonical\n",
    "            # Keep track of its observed variations\n",
    "            # canonical.variations = [VARIATIONS[v]\n",
    "            #                         for v in group_def['variations']\n",
    "            #                         if v in observed]\n",
    "            canonical.variations = [Variation(k, v) for k, v in observed.items()]\n",
    "\n",
    "# Finally, set the defaults. Figure out a more general/scalable way to do this...\n",
    "root = mapped_compound[()]\n",
    "root.default_form = Specialization(root._id, ('D',), mapped_compound['D',]._id)\n",
    "\n",
    "# root.variations ...? only isomers, or isomers + mods? is it then canonical for anything?\n",
    "\n",
    "# Default for phospho- forms is 2- * num_phosphates. But may be a specific ring-chain tautomer.\n",
    "# And that may vary by the sugar. Skip doing this automatically for now.\n"
   ]
  },
  {
   "cell_type": "markdown",
   "id": "5f413ca0-d0d5-4975-a8b5-839b53032fcc",
   "metadata": {},
   "source": [
    "## Put it officially in the KB"
   ]
  },
  {
   "cell_type": "code",
   "execution_count": 81,
   "id": "c3585a13-03ca-45b0-a03f-563db9670baa",
   "metadata": {},
   "outputs": [],
   "source": [
    "for compound in mapped_compound.values():\n",
    "    KB.compounds.insert_one(kb.CODECS[Molecule].encode(compound))\n"
   ]
  },
  {
   "cell_type": "code",
   "execution_count": null,
   "id": "b85d6571-16e3-4fdd-8ff8-2805fb029301",
   "metadata": {},
   "outputs": [],
   "source": []
  },
  {
   "cell_type": "code",
   "execution_count": null,
   "id": "9504ea94-1163-467b-a529-d54da5f01fc6",
   "metadata": {},
   "outputs": [],
   "source": []
  },
  {
   "cell_type": "code",
   "execution_count": null,
   "id": "10bf3337-07bb-4f25-b81e-baca054e1d27",
   "metadata": {},
   "outputs": [],
   "source": []
  },
  {
   "cell_type": "code",
   "execution_count": 127,
   "id": "d294aa0e-3754-4c27-9376-38dafacc550c",
   "metadata": {},
   "outputs": [],
   "source": [
    "changes = []\n",
    "def log_it(change):\n",
    "    changes.append(change)\n",
    "\n",
    "class CompoundEditor:\n",
    "    def __init__(self, compound=None):\n",
    "        layout = widgets.Layout(width='auto')\n",
    "        self._name = widgets.Text(placeholder='Compound name', layout=layout)\n",
    "        self._shorthand = widgets.Text(placeholder='Shorthand', layout=layout)\n",
    "        self._formula = widgets.Text(placeholder='Chemical formula', layout=widgets.Layout(width='50%'))\n",
    "        self._mass = widgets.FloatText(placeholder='Mass', layout=widgets.Layout(width='50%'))\n",
    "        self._aka = widgets.Textarea(placeholder='AKA', layout=layout)\n",
    "        self._xrefs = widgets.Textarea(placeholder='Xrefs', layout=layout)\n",
    "        self._description = widgets.Textarea(placeholder='Description', layout=layout)\n",
    "\n",
    "        # self._name.observe(self._apply_name, 'value')\n",
    "        # self._shorthand.observe(self._apply_shorthand, 'value')\n",
    "        # self._formula.observe(self._apply_formula, 'value')\n",
    "        # self._mass.observe(self._apply_mass, 'value')\n",
    "        # self._aka.observe(self._apply_aka, 'value')\n",
    "        # self._xrefs.observe(self._apply_xrefs, 'value')\n",
    "        # self._description.observe(self._apply_description, 'value')\n",
    "        self._description.observe(log_it, names='All', type='All')\n",
    "\n",
    "        self._widget = widgets.VBox([\n",
    "            self._name,\n",
    "            self._shorthand,\n",
    "            widgets.HBox([self._formula, self._mass]),\n",
    "            self._aka,\n",
    "            self._xrefs,\n",
    "            self._description,\n",
    "        ], layout=widgets.Layout(width='450px'))\n",
    "        self.set_compound(compound)\n",
    "\n",
    "    def set_compound(self, compound):\n",
    "        self._compound = None  # No value change events will be applied\n",
    "        if compound:\n",
    "            self._name.value = compound.name\n",
    "            self._shorthand.value = compound.shorthand or ''\n",
    "            self._description.value = compound.description or ''\n",
    "            self._formula.value = compound.formula or ''\n",
    "            self._aka.value = '\\n'.join(compound.aka) if compound.aka else ''\n",
    "            self._xrefs = '\\n'.join(str(xref) for xref in compound.xrefs) if compound.xrefs else ''\n",
    "            self._compound = compound\n",
    "\n",
    "    def _apply_name(self, change):\n",
    "        if self._compound:\n",
    "            self._compound.name = change['new']\n",
    "\n",
    "    def _apply_shorthand(self, change):\n",
    "        if self._compound:\n",
    "            self._compound.shorthand = change['new']\n",
    "\n",
    "    def _apply_description(self, change):\n",
    "        if self._compound:\n",
    "            self._compound.description = change['new']\n",
    "\n",
    "    def _apply_formula(self, change):\n",
    "        if self._compound:\n",
    "            self._compound.formula = change['new']\n",
    "\n",
    "    def _apply_mass(self, change):\n",
    "        if self._compound:\n",
    "            self._compound.mass = change['new']\n",
    "\n",
    "    def _apply_aka(self, change):\n",
    "        if self._compound:\n",
    "            self._compound.aka = change['new'].split('\\n')\n",
    "\n",
    "    def _apply_xrefs(self, change):\n",
    "        if self._compound:\n",
    "            self._compound.xrefs = {DbXref.from_string(xref) for xref in change['new'].split('\\n')}\n",
    "\n",
    "    @property\n",
    "    def widget(self):\n",
    "        return self._widget\n"
   ]
  },
  {
   "cell_type": "code",
   "execution_count": 128,
   "id": "a30fa79b-280d-4f65-b72e-cc1ad345f613",
   "metadata": {},
   "outputs": [
    {
     "data": {
      "application/vnd.jupyter.widget-view+json": {
       "model_id": "11a7eab0d61e4e2c840b35d8debef5bd",
       "version_major": 2,
       "version_minor": 0
      },
      "text/plain": [
       "VBox(children=(Text(value='fructose 6-phosphate', layout=Layout(width='auto'), placeholder='Compound name'), T…"
      ]
     },
     "metadata": {},
     "output_type": "display_data"
    }
   ],
   "source": [
    "CompoundEditor(compound).widget"
   ]
  },
  {
   "cell_type": "code",
   "execution_count": 129,
   "id": "8169a506-c4c9-478f-a295-79e49eff5ca3",
   "metadata": {},
   "outputs": [
    {
     "data": {
      "text/plain": [
       "[]"
      ]
     },
     "execution_count": 129,
     "metadata": {},
     "output_type": "execute_result"
    }
   ],
   "source": [
    "changes"
   ]
  },
  {
   "cell_type": "code",
   "execution_count": 132,
   "id": "e8531f92-ebf4-42dc-8e1b-0a8de82031fa",
   "metadata": {},
   "outputs": [
    {
     "ename": "NameError",
     "evalue": "name 'traitlets' is not defined",
     "output_type": "error",
     "traceback": [
      "\u001b[0;31m---------------------------------------------------------------------------\u001b[0m",
      "\u001b[0;31mNameError\u001b[0m                                 Traceback (most recent call last)",
      "\u001b[0;32m/tmp/ipykernel_141518/643467560.py\u001b[0m in \u001b[0;36m<module>\u001b[0;34m\u001b[0m\n\u001b[0;32m----> 1\u001b[0;31m \u001b[0mtraitlets\u001b[0m\u001b[0;34m.\u001b[0m\u001b[0mAll\u001b[0m\u001b[0;34m\u001b[0m\u001b[0;34m\u001b[0m\u001b[0m\n\u001b[0m",
      "\u001b[0;31mNameError\u001b[0m: name 'traitlets' is not defined"
     ]
    }
   ],
   "source": [
    "traitlets.All"
   ]
  },
  {
   "cell_type": "code",
   "execution_count": null,
   "id": "d291c678-e16b-4042-9337-8464d5eed7d8",
   "metadata": {},
   "outputs": [],
   "source": []
  },
  {
   "cell_type": "code",
   "execution_count": null,
   "id": "a201d44b-71b7-42a4-8a4e-fff9fa04b4c8",
   "metadata": {},
   "outputs": [],
   "source": [
    "%%time\n",
    "mapped_compounds = {}\n",
    "for root, shorthand in [\n",
    "    ('all', 'All'),\n",
    "    ('altr', 'Alt'),\n",
    "    ('gluc', 'Glc'),\n",
    "    ('mann', 'Man'),\n",
    "    ('gul', 'Gul'),\n",
    "    ('id', 'Ido'),\n",
    "    ('galact', 'Gal'),\n",
    "    ('tal', 'Tal'),\n",
    "    \n",
    "    ('psic', 'Psi'),\n",
    "    ('fruct', 'Fru'),\n",
    "    ('sorb', 'Sor'),\n",
    "    ('tagat', 'Tag'),\n",
    "]:\n",
    "    mapped_compounds.update(map_forms(root, shorthand, forms, name_gen))\n",
    "\n",
    "for shorthand, compound in mapped_compounds.items():\n",
    "    compound.shorthand = shorthand\n",
    "\n",
    "print(f'{len(mapped_compounds)} total hexoses and hexose-phosphates organized')"
   ]
  },
  {
   "cell_type": "markdown",
   "id": "da3ed7ac-7166-487d-a865-a5b541e4bb30",
   "metadata": {},
   "source": [
    "- Overall this looks really good, at least modestly scalable\n",
    "- Looming challenges:\n",
    "    - Which form combos are present or absent. ChEBI is highly curated and _mostly_ systematic, but there are definite holes\n",
    "    - Form combos should be unordered, but shorthand strings have a set order. Glc.D.r6β.6P.2- maybe makes more sense as Glc.D.6P.r6β.2- or Glc.D.6P.2-.r6β.\n",
    "        - Less important for more canonical forms, e.g. Glc.D.6P\n",
    "        \n",
    "**Next:** read in some RHEA reactions and map to canonical forms"
   ]
  },
  {
   "cell_type": "code",
   "execution_count": null,
   "id": "4fbf9b6f-cfd6-43a1-87af-eb7a74cecb71",
   "metadata": {},
   "outputs": [],
   "source": []
  },
  {
   "cell_type": "code",
   "execution_count": null,
   "id": "9e2a287d-bcc8-4c64-8117-9f1dc4355cbd",
   "metadata": {},
   "outputs": [],
   "source": []
  },
  {
   "cell_type": "code",
   "execution_count": null,
   "id": "934ed83d-df0b-417e-aaa5-d3b5e9da6121",
   "metadata": {},
   "outputs": [],
   "source": []
  },
  {
   "cell_type": "markdown",
   "id": "f993c7b6-9b75-4faa-8ecc-91b7716c6a70",
   "metadata": {
    "jp-MarkdownHeadingCollapsed": true,
    "tags": []
   },
   "source": [
    "# Explore is_a relationships"
   ]
  },
  {
   "cell_type": "code",
   "execution_count": null,
   "id": "b6116a9c-2caa-4d38-8928-6e7efdc48e65",
   "metadata": {},
   "outputs": [],
   "source": [
    "parents = collections.defaultdict(list)\n",
    "children = collections.defaultdict(list)\n",
    "for row in pd.read_csv(os.path.join(chebi_dir, 'relation.tsv'), sep='\\t').itertuples():\n",
    "    if row.TYPE == 'is_a' and row.INIT_ID in compounds and row.FINAL_ID in compounds:\n",
    "        parents[row.FINAL_ID].append(row.INIT_ID)\n",
    "        children[row.INIT_ID].append(row.FINAL_ID)\n",
    "\n",
    "print(f'{len(parents)} entries have parents; {len(children)} entries have children')"
   ]
  },
  {
   "cell_type": "code",
   "execution_count": null,
   "id": "c22aca0e-7773-4c5a-86e0-ba894c698b59",
   "metadata": {},
   "outputs": [],
   "source": [
    "parent_dist = collections.Counter(len(v) for v in parents.values())\n",
    "sorted(parent_dist.items())"
   ]
  },
  {
   "cell_type": "code",
   "execution_count": null,
   "id": "8082037b-c68c-4359-8295-833e5d0bc59e",
   "metadata": {},
   "outputs": [],
   "source": [
    "children_dist = collections.Counter(len(v) for v in children.values())\n",
    "sorted(children_dist.items())"
   ]
  },
  {
   "cell_type": "markdown",
   "id": "e7cebbb0-8414-415c-b5a9-029ced4d2a65",
   "metadata": {},
   "source": [
    "## Start from D-glucose [17634], and collect all descendents\n",
    "\n",
    "- We could start from (DL-) glucose [17234], but this parent itself is stereochemically undefined and therefore not biologically relevant. It also includes children such as (DL-) glucopyranose, which is of likewise dubious value for biological modeling."
   ]
  },
  {
   "cell_type": "code",
   "execution_count": null,
   "id": "da4fb24d-3c1d-4b28-a316-aedb9f0310e3",
   "metadata": {},
   "outputs": [],
   "source": [
    "glucose_ids = set()\n",
    "pending = [17634]\n",
    "while pending:\n",
    "    id = pending.pop()\n",
    "    if id not in glucose_ids:\n",
    "        glucose_ids.add(id)\n",
    "        pending.extend(children[id])\n",
    "\n",
    "glucoses = [\n",
    "    kb.CODECS[Molecule].decode(kb.KB.compounds.find_one(id)) for id in glucose_ids\n",
    "]\n",
    "\n",
    "glucoses_df = pd.DataFrame([\n",
    "    {'id': c.id, 'name': c.name, 'formula': c.formula, 'inchi': c.inchi}\n",
    "    for c in glucoses\n",
    "]).set_index('id')\n",
    "glucoses_df"
   ]
  },
  {
   "cell_type": "code",
   "execution_count": null,
   "id": "b417a5cb-53e1-4244-95f0-778c92dece44",
   "metadata": {},
   "outputs": [],
   "source": [
    "glucoses_df.to_csv(os.path.join(chebi_dir, 'glucoses.tsv'), sep='\\t')"
   ]
  },
  {
   "cell_type": "markdown",
   "id": "7b7bb94f-ba9c-4397-9674-fbb1aa098628",
   "metadata": {},
   "source": [
    "### Quick conclusions\n",
    "\n",
    "- This does seem to find more or less all the forms of glucose we want for modeling\n",
    "- Their relationships are intuitively clear\n",
    "- These relationships are also there in the inchi strings, but not in a way that is trivial to infer in code.\n",
    "- So. Just dump them all (meaning all simple sugars, however we define that) to a spreadsheet, assuming the total is manageable. Then manually annotate them according to a rational isomer addressing scheme."
   ]
  },
  {
   "cell_type": "code",
   "execution_count": null,
   "id": "89fed49b-57ec-40d1-bc9d-14fbd68a48ef",
   "metadata": {},
   "outputs": [],
   "source": [
    "# Take all descendents of hexose [18133]\n",
    "\n",
    "hexose_ids = set()\n",
    "pending = [18133]\n",
    "while pending:\n",
    "    id = pending.pop()\n",
    "    if id not in hexose_ids:\n",
    "        hexose_ids.add(id)\n",
    "        pending.extend(children[id])\n",
    "print(f'{len(hexose_ids)} hexose descendents')\n",
    "\n",
    "hexoses = [\n",
    "    kb.CODECS[Molecule].decode(kb.KB.compounds.find_one(id)) for id in hexose_ids\n",
    "]\n",
    "\n",
    "hexoses_df = pd.DataFrame([\n",
    "    {'id': c.id, 'name': c.name, 'formula': c.formula, 'inchi': c.inchi}\n",
    "    for c in hexoses\n",
    "]).set_index('id')\n",
    "print(hexoses_df.shape)\n",
    "\n",
    "# hexoses_df.to_csv(os.path.join(chebi_dir, 'hexoses.tsv'), sep='\\t')"
   ]
  }
 ],
 "metadata": {
  "kernelspec": {
   "display_name": "Python 3 (ipykernel)",
   "language": "python",
   "name": "python3"
  },
  "language_info": {
   "codemirror_mode": {
    "name": "ipython",
    "version": 3
   },
   "file_extension": ".py",
   "mimetype": "text/x-python",
   "name": "python",
   "nbconvert_exporter": "python",
   "pygments_lexer": "ipython3",
   "version": "3.8.5"
  },
  "toc-autonumbering": false,
  "toc-showmarkdowntxt": false
 },
 "nbformat": 4,
 "nbformat_minor": 5
}
