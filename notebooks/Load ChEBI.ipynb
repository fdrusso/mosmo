{
 "cells": [
  {
   "cell_type": "code",
   "execution_count": 1,
   "id": "ccf12407",
   "metadata": {},
   "outputs": [],
   "source": [
    "import projectpath\n",
    "\n",
    "import collections\n",
    "import os\n",
    "from typing import Iterable\n",
    "\n",
    "import pandas as pd\n",
    "\n",
    "from kb import kb\n",
    "from scheme import Molecule, Reaction, DbCrossRef\n",
    "\n",
    "chebi_dir = \"/home/fdrusso/work/data/chebi\"\n",
    "\n",
    "# Put all this in db=ebi\n",
    "ebi = kb.Connection().client.ebi\n"
   ]
  },
  {
   "cell_type": "markdown",
   "id": "701c2bd9",
   "metadata": {},
   "source": [
    "# Load ChEBI data verbatim"
   ]
  },
  {
   "cell_type": "code",
   "execution_count": 2,
   "id": "c9a78c78",
   "metadata": {},
   "outputs": [
    {
     "name": "stdout",
     "output_type": "stream",
     "text": [
      "59583 valid compounds\n"
     ]
    }
   ],
   "source": [
    "compounds = {}\n",
    "for row in pd.read_csv(os.path.join(chebi_dir, \"compounds.tsv\"), sep=\"\\t\").itertuples():\n",
    "    # Policy decision: use primary ID only; let the source worry about obsolete IDs.\n",
    "    if row.STATUS == \"C\" and pd.isnull(row.PARENT_ID):\n",
    "        compounds[row.ID] = Molecule(_id=row.ID, name=row.NAME)\n",
    "print(f\"{len(compounds)} valid compounds\")"
   ]
  },
  {
   "cell_type": "code",
   "execution_count": 3,
   "id": "4a1d2f97",
   "metadata": {},
   "outputs": [],
   "source": [
    "compound_names = collections.defaultdict(set)\n",
    "for row in pd.read_csv(os.path.join(chebi_dir, \"names.tsv\"), sep=\"\\t\").itertuples():\n",
    "    if row.COMPOUND_ID in compounds:\n",
    "        compound_names[row.COMPOUND_ID].add(row.NAME)\n",
    "for compound_id, names in compound_names.items():\n",
    "    compound = compounds[compound_id]\n",
    "    compound.aka = list(names - {compound.name})\n",
    "\n",
    "for row in pd.read_csv(os.path.join(chebi_dir, \"chemical_data.tsv\"), sep=\"\\t\").itertuples():\n",
    "    if row.COMPOUND_ID in compounds:\n",
    "        if row.TYPE == \"MASS\":\n",
    "            compounds[row.COMPOUND_ID].mass = float(row.CHEMICAL_DATA)\n",
    "        elif row.TYPE == \"CHARGE\":\n",
    "            compounds[row.COMPOUND_ID].charge = int(row.CHEMICAL_DATA)\n",
    "        elif row.TYPE == \"FORMULA\":\n",
    "            compounds[row.COMPOUND_ID].formula = row.CHEMICAL_DATA\n",
    "\n",
    "for row in pd.read_csv(os.path.join(chebi_dir, \"chebiId_inchi.tsv\"), sep=\"\\t\").itertuples():\n",
    "    if row.CHEBI_ID in compounds:\n",
    "        compounds[row.CHEBI_ID].inchi = row.InChI"
   ]
  },
  {
   "cell_type": "code",
   "execution_count": 4,
   "id": "527900ac",
   "metadata": {},
   "outputs": [],
   "source": [
    "# This cell is NOT idempotent\n",
    "\n",
    "# Select db's only\n",
    "db_mapping = {\n",
    "    \"KEGG GLYCAN accession\": \"KEGG\",\n",
    "    \"KEGG DRUG accession\": \"KEGG\",\n",
    "    \"Wikipedia accession\": \"WIKI\",\n",
    "    \"MetaCyc accession\": \"METACYC\",\n",
    "    \"KEGG COMPOUND accession\": \"KEGG\",\n",
    "    \"CAS Registry Number\": \"CAS\",\n",
    "    \"LINCS accession\": \"LINCS\",\n",
    "}\n",
    "\n",
    "compound_xrefs = collections.defaultdict(set)\n",
    "for row in pd.read_csv(os.path.join(chebi_dir, \"database_accession.tsv\"), sep=\"\\t\").itertuples():\n",
    "    if row.COMPOUND_ID in compounds and row.TYPE in db_mapping:\n",
    "        compound_xrefs[row.COMPOUND_ID].add(DbCrossRef(db_mapping[row.TYPE], row.ACCESSION_NUMBER))\n",
    "\n",
    "for compound_id, xrefs in compound_xrefs.items():\n",
    "        compounds[compound_id].crossref = list(xrefs)\n"
   ]
  },
  {
   "cell_type": "code",
   "execution_count": 5,
   "id": "82692a1c",
   "metadata": {},
   "outputs": [
    {
     "data": {
      "text/plain": [
       "Molecule [17634] D-glucose\n",
       "  formula: C6H12O6\n",
       "  mass: 180.15588 Da\n",
       "  charge: +0"
      ]
     },
     "execution_count": 5,
     "metadata": {},
     "output_type": "execute_result"
    }
   ],
   "source": [
    "compounds[17634]"
   ]
  },
  {
   "cell_type": "code",
   "execution_count": 6,
   "id": "2d7e3075",
   "metadata": {},
   "outputs": [
    {
     "data": {
      "text/plain": [
       "Molecule [42758] aldehydo-D-glucose\n",
       "  formula: C6H12O6\n",
       "  mass: 180.15588 Da\n",
       "  charge: +0"
      ]
     },
     "execution_count": 6,
     "metadata": {},
     "output_type": "execute_result"
    }
   ],
   "source": [
    "compounds[42758]"
   ]
  },
  {
   "cell_type": "markdown",
   "id": "3eaa3cf4",
   "metadata": {},
   "source": [
    "# Put it in Mongo"
   ]
  },
  {
   "cell_type": "code",
   "execution_count": 7,
   "id": "b1c5d012",
   "metadata": {},
   "outputs": [
    {
     "data": {
      "text/plain": [
       "{'_id': 42758,\n",
       " 'name': 'aldehydo-D-glucose',\n",
       " 'aka': ['Dextrose',\n",
       "  'D(+)-Glucose',\n",
       "  '(2R,3S,4R,5R)-2,3,4,5,6-pentahydroxyhexanal',\n",
       "  'aldehydo-D-gluco-hexose',\n",
       "  'D-glucose',\n",
       "  'Glucose',\n",
       "  'D-GLUCOSE IN LINEAR FORM',\n",
       "  'WURCS=2.0/1,1,0/[o2122h]/1/'],\n",
       " 'crossref': [{'db': 'WIKI', 'id': 'Glucose'}, {'db': 'CAS', 'id': '50-99-7'}],\n",
       " 'formula': 'C6H12O6',\n",
       " 'mass': 180.15588,\n",
       " 'charge': 0,\n",
       " 'inchi': 'InChI=1S/C6H12O6/c7-1-3(9)5(11)6(12)4(10)2-8/h1,3-6,8-12H,2H2/t3-,4+,5+,6+/m0/s1'}"
      ]
     },
     "execution_count": 7,
     "metadata": {},
     "output_type": "execute_result"
    }
   ],
   "source": [
    "kb.CODECS[Molecule].encode(compounds[42758])"
   ]
  },
  {
   "cell_type": "markdown",
   "id": "fea013f5",
   "metadata": {},
   "source": [
    "## Big write -- wipe and replace"
   ]
  },
  {
   "cell_type": "code",
   "execution_count": 8,
   "id": "942d4f30",
   "metadata": {},
   "outputs": [
    {
     "name": "stdout",
     "output_type": "stream",
     "text": [
      "CPU times: user 9.69 s, sys: 688 ms, total: 10.4 s\n",
      "Wall time: 13.5 s\n"
     ]
    }
   ],
   "source": [
    "%%time\n",
    "# Put this in db=ebi, collection=chebi\n",
    "ebi.chebi.drop()\n",
    "for compound_id, compound in compounds.items():\n",
    "    doc = kb.CODECS[Molecule].encode(compound)\n",
    "    ebi.chebi.insert_one(doc)"
   ]
  },
  {
   "cell_type": "code",
   "execution_count": 9,
   "id": "31958f4a",
   "metadata": {},
   "outputs": [
    {
     "data": {
      "text/plain": [
       "[{'_id': 27476,\n",
       "  'name': 'beta-D-ribopyranose',\n",
       "  'aka': ['RIBOSE(PYRANOSE FORM)',\n",
       "   'beta-D-Ribopyranose',\n",
       "   'WURCS=2.0/1,1,0/[a222h-1b_1-5]/1/',\n",
       "   'Ribose'],\n",
       "  'crossref': [{'db': 'CAS', 'id': '7296-60-8'},\n",
       "   {'db': 'KEGG', 'id': 'C08353'}],\n",
       "  'formula': 'C5H10O5',\n",
       "  'mass': 150.1299,\n",
       "  'charge': 0,\n",
       "  'inchi': 'InChI=1S/C5H10O5/c6-2-1-10-5(9)4(8)3(2)7/h2-9H,1H2/t2-,3-,4-,5-/m1/s1'},\n",
       " {'_id': 45506,\n",
       "  'name': 'alpha-D-ribose',\n",
       "  'aka': ['RIBOSE',\n",
       "   'alpha-D-ribofuranose',\n",
       "   'alpha-D-Rib',\n",
       "   'WURCS=2.0/1,1,0/[a222h-1a_1-4]/1/'],\n",
       "  'formula': 'C5H10O5',\n",
       "  'mass': 150.1299,\n",
       "  'charge': 0,\n",
       "  'inchi': 'InChI=1S/C5H10O5/c6-1-2-3(7)4(8)5(9)10-2/h2-9H,1H2/t2-,3-,4-,5+/m1/s1'},\n",
       " {'_id': 47013,\n",
       "  'name': 'D-ribofuranose',\n",
       "  'aka': ['ribose',\n",
       "   'D-ribose',\n",
       "   'D-Ribose',\n",
       "   '(3R,4S,5R)-5-(hydroxymethyl)tetrahydrofuran-2,3,4-triol',\n",
       "   'WURCS=2.0/1,1,0/[a222h-1x_1-4]/1/'],\n",
       "  'crossref': [{'db': 'KEGG', 'id': 'C00121'},\n",
       "   {'db': 'CAS', 'id': '50-69-1'},\n",
       "   {'db': 'CAS', 'id': '613-83-2'}],\n",
       "  'formula': 'C5H10O5',\n",
       "  'mass': 150.1299,\n",
       "  'charge': 0,\n",
       "  'inchi': 'InChI=1S/C5H10O5/c6-1-2-3(7)4(8)5(9)10-2/h2-9H,1H2/t2-,3-,4-,5?/m1/s1'}]"
      ]
     },
     "execution_count": 9,
     "metadata": {},
     "output_type": "execute_result"
    }
   ],
   "source": [
    "list(ebi.chebi.find({\"aka\": \"ribose\"}).collation({\"locale\": 'en', \"strength\": 1}))"
   ]
  },
  {
   "cell_type": "markdown",
   "id": "742bab17",
   "metadata": {},
   "source": [
    "# Load RHEA master reactions verbatim\n",
    "\n",
    "RHEA is organized around 'quartets'\n",
    "- Master - indeterminate or unspecified direction\n",
    "- irreversible left -> right\n",
    "- irreversible right -> left\n",
    "- explicitly reversible\n",
    "\n",
    "Not clear what is gained by this representation vs say a reversibility attribute. One possibility is it's all about the cross-references to other reaction DBs. Need to explore a bit more.\n",
    "\n",
    "## Main RHEA reaction definitions are in RDF"
   ]
  },
  {
   "cell_type": "code",
   "execution_count": 10,
   "id": "7edd5929",
   "metadata": {},
   "outputs": [],
   "source": [
    "import rdflib\n",
    "from rdflib.namespace import RDFS\n",
    "\n",
    "RH = rdflib.namespace.Namespace(\"http://rdf.rhea-db.org/\")\n",
    "rhea_dir = \"/home/fdrusso/work/data/rhea\""
   ]
  },
  {
   "cell_type": "code",
   "execution_count": 11,
   "id": "e8cb9f6c",
   "metadata": {},
   "outputs": [
    {
     "name": "stdout",
     "output_type": "stream",
     "text": [
      "CPU times: user 2min 41s, sys: 836 ms, total: 2min 42s\n",
      "Wall time: 2min 42s\n"
     ]
    }
   ],
   "source": [
    "%time rhea_rdf = rdflib.Graph().parse(os.path.join(rhea_dir, \"rhea.rdf\"))\n",
    "\n",
    "rhea_rdf.bind(\"rh\", RH)\n",
    "rhea_rdf.bind(\"rdfs\", RDFS)\n",
    "rhea_rdf.bind(\"ch\", rdflib.namespace.Namespace(\"http://purl.obolibrary.org/obo/\"))\n",
    "rhea_rdf.bind(\"ch2\", rdflib.namespace.Namespace(\"http://purl.obolibrary.org/obo/chebi#\"))\n",
    "rhea_rdf.bind(\"ch3\", rdflib.namespace.Namespace(\"http://purl.obolibrary.org/obo/chebi/\"))\n",
    "rhea_rdf.bind(\"up\", rdflib.namespace.Namespace(\"http://purl.uniprot.org/core/\"))\n",
    "rhea_rdf.bind(\"ec\", rdflib.namespace.Namespace(\"http://purl.uniprot.org/enzyme/\"))\n",
    "rhea_rdf.bind(\"pubmed\", rdflib.namespace.Namespace(\"http://rdf.ncbi.nlm.nih.gov/pubmed/\"))\n",
    "\n",
    "rhea_rdf.bind(\"ECOCYC\", rdflib.namespace.Namespace(\"http://identifiers.org/biocyc/ECOCYC:\"))\n",
    "rhea_rdf.bind(\"METACYC\", rdflib.namespace.Namespace(\"http://identifiers.org/biocyc/METACYC:\"))\n",
    "rhea_rdf.bind(\"KEGG\", rdflib.namespace.Namespace(\"http://identifiers.org/kegg.reaction/\"))\n",
    "rhea_rdf.bind(\"REACTOME\", rdflib.namespace.Namespace(\"http://identifiers.org/reactome/\"))\n"
   ]
  },
  {
   "cell_type": "markdown",
   "id": "5626b11e",
   "metadata": {},
   "source": [
    "## Pull it into a more workable structure"
   ]
  },
  {
   "cell_type": "code",
   "execution_count": 12,
   "id": "0ae96348",
   "metadata": {},
   "outputs": [],
   "source": [
    "scalars = {\n",
    "    RH.id,\n",
    "    RDFS.label,\n",
    "    RH.equation,\n",
    "    RH.status,\n",
    "    RH.isTransport,\n",
    "    \n",
    "    RH.curatedOrder,\n",
    "    \n",
    "    RH.accession,\n",
    "    RH.name,\n",
    "    RH.formula,\n",
    "    RH.charge,\n",
    "    \n",
    "    RH.location,\n",
    "    RH.position,\n",
    "    RH.polymerizationIndex,\n",
    "    RH.underlyingChebi,\n",
    "}\n",
    "lists = {\n",
    "    RH.ec,\n",
    "    RDFS.seeAlso,\n",
    "}\n",
    "objects = {\n",
    "    RH.bidirectionalReaction,\n",
    "    RH.directionalReaction,\n",
    "\n",
    "    RH.side,\n",
    "\n",
    "    RH.contains1,\n",
    "    RH.contains2,\n",
    "    RH.contains3,\n",
    "    RH.contains4,\n",
    "    RH.contains5,\n",
    "    RH.contains6,\n",
    "    RH.contains7,\n",
    "    RH.contains8,\n",
    "    RH.contains9,\n",
    "    RH.contains10,\n",
    "    RH.contains11,\n",
    "    RH.contains12,\n",
    "    RH.contains13,\n",
    "    RH.contains14,\n",
    "    RH.contains15,\n",
    "    RH.contains16,\n",
    "    RH.contains17,\n",
    "    RH.contains18,\n",
    "    RH.contains19,\n",
    "    RH.contains20,\n",
    "    \n",
    "    RH.contains21,\n",
    "    RH.contains22,\n",
    "    RH.contains24,\n",
    "    RH.contains26,\n",
    "    RH.contains27,\n",
    "    RH.contains28,\n",
    "    RH.contains32,\n",
    "    RH.contains40,\n",
    "    RH.containsN,\n",
    "    RH.contains2n,\n",
    "    RH.containsNplus1,\n",
    "    RH.containsNminus1,\n",
    "\n",
    "    RH.compound,\n",
    "    RH.reactivePart,\n",
    "}\n",
    "drop = {\n",
    "    RDFS.comment,\n",
    "    RDFS.subClassOf,\n",
    "    RH.citation,\n",
    "    RH.chebi,\n",
    "    RH.contains,\n",
    "    RH.htmlEquation,\n",
    "    RH.htmlName,\n",
    "    RH.isChemicallyBalanced,\n",
    "    RH.products,\n",
    "    RH.substrates,\n",
    "    RH.substratesOrProducts,\n",
    "    RH.transformableTo,\n",
    "}\n",
    "\n",
    "def extract_value(g, o):\n",
    "    if type(o) == rdflib.Literal:\n",
    "        return o.toPython()\n",
    "    else:\n",
    "        return o.n3(g.namespace_manager)\n",
    "    \n",
    "def extract_object(g, s):\n",
    "    result = {}\n",
    "    for p, o in g[s]:\n",
    "        if p in scalars:\n",
    "            p = extract_value(g, p)\n",
    "            o = extract_value(g, o)\n",
    "            result[p] = o\n",
    "        elif p in lists:\n",
    "            p = extract_value(g, p)\n",
    "            o = extract_value(g, o)\n",
    "            if p in result:\n",
    "                result[p].append(o)\n",
    "            else:\n",
    "                result[p] = [o]\n",
    "        elif p in objects:\n",
    "            p = extract_value(g, p)\n",
    "            o = extract_object(g, o)\n",
    "            if p in result:\n",
    "                result[p].append(o)\n",
    "            else:\n",
    "                result[p] = [o]\n",
    "        elif p not in drop:\n",
    "            print(f\"Ignoring {extract_value(g, s)} {extract_value(g, p)}\")\n",
    "    return result\n",
    "    "
   ]
  },
  {
   "cell_type": "markdown",
   "id": "dcca0fee",
   "metadata": {},
   "source": [
    "## Coerce master reactions (only) into the KB Reaction structure"
   ]
  },
  {
   "cell_type": "code",
   "execution_count": 13,
   "id": "cc47df45",
   "metadata": {
    "scrolled": true
   },
   "outputs": [
    {
     "data": {
      "text/plain": [
       "Reaction(_id=16109, name='ATP + beta-D-fructose 6-phosphate = ADP + beta-D-fructose 1,6-bisphosphate + H(+)', shorthand=None, aka=None, crossref=[EC:2.7.1.11, GO:0003872, ECOCYC:6PFRUCTPHOS-RXN, METACYC:6PFRUCTPHOS-RXN, REACTOME:R-HSA-70467.5, KEGG:R00756], stoichiometry={Molecule [30616] ATP(4-)\n",
       "  formula: C10H12N5O13P3\n",
       "  mass: 503.14946 Da\n",
       "  charge: -4: -1, Molecule [57634] beta-D-fructofuranose 6-phosphate(2-)\n",
       "  formula: C6H11O9P\n",
       "  mass: 258.1199 Da\n",
       "  charge: -2: -1, Molecule [456216] ADP(3-)\n",
       "  formula: C10H12N5O10P2\n",
       "  mass: 424.1773 Da\n",
       "  charge: -3: 1, Molecule [32966] beta-D-fructofuranose 1,6-bisphosphate(4-)\n",
       "  formula: C6H10O12P2\n",
       "  mass: 336.08392 Da\n",
       "  charge: -4: 1, Molecule [15378] hydron\n",
       "  formula: H\n",
       "  mass: 1.00794 Da\n",
       "  charge: +1: 1}, catalyst=None, reversible=True)"
      ]
     },
     "execution_count": 13,
     "metadata": {},
     "output_type": "execute_result"
    }
   ],
   "source": [
    "def to_dbxref(rhea_xref):\n",
    "    # Special cases\n",
    "    for prefix, db in [\n",
    "        (\"ch:GO_\", \"GO\"),\n",
    "    ]:\n",
    "        if rhea_xref.startswith(prefix):\n",
    "            return DbCrossRef(db, rhea_xref[len(prefix):])\n",
    "\n",
    "    # Generally otherwise just split on a colon\n",
    "    parts = rhea_xref.split(\":\")\n",
    "    if len(parts) == 2:\n",
    "        return DbCrossRef(parts[0].upper(), parts[1])\n",
    "    else:\n",
    "        return DbCrossRef(\"RHEA\", rhea_xref)\n",
    "    \n",
    "    \n",
    "def to_reaction(rhea_rxn):\n",
    "    crossref = []\n",
    "    if \"rh:ec\" in rhea_rxn:\n",
    "        crossref.extend(to_dbxref(rhea_xref) for rhea_xref in rhea_rxn[\"rh:ec\"])\n",
    "    if \"rdfs:seeAlso\" in rhea_rxn:\n",
    "        crossref.extend(to_dbxref(rhea_xref) for rhea_xref in rhea_rxn[\"rdfs:seeAlso\"])\n",
    "    # Lump in the rest of the quartet's xrefs -- not rigorous by RHEA standards, but reasonable for us.\n",
    "    for key in [\"rh:directionalReaction\", \"rh:bidirectionalReaction\"]:\n",
    "        for other_reaction in rhea_rxn.get(key, []):\n",
    "            if \"rh:ec\" in other_reaction:\n",
    "                crossref.extend(to_dbxref(rhea_xref) for rhea_xref in other_reaction[\"rh:ec\"])\n",
    "            if \"rdfs:seeAlso\" in other_reaction:\n",
    "                crossref.extend(to_dbxref(rhea_xref) for rhea_xref in other_reaction[\"rdfs:seeAlso\"])\n",
    "    \n",
    "    multipliers = [None, -1, +1]  # curatedOrder -> stoichiometry sign, 1-based\n",
    "    stoichiometry = {}\n",
    "    for side in rhea_rxn[\"rh:side\"]:\n",
    "        multiplier = multipliers[side[\"rh:curatedOrder\"]]\n",
    "        for count in range(1, 21):\n",
    "            key = \"rh:contains\" + str(count)\n",
    "            for rhea_compound in side.get(key, []):\n",
    "                chebi_id = rhea_compound[\"rh:compound\"][0][\"rh:accession\"]\n",
    "                if chebi_id.startswith(\"CHEBI:\"):\n",
    "                    # We'll use the in-memory molecules for now, but this will utimately be a KB lookup\n",
    "                    compound = compounds[int(chebi_id[6:])]\n",
    "                    stoichiometry[compound] = multiplier * count\n",
    "                else:\n",
    "                    raise ValueError(f\"Unrecognized compound ID {chebi_id}\")\n",
    "    \n",
    "    reversible = False\n",
    "    if \"rh:bidirectionalReaction\" in rhea_rxn and rhea_rxn[\"rh:bidirectionalReaction\"][0].get(\"rdfs:seeAlso\"):\n",
    "        reversible = True\n",
    "    \n",
    "    return Reaction(\n",
    "        _id = rhea_rxn[\"rh:id\"],\n",
    "        name = rhea_rxn[\"rdfs:label\"],\n",
    "        crossref = crossref or None,\n",
    "        stoichiometry = stoichiometry,\n",
    "        reversible = reversible,\n",
    "    )\n",
    "\n",
    "to_reaction(extract_object(rhea_rdf, RH[\"16109\"]))"
   ]
  },
  {
   "cell_type": "code",
   "execution_count": 14,
   "id": "d84030f8",
   "metadata": {},
   "outputs": [
    {
     "name": "stdout",
     "output_type": "stream",
     "text": [
      "10093 reactions parsed succesfully, 3794 skipped\n"
     ]
    }
   ],
   "source": [
    "reactions = {}\n",
    "skipped = {}\n",
    "for s, _, _ in rhea_rdf.triples((None, RDFS.subClassOf, RH.Reaction)):\n",
    "    rhea_rxn = extract_object(rhea_rdf, s)\n",
    "    if rhea_rxn[\"rh:status\"] == \"rh:Approved\":\n",
    "        try:\n",
    "            reaction = to_reaction(rhea_rxn)\n",
    "            reactions[reaction._id] = reaction\n",
    "        \n",
    "        except Exception as e:\n",
    "            skipped[s] = (rhea_rxn, e)\n",
    "\n",
    "print(f\"{len(reactions)} reactions parsed succesfully, {len(skipped)} skipped\")"
   ]
  },
  {
   "cell_type": "code",
   "execution_count": 16,
   "id": "086d1c11",
   "metadata": {},
   "outputs": [
    {
     "data": {
      "text/plain": [
       "Reaction(_id=11816, name='aldehydo-D-glucose 6-phosphate = keto-D-fructose 6-phosphate', shorthand=None, aka=None, crossref=[EC:5.3.1.9, GO:0004347, KEGG:R00771, ECOCYC:PGLUCISOM-RXN, METACYC:PGLUCISOM-RXN], stoichiometry={Molecule [57584] aldehydo-D-glucose 6-phosphate(2-): -1, Molecule [57579] D-fructose 6-phosphate(2-): 1}, catalyst=None, reversible=True)"
      ]
     },
     "execution_count": 16,
     "metadata": {},
     "output_type": "execute_result"
    }
   ],
   "source": [
    "kb.CODECS[Reaction].decode(kb.CODECS[Reaction].encode(reactions[11816]))"
   ]
  },
  {
   "cell_type": "markdown",
   "id": "b8cdc477",
   "metadata": {},
   "source": [
    "## Wipe and replace rhea"
   ]
  },
  {
   "cell_type": "code",
   "execution_count": 17,
   "id": "b79b4d3a",
   "metadata": {},
   "outputs": [
    {
     "name": "stdout",
     "output_type": "stream",
     "text": [
      "CPU times: user 2.35 s, sys: 183 ms, total: 2.53 s\n",
      "Wall time: 3.34 s\n"
     ]
    }
   ],
   "source": [
    "%%time\n",
    "# Put this in db=ebi, collection=rhea\n",
    "ebi.rhea.drop()\n",
    "for reaction_id, reaction in reactions.items():\n",
    "    doc = kb.CODECS[Reaction].encode(reaction)\n",
    "    ebi.rhea.insert_one(doc)"
   ]
  },
  {
   "cell_type": "code",
   "execution_count": null,
   "id": "8d96b38c",
   "metadata": {},
   "outputs": [],
   "source": []
  }
 ],
 "metadata": {
  "kernelspec": {
   "display_name": "Python 3 (ipykernel)",
   "language": "python",
   "name": "python3"
  },
  "language_info": {
   "codemirror_mode": {
    "name": "ipython",
    "version": 3
   },
   "file_extension": ".py",
   "mimetype": "text/x-python",
   "name": "python",
   "nbconvert_exporter": "python",
   "pygments_lexer": "ipython3",
   "version": "3.8.5"
  }
 },
 "nbformat": 4,
 "nbformat_minor": 5
}
