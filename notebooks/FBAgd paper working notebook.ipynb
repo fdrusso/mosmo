{
 "cells": [
  {
   "cell_type": "markdown",
   "id": "e52c55cf-aae1-4af8-8514-4188cdb972cf",
   "metadata": {},
   "source": [
    "# FBA-GD, LP, Biomass, Thermo"
   ]
  },
  {
   "cell_type": "code",
   "execution_count": 1,
   "id": "1f9b353e-6fae-4aae-8bf1-a7c968a0a8fb",
   "metadata": {
    "tags": []
   },
   "outputs": [
    {
     "name": "stderr",
     "output_type": "stream",
     "text": [
      "No GPU/TPU found, falling back to CPU. (Set TF_CPP_MIN_LOG_LEVEL=0 and rerun for more info.)\n"
     ]
    }
   ],
   "source": [
    "import projectpath\n",
    "\n",
    "from importlib import resources\n",
    "import ipywidgets as widgets\n",
    "import jax\n",
    "import jax.numpy as jnp\n",
    "import json\n",
    "import matplotlib.pyplot as plt\n",
    "import numpy as np\n",
    "import pandas as pd\n",
    "import scipy\n",
    "import time\n",
    "from IPython.display import HTML, JSON, display\n",
    "\n",
    "from mosmo.calc import fba_gd, elementary_modes, convenience_kinetics\n",
    "from mosmo.knowledge import kb\n",
    "from mosmo.model import DS, DbXref, KbEntry, Molecule, Reaction, ReactionNetwork\n",
    "from mosmo.preso.escher import escher_map, escher_model\n",
    "import mosmo.preso.escher.pw as pw_files\n",
    "\n",
    "jax.config.update('jax_enable_x64', True)\n",
    "prng = jax.random.PRNGKey(int(time.time() * 1000))\n",
    "%matplotlib widget\n",
    "plt.ioff()\n",
    "\n",
    "KB = kb.configure_kb()"
   ]
  },
  {
   "cell_type": "markdown",
   "id": "dc771629-668f-4c81-b11c-18e0568d322e",
   "metadata": {},
   "source": [
    "## The Network: Glycolysis + Pentose Phosphate Pathway, with recycling pseudoreactions for the energy/redox carriers"
   ]
  },
  {
   "cell_type": "code",
   "execution_count": 2,
   "id": "6c587f71-6284-43d2-bdfe-ba9a7381e385",
   "metadata": {
    "tags": []
   },
   "outputs": [
    {
     "name": "stdout",
     "output_type": "stream",
     "text": [
      "Network consists of 24 reactions on 33 metabolites (21 intermediates + 12 exchanges)\n"
     ]
    }
   ],
   "source": [
    "network = ReactionNetwork([\n",
    "    KB(rxn_id) for rxn_id in [\n",
    "        \"pts.glc\",\n",
    "        \"pgi\",\n",
    "        \"pfk\",\n",
    "        \"fba\",\n",
    "        \"tpi\",\n",
    "        \"gapdh\",\n",
    "        \"pgk\",\n",
    "        \"gpm.indep\",\n",
    "        \"eno\",\n",
    "        \"pyk\",\n",
    "        \"pdh\",\n",
    "        \"pta\",\n",
    "        \"ack\",\n",
    "        \"g6pdh\",\n",
    "        \"pglase\",\n",
    "        \"pgldh\",\n",
    "        \"r5pi\",\n",
    "        \"rpe\",\n",
    "        \"tkt.c5c5\",\n",
    "        \"tkt.c5c4\",\n",
    "        \"tal\",\n",
    "    ]\n",
    "])\n",
    "\n",
    "# Recycling reactions: ATPase, ADPase, NADred, NADPred\n",
    "recyclers = [KB(rxnid) for rxnid in [\"atpase\", \"nad_ox\", \"nadp_ox\"]]\n",
    "for rxn in recyclers:\n",
    "    network.add_reaction(rxn)\n",
    "\n",
    "# Given the recycling reactions, the cofactors can be treated as intermediates. Pi, water, protons, and electrons are still boundaries\n",
    "boundaries=[KB(mol_id) for mol_id in [\"Glc.D.ext\", \"Glc.D.6P\", \"Rib.D.5P\", \"Ery.D.4P\", \"pyr\", \"accoa\", \"coa\", \"co2\", \"pi\", \"h2o\", \"h+\", \"e-\"]]\n",
    "intermediates = [mol for mol in network.reactants if mol not in boundaries]\n",
    "\n",
    "map_json = json.loads(resources.read_text(pw_files, 'glycolysis_ppp_ov.json'))\n",
    "\n",
    "print(f\"Network consists of {len(network.reactions)} reactions on {len(network.reactants)} metabolites ({len(intermediates)} intermediates + {len(boundaries)} exchanges)\")"
   ]
  },
  {
   "cell_type": "markdown",
   "id": "84c71f0f-bd67-4fe7-b90e-c2e1acb44d80",
   "metadata": {},
   "source": [
    "## Maximal growth rate, given a biomass composition"
   ]
  },
  {
   "cell_type": "markdown",
   "id": "644371f5-3caf-4f78-b35f-09e2a44b5a27",
   "metadata": {},
   "source": [
    "Biomass, from cobrapy core metabolism:\n",
    "- [g6p_c] D-Glucose 6-phosphate: 0.205,\n",
    "- [f6p_c] D-Fructose 6-phosphate: 0.0709,\n",
    "- [e4p_c] D-Erythrose 4-phosphate: 0.361,\n",
    "- [g3p_c] Glyceraldehyde 3-phosphate: 0.129,\n",
    "- [r5p_c] Alpha-D-Ribose 5-phosphate: 0.8977,\n",
    "- [3pg_c] 3-Phospho-D-glycerate: 1.496,\n",
    "- [pep_c] Phosphoenolpyruvate: 0.5191,\n",
    "- [pyr_c] Pyruvate: 2.8328,\n",
    "- [coa_c] Coenzyme A: -3.7478,\n",
    "- [accoa_c] Acetyl-CoA: 3.7478,\n",
    "- [gln__L_c] L-Glutamine: 0.2557,\n",
    "- [glu__L_c] L-Glutamate: 4.9414,\n",
    "- [oaa_c] Oxaloacetate: 1.7867,\n",
    "- [akg_c] 2-Oxoglutarate: -4.1182,\n",
    "- [nadh_c] Nicotinamide adenine dinucleotide - reduced: -3.547,\n",
    "- [nad_c] Nicotinamide adenine dinucleotide: 3.547,\n",
    "- [nadph_c] Nicotinamide adenine dinucleotide phosphate - reduced: 13.0279,\n",
    "- [nadp_c] Nicotinamide adenine dinucleotide phosphate: -13.0279,\n",
    "- [atp_c] ATP C10H12N5O13P3: 59.81,\n",
    "- [adp_c] ADP C10H12N5O10P2: -59.81,\n",
    "- [pi_c] Phosphate: -59.81\n",
    "- [h_c] H+: -59.81,\n",
    "- [h2o_c] H2O H2O: 59.81,\n",
    "\n",
    "Simplified:\n",
    "- Lump upper and lower glycolysis products into G6P and pyr, respectively\n",
    "- Lump TCA products into acCoA\n",
    "- Deal with energy/redox carriers separately (or, via $P_i$ and $e^-$ requirements). Probably need to add into acCoA also to represent TCA"
   ]
  },
  {
   "cell_type": "code",
   "execution_count": 5,
   "id": "74370fdf-e9c4-4c84-82bc-bf48855a5558",
   "metadata": {
    "tags": []
   },
   "outputs": [],
   "source": [
    "biomass_components = {\n",
    "    KB(\"Glc.D.6P\"): 0.212,\n",
    "    KB(\"Ery.D.4P\"): 0.361,\n",
    "    KB(\"Rib.D.5P\"): 0.898,\n",
    "    KB(\"pyr\"): 5.02,\n",
    "    KB(\"accoa\"): 10.75,\n",
    "}\n",
    "\n",
    "class BiomassObjective(fba_gd.Objective):\n",
    "    def __init__(self, network, biomass_components, growth_rate, weight=1.0):\n",
    "        super().__init__(weight)\n",
    "        self.network = network\n",
    "        self.indices = np.array([network.reactants.index_of(component) for component in biomass_components.keys()], dtype=np.int32)\n",
    "        self.fractions = network.reactants.pack(biomass_components)[self.indices]\n",
    "        self.growth_rate = growth_rate\n",
    "    \n",
    "    def params(self):\n",
    "        return self.fractions, self.growth_rate\n",
    "    \n",
    "    def update_params(self, biomass_components=None, growth_rate=None):\n",
    "        if biomass_components is not None:\n",
    "            self.fractions = self.network.reactants.pack(biomass_components)\n",
    "        if growth_rate is not None:\n",
    "            self.growth_rate = growth_rate\n",
    "\n",
    "    def residual(self, velocities, dmdt, params):\n",
    "        fractions, growth_rate = params\n",
    "        expected = growth_rate * fractions\n",
    "        actual = dmdt[self.indices]\n",
    "        return actual - expected\n",
    "\n",
    "def report(growth_rate, fluxv, dmdtv):\n",
    "    # uses network, boundaries, intermediates, recyclers, map_json\n",
    "\n",
    "    fluxes = network.reactions.unpack(fluxv)\n",
    "    dmdt = network.reactants.unpack(dmdtv)\n",
    "    \n",
    "    fig, ax = plt.subplots(2, 1, figsize=(3, 5), height_ratios=[3, 1], layout='constrained', sharex=True)\n",
    "    fig.canvas.header_visible = False\n",
    "    fig.canvas.footer_visible = False\n",
    "    fig.canvas.toolbar_visible = False\n",
    "    fig.canvas.resizable = False\n",
    "\n",
    "    y = np.arange(len(boundaries))\n",
    "    ax[0].set_title(\"Boundary Fluxes\")\n",
    "    ax[0].set_yticks(y, labels=[b.label for b in boundaries])\n",
    "    ax[0].invert_yaxis()\n",
    "    ax[0].grid(True)\n",
    "    ax[0].axvline(0)\n",
    "    ax[0].barh(y, [dmdt[mol] for mol in boundaries])\n",
    "\n",
    "    y = np.arange(len(recyclers))\n",
    "    ax[1].set_title(\"Net Production\")\n",
    "    ax[1].set_xlabel('Rate')\n",
    "    ax[1].set_yticks(y, labels=[\"ATP\", \"NADH\", \"NADPH\"])\n",
    "    ax[1].invert_yaxis()\n",
    "    ax[1].grid(True)\n",
    "    ax[1].axvline(0)\n",
    "    ax[1].barh(y, [fluxes[r] for r in recyclers])\n",
    "\n",
    "    diag = escher_map.EscherMap(map_json, width=\"15cm\", reaction_scale=escher_map.Scale({0: (\"#eeeeee\", 5), 10: (\"#1f77b4\", 40)}, use_abs=True))\n",
    "    diag.draw(reaction_data={rxn.label: flux for rxn, flux in fluxes.items()})\n",
    "\n",
    "    # Lay it all and return\n",
    "    i_intermediate = np.array(list(network.reactants.index_of(mol) for mol in intermediates))\n",
    "    return widgets.HBox([\n",
    "        widgets.VBox([\n",
    "            widgets.Label(f\"Growth rate: {growth_rate:.2e}\"),\n",
    "            widgets.Label(f\"Steady state (RMS): {np.sqrt(np.mean(np.square(dmdtv[i_intermediate]))):.2e}\"),\n",
    "            fig.canvas,\n",
    "        ], layout=widgets.Layout(width=\"4in\", padding=\"10px\")),\n",
    "        diag.widget,\n",
    "    ], layout = widgets.Layout(width='1000px', border='1px solid green'))"
   ]
  },
  {
   "cell_type": "code",
   "execution_count": 6,
   "id": "1ce3b1b0-8895-49de-9752-b8d8b70d95ac",
   "metadata": {
    "tags": []
   },
   "outputs": [
    {
     "data": {
      "application/vnd.jupyter.widget-view+json": {
       "model_id": "e087676d7b5d4d20a2ddc9b483bbf1c0",
       "version_major": 2,
       "version_minor": 0
      },
      "text/plain": [
       "HBox(children=(VBox(children=(Label(value='Growth rate: 1.00e+00'), Label(value='Steady state (RMS): 1.17e-08'…"
      ]
     },
     "execution_count": 6,
     "metadata": {},
     "output_type": "execute_result"
    }
   ],
   "source": [
    "fba = fba_gd.FbaGd(network, intermediates=intermediates, objectives={\n",
    "    \"growth\": BiomassObjective(network, biomass_components, 1.0)\n",
    "})\n",
    "fba_soln = fba.solve()\n",
    "\n",
    "report(fba.objectives['growth'].growth_rate, fba_soln.velocities, fba_soln.dmdt)"
   ]
  },
  {
   "cell_type": "markdown",
   "id": "86984b14-afcf-4f03-91e9-fe8b82594ee8",
   "metadata": {},
   "source": [
    "## Maximize growth via LP"
   ]
  },
  {
   "cell_type": "code",
   "execution_count": 7,
   "id": "78c68083-825f-4e5c-88c7-fc93cf7bc304",
   "metadata": {
    "tags": []
   },
   "outputs": [
    {
     "data": {
      "application/vnd.jupyter.widget-view+json": {
       "model_id": "f75143620b474aac8b94e11daa94235e",
       "version_major": 2,
       "version_minor": 0
      },
      "text/plain": [
       "HBox(children=(VBox(children=(Label(value='Growth rate: 1.10e+00'), Label(value='Steady state (RMS): 3.89e-16'…"
      ]
     },
     "execution_count": 7,
     "metadata": {},
     "output_type": "execute_result"
    }
   ],
   "source": [
    "# Augment S and v with additional column + variable for growth\n",
    "s_aug = np.hstack([-network.reactants.pack(biomass_components)[:, np.newaxis], network.s_matrix])\n",
    "\n",
    "# Following the form of scipy.optimize.linprog\n",
    "# - minimize c @ x: c is coefficients of the flux vector to optimize, i.e. [-1, 0, ...]\n",
    "c = np.insert(np.zeros(network.shape[1]), 0, -1.0)\n",
    "\n",
    "# - A_eq @ x = b_eq: A_eq is the subset of s_aug for rows that are steady-state; b_eq = 0\n",
    "i_intermediates = np.array([i for i, mol in enumerate(network.reactants) if mol in intermediates or mol in biomass_components])\n",
    "A_eq = s_aug[i_intermediates]\n",
    "b_eq = np.zeros(A_eq.shape[0])\n",
    "\n",
    "# - A_ub @ x <= b_ub: A_ub is a transformed subset of s_aug that constrains non steady-state boundary dm/dt; b_ub sets the bounds\n",
    "# In this case the only thing bounded is Glc[e], -10 <= x_glce <= 0, so -x_glce <= 10\n",
    "A_ub = np.atleast_2d(-s_aug[network.reactants.index_of(KB(\"Glc.D.ext\"))])\n",
    "b_ub = np.array([10.0])\n",
    "\n",
    "# - lb <= x <= ub: constraints on the fluxes themselves, mainly reversibility (including growth)\n",
    "bounds = [(0, None)] + [(None, None) if rxn.reversible else (0, None) for rxn in network.reactions]\n",
    "\n",
    "lp_soln = scipy.optimize.linprog(c, A_ub, b_ub, A_eq, b_eq, bounds)\n",
    "report(lp_soln.x[0], lp_soln.x[1:], network.s_matrix @ lp_soln.x[1:])"
   ]
  },
  {
   "cell_type": "markdown",
   "id": "f6c928c3-9bb7-42c6-80fa-f123934e9037",
   "metadata": {},
   "source": [
    "## Same thing with minimize() and LinearConstraint"
   ]
  },
  {
   "cell_type": "code",
   "execution_count": 8,
   "id": "83a5197d-cbdc-4107-bf11-ab674aa6a725",
   "metadata": {
    "tags": []
   },
   "outputs": [
    {
     "name": "stderr",
     "output_type": "stream",
     "text": [
      "/home/fdrusso/.pyenv/versions/3.8.16/envs/notebooks/lib/python3.8/site-packages/scipy/optimize/_trustregion_constr/projections.py:181: UserWarning: Singular Jacobian matrix. Using SVD decomposition to perform the factorizations.\n",
      "  warn('Singular Jacobian matrix. Using SVD decomposition to ' +\n"
     ]
    },
    {
     "data": {
      "application/vnd.jupyter.widget-view+json": {
       "model_id": "e0e281d15f8e4a828ecaf8bb6033ae2c",
       "version_major": 2,
       "version_minor": 0
      },
      "text/plain": [
       "HBox(children=(VBox(children=(Label(value='Growth rate: 5.23e-02'), Label(value='Steady state (RMS): 2.71e-17'…"
      ]
     },
     "execution_count": 8,
     "metadata": {},
     "output_type": "execute_result"
    }
   ],
   "source": [
    "# fun, jac, hess all apply to the growth function, i.e. -x[0]. Since it's linear, jac=c and hess=0\n",
    "def fun(x):\n",
    "    return c @ x\n",
    "\n",
    "hess = np.zeros(shape=(c.shape[0], c.shape[0]))\n",
    "\n",
    "# constraints do the same thing as A_eq @ x = 0 and A_ub @ x <= b_eq\n",
    "constraints = [\n",
    "    scipy.optimize.LinearConstraint(A=A_eq, lb=0, ub=0),\n",
    "    scipy.optimize.LinearConstraint(A=A_ub, lb=0, ub=b_ub),\n",
    "]\n",
    "\n",
    "# variable (flux) bounds same as above\n",
    "\n",
    "lmin_soln = scipy.optimize.minimize(\n",
    "    method='trust-constr',\n",
    "    fun=fun,\n",
    "    x0=np.zeros_like(c),\n",
    "    jac=lambda x: c, \n",
    "    hess=lambda x: hess, \n",
    "    bounds=bounds, \n",
    "    constraints=constraints\n",
    ")\n",
    "report(lmin_soln.x[0], lmin_soln.x[1:], network.s_matrix @ lmin_soln.x[1:])"
   ]
  },
  {
   "cell_type": "markdown",
   "id": "716e76e1-4c23-468e-b2ff-df5fb31ce7f0",
   "metadata": {
    "tags": []
   },
   "source": [
    "## Define it _exactly_ as a standard FBA problem\n",
    "- S matrix augmented with exchanges and biomass\n",
    "- v vector \\[\\<fluxes\\> \\<exchanges\\> \\<growth\\>\\]"
   ]
  },
  {
   "cell_type": "code",
   "execution_count": 9,
   "id": "83eae732-38c4-4211-90a5-c0c44766a5a3",
   "metadata": {
    "tags": []
   },
   "outputs": [
    {
     "data": {
      "application/vnd.jupyter.widget-view+json": {
       "model_id": "73abcecd76ae42daa4083b977d4a35b5",
       "version_major": 2,
       "version_minor": 0
      },
      "text/plain": [
       "HBox(children=(VBox(children=(Label(value='Growth rate: 1.10e+00'), Label(value='Steady state (RMS): 3.89e-16'…"
      ]
     },
     "execution_count": 9,
     "metadata": {},
     "output_type": "execute_result"
    }
   ],
   "source": [
    "exchanges = {}\n",
    "for mol in boundaries:\n",
    "    if mol not in biomass_components:\n",
    "        ex = np.zeros(network.shape[0])\n",
    "        ex[network.reactants.index_of(mol)] = -1\n",
    "        exchanges[mol] = ex\n",
    "\n",
    "s_aug = np.hstack([\n",
    "    network.s_matrix,\n",
    "    np.array(list(exchanges.values())).T,\n",
    "    -network.reactants.pack(biomass_components)[:, np.newaxis],\n",
    "])\n",
    "\n",
    "# Following the form of scipy.optimize.linprog\n",
    "# - minimize c @ x: c is coefficients of the flux vector to optimize, i.e. [-1, 0, ...]\n",
    "c = np.zeros(network.shape[1] + len(exchanges) + 1)\n",
    "c[-1] = -1\n",
    "\n",
    "# A_eq is s_aug; b_eq = 0. No A_ub or b_ub\n",
    "\n",
    "# - lb <= x <= ub: constraints on the fluxes themselves.\n",
    "bounds = []\n",
    "# reaction reversibility\n",
    "for rxn in network.reactions:\n",
    "    if rxn.reversible:\n",
    "        bounds.append((None, None))\n",
    "    else:\n",
    "        bounds.append((0, None))\n",
    "# exchanges unbounded except for Glc[e]\n",
    "glc_e = KB(\"Glc.D.ext\")\n",
    "for mol in exchanges:\n",
    "    if mol == glc_e:\n",
    "        bounds.append((-10, -10))\n",
    "    else:\n",
    "        bounds.append((None, None))\n",
    "# growth is nonnegative\n",
    "bounds.append((0, None))\n",
    "\n",
    "lp_soln = scipy.optimize.linprog(c=c, A_eq=s_aug, b_eq=np.zeros(s_aug.shape[0]), bounds=bounds)\n",
    "fluxv = lp_soln.x[:network.shape[1]]\n",
    "report(lp_soln.x[-1], fluxv, network.s_matrix @ fluxv)"
   ]
  },
  {
   "cell_type": "markdown",
   "id": "2a7c2fe7-ea68-423d-bbd1-9664b2d42633",
   "metadata": {
    "tags": []
   },
   "source": [
    "## Convert that to constrained minimization"
   ]
  },
  {
   "cell_type": "code",
   "execution_count": 10,
   "id": "80ad4b72-a10b-4ee3-88c0-76b0264997c6",
   "metadata": {
    "tags": []
   },
   "outputs": [
    {
     "name": "stderr",
     "output_type": "stream",
     "text": [
      "/home/fdrusso/.pyenv/versions/3.8.16/envs/notebooks/lib/python3.8/site-packages/scipy/optimize/_trustregion_constr/projections.py:181: UserWarning: Singular Jacobian matrix. Using SVD decomposition to perform the factorizations.\n",
      "  warn('Singular Jacobian matrix. Using SVD decomposition to ' +\n"
     ]
    },
    {
     "data": {
      "application/vnd.jupyter.widget-view+json": {
       "model_id": "2457d7c9fec54e26b4171265a2527828",
       "version_major": 2,
       "version_minor": 0
      },
      "text/plain": [
       "HBox(children=(VBox(children=(Label(value='Growth rate: 1.10e+00'), Label(value='Steady state (RMS): 5.48e-16'…"
      ]
     },
     "execution_count": 10,
     "metadata": {},
     "output_type": "execute_result"
    }
   ],
   "source": [
    "# fun, jac, hess all apply to the growth function, i.e. -x[0]. Since it's linear, jac=c and hess=0\n",
    "def fun(x):\n",
    "    return c @ x\n",
    "\n",
    "hess = np.zeros(shape=(c.shape[0], c.shape[0]))\n",
    "\n",
    "# constraints do the same thing as A_eq @ x = 0\n",
    "constraints = [\n",
    "    scipy.optimize.LinearConstraint(A=s_aug, lb=0, ub=0),\n",
    "]\n",
    "\n",
    "# variable (flux) bounds same as above\n",
    "\n",
    "lmin_soln = scipy.optimize.minimize(\n",
    "    method='trust-constr',\n",
    "    fun=fun,\n",
    "    x0=np.zeros_like(c),\n",
    "    jac=lambda x: c, \n",
    "    hess=lambda x: hess, \n",
    "    bounds=bounds, \n",
    "    constraints=constraints\n",
    ")\n",
    "fluxv = lmin_soln.x[:network.shape[1]]\n",
    "report(lmin_soln.x[-1], fluxv, network.s_matrix @ fluxv)"
   ]
  },
  {
   "cell_type": "markdown",
   "id": "f37a871a-be3a-4e45-b314-11962cfaf089",
   "metadata": {},
   "source": [
    "**OK** looks like by using Glc[e] == -10 instead of >= -10, we force the system to the right answer using minimize() directly.\n",
    "\n",
    "Not really a great endorsement in terms of efficiency, but it opens up using this approach with different objectives"
   ]
  },
  {
   "cell_type": "markdown",
   "id": "ff149f93-3717-4750-9389-82d67881f1b8",
   "metadata": {},
   "source": [
    "## Recast using JAX-friendly Objectives\n",
    "### First, same problem not as constrained minimization but simply least squares with Glc[e] == -10. Explore range of solutions\n",
    "- Avoid FbaGd.solve() to keep flexibility; need to rethink that interface anyway"
   ]
  },
  {
   "cell_type": "code",
   "execution_count": 12,
   "id": "e0513c60-0046-443f-8cc8-815c66111a2f",
   "metadata": {
    "tags": []
   },
   "outputs": [
    {
     "data": {
      "application/vnd.jupyter.widget-view+json": {
       "model_id": "a54ce117615c4de59b5599cb3e001c2d",
       "version_major": 2,
       "version_minor": 0
      },
      "text/plain": [
       "HBox(children=(VBox(children=(Label(value='Growth rate: 1.10e+00'), Label(value='Steady state (RMS): 3.54e-15'…"
      ]
     },
     "execution_count": 12,
     "metadata": {},
     "output_type": "execute_result"
    }
   ],
   "source": [
    "ss_objective = fba_gd.SteadyStateObjective(network, intermediates)\n",
    "irrev_objective = fba_gd.IrreversibilityObjective(network)\n",
    "growth_objective = BiomassObjective(network, biomass_components, lp_soln.x[-1])\n",
    "uptake_objective = fba_gd.ProductionObjective(network, {KB(\"Glc.D.ext\"): -10})\n",
    "\n",
    "# Borrowed from FbaGd pretty much as-is\n",
    "objectives = {\n",
    "    'steady-state': ss_objective,\n",
    "    'irreversibility': irrev_objective,\n",
    "    'growth': growth_objective,\n",
    "    'uptake': uptake_objective\n",
    "}\n",
    "\n",
    "# Generalized residual combining the objectives\n",
    "def residual(v, *params):\n",
    "    dmdt = network.s_matrix @ v\n",
    "    return jnp.concatenate([objective.residual(v, dmdt, p) for objective, p in zip(objectives.values(), params)])\n",
    "\n",
    "# Cache the jitted loss and jacobian functions\n",
    "_residual_jit = jax.jit(residual)\n",
    "_residual_jac = jax.jit(jax.jacfwd(residual))\n",
    "\n",
    "# Solve least squares on combined residual\n",
    "seed = jax.random.PRNGKey(int(time.time() * 1000))\n",
    "v0 = jax.random.normal(seed, network.shape[1:])\n",
    "\n",
    "params = tuple(objective.params() for objective in objectives.values())\n",
    "soln = scipy.optimize.least_squares(fun=_residual_jit, args=params, x0=v0, jac=_residual_jac)\n",
    "dmdt = network.s_matrix @ soln.x\n",
    "fit_residual = np.concatenate([objectives[name].residual(soln.x, dmdt, None) for name in ['steady-state', 'irreversibility']])\n",
    "fba_result = fba_gd.FbaResult(v0=np.asarray(v0), velocities=np.asarray(soln.x), dmdt=np.asarray(dmdt), fit=float(np.sum(np.square(fit_residual))))\n",
    "report(growth_objective.growth_rate, fba_result.velocities, fba_result.dmdt)"
   ]
  },
  {
   "cell_type": "markdown",
   "id": "5ba60869-d337-495e-a828-87669daa79a1",
   "metadata": {},
   "source": [
    "### Vary v0 with current contraints"
   ]
  },
  {
   "cell_type": "code",
   "execution_count": 13,
   "id": "6a3e4c9a-6b88-4f76-914e-f38bdf47116c",
   "metadata": {
    "tags": []
   },
   "outputs": [],
   "source": [
    "results = []\n",
    "params = tuple(objective.params() for objective in objectives.values())\n",
    "for i in range(100):\n",
    "    seed, _seed = jax.random.split(seed)\n",
    "    v0 = jax.random.normal(_seed, network.shape[1:])\n",
    "    soln = scipy.optimize.least_squares(fun=_residual_jit, args=params, x0=v0, jac=_residual_jac)\n",
    "    dmdt = network.s_matrix @ soln.x\n",
    "    fit_residual = np.concatenate([objectives[name].residual(soln.x, dmdt, None) for name in ['steady-state', 'irreversibility']])\n",
    "    results.append(fba_gd.FbaResult(v0=np.asarray(v0), velocities=np.asarray(soln.x), dmdt=np.asarray(dmdt), fit=float(np.sum(np.square(fit_residual)))))"
   ]
  },
  {
   "cell_type": "code",
   "execution_count": 14,
   "id": "fc07072c-8e48-44ee-924a-55c9903b07f5",
   "metadata": {
    "tags": []
   },
   "outputs": [],
   "source": [
    "fluxes_df = pd.DataFrame([{rxn.label: flux for rxn, flux in network.reactions.unpack(soln.velocities).items()} for soln in results])"
   ]
  },
  {
   "cell_type": "code",
   "execution_count": 15,
   "id": "69e82ade-1536-4f7d-84ce-b70b5c4fbf1f",
   "metadata": {
    "tags": []
   },
   "outputs": [
    {
     "data": {
      "text/html": [
       "<div>\n",
       "<style scoped>\n",
       "    .dataframe tbody tr th:only-of-type {\n",
       "        vertical-align: middle;\n",
       "    }\n",
       "\n",
       "    .dataframe tbody tr th {\n",
       "        vertical-align: top;\n",
       "    }\n",
       "\n",
       "    .dataframe thead th {\n",
       "        text-align: right;\n",
       "    }\n",
       "</style>\n",
       "<table border=\"1\" class=\"dataframe\">\n",
       "  <thead>\n",
       "    <tr style=\"text-align: right;\">\n",
       "      <th></th>\n",
       "      <th>GlcPTS</th>\n",
       "      <th>PGI</th>\n",
       "      <th>PFK</th>\n",
       "      <th>FBA</th>\n",
       "      <th>TPI</th>\n",
       "      <th>GAPDH</th>\n",
       "      <th>PGK</th>\n",
       "      <th>GPMM</th>\n",
       "      <th>ENO</th>\n",
       "      <th>PYK</th>\n",
       "      <th>...</th>\n",
       "      <th>PGLase</th>\n",
       "      <th>PGLDH</th>\n",
       "      <th>R5PI</th>\n",
       "      <th>RPE</th>\n",
       "      <th>TKT1</th>\n",
       "      <th>TKT2</th>\n",
       "      <th>TALA</th>\n",
       "      <th>ATPase</th>\n",
       "      <th>NADHox</th>\n",
       "      <th>NADPHox</th>\n",
       "    </tr>\n",
       "  </thead>\n",
       "  <tbody>\n",
       "    <tr>\n",
       "      <th>count</th>\n",
       "      <td>1.000000e+02</td>\n",
       "      <td>1.000000e+02</td>\n",
       "      <td>1.000000e+02</td>\n",
       "      <td>1.000000e+02</td>\n",
       "      <td>1.000000e+02</td>\n",
       "      <td>1.000000e+02</td>\n",
       "      <td>1.000000e+02</td>\n",
       "      <td>1.000000e+02</td>\n",
       "      <td>1.000000e+02</td>\n",
       "      <td>1.000000e+02</td>\n",
       "      <td>...</td>\n",
       "      <td>1.000000e+02</td>\n",
       "      <td>1.000000e+02</td>\n",
       "      <td>1.000000e+02</td>\n",
       "      <td>1.000000e+02</td>\n",
       "      <td>1.000000e+02</td>\n",
       "      <td>1.000000e+02</td>\n",
       "      <td>1.000000e+02</td>\n",
       "      <td>1.000000e+02</td>\n",
       "      <td>1.000000e+02</td>\n",
       "      <td>1.000000e+02</td>\n",
       "    </tr>\n",
       "    <tr>\n",
       "      <th>mean</th>\n",
       "      <td>1.000000e+01</td>\n",
       "      <td>9.766674e+00</td>\n",
       "      <td>8.975347e+00</td>\n",
       "      <td>8.975347e+00</td>\n",
       "      <td>-8.975347e+00</td>\n",
       "      <td>1.735637e+01</td>\n",
       "      <td>-1.735637e+01</td>\n",
       "      <td>-1.735637e+01</td>\n",
       "      <td>1.735637e+01</td>\n",
       "      <td>-7.356372e+00</td>\n",
       "      <td>...</td>\n",
       "      <td>-7.868539e-14</td>\n",
       "      <td>-7.900250e-14</td>\n",
       "      <td>-7.913273e-01</td>\n",
       "      <td>-7.913273e-01</td>\n",
       "      <td>1.970064e-01</td>\n",
       "      <td>-5.943209e-01</td>\n",
       "      <td>-1.970064e-01</td>\n",
       "      <td>1.573740e+01</td>\n",
       "      <td>2.918776e+01</td>\n",
       "      <td>-1.552825e-13</td>\n",
       "    </tr>\n",
       "    <tr>\n",
       "      <th>std</th>\n",
       "      <td>1.546120e-15</td>\n",
       "      <td>2.787708e-14</td>\n",
       "      <td>7.247550e-15</td>\n",
       "      <td>7.610095e-15</td>\n",
       "      <td>8.426946e-15</td>\n",
       "      <td>6.737016e-15</td>\n",
       "      <td>7.641443e-15</td>\n",
       "      <td>6.849621e-15</td>\n",
       "      <td>7.599617e-15</td>\n",
       "      <td>2.097259e-15</td>\n",
       "      <td>...</td>\n",
       "      <td>3.156455e-14</td>\n",
       "      <td>3.148105e-14</td>\n",
       "      <td>1.086051e-14</td>\n",
       "      <td>1.925372e-14</td>\n",
       "      <td>9.894053e-15</td>\n",
       "      <td>1.095619e-14</td>\n",
       "      <td>1.083121e-14</td>\n",
       "      <td>5.642809e-15</td>\n",
       "      <td>9.228494e-15</td>\n",
       "      <td>6.211227e-14</td>\n",
       "    </tr>\n",
       "    <tr>\n",
       "      <th>min</th>\n",
       "      <td>1.000000e+01</td>\n",
       "      <td>9.766674e+00</td>\n",
       "      <td>8.975347e+00</td>\n",
       "      <td>8.975347e+00</td>\n",
       "      <td>-8.975347e+00</td>\n",
       "      <td>1.735637e+01</td>\n",
       "      <td>-1.735637e+01</td>\n",
       "      <td>-1.735637e+01</td>\n",
       "      <td>1.735637e+01</td>\n",
       "      <td>-7.356372e+00</td>\n",
       "      <td>...</td>\n",
       "      <td>-1.203482e-13</td>\n",
       "      <td>-1.210143e-13</td>\n",
       "      <td>-7.913273e-01</td>\n",
       "      <td>-7.913273e-01</td>\n",
       "      <td>1.970064e-01</td>\n",
       "      <td>-5.943209e-01</td>\n",
       "      <td>-1.970064e-01</td>\n",
       "      <td>1.573740e+01</td>\n",
       "      <td>2.918776e+01</td>\n",
       "      <td>-2.371436e-13</td>\n",
       "    </tr>\n",
       "    <tr>\n",
       "      <th>25%</th>\n",
       "      <td>1.000000e+01</td>\n",
       "      <td>9.766674e+00</td>\n",
       "      <td>8.975347e+00</td>\n",
       "      <td>8.975347e+00</td>\n",
       "      <td>-8.975347e+00</td>\n",
       "      <td>1.735637e+01</td>\n",
       "      <td>-1.735637e+01</td>\n",
       "      <td>-1.735637e+01</td>\n",
       "      <td>1.735637e+01</td>\n",
       "      <td>-7.356372e+00</td>\n",
       "      <td>...</td>\n",
       "      <td>-1.026956e-13</td>\n",
       "      <td>-1.030773e-13</td>\n",
       "      <td>-7.913273e-01</td>\n",
       "      <td>-7.913273e-01</td>\n",
       "      <td>1.970064e-01</td>\n",
       "      <td>-5.943209e-01</td>\n",
       "      <td>-1.970064e-01</td>\n",
       "      <td>1.573740e+01</td>\n",
       "      <td>2.918776e+01</td>\n",
       "      <td>-2.025602e-13</td>\n",
       "    </tr>\n",
       "    <tr>\n",
       "      <th>50%</th>\n",
       "      <td>1.000000e+01</td>\n",
       "      <td>9.766674e+00</td>\n",
       "      <td>8.975347e+00</td>\n",
       "      <td>8.975347e+00</td>\n",
       "      <td>-8.975347e+00</td>\n",
       "      <td>1.735637e+01</td>\n",
       "      <td>-1.735637e+01</td>\n",
       "      <td>-1.735637e+01</td>\n",
       "      <td>1.735637e+01</td>\n",
       "      <td>-7.356372e+00</td>\n",
       "      <td>...</td>\n",
       "      <td>-8.953949e-14</td>\n",
       "      <td>-8.948398e-14</td>\n",
       "      <td>-7.913273e-01</td>\n",
       "      <td>-7.913273e-01</td>\n",
       "      <td>1.970064e-01</td>\n",
       "      <td>-5.943209e-01</td>\n",
       "      <td>-1.970064e-01</td>\n",
       "      <td>1.573740e+01</td>\n",
       "      <td>2.918776e+01</td>\n",
       "      <td>-1.765255e-13</td>\n",
       "    </tr>\n",
       "    <tr>\n",
       "      <th>75%</th>\n",
       "      <td>1.000000e+01</td>\n",
       "      <td>9.766674e+00</td>\n",
       "      <td>8.975347e+00</td>\n",
       "      <td>8.975347e+00</td>\n",
       "      <td>-8.975347e+00</td>\n",
       "      <td>1.735637e+01</td>\n",
       "      <td>-1.735637e+01</td>\n",
       "      <td>-1.735637e+01</td>\n",
       "      <td>1.735637e+01</td>\n",
       "      <td>-7.356372e+00</td>\n",
       "      <td>...</td>\n",
       "      <td>-7.094325e-14</td>\n",
       "      <td>-7.116530e-14</td>\n",
       "      <td>-7.913273e-01</td>\n",
       "      <td>-7.913273e-01</td>\n",
       "      <td>1.970064e-01</td>\n",
       "      <td>-5.943209e-01</td>\n",
       "      <td>-1.970064e-01</td>\n",
       "      <td>1.573740e+01</td>\n",
       "      <td>2.918776e+01</td>\n",
       "      <td>-1.397771e-13</td>\n",
       "    </tr>\n",
       "    <tr>\n",
       "      <th>max</th>\n",
       "      <td>1.000000e+01</td>\n",
       "      <td>9.766674e+00</td>\n",
       "      <td>8.975347e+00</td>\n",
       "      <td>8.975347e+00</td>\n",
       "      <td>-8.975347e+00</td>\n",
       "      <td>1.735637e+01</td>\n",
       "      <td>-1.735637e+01</td>\n",
       "      <td>-1.735637e+01</td>\n",
       "      <td>1.735637e+01</td>\n",
       "      <td>-7.356372e+00</td>\n",
       "      <td>...</td>\n",
       "      <td>-1.443290e-15</td>\n",
       "      <td>-1.776357e-15</td>\n",
       "      <td>-7.913273e-01</td>\n",
       "      <td>-7.913273e-01</td>\n",
       "      <td>1.970064e-01</td>\n",
       "      <td>-5.943209e-01</td>\n",
       "      <td>-1.970064e-01</td>\n",
       "      <td>1.573740e+01</td>\n",
       "      <td>2.918776e+01</td>\n",
       "      <td>-2.886580e-15</td>\n",
       "    </tr>\n",
       "  </tbody>\n",
       "</table>\n",
       "<p>8 rows × 24 columns</p>\n",
       "</div>"
      ],
      "text/plain": [
       "             GlcPTS           PGI           PFK           FBA           TPI  \\\n",
       "count  1.000000e+02  1.000000e+02  1.000000e+02  1.000000e+02  1.000000e+02   \n",
       "mean   1.000000e+01  9.766674e+00  8.975347e+00  8.975347e+00 -8.975347e+00   \n",
       "std    1.546120e-15  2.787708e-14  7.247550e-15  7.610095e-15  8.426946e-15   \n",
       "min    1.000000e+01  9.766674e+00  8.975347e+00  8.975347e+00 -8.975347e+00   \n",
       "25%    1.000000e+01  9.766674e+00  8.975347e+00  8.975347e+00 -8.975347e+00   \n",
       "50%    1.000000e+01  9.766674e+00  8.975347e+00  8.975347e+00 -8.975347e+00   \n",
       "75%    1.000000e+01  9.766674e+00  8.975347e+00  8.975347e+00 -8.975347e+00   \n",
       "max    1.000000e+01  9.766674e+00  8.975347e+00  8.975347e+00 -8.975347e+00   \n",
       "\n",
       "              GAPDH           PGK          GPMM           ENO           PYK  \\\n",
       "count  1.000000e+02  1.000000e+02  1.000000e+02  1.000000e+02  1.000000e+02   \n",
       "mean   1.735637e+01 -1.735637e+01 -1.735637e+01  1.735637e+01 -7.356372e+00   \n",
       "std    6.737016e-15  7.641443e-15  6.849621e-15  7.599617e-15  2.097259e-15   \n",
       "min    1.735637e+01 -1.735637e+01 -1.735637e+01  1.735637e+01 -7.356372e+00   \n",
       "25%    1.735637e+01 -1.735637e+01 -1.735637e+01  1.735637e+01 -7.356372e+00   \n",
       "50%    1.735637e+01 -1.735637e+01 -1.735637e+01  1.735637e+01 -7.356372e+00   \n",
       "75%    1.735637e+01 -1.735637e+01 -1.735637e+01  1.735637e+01 -7.356372e+00   \n",
       "max    1.735637e+01 -1.735637e+01 -1.735637e+01  1.735637e+01 -7.356372e+00   \n",
       "\n",
       "       ...        PGLase         PGLDH          R5PI           RPE  \\\n",
       "count  ...  1.000000e+02  1.000000e+02  1.000000e+02  1.000000e+02   \n",
       "mean   ... -7.868539e-14 -7.900250e-14 -7.913273e-01 -7.913273e-01   \n",
       "std    ...  3.156455e-14  3.148105e-14  1.086051e-14  1.925372e-14   \n",
       "min    ... -1.203482e-13 -1.210143e-13 -7.913273e-01 -7.913273e-01   \n",
       "25%    ... -1.026956e-13 -1.030773e-13 -7.913273e-01 -7.913273e-01   \n",
       "50%    ... -8.953949e-14 -8.948398e-14 -7.913273e-01 -7.913273e-01   \n",
       "75%    ... -7.094325e-14 -7.116530e-14 -7.913273e-01 -7.913273e-01   \n",
       "max    ... -1.443290e-15 -1.776357e-15 -7.913273e-01 -7.913273e-01   \n",
       "\n",
       "               TKT1          TKT2          TALA        ATPase        NADHox  \\\n",
       "count  1.000000e+02  1.000000e+02  1.000000e+02  1.000000e+02  1.000000e+02   \n",
       "mean   1.970064e-01 -5.943209e-01 -1.970064e-01  1.573740e+01  2.918776e+01   \n",
       "std    9.894053e-15  1.095619e-14  1.083121e-14  5.642809e-15  9.228494e-15   \n",
       "min    1.970064e-01 -5.943209e-01 -1.970064e-01  1.573740e+01  2.918776e+01   \n",
       "25%    1.970064e-01 -5.943209e-01 -1.970064e-01  1.573740e+01  2.918776e+01   \n",
       "50%    1.970064e-01 -5.943209e-01 -1.970064e-01  1.573740e+01  2.918776e+01   \n",
       "75%    1.970064e-01 -5.943209e-01 -1.970064e-01  1.573740e+01  2.918776e+01   \n",
       "max    1.970064e-01 -5.943209e-01 -1.970064e-01  1.573740e+01  2.918776e+01   \n",
       "\n",
       "            NADPHox  \n",
       "count  1.000000e+02  \n",
       "mean  -1.552825e-13  \n",
       "std    6.211227e-14  \n",
       "min   -2.371436e-13  \n",
       "25%   -2.025602e-13  \n",
       "50%   -1.765255e-13  \n",
       "75%   -1.397771e-13  \n",
       "max   -2.886580e-15  \n",
       "\n",
       "[8 rows x 24 columns]"
      ]
     },
     "execution_count": 15,
     "metadata": {},
     "output_type": "execute_result"
    }
   ],
   "source": [
    "fluxes_df.describe()"
   ]
  },
  {
   "cell_type": "markdown",
   "id": "2b015eda-3d8d-4c56-ae07-c8c8fe14e94d",
   "metadata": {
    "tags": []
   },
   "source": [
    "## What LP can't do: Fit the demand (biomass) distribution\n",
    "- Same objective components: steady-state, irreversibility, biomass, uptake(?)\n",
    "- But for biomass, the growth rate is set, while the biomass fractions are variables\n",
    "- Flux vector is also variable. and optimized together with biomass fractions\n",
    "- Regression is against observables\n",
    "  - CO2, Pi\n",
    "  - Glc uptake, growth rate can be set parameters or observables, try both ways (?)\n",
    "  - ATP/NADH/NADPH production/demand\n",
    "  - Open question: how many other \"observables\" need to be included to narrow the outcome"
   ]
  },
  {
   "cell_type": "code",
   "execution_count": 13,
   "id": "b8212f13-cf9a-4e5d-b771-0d5d05af66d7",
   "metadata": {
    "tags": []
   },
   "outputs": [
    {
     "name": "stdout",
     "output_type": "stream",
     "text": [
      "2.926958996001723e-28\n"
     ]
    }
   ],
   "source": [
    "# Put these here so they are static in fun(). Maybe work out how to do this nicely in jax. Maybe not.\n",
    "growth_rate = growth_objective.growth_rate\n",
    "objectives = {\n",
    "    'steady-state': ss_objective,\n",
    "    # 'irreversibility': irrev_objective,  # use bounds\n",
    "    'growth': growth_objective,\n",
    "    'demands': fba_gd.VelocityObjective(\n",
    "        network, {rxn: flux for rxn, flux in network.reactions.unpack(fba_result.velocities).items() if rxn in recyclers}),\n",
    "    'profile': fba_gd.ProductionObjective(\n",
    "        network, {mol: rate for mol, rate in network.reactants.unpack(fba_result.dmdt).items() if mol.id in {\"Glc.D.ext\", \"co2\", \"pi\"}}),\n",
    "}\n",
    "\n",
    "# We need bounds for the biomass fractions, so set it up for irreversibility too\n",
    "bounds = [(-np.inf, np.inf) if rxn.reversible else (0, np.inf) for rxn in network.reactions] + [(0, np.inf)] * len(biomass_components)\n",
    "lb, ub = np.array(bounds).T\n",
    "\n",
    "parms = {name: objective.params() for name, objective in objectives.items()}\n",
    "# Input vector x structured as <fluxes><biomass-fraction>\n",
    "def fun(x):\n",
    "    fluxes = x[:network.shape[1]]\n",
    "    dmdt = network.s_matrix @ fluxes\n",
    "    parms['growth'] = (x[network.shape[1]:], growth_rate)\n",
    "    residuals = [objective.residual(fluxes, dmdt, parms[name]) for name, objective in objectives.items()]\n",
    "    return jnp.concatenate(residuals)\n",
    "\n",
    "_jit = jax.jit(fun)\n",
    "_jac = jax.jit(jax.jacfwd(fun))\n",
    "\n",
    "# Validate using past solution\n",
    "x = jnp.concatenate([fba_result.velocities, jnp.array(list(biomass_components.values()))])\n",
    "print(jnp.sum(jnp.square(fun(x))))"
   ]
  },
  {
   "cell_type": "code",
   "execution_count": 14,
   "id": "d3dde82b-2270-401f-92d0-ab1666c9545b",
   "metadata": {
    "tags": []
   },
   "outputs": [],
   "source": [
    "seed, _seed = jax.random.split(seed)\n",
    "x0 = jax.random.uniform(_seed, (network.shape[1] + len(biomass_components), ))\n",
    "soln = scipy.optimize.least_squares(fun=_jit, x0=x0, jac=_jac, bounds=(lb, ub))"
   ]
  },
  {
   "cell_type": "code",
   "execution_count": 15,
   "id": "ce1387dd-f04b-412b-aeca-25ad5f710df1",
   "metadata": {
    "tags": []
   },
   "outputs": [
    {
     "data": {
      "text/plain": [
       "     message: `gtol` termination condition is satisfied.\n",
       "     success: True\n",
       "      status: 1\n",
       "         fun: [-1.776e-15  0.000e+00 ... -1.263e-05  1.263e-05]\n",
       "           x: [ 1.000e+01  9.274e+00 ...  5.020e+00  1.075e+01]\n",
       "        cost: 5.324671842039602e-09\n",
       "         jac: [[-1.000e+00  0.000e+00 ...  0.000e+00  0.000e+00]\n",
       "               [ 0.000e+00  1.000e+00 ...  0.000e+00  0.000e+00]\n",
       "               ...\n",
       "               [ 0.000e+00  0.000e+00 ...  0.000e+00  0.000e+00]\n",
       "               [ 0.000e+00  0.000e+00 ...  0.000e+00  0.000e+00]]\n",
       "        grad: [-1.565e-15  3.816e-16 ...  1.302e-15 -7.131e-16]\n",
       "  optimality: 6.9234422525299465e-09\n",
       " active_mask: [0 0 ... 0 0]\n",
       "        nfev: 15\n",
       "        njev: 15"
      ]
     },
     "execution_count": 15,
     "metadata": {},
     "output_type": "execute_result"
    }
   ],
   "source": [
    "soln"
   ]
  },
  {
   "cell_type": "code",
   "execution_count": 16,
   "id": "1bb62e17-412e-491f-8758-573e1cedcc84",
   "metadata": {
    "tags": []
   },
   "outputs": [
    {
     "name": "stdout",
     "output_type": "stream",
     "text": [
      "G6P:  0.212 => 0.6598866240237126\n",
      "Ery.D.4P:  0.361 => 0.8091485908692427\n",
      "Rib.D.5P:  0.898 => 0.002052877268174741\n",
      "pyr:  5.02 => 5.0201090347725446\n",
      "acCoA:  10.75 => 10.749959829294337\n"
     ]
    },
    {
     "data": {
      "application/vnd.jupyter.widget-view+json": {
       "model_id": "e5924821999c41568d074f5e0808a9f4",
       "version_major": 2,
       "version_minor": 0
      },
      "text/plain": [
       "HBox(children=(VBox(children=(Label(value='Growth rate: 1.10e+00'), Label(value='Steady state (RMS): 1.72e-05'…"
      ]
     },
     "execution_count": 16,
     "metadata": {},
     "output_type": "execute_result"
    }
   ],
   "source": [
    "for (mol, old_frac), new_frac in zip(biomass_components.items(), soln.x[network.shape[1]:]):\n",
    "    print(f\"{mol.label}:  {old_frac} => {new_frac}\")\n",
    "report(growth_rate, soln.x[:network.shape[1]], network.s_matrix @ soln.x[:network.shape[1]])"
   ]
  },
  {
   "cell_type": "code",
   "execution_count": 17,
   "id": "2a78105d-1042-4b1d-97d1-3d5811013e1c",
   "metadata": {
    "tags": []
   },
   "outputs": [
    {
     "name": "stdout",
     "output_type": "stream",
     "text": [
      "CPU times: user 1.18 s, sys: 0 ns, total: 1.18 s\n",
      "Wall time: 1.18 s\n"
     ]
    }
   ],
   "source": [
    "%%time\n",
    "results = []\n",
    "for i in range(100):\n",
    "    seed, _seed = jax.random.split(seed)\n",
    "    x0 = jax.random.uniform(_seed, (network.shape[1] + len(biomass_components), ))\n",
    "    soln = scipy.optimize.least_squares(fun=_jit, x0=x0, jac=_jac, bounds=(lb, ub))\n",
    "    results.append((x0, soln))"
   ]
  },
  {
   "cell_type": "code",
   "execution_count": 18,
   "id": "0e39b19d-0507-49eb-bdad-f1dea8cbfb5f",
   "metadata": {
    "tags": []
   },
   "outputs": [],
   "source": [
    "fluxes = []\n",
    "fractions = []\n",
    "for result in results:\n",
    "    soln = result[1]\n",
    "    fluxes.append(soln.x[:network.shape[1]])\n",
    "    fractions.append(soln.x[network.shape[1]:])\n",
    "fluxes_df = pd.DataFrame(fluxes, columns=[rxn.label for rxn in network.reactions])\n",
    "fractions_df = pd.DataFrame(fractions, columns=[mol.label for mol in biomass_components])"
   ]
  },
  {
   "cell_type": "code",
   "execution_count": 19,
   "id": "872b95ff-0846-44a1-a125-205319e407c5",
   "metadata": {
    "tags": []
   },
   "outputs": [
    {
     "data": {
      "text/html": [
       "<div>\n",
       "<style scoped>\n",
       "    .dataframe tbody tr th:only-of-type {\n",
       "        vertical-align: middle;\n",
       "    }\n",
       "\n",
       "    .dataframe tbody tr th {\n",
       "        vertical-align: top;\n",
       "    }\n",
       "\n",
       "    .dataframe thead th {\n",
       "        text-align: right;\n",
       "    }\n",
       "</style>\n",
       "<table border=\"1\" class=\"dataframe\">\n",
       "  <thead>\n",
       "    <tr style=\"text-align: right;\">\n",
       "      <th></th>\n",
       "      <th>GlcPTS</th>\n",
       "      <th>PGI</th>\n",
       "      <th>PFK</th>\n",
       "      <th>FBA</th>\n",
       "      <th>TPI</th>\n",
       "      <th>GAPDH</th>\n",
       "      <th>PGK</th>\n",
       "      <th>GPMM</th>\n",
       "      <th>ENO</th>\n",
       "      <th>PYK</th>\n",
       "      <th>...</th>\n",
       "      <th>PGLase</th>\n",
       "      <th>PGLDH</th>\n",
       "      <th>R5PI</th>\n",
       "      <th>RPE</th>\n",
       "      <th>TKT1</th>\n",
       "      <th>TKT2</th>\n",
       "      <th>TALA</th>\n",
       "      <th>ATPase</th>\n",
       "      <th>NADHox</th>\n",
       "      <th>NADPHox</th>\n",
       "    </tr>\n",
       "  </thead>\n",
       "  <tbody>\n",
       "    <tr>\n",
       "      <th>count</th>\n",
       "      <td>1.000000e+02</td>\n",
       "      <td>100.000000</td>\n",
       "      <td>100.000000</td>\n",
       "      <td>100.000000</td>\n",
       "      <td>100.000000</td>\n",
       "      <td>100.000000</td>\n",
       "      <td>100.000000</td>\n",
       "      <td>100.000000</td>\n",
       "      <td>100.000000</td>\n",
       "      <td>100.000000</td>\n",
       "      <td>...</td>\n",
       "      <td>100.000000</td>\n",
       "      <td>100.000000</td>\n",
       "      <td>100.000000</td>\n",
       "      <td>100.000000</td>\n",
       "      <td>100.000000</td>\n",
       "      <td>100.000000</td>\n",
       "      <td>100.000000</td>\n",
       "      <td>100.000000</td>\n",
       "      <td>100.000000</td>\n",
       "      <td>100.000000</td>\n",
       "    </tr>\n",
       "    <tr>\n",
       "      <th>mean</th>\n",
       "      <td>1.000000e+01</td>\n",
       "      <td>9.378088</td>\n",
       "      <td>8.975395</td>\n",
       "      <td>8.975395</td>\n",
       "      <td>-8.975395</td>\n",
       "      <td>17.356405</td>\n",
       "      <td>-17.356405</td>\n",
       "      <td>-17.356405</td>\n",
       "      <td>17.356405</td>\n",
       "      <td>-7.356405</td>\n",
       "      <td>...</td>\n",
       "      <td>0.000053</td>\n",
       "      <td>0.000052</td>\n",
       "      <td>-0.402745</td>\n",
       "      <td>-0.402693</td>\n",
       "      <td>-0.191693</td>\n",
       "      <td>-0.594385</td>\n",
       "      <td>0.191693</td>\n",
       "      <td>15.737406</td>\n",
       "      <td>29.187753</td>\n",
       "      <td>0.000042</td>\n",
       "    </tr>\n",
       "    <tr>\n",
       "      <th>std</th>\n",
       "      <td>7.304819e-10</td>\n",
       "      <td>0.233161</td>\n",
       "      <td>0.000020</td>\n",
       "      <td>0.000020</td>\n",
       "      <td>0.000020</td>\n",
       "      <td>0.000013</td>\n",
       "      <td>0.000013</td>\n",
       "      <td>0.000013</td>\n",
       "      <td>0.000013</td>\n",
       "      <td>0.000013</td>\n",
       "      <td>...</td>\n",
       "      <td>0.000024</td>\n",
       "      <td>0.000021</td>\n",
       "      <td>0.233161</td>\n",
       "      <td>0.233161</td>\n",
       "      <td>0.233161</td>\n",
       "      <td>0.000026</td>\n",
       "      <td>0.233161</td>\n",
       "      <td>0.000003</td>\n",
       "      <td>0.000003</td>\n",
       "      <td>0.000014</td>\n",
       "    </tr>\n",
       "    <tr>\n",
       "      <th>min</th>\n",
       "      <td>1.000000e+01</td>\n",
       "      <td>9.272569</td>\n",
       "      <td>8.975358</td>\n",
       "      <td>8.975358</td>\n",
       "      <td>-8.975437</td>\n",
       "      <td>17.356380</td>\n",
       "      <td>-17.356433</td>\n",
       "      <td>-17.356433</td>\n",
       "      <td>17.356380</td>\n",
       "      <td>-7.356433</td>\n",
       "      <td>...</td>\n",
       "      <td>0.000020</td>\n",
       "      <td>0.000012</td>\n",
       "      <td>-1.024646</td>\n",
       "      <td>-1.024586</td>\n",
       "      <td>-0.297221</td>\n",
       "      <td>-0.594442</td>\n",
       "      <td>-0.430235</td>\n",
       "      <td>15.737400</td>\n",
       "      <td>29.187746</td>\n",
       "      <td>0.000017</td>\n",
       "    </tr>\n",
       "    <tr>\n",
       "      <th>25%</th>\n",
       "      <td>1.000000e+01</td>\n",
       "      <td>9.274178</td>\n",
       "      <td>8.975377</td>\n",
       "      <td>8.975377</td>\n",
       "      <td>-8.975410</td>\n",
       "      <td>17.356393</td>\n",
       "      <td>-17.356415</td>\n",
       "      <td>-17.356415</td>\n",
       "      <td>17.356393</td>\n",
       "      <td>-7.356415</td>\n",
       "      <td>...</td>\n",
       "      <td>0.000031</td>\n",
       "      <td>0.000033</td>\n",
       "      <td>-0.315711</td>\n",
       "      <td>-0.315654</td>\n",
       "      <td>-0.295612</td>\n",
       "      <td>-0.594405</td>\n",
       "      <td>0.278736</td>\n",
       "      <td>15.737403</td>\n",
       "      <td>29.187751</td>\n",
       "      <td>0.000034</td>\n",
       "    </tr>\n",
       "    <tr>\n",
       "      <th>50%</th>\n",
       "      <td>1.000000e+01</td>\n",
       "      <td>9.276976</td>\n",
       "      <td>8.975397</td>\n",
       "      <td>8.975397</td>\n",
       "      <td>-8.975397</td>\n",
       "      <td>17.356406</td>\n",
       "      <td>-17.356406</td>\n",
       "      <td>-17.356406</td>\n",
       "      <td>17.356406</td>\n",
       "      <td>-7.356406</td>\n",
       "      <td>...</td>\n",
       "      <td>0.000049</td>\n",
       "      <td>0.000055</td>\n",
       "      <td>-0.301633</td>\n",
       "      <td>-0.301590</td>\n",
       "      <td>-0.292783</td>\n",
       "      <td>-0.594388</td>\n",
       "      <td>0.292783</td>\n",
       "      <td>15.737407</td>\n",
       "      <td>29.187753</td>\n",
       "      <td>0.000041</td>\n",
       "    </tr>\n",
       "    <tr>\n",
       "      <th>75%</th>\n",
       "      <td>1.000000e+01</td>\n",
       "      <td>9.291053</td>\n",
       "      <td>8.975410</td>\n",
       "      <td>8.975410</td>\n",
       "      <td>-8.975377</td>\n",
       "      <td>17.356415</td>\n",
       "      <td>-17.356393</td>\n",
       "      <td>-17.356393</td>\n",
       "      <td>17.356415</td>\n",
       "      <td>-7.356393</td>\n",
       "      <td>...</td>\n",
       "      <td>0.000070</td>\n",
       "      <td>0.000069</td>\n",
       "      <td>-0.298836</td>\n",
       "      <td>-0.298779</td>\n",
       "      <td>-0.278736</td>\n",
       "      <td>-0.594361</td>\n",
       "      <td>0.295612</td>\n",
       "      <td>15.737409</td>\n",
       "      <td>29.187756</td>\n",
       "      <td>0.000050</td>\n",
       "    </tr>\n",
       "    <tr>\n",
       "      <th>max</th>\n",
       "      <td>1.000000e+01</td>\n",
       "      <td>9.999988</td>\n",
       "      <td>8.975437</td>\n",
       "      <td>8.975437</td>\n",
       "      <td>-8.975358</td>\n",
       "      <td>17.356433</td>\n",
       "      <td>-17.356380</td>\n",
       "      <td>-17.356380</td>\n",
       "      <td>17.356433</td>\n",
       "      <td>-7.356380</td>\n",
       "      <td>...</td>\n",
       "      <td>0.000106</td>\n",
       "      <td>0.000098</td>\n",
       "      <td>-0.297227</td>\n",
       "      <td>-0.297170</td>\n",
       "      <td>0.430235</td>\n",
       "      <td>-0.594336</td>\n",
       "      <td>0.297221</td>\n",
       "      <td>15.737413</td>\n",
       "      <td>29.187760</td>\n",
       "      <td>0.000082</td>\n",
       "    </tr>\n",
       "  </tbody>\n",
       "</table>\n",
       "<p>8 rows × 24 columns</p>\n",
       "</div>"
      ],
      "text/plain": [
       "             GlcPTS         PGI         PFK         FBA         TPI  \\\n",
       "count  1.000000e+02  100.000000  100.000000  100.000000  100.000000   \n",
       "mean   1.000000e+01    9.378088    8.975395    8.975395   -8.975395   \n",
       "std    7.304819e-10    0.233161    0.000020    0.000020    0.000020   \n",
       "min    1.000000e+01    9.272569    8.975358    8.975358   -8.975437   \n",
       "25%    1.000000e+01    9.274178    8.975377    8.975377   -8.975410   \n",
       "50%    1.000000e+01    9.276976    8.975397    8.975397   -8.975397   \n",
       "75%    1.000000e+01    9.291053    8.975410    8.975410   -8.975377   \n",
       "max    1.000000e+01    9.999988    8.975437    8.975437   -8.975358   \n",
       "\n",
       "            GAPDH         PGK        GPMM         ENO         PYK  ...  \\\n",
       "count  100.000000  100.000000  100.000000  100.000000  100.000000  ...   \n",
       "mean    17.356405  -17.356405  -17.356405   17.356405   -7.356405  ...   \n",
       "std      0.000013    0.000013    0.000013    0.000013    0.000013  ...   \n",
       "min     17.356380  -17.356433  -17.356433   17.356380   -7.356433  ...   \n",
       "25%     17.356393  -17.356415  -17.356415   17.356393   -7.356415  ...   \n",
       "50%     17.356406  -17.356406  -17.356406   17.356406   -7.356406  ...   \n",
       "75%     17.356415  -17.356393  -17.356393   17.356415   -7.356393  ...   \n",
       "max     17.356433  -17.356380  -17.356380   17.356433   -7.356380  ...   \n",
       "\n",
       "           PGLase       PGLDH        R5PI         RPE        TKT1        TKT2  \\\n",
       "count  100.000000  100.000000  100.000000  100.000000  100.000000  100.000000   \n",
       "mean     0.000053    0.000052   -0.402745   -0.402693   -0.191693   -0.594385   \n",
       "std      0.000024    0.000021    0.233161    0.233161    0.233161    0.000026   \n",
       "min      0.000020    0.000012   -1.024646   -1.024586   -0.297221   -0.594442   \n",
       "25%      0.000031    0.000033   -0.315711   -0.315654   -0.295612   -0.594405   \n",
       "50%      0.000049    0.000055   -0.301633   -0.301590   -0.292783   -0.594388   \n",
       "75%      0.000070    0.000069   -0.298836   -0.298779   -0.278736   -0.594361   \n",
       "max      0.000106    0.000098   -0.297227   -0.297170    0.430235   -0.594336   \n",
       "\n",
       "             TALA      ATPase      NADHox     NADPHox  \n",
       "count  100.000000  100.000000  100.000000  100.000000  \n",
       "mean     0.191693   15.737406   29.187753    0.000042  \n",
       "std      0.233161    0.000003    0.000003    0.000014  \n",
       "min     -0.430235   15.737400   29.187746    0.000017  \n",
       "25%      0.278736   15.737403   29.187751    0.000034  \n",
       "50%      0.292783   15.737407   29.187753    0.000041  \n",
       "75%      0.295612   15.737409   29.187756    0.000050  \n",
       "max      0.297221   15.737413   29.187760    0.000082  \n",
       "\n",
       "[8 rows x 24 columns]"
      ]
     },
     "execution_count": 19,
     "metadata": {},
     "output_type": "execute_result"
    }
   ],
   "source": [
    "fluxes_df.describe()"
   ]
  },
  {
   "cell_type": "code",
   "execution_count": 20,
   "id": "e02df0cb-44ca-498b-a5f5-fbf0e052f20c",
   "metadata": {
    "tags": []
   },
   "outputs": [
    {
     "data": {
      "text/html": [
       "<div>\n",
       "<style scoped>\n",
       "    .dataframe tbody tr th:only-of-type {\n",
       "        vertical-align: middle;\n",
       "    }\n",
       "\n",
       "    .dataframe tbody tr th {\n",
       "        vertical-align: top;\n",
       "    }\n",
       "\n",
       "    .dataframe thead th {\n",
       "        text-align: right;\n",
       "    }\n",
       "</style>\n",
       "<table border=\"1\" class=\"dataframe\">\n",
       "  <thead>\n",
       "    <tr style=\"text-align: right;\">\n",
       "      <th></th>\n",
       "      <th>G6P</th>\n",
       "      <th>Ery.D.4P</th>\n",
       "      <th>Rib.D.5P</th>\n",
       "      <th>pyr</th>\n",
       "      <th>acCoA</th>\n",
       "    </tr>\n",
       "  </thead>\n",
       "  <tbody>\n",
       "    <tr>\n",
       "      <th>count</th>\n",
       "      <td>100.000000</td>\n",
       "      <td>100.000000</td>\n",
       "      <td>100.000000</td>\n",
       "      <td>100.000000</td>\n",
       "      <td>100.000000</td>\n",
       "    </tr>\n",
       "    <tr>\n",
       "      <th>mean</th>\n",
       "      <td>0.565060</td>\n",
       "      <td>0.714231</td>\n",
       "      <td>0.191762</td>\n",
       "      <td>5.020070</td>\n",
       "      <td>10.749974</td>\n",
       "    </tr>\n",
       "    <tr>\n",
       "      <th>std</th>\n",
       "      <td>0.211848</td>\n",
       "      <td>0.211850</td>\n",
       "      <td>0.423700</td>\n",
       "      <td>0.000029</td>\n",
       "      <td>0.000011</td>\n",
       "    </tr>\n",
       "    <tr>\n",
       "      <th>min</th>\n",
       "      <td>0.000004</td>\n",
       "      <td>0.149112</td>\n",
       "      <td>0.000005</td>\n",
       "      <td>5.020016</td>\n",
       "      <td>10.749952</td>\n",
       "    </tr>\n",
       "    <tr>\n",
       "      <th>25%</th>\n",
       "      <td>0.644147</td>\n",
       "      <td>0.793322</td>\n",
       "      <td>0.002929</td>\n",
       "      <td>5.020043</td>\n",
       "      <td>10.749966</td>\n",
       "    </tr>\n",
       "    <tr>\n",
       "      <th>50%</th>\n",
       "      <td>0.656915</td>\n",
       "      <td>0.806070</td>\n",
       "      <td>0.008041</td>\n",
       "      <td>5.020073</td>\n",
       "      <td>10.749973</td>\n",
       "    </tr>\n",
       "    <tr>\n",
       "      <th>75%</th>\n",
       "      <td>0.659484</td>\n",
       "      <td>0.808647</td>\n",
       "      <td>0.033595</td>\n",
       "      <td>5.020091</td>\n",
       "      <td>10.749984</td>\n",
       "    </tr>\n",
       "    <tr>\n",
       "      <th>max</th>\n",
       "      <td>0.660951</td>\n",
       "      <td>0.810119</td>\n",
       "      <td>1.321865</td>\n",
       "      <td>5.020130</td>\n",
       "      <td>10.749994</td>\n",
       "    </tr>\n",
       "  </tbody>\n",
       "</table>\n",
       "</div>"
      ],
      "text/plain": [
       "              G6P    Ery.D.4P    Rib.D.5P         pyr       acCoA\n",
       "count  100.000000  100.000000  100.000000  100.000000  100.000000\n",
       "mean     0.565060    0.714231    0.191762    5.020070   10.749974\n",
       "std      0.211848    0.211850    0.423700    0.000029    0.000011\n",
       "min      0.000004    0.149112    0.000005    5.020016   10.749952\n",
       "25%      0.644147    0.793322    0.002929    5.020043   10.749966\n",
       "50%      0.656915    0.806070    0.008041    5.020073   10.749973\n",
       "75%      0.659484    0.808647    0.033595    5.020091   10.749984\n",
       "max      0.660951    0.810119    1.321865    5.020130   10.749994"
      ]
     },
     "execution_count": 20,
     "metadata": {},
     "output_type": "execute_result"
    }
   ],
   "source": [
    "fractions_df.describe()"
   ]
  },
  {
   "cell_type": "markdown",
   "id": "1b4f1481-fd5d-4496-93ac-b970c47522b7",
   "metadata": {},
   "source": [
    "!!!"
   ]
  },
  {
   "cell_type": "code",
   "execution_count": 21,
   "id": "ca56d928-a8eb-4c43-b879-b78b7c770e17",
   "metadata": {
    "tags": []
   },
   "outputs": [
    {
     "data": {
      "image/png": "[encoded data removed]",
      "text/plain": [
       "<Figure size 640x480 with 1 Axes>"
      ]
     },
     "metadata": {},
     "output_type": "display_data"
    }
   ],
   "source": [
    "fig, ax = plt.subplots()\n",
    "fractions_df.boxplot(ax=ax)\n",
    "ax.set_yscale('log')\n",
    "ax.set_ylabel('Biomass demand')\n",
    "display(fig)\n",
    "plt.close(fig)"
   ]
  },
  {
   "cell_type": "markdown",
   "id": "1d20b1af-ac11-4541-af43-27bc8308d8fd",
   "metadata": {},
   "source": [
    "### Bonus: use thermodynamics to determine reaction direction\n",
    "- ΔG0 by reaction\n",
    "- Metabolite concentrations from Rabinowitz, as ln\n",
    "- ΔG = ΔG0 + RT ln Q = ΔG0 + RT * s_matrix.T @ ln_concs\n",
    "- Penalize (flux * ΔG) > 0; also penalize changes to ln_conc (proportional to uncertainty?)\n",
    "- Optimize \\<flux\\>\\<ln_conc\\>"
   ]
  },
  {
   "cell_type": "code",
   "execution_count": 26,
   "id": "7afde9f3-04d5-4247-b90e-71f11b481001",
   "metadata": {
    "tags": []
   },
   "outputs": [],
   "source": [
    "from mosmo.knowledge.thermo import Thermodynamics\n",
    "thermo = Thermodynamics(p_h=7.3, p_mg=1.5, ionic_strength=0.25, temperature=298.15)\n",
    "\n",
    "# Concentrations in mM, taken (mostly) from Rabinowitz (2016)\n",
    "concs = {KB(met_id): conc/1000 for met_id, conc in [\n",
    "    ('2pg', 9.18e-02),\n",
    "    ('6pg', 3.77),\n",
    "    ('6pgdl', 1.), # Not provided; reasonable guess\n",
    "    ('Ery.D.4P', 4.90e-02),\n",
    "    ('Fru.D.6P', 2.52),\n",
    "    ('Fru.D.bis16', 15.2),\n",
    "    ('Glc.D.ext', 10.),  # Arbitrary; environment\n",
    "    ('Glc.D.6P', 7.88),\n",
    "    ('Rib.D.5P', 7.87e-01),\n",
    "    ('Sed.D.7P', 8.82e-01),\n",
    "    ('Xul.D.5P', 1.81e-01),\n",
    "    ('ac', 1e-2),\n",
    "    ('ac.P', 1.07E-03),\n",
    "    ('accoa', 6.06e-01),\n",
    "    ('adp', 5.55e-01),\n",
    "    ('amp', 2.81e-01),\n",
    "    ('atp', 9.63),\n",
    "    ('co2', 7.52e-02),\n",
    "    ('coa', 1.37),\n",
    "    ('dpg', 1.65e-02),\n",
    "    ('nad.ox', 2.55),\n",
    "    ('nad.red', 8.36e-02),\n",
    "    ('nadp.ox', 2.08e-03),\n",
    "    ('nadp.red', 1.21e-01),\n",
    "    ('pep', 1.84e-01),\n",
    "    ('pi', 23.9),\n",
    "    ('pyr', 3.66),\n",
    "\n",
    "    # Forcing H+ and water to activity = 1.0 excludes them from reaction quotient, to make calculations consistent with eQuilibrator.\n",
    "    # ('h+', pow(10, -7.3)),\n",
    "    ('h+', 1000),\n",
    "    ('h2o', 1000),\n",
    "    ('e-', 1000),\n",
    "\n",
    "    # Reported values, though they lead to inconsistent thermodynamic reaction directions\n",
    "    ('3pg', 1.54),\n",
    "    ('dhap', 3.06),\n",
    "    ('gap', 2.71e-01),\n",
    "    ('Rul.D.5P', 1.12e-01),\n",
    "]}\n",
    "\n",
    "dgr0 = network.reactions.pack({rxn: thermo.reaction_delta_g(rxn) for rxn in network.reactions})\n",
    "dgr_ref = network.reactions.pack({rxn: thermo.reaction_delta_g(rxn, concs) for rxn in network.reactions})\n",
    "ln_conc_ref = np.log(network.reactants.pack(concs))\n",
    "RT = thermo.cc.RT.magnitude"
   ]
  },
  {
   "cell_type": "code",
   "execution_count": 27,
   "id": "b2c12034-11ad-4785-aa88-62dd040e0ecc",
   "metadata": {},
   "outputs": [],
   "source": [
    "ignore = {KB('h+'), KB('h2o'), KB('e-')}\n",
    "qmask = jnp.array([0 if reactant in ignore else 1 for reactant in network.reactants])\n",
    "qmatrix = network.s_matrix.T * qmask\n",
    "\n",
    "def calc_dgr(ln_conc):\n",
    "    return dgr0 + RT * (qmatrix @ ln_conc)\n",
    "\n",
    "def thermo_violation(fluxv, ln_conc):\n",
    "    return jnp.maximum(0, fluxv * calc_dgr(ln_conc))"
   ]
  },
  {
   "cell_type": "markdown",
   "id": "825db537-060a-45f3-9cbc-5b2ec445b5f2",
   "metadata": {},
   "source": [
    "### Start by _just_ optimizing metabolite concentrations given invariant flux vector"
   ]
  },
  {
   "cell_type": "code",
   "execution_count": 28,
   "id": "5e10d29c-d78c-4c0d-85ad-af152f6f8e33",
   "metadata": {
    "tags": []
   },
   "outputs": [],
   "source": [
    "def observed_concs(ln_conc):\n",
    "    return ln_conc - ln_conc_ref\n",
    "\n",
    "fluxv = fba_soln.velocities\n",
    "def fun(x, conc_weight=1.0):\n",
    "    return jnp.concatenate([thermo_violation(fluxv, x), conc_weight * observed_concs(x)])\n",
    "\n",
    "_jit = jax.jit(fun, static_argnums=(1,))\n",
    "_jac = jax.jit(jax.jacfwd(fun), static_argnums=(1,))"
   ]
  },
  {
   "cell_type": "code",
   "execution_count": 29,
   "id": "7536b5e2-f033-4bb3-a907-1314abef6bd6",
   "metadata": {
    "tags": []
   },
   "outputs": [
    {
     "data": {
      "text/plain": [
       "     message: `gtol` termination condition is satisfied.\n",
       "     success: True\n",
       "      status: 1\n",
       "         fun: [ 0.000e+00  0.000e+00 ... -1.664e-01  0.000e+00]\n",
       "           x: [-4.605e+00 -8.601e+00 ... -1.009e+01  0.000e+00]\n",
       "        cost: 0.6656921583842974\n",
       "         jac: [[-0.000e+00 -0.000e+00 ...  0.000e+00  0.000e+00]\n",
       "               [ 0.000e+00  0.000e+00 ...  0.000e+00  0.000e+00]\n",
       "               ...\n",
       "               [ 0.000e+00  0.000e+00 ...  1.000e+00  0.000e+00]\n",
       "               [ 0.000e+00  0.000e+00 ...  0.000e+00  1.000e+00]]\n",
       "        grad: [ 0.000e+00  0.000e+00 ... -5.829e-16  0.000e+00]\n",
       "  optimality: 9.001688283660769e-13\n",
       " active_mask: [ 0.000e+00  0.000e+00 ...  0.000e+00  0.000e+00]\n",
       "        nfev: 2\n",
       "        njev: 2"
      ]
     },
     "execution_count": 29,
     "metadata": {},
     "output_type": "execute_result"
    }
   ],
   "source": [
    "dg_soln = scipy.optimize.least_squares(fun=_jit, x0=ln_conc_ref, jac=_jac)\n",
    "dg_soln"
   ]
  },
  {
   "cell_type": "code",
   "execution_count": 30,
   "id": "ff72a968-ac3a-4645-91d2-454cd067911d",
   "metadata": {
    "tags": []
   },
   "outputs": [
    {
     "name": "stdout",
     "output_type": "stream",
     "text": [
      "1.00e-02 => 1.00e-02   D-glucose (external)\n",
      "1.84e-04 => 1.84e-04   phosphoenolpyruvate\n",
      "7.88e-03 => 7.88e-03   D-glucose 6-phosphate\n",
      "3.66e-03 => 3.66e-03   pyruvate\n",
      "2.52e-03 => 2.98e-03   D-fructose 6-phosphate\n",
      "9.63e-03 => 9.48e-03   adenosine 5'-triphosphate\n",
      "5.55e-04 => 5.64e-04   adenosine 5'-diphosphate\n",
      "1.52e-02 => 2.68e-02   D-fructose 1,6-bisphosphate\n",
      "1.00e+00 => 1.00e+00   proton\n",
      "2.71e-04 => 1.49e-04   D-glyceraldehyde 3-phosphate\n",
      "3.06e-03 => 2.12e-03   glycerone phosphate\n",
      "2.55e-03 => 2.55e-03   NAD+\n",
      "2.39e-02 => 2.39e-02   phosphate\n",
      "1.65e-05 => 1.68e-05   1,3-bisphospho-D-glycerate\n",
      "8.36e-05 => 8.36e-05   NADH\n",
      "1.54e-03 => 1.52e-03   3-phospho-D-glycerate\n",
      "9.18e-05 => 9.18e-05   2-phospho-D-glycerate\n",
      "1.00e+00 => 1.00e+00   water\n",
      "1.37e-03 => 1.37e-03   coenzyme A\n",
      "6.06e-04 => 6.06e-04   acetyl-CoA\n",
      "7.52e-05 => 7.52e-05   carbon dioxide\n",
      "1.07e-06 => 1.07e-06   acetyl phosphate\n",
      "1.00e-05 => 1.00e-05   acetate\n",
      "2.08e-06 => 2.08e-06   NADP+\n",
      "1.00e-03 => 1.00e-03   6-phosphogluconolactone\n",
      "1.21e-04 => 1.21e-04   NADPH\n",
      "3.77e-03 => 3.77e-03   6-phosphogluconate\n",
      "1.12e-04 => 1.53e-04   D-ribulose 5-phosphate\n",
      "7.87e-04 => 5.77e-04   D-ribose 5-phosphate\n",
      "1.81e-04 => 1.53e-04   D-xylulose 5-phosphate\n",
      "8.82e-04 => 8.82e-04   D-sedoheptulose 7-phosphate\n",
      "4.90e-05 => 4.15e-05   D-erythrose 4-phosphate\n",
      "1.00e+00 => 1.00e+00   electron\n"
     ]
    }
   ],
   "source": [
    "for mol, old_conc, new_conc in zip(network.reactants, np.exp(ln_conc_ref), np.exp(dg_soln.x)):\n",
    "    print(f\"{old_conc:.2e} => {new_conc:.2e}   {mol.name}\")"
   ]
  },
  {
   "cell_type": "markdown",
   "id": "5bd77ae5-89b6-46ca-a2e0-d93e360db620",
   "metadata": {},
   "source": [
    "### Next, optimize flux and concentrations together given the original constraints\n",
    "- variable vector is \\<fluxes\\>\\<ln_conc\\>"
   ]
  },
  {
   "cell_type": "code",
   "execution_count": 31,
   "id": "a013d5e6-9af6-4700-8171-b9aacf6a8a9f",
   "metadata": {
    "tags": []
   },
   "outputs": [],
   "source": [
    "# Don't get too clever on regeneralizing just yet.\n",
    "objectives = {\n",
    "    'steady-state': ss_objective,\n",
    "    'growth': growth_objective,\n",
    "    'uptake': uptake_objective,\n",
    "}\n",
    "\n",
    "def fun(x):\n",
    "    v = x[:network.shape[1]]\n",
    "    ln_conc = x[-network.shape[0]:]\n",
    "    dmdt = network.s_matrix @ v\n",
    "    residuals = []\n",
    "    for objective in objectives.values():\n",
    "        residuals.append(objective.residual(v, dmdt, objective.params()))\n",
    "    residuals.append(thermo_violation(v, ln_conc))\n",
    "    residuals.append(observed_concs(ln_conc))\n",
    "    \n",
    "    return jnp.concatenate(residuals)\n",
    "                         \n",
    "_jit = jax.jit(fun)\n",
    "_jac = jax.jit(jax.jacfwd(fun))\n",
    "\n",
    "\n",
    "# Solve least squares on combined residual\n",
    "seed, _seed = jax.random.split(seed)\n",
    "x0 = jax.random.normal(_seed, (network.shape[1] + network.shape[0],))\n",
    "\n",
    "soln = scipy.optimize.least_squares(fun=_jit, x0=x0, jac=_jac)\n"
   ]
  },
  {
   "cell_type": "code",
   "execution_count": 32,
   "id": "fee930ef-5c54-41e9-95da-145c4ce6297c",
   "metadata": {
    "tags": []
   },
   "outputs": [
    {
     "name": "stdout",
     "output_type": "stream",
     "text": [
      "1.00e-02 => 1.00e-02   D-glucose (external)\n",
      "1.84e-04 => 1.84e-04   phosphoenolpyruvate\n",
      "7.88e-03 => 7.88e-03   D-glucose 6-phosphate\n",
      "3.66e-03 => 3.66e-03   pyruvate\n",
      "2.52e-03 => 2.52e-03   D-fructose 6-phosphate\n",
      "9.63e-03 => 9.48e-03   adenosine 5'-triphosphate\n",
      "5.55e-04 => 5.64e-04   adenosine 5'-diphosphate\n",
      "1.52e-02 => 2.53e-02   D-fructose 1,6-bisphosphate\n",
      "1.00e+00 => 1.00e+00   proton\n",
      "2.71e-04 => 1.45e-04   D-glyceraldehyde 3-phosphate\n",
      "3.06e-03 => 2.06e-03   glycerone phosphate\n",
      "2.55e-03 => 2.55e-03   NAD+\n",
      "2.39e-02 => 2.39e-02   phosphate\n",
      "1.65e-05 => 1.68e-05   1,3-bisphospho-D-glycerate\n",
      "8.36e-05 => 8.36e-05   NADH\n",
      "1.54e-03 => 1.52e-03   3-phospho-D-glycerate\n",
      "9.18e-05 => 9.18e-05   2-phospho-D-glycerate\n",
      "1.00e+00 => 1.00e+00   water\n",
      "1.37e-03 => 1.37e-03   coenzyme A\n",
      "6.06e-04 => 6.06e-04   acetyl-CoA\n",
      "7.52e-05 => 7.52e-05   carbon dioxide\n",
      "1.07e-06 => 1.07e-06   acetyl phosphate\n",
      "1.00e-05 => 1.00e-05   acetate\n",
      "2.08e-06 => 2.08e-06   NADP+\n",
      "1.00e-03 => 1.00e-03   6-phosphogluconolactone\n",
      "1.21e-04 => 1.21e-04   NADPH\n",
      "3.77e-03 => 3.77e-03   6-phosphogluconate\n",
      "1.12e-04 => 1.53e-04   D-ribulose 5-phosphate\n",
      "7.87e-04 => 5.75e-04   D-ribose 5-phosphate\n",
      "1.81e-04 => 1.81e-04   D-xylulose 5-phosphate\n",
      "8.82e-04 => 8.82e-04   D-sedoheptulose 7-phosphate\n",
      "4.90e-05 => 4.90e-05   D-erythrose 4-phosphate\n",
      "1.00e+00 => 1.00e+00   electron\n",
      "\n"
     ]
    },
    {
     "data": {
      "application/vnd.jupyter.widget-view+json": {
       "model_id": "26cc89e9a62f4b7b86d11f1533b18b56",
       "version_major": 2,
       "version_minor": 0
      },
      "text/plain": [
       "HBox(children=(VBox(children=(Label(value='Growth rate: 1.10e+00'), Label(value='Steady state (RMS): 1.38e-02'…"
      ]
     },
     "execution_count": 32,
     "metadata": {},
     "output_type": "execute_result"
    }
   ],
   "source": [
    "for mol, old_conc, new_conc in zip(network.reactants, np.exp(ln_conc_ref), np.exp(soln.x[network.shape[1]:])):\n",
    "    print(f\"{old_conc:.2e} => {new_conc:.2e}   {mol.name}\")\n",
    "print()\n",
    "report(growth_objective.growth_rate, soln.x[:network.shape[1]], network.s_matrix @ soln.x[:network.shape[1]])"
   ]
  },
  {
   "cell_type": "code",
   "execution_count": null,
   "id": "9ecd5bc7-da1a-48f4-9a4c-da28bb8e7725",
   "metadata": {},
   "outputs": [],
   "source": []
  }
 ],
 "metadata": {
  "kernelspec": {
   "display_name": "Python 3 (ipykernel)",
   "language": "python",
   "name": "python3"
  },
  "language_info": {
   "codemirror_mode": {
    "name": "ipython",
    "version": 3
   },
   "file_extension": ".py",
   "mimetype": "text/x-python",
   "name": "python",
   "nbconvert_exporter": "python",
   "pygments_lexer": "ipython3",
   "version": "3.8.16"
  }
 },
 "nbformat": 4,
 "nbformat_minor": 5
}
