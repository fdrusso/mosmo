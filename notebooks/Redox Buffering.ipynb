{
 "cells": [
  {
   "cell_type": "markdown",
   "id": "6680fa5a-c542-401c-827f-79e8ae65ccc7",
   "metadata": {},
   "source": [
    "# Redox Buffering\n",
    "\n",
    "With reference to deLevie, Redox Buffer Strength, J. Chem. Educ. 1999 https://doi.org/10.1021/ed076p574, which draws an explicit parallel between pH buffering and redox buffering, albeit not exploring the dynamics."
   ]
  },
  {
   "cell_type": "code",
   "execution_count": 1,
   "id": "c2ac1c0d-27d4-4bd3-97a3-ead31342538f",
   "metadata": {
    "tags": []
   },
   "outputs": [],
   "source": [
    "import projectpath\n",
    "\n",
    "import equilibrator_api\n",
    "from equilibrator_api.component_contribution import FARADAY, R, Q_\n",
    "import jax\n",
    "import jax.numpy as jnp\n",
    "import matplotlib.pyplot as plt\n",
    "import numpy as np\n",
    "import pandas as pd\n",
    "import scipy\n",
    "\n",
    "from mosmo.knowledge import kb\n",
    "from mosmo.model import DS, DbXref, KbEntry, Molecule, Reaction, ReactionNetwork\n",
    "from mosmo.calc import convenience_kinetics\n",
    "\n",
    "jax.config.update('jax_enable_x64', True)\n",
    "\n",
    "KB = kb.configure_kb()\n",
    "\n",
    "cc = equilibrator_api.ComponentContribution()\n",
    "cc.p_h = Q_(7.3)\n",
    "cc.p_mg = Q_(1.5)\n",
    "cc.ionic_strength = Q_(\"0.25M\")\n",
    "cc.temperature = Q_(\"298.15K\")\n",
    "RT = cc.RT\n",
    "\n",
    "def find_cc_met(met):\n",
    "    for xref in (met.xrefs or []):\n",
    "        if xref.db == DS.KEGG:\n",
    "            return cc.get_compound(f'KEGG:{xref.id}')\n",
    "    return None\n",
    "\n",
    "def delta_g(reaction):\n",
    "    cc_mets = {met: (find_cc_met(met), count) for met, count in reaction.stoichiometry.items()}\n",
    "    cc_rxn = equilibrator_api.Reaction({cc_met: count for cc_met, count in cc_mets.values()})\n",
    "    return cc.standard_dg_prime(cc_rxn), {met: cc.standard_dg_formation(cc_met)[0] for met, (cc_met, count) in cc_mets.items()}"
   ]
  },
  {
   "cell_type": "markdown",
   "id": "6a50dd96-ef2b-4178-8824-73e925a88d6b",
   "metadata": {},
   "source": [
    "## Transhydrogenase Dynamics; Equilibrium between NAD(H) and NADP(H)"
   ]
  },
  {
   "cell_type": "code",
   "execution_count": 2,
   "id": "ba5decfc-57e3-422a-8c75-1efbf72931d4",
   "metadata": {
    "tags": []
   },
   "outputs": [],
   "source": [
    "nad = KB('nad.ox')\n",
    "nadh = KB('nad.red')\n",
    "nadp = KB('nadp.ox')\n",
    "nadph = KB('nadp.red')\n",
    "proton = KB('h+')\n",
    "\n",
    "# All concentrations in mM\n",
    "concs = {\n",
    "    nad: 2.55,\n",
    "    nadh: 8.36e-02,\n",
    "    nadp: 2.08e-03,\n",
    "    nadph: 1.21e-01,\n",
    "    proton: pow(10, -7.3) * 1000,\n",
    "}\n",
    "\n",
    "transhydrogenase = Reaction(\n",
    "    id='TRANSHYD',\n",
    "    name='NAD(P) Transhydrogenase',\n",
    "    stoichiometry={\n",
    "        nad: -1,\n",
    "        nadph: -1,\n",
    "        nadh: +1,\n",
    "        nadp: +1,\n",
    "    },\n",
    "    xrefs=[DbXref('RHEA', '11692'), DbXref('EC', '1.6.1.1'), DbXref('KEGG', 'R00112')],\n",
    "    catalyst=Molecule(id='sTH', name='Soluble Transhydrogenase'),\n",
    "    reversible=True,\n",
    ")"
   ]
  },
  {
   "cell_type": "markdown",
   "id": "8ba59d52-7a3b-4446-88f0-4ab8cfcd8b2b",
   "metadata": {},
   "source": [
    "### ΔG, E, and Kinetic Parameters\n",
    "\n",
    "- half-reaction potential E = ΔG / nF"
   ]
  },
  {
   "cell_type": "code",
   "execution_count": 3,
   "id": "c3c79828-d737-4de5-b263-b73d4c3783e7",
   "metadata": {
    "tags": []
   },
   "outputs": [
    {
     "name": "stdout",
     "output_type": "stream",
     "text": [
      "[TRANSHYD] NAD(P) Transhydrogenase: NAD+ + NADPH <=> NADH + NADP+\n",
      "ΔG° = (2.98 +/- 0.34) kilojoule / mole\n",
      "    -1 -2261.38 [nad.ox] NAD+\n",
      "    -1 -3070.53 [nadp.red] NADPH\n",
      "    +1 -2236.55 [nad.red] NADH\n",
      "    +1 -3098.93 [nadp.ox] NADP+\n",
      "\n",
      "reaction ΔG = ΔG° + RT ln(Q) = (-15.56 +/- 0.34) kilojoule / mole\n",
      "\n",
      "[NAD+ => NADH]:  E = -0.12866755389106713 kilojoule / kilocoulomb\n",
      "[NADP+ => NADPH]:  E = -0.1472002933851714 kilojoule / kilocoulomb\n"
     ]
    }
   ],
   "source": [
    "def delta_g_report(reaction):\n",
    "    dg_r, dgf_m = delta_g(reaction)\n",
    "    print(f'[{reaction.id}] {reaction.name}: {reaction.formula}')\n",
    "    print(f'ΔG° = {dg_r}')\n",
    "    for met, count in reaction.stoichiometry.items():\n",
    "        print(f'    {count:+2d} {dgf_m[met]:8.2f} [{met.id}] {met.name}')\n",
    "\n",
    "delta_g_report(transhydrogenase)\n",
    "\n",
    "dg_r, dgf_m = delta_g(transhydrogenase)\n",
    "print()\n",
    "print(f'reaction ΔG = ΔG° + RT ln(Q) = {dg_r + RT * sum(count * np.log(concs[mol] / 1000) for mol, count in transhydrogenase.stoichiometry.items())}')\n",
    "\n",
    "print()\n",
    "for ox, red in ((nad, nadh), (nadp, nadph)):\n",
    "    print(f'[{ox.name} => {red.name}]:  E = {Q_(dgf_m[red] - dgf_m[ox], \"kilojoule / mole\") / (-2 * FARADAY)}')"
   ]
  },
  {
   "cell_type": "markdown",
   "id": "cb673138-96ea-411a-84d4-fb4405cd8d07",
   "metadata": {},
   "source": [
    "**NOTE** The ΔG of formation values are way off from the website, though the reaction ΔG is consistent. Worth investigating, or a rabbit hole?\n",
    "We'll want to nail all this down before publication or release, but it's not a blocker to development."
   ]
  },
  {
   "cell_type": "code",
   "execution_count": null,
   "id": "326253e3-f49d-4354-bef9-3d64a491d4dc",
   "metadata": {},
   "outputs": [],
   "source": []
  }
 ],
 "metadata": {
  "kernelspec": {
   "display_name": "Python 3 (ipykernel)",
   "language": "python",
   "name": "python3"
  },
  "language_info": {
   "codemirror_mode": {
    "name": "ipython",
    "version": 3
   },
   "file_extension": ".py",
   "mimetype": "text/x-python",
   "name": "python",
   "nbconvert_exporter": "python",
   "pygments_lexer": "ipython3",
   "version": "3.8.16"
  }
 },
 "nbformat": 4,
 "nbformat_minor": 5
}
