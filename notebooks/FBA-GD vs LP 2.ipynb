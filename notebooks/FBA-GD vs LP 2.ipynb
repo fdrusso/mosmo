{
 "cells": [
  {
   "cell_type": "code",
   "execution_count": 1,
   "id": "9e922a61-2694-48ec-b6aa-0ecb34e4c938",
   "metadata": {
    "tags": []
   },
   "outputs": [
    {
     "name": "stderr",
     "output_type": "stream",
     "text": [
      "No GPU/TPU found, falling back to CPU. (Set TF_CPP_MIN_LOG_LEVEL=0 and rerun for more info.)\n"
     ]
    }
   ],
   "source": [
    "import projectpath\n",
    "\n",
    "import cobra\n",
    "import json\n",
    "import jax\n",
    "import jax.numpy as jnp\n",
    "import matplotlib.pyplot as plt\n",
    "import numpy as np\n",
    "import pandas as pd\n",
    "import scipy\n",
    "import time\n",
    "\n",
    "from mosmo.model import Molecule, Reaction, ReactionNetwork\n",
    "from mosmo.calc import fba_gd\n",
    "\n",
    "jax.config.update('jax_enable_x64', True)\n",
    "prng = jax.random.PRNGKey(int(time.time() * 1000))\n",
    "\n",
    "def labels(entries):\n",
    "    return [entry.label for entry in entries]"
   ]
  },
  {
   "cell_type": "markdown",
   "id": "15e9ece2-5b37-4ec4-8a7a-3eeb75e4925d",
   "metadata": {},
   "source": [
    "## Test network: e_coli_core from cobra"
   ]
  },
  {
   "cell_type": "code",
   "execution_count": 2,
   "id": "b576d30e-624f-42cc-a207-b4e95cb64a54",
   "metadata": {
    "tags": []
   },
   "outputs": [
    {
     "name": "stdout",
     "output_type": "stream",
     "text": [
      "74 reactions on 72 molecules\n",
      "29 intermediates; 20 boundaries; 23 biomass components\n",
      "1 flux targets\n"
     ]
    }
   ],
   "source": [
    "cobra_model = cobra.io.load_model(\"e_coli_core\")\n",
    "cobra_solution = cobra_model.optimize()\n",
    "\n",
    "# Convert all bigg molecule dicts to Molecule objects\n",
    "mols = {\n",
    "    cobra_mol.id: Molecule(\n",
    "        id=cobra_mol.id,\n",
    "        name=cobra_mol.name,\n",
    "        formula=cobra_mol.formula,\n",
    "        charge=cobra_mol.charge,\n",
    "    )\n",
    "    for cobra_mol in cobra_model.metabolites\n",
    "}\n",
    "\n",
    "# Sort bigg reactions into \"real\" reactions, boundaries, and biomass components\n",
    "reactions = {}\n",
    "boundaries = {}\n",
    "biomass_components = {}\n",
    "flux_targets = {}\n",
    "for cobra_reaction in cobra_model.reactions:\n",
    "    if len(cobra_reaction.metabolites) == 1:\n",
    "        # Exchange => boundary molecule, with targets (lb, ub)\n",
    "        mol = mols[next(iter(cobra_reaction.metabolites)).id]\n",
    "        lb, ub = cobra_reaction.bounds\n",
    "        if lb == -1000:\n",
    "            lb = None\n",
    "        if ub == 1000:\n",
    "            ub = None\n",
    "        boundaries[mol] = (lb, ub)\n",
    "\n",
    "    elif cobra_reaction.id== \"BIOMASS_Ecoli_core_w_GAM\":\n",
    "        # Biomass components, with targets\n",
    "        for component, amount in cobra_reaction.metabolites.items():\n",
    "            biomass_components[mols[component.id]] = -amount\n",
    "\n",
    "    else:\n",
    "        rxn = Reaction(\n",
    "            id=cobra_reaction.id,\n",
    "            name=cobra_reaction.name,\n",
    "            stoichiometry={mols[mol.id]: count for mol, count in cobra_reaction.metabolites.items()},\n",
    "            reversible=cobra_reaction.reversibility,\n",
    "        )\n",
    "        reactions[rxn.id] = rxn\n",
    "\n",
    "        # Capture any non-trivial reaction flux targets (i.e. for ATPM)\n",
    "        lb, ub = cobra_reaction.bounds\n",
    "        if lb > 0:\n",
    "            flux_targets[rxn] = (lb, ub if ub != 1000 else None)\n",
    "        if ub < 0:\n",
    "            flux_targets[rxn] = (lb if lb != -1000 else None, ub)\n",
    "\n",
    "network = ReactionNetwork(reactions.values())\n",
    "intermediates = set(network.reactants) - boundaries.keys() - biomass_components.keys()\n",
    "print(f\"{len(reactions)} reactions on {len(mols)} molecules\")\n",
    "print(f\"{len(intermediates)} intermediates; {len(boundaries)} boundaries; {len(biomass_components)} biomass components\")\n",
    "print(f\"{len(flux_targets)} flux targets\")"
   ]
  },
  {
   "cell_type": "code",
   "execution_count": 3,
   "id": "bd40a79d-d0ec-436a-b4b0-68ac132fa63c",
   "metadata": {
    "tags": []
   },
   "outputs": [
    {
     "data": {
      "text/plain": [
       "{[3pg_c] 3-Phospho-D-glycerate: 1.496,\n",
       " [accoa_c] Acetyl-CoA: 3.7478,\n",
       " [atp_c] ATP C10H12N5O13P3: 59.81,\n",
       " [e4p_c] D-Erythrose 4-phosphate: 0.361,\n",
       " [f6p_c] D-Fructose 6-phosphate: 0.0709,\n",
       " [g3p_c] Glyceraldehyde 3-phosphate: 0.129,\n",
       " [g6p_c] D-Glucose 6-phosphate: 0.205,\n",
       " [gln__L_c] L-Glutamine: 0.2557,\n",
       " [glu__L_c] L-Glutamate: 4.9414,\n",
       " [h2o_c] H2O H2O: 59.81,\n",
       " [nad_c] Nicotinamide adenine dinucleotide: 3.547,\n",
       " [nadph_c] Nicotinamide adenine dinucleotide phosphate - reduced: 13.0279,\n",
       " [oaa_c] Oxaloacetate: 1.7867,\n",
       " [pep_c] Phosphoenolpyruvate: 0.5191,\n",
       " [pyr_c] Pyruvate: 2.8328,\n",
       " [r5p_c] Alpha-D-Ribose 5-phosphate: 0.8977,\n",
       " [adp_c] ADP C10H12N5O10P2: -59.81,\n",
       " [akg_c] 2-Oxoglutarate: -4.1182,\n",
       " [coa_c] Coenzyme A: -3.7478,\n",
       " [h_c] H+: -59.81,\n",
       " [nadh_c] Nicotinamide adenine dinucleotide - reduced: -3.547,\n",
       " [nadp_c] Nicotinamide adenine dinucleotide phosphate: -13.0279,\n",
       " [pi_c] Phosphate: -59.81}"
      ]
     },
     "execution_count": 3,
     "metadata": {},
     "output_type": "execute_result"
    }
   ],
   "source": [
    "biomass_components"
   ]
  },
  {
   "cell_type": "markdown",
   "id": "f12aea7d-0be9-4e74-9b21-83f32bb6992e",
   "metadata": {},
   "source": [
    "### Basic constraints\n",
    "- SteadyStateObjective for internal (non-boundary, _non-biomass_) reactants\n",
    "- IrreversibilityObjective for irreversibility\n",
    "- ProductionObjective for boundaries/exchanges\n",
    "- VelocityObjective for flux targets\n",
    "- BiomassObjective (new) for biomass (requires growth rate as param)"
   ]
  },
  {
   "cell_type": "code",
   "execution_count": 3,
   "id": "350dfcbb-f86f-4f51-9386-35dcf20fce2f",
   "metadata": {
    "tags": []
   },
   "outputs": [
    {
     "name": "stdout",
     "output_type": "stream",
     "text": [
      "29 steady-state targets\n",
      "35 irreversibility targets\n",
      "14 boundary targets\n",
      "1 flux targets\n",
      "23 biomass targets\n"
     ]
    }
   ],
   "source": [
    "class BiomassObjective(fba_gd.Objective):\n",
    "    def __init__(self, network, biomass_components, growth_rate, weight=1.0):\n",
    "        super().__init__(weight)\n",
    "        self.network = network\n",
    "        self.indices = np.array([network.reactants.index_of(component) for component in biomass_components.keys()], dtype=np.int32)\n",
    "        self.fractions = network.reactants.pack(biomass_components)[self.indices]\n",
    "        self.growth_rate = growth_rate\n",
    "    \n",
    "    def params(self):\n",
    "        return self.growth_rate\n",
    "    \n",
    "    def update_params(self, growth_rate):\n",
    "        self.growth_rate = growth_rate\n",
    "\n",
    "    def residual(self, velocities, dmdt, growth_rate):\n",
    "        expected = growth_rate * self.fractions\n",
    "        actual = dmdt[self.indices]\n",
    "        return actual - expected\n",
    "\n",
    "ss_objective = fba_gd.SteadyStateObjective(network, intermediates)\n",
    "irrev_objective = fba_gd.IrreversibilityObjective(network)\n",
    "bounds_objective = fba_gd.ProductionObjective(network, {target: (lb, ub) for target, (lb, ub) in boundaries.items() if lb is not None or ub is not None})\n",
    "flux_objective = fba_gd.VelocityObjective(network, flux_targets)\n",
    "biomass_objective = BiomassObjective(network, biomass_components, cobra_solution.objective_value)\n",
    "\n",
    "print(f\"{len(ss_objective.indices)} steady-state targets\")\n",
    "print(f\"{len(irrev_objective.indices)} irreversibility targets\")\n",
    "print(f\"{len(bounds_objective.indices)} boundary targets\")\n",
    "print(f\"{len(flux_objective.indices)} flux targets\")\n",
    "print(f\"{len(biomass_objective.indices)} biomass targets\")"
   ]
  },
  {
   "cell_type": "markdown",
   "id": "75eb56d0-c457-4b63-a2fb-ff6c626c14dd",
   "metadata": {},
   "source": [
    "## Maximize growth as an objective, via constrained optimization\n",
    "\n",
    "### Translate basic objectives into LinearConstraint or Bounds objects\n",
    "- flux_objective, irrev_objective => Bounds (i.e. constrain flux variables directly)\n",
    "- ss_objective, bounds_objective => LinearConstraint (i.e. constrain $S \\cdot v$)\n",
    "- treat biomass as traditional FBA does: augment the S matrix, then treat the biomass components as intermediates, with a LinearConstraint on augmented $S \\cdot v$"
   ]
  },
  {
   "cell_type": "code",
   "execution_count": 22,
   "id": "e1aa812b-2478-4692-a31c-ebac8c890b5a",
   "metadata": {
    "tags": []
   },
   "outputs": [],
   "source": [
    "def augmented_s(network, biomass_components):\n",
    "    biomass = network.reactants.pack(biomass_components)\n",
    "    return np.hstack([biomass[:, np.newaxis], network.s_matrix])\n",
    "\n",
    "def sv_constraint(s_matrix, indices, bounds):\n",
    "    return s_matrix[indices], bounds[0], bounds[1]\n",
    "\n",
    "def flux_bounds(network, *bounds_list):\n",
    "    lb = np.full(network.shape[1], -np.inf)\n",
    "    ub = np.full(network.shape[1], np.inf)\n",
    "    for bounds in bounds_list:\n",
    "        for reaction, (_lb, _ub) in bounds.items():\n",
    "            i = network.reactions.index_of(reaction)\n",
    "            if _lb is not None and lb[i] < _lb:\n",
    "                lb[i] = _lb\n",
    "            if _ub is not None and ub[i] > _ub:\n",
    "                ub[i] = _ub\n",
    "    return lb, ub\n",
    "    "
   ]
  },
  {
   "cell_type": "code",
   "execution_count": 27,
   "id": "95585a0c-a289-4175-b5eb-907ec90d721d",
   "metadata": {
    "tags": []
   },
   "outputs": [
    {
     "data": {
      "text/plain": [
       "{'lb': array([0.  , 0.  , -inf, -inf, 0.  , -inf, -inf, -inf, -inf, -inf, -inf,\n",
       "        -inf, 0.  , -inf, -inf, 8.39, 0.  , -inf, 0.  , -inf, 0.  , -inf,\n",
       "        -inf, 0.  , -inf, -inf, -inf, 0.  , -inf, 0.  , 0.  , -inf, -inf,\n",
       "        0.  , -inf, 0.  , -inf, -inf, 0.  , -inf, -inf, -inf, -inf, 0.  ,\n",
       "        0.  , 0.  , 0.  , 0.  , -inf, 0.  , -inf, -inf, 0.  , 0.  , 0.  ,\n",
       "        -inf, 0.  , 0.  , -inf, 0.  , -inf, -inf, 0.  , -inf, 0.  , 0.  ,\n",
       "        -inf, 0.  , 0.  , 0.  , 0.  , -inf, -inf, 0.  ]),\n",
       " 'ub': array([inf, inf, inf, inf, inf, inf, inf, inf, inf, inf, inf, inf, inf,\n",
       "        inf, inf, inf, inf, inf, inf, inf, inf, inf, inf, inf, inf, inf,\n",
       "        inf, inf, inf, inf, inf, inf, inf, inf, inf, inf, inf, inf, inf,\n",
       "        inf, inf, inf, inf, inf, inf, inf, inf, inf, inf, inf, inf, inf,\n",
       "        inf, inf, inf, inf, inf, inf, inf, inf, inf, inf, inf, inf, inf,\n",
       "        inf, inf, inf, inf, inf, inf, inf, inf, inf]),\n",
       " 'keep_feasible': array([False, False, False, False, False, False, False, False, False,\n",
       "        False, False, False, False, False, False, False, False, False,\n",
       "        False, False, False, False, False, False, False, False, False,\n",
       "        False, False, False, False, False, False, False, False, False,\n",
       "        False, False, False, False, False, False, False, False, False,\n",
       "        False, False, False, False, False, False, False, False, False,\n",
       "        False, False, False, False, False, False, False, False, False,\n",
       "        False, False, False, False, False, False, False, False, False,\n",
       "        False, False])}"
      ]
     },
     "execution_count": 27,
     "metadata": {},
     "output_type": "execute_result"
    }
   ],
   "source": [
    "scipy.optimize.Bounds(*flux_bounds(\n",
    "    network, \n",
    "    flux_targets,\n",
    "    {reaction: (0, None) for reaction in network.reactions if not reaction.reversible},\n",
    ")).__dict__"
   ]
  },
  {
   "cell_type": "code",
   "execution_count": 26,
   "id": "6d2e6568-ea0d-4e02-b193-427dc1b58b19",
   "metadata": {
    "tags": []
   },
   "outputs": [
    {
     "data": {
      "text/plain": [
       "{'A': array([[0., 0., 0., ..., 0., 0., 0.],\n",
       "        [0., 0., 0., ..., 0., 0., 0.],\n",
       "        [0., 0., 0., ..., 0., 0., 0.],\n",
       "        ...,\n",
       "        [0., 1., 0., ..., 0., 0., 0.],\n",
       "        [0., 0., 0., ..., 0., 0., 0.],\n",
       "        [0., 0., 0., ..., 1., 0., 0.]]),\n",
       " 'lb': array([0., 0., 0., 0., 0., 0., 0., 0., 0., 0., 0., 0., 0., 0., 0., 0., 0.,\n",
       "        0., 0., 0., 0., 0., 0., 0., 0., 0., 0., 0., 0.]),\n",
       " 'ub': array([0., 0., 0., 0., 0., 0., 0., 0., 0., 0., 0., 0., 0., 0., 0., 0., 0.,\n",
       "        0., 0., 0., 0., 0., 0., 0., 0., 0., 0., 0., 0.]),\n",
       " 'keep_feasible': array([False, False, False, False, False, False, False, False, False,\n",
       "        False, False, False, False, False, False, False, False, False,\n",
       "        False, False, False, False, False, False, False, False, False,\n",
       "        False, False])}"
      ]
     },
     "execution_count": 26,
     "metadata": {},
     "output_type": "execute_result"
    }
   ],
   "source": [
    "scipy.optimize.LinearConstraint(*sv_constraint(augmented_s(network, biomass_components), ss_objective.indices, [0, 0])).__dict__"
   ]
  },
  {
   "cell_type": "code",
   "execution_count": 14,
   "id": "288c1322-3c6e-47d0-a9ae-b41cdb12e1c9",
   "metadata": {},
   "outputs": [],
   "source": [
    "class MultiObjective:\n",
    "    def __init__(self, objectives):\n",
    "        self.objectives = {name: objective for name, objective in objectives.items()}\n",
    "    \n",
    "    def residuals(self, velocities, dmdt, params=None):\n",
    "        params = params or {}\n",
    "        result = {}\n",
    "        for name, objective in self.objectives.items():\n",
    "            param = params.get(name)\n",
    "            if param is None:\n",
    "                param = objective.params()\n",
    "            result[name] = objective.residual(velocities, dmdt, param)\n",
    "        return result\n",
    "\n",
    "objectives = MultiObjective({\n",
    "    \"steady-state\": ss_objective,\n",
    "    \"irrev\": irrev_objective,\n",
    "    \"bounds\": bounds_objective,\n",
    "    \"fluxes\": flux_objective,\n",
    "    \"growth\": biomass_objective\n",
    "})\n",
    "\n",
    "def residuals(x):\n",
    "    growth_rate = x[0].astype(float)\n",
    "    velocities = x[1:]\n",
    "    dmdt = network.s_matrix @ velocities\n",
    "    return jnp.concatenate(list(objectives.residuals(velocities, dmdt, {\"growth\": growth_rate}).values()))\n",
    "\n",
    "constr_jit = jax.jit(residuals)\n",
    "constr_jac = jax.jit(jax.jacfwd(residuals))\n",
    "constr_hess = jax.jit(jax.jacfwd(constr_jac))"
   ]
  },
  {
   "cell_type": "markdown",
   "id": "0c59fec8-6237-42cc-b76d-631ec120cad3",
   "metadata": {},
   "source": [
    "### Before invoking minimize(), confirm expected behavior compared to cobra"
   ]
  },
  {
   "cell_type": "code",
   "execution_count": 15,
   "id": "485ea650-61fc-421d-93c4-c93e8bdf66af",
   "metadata": {},
   "outputs": [
    {
     "name": "stdout",
     "output_type": "stream",
     "text": [
      "steady-state [ 0.00000000e+00  0.00000000e+00  7.10542736e-15  0.00000000e+00\n",
      "  0.00000000e+00 -2.22044605e-16 -7.49400542e-16  0.00000000e+00\n",
      "  0.00000000e+00  0.00000000e+00  0.00000000e+00  2.22044605e-16\n",
      "  0.00000000e+00  0.00000000e+00 -8.88178420e-16  2.88516672e-15\n",
      "  0.00000000e+00  1.97974444e-14  8.88178420e-16  0.00000000e+00\n",
      "  8.88178420e-16  8.88178420e-16 -3.55271368e-15  0.00000000e+00\n",
      "  6.31088724e-30  0.00000000e+00 -7.10542736e-15  0.00000000e+00\n",
      " -3.55271368e-15]\n",
      "irrev [0. 0. 0. 0. 0. 0. 0. 0. 0. 0. 0. 0. 0. 0. 0. 0. 0. 0. 0. 0. 0. 0. 0. 0.\n",
      " 0. 0. 0. 0. 0. 0. 0. 0. 0. 0. 0.]\n",
      "bounds [-3.19221472e-14  0.00000000e+00  0.00000000e+00  0.00000000e+00\n",
      "  0.00000000e+00  0.00000000e+00  0.00000000e+00  0.00000000e+00\n",
      " -1.77635684e-15  0.00000000e+00  0.00000000e+00  0.00000000e+00\n",
      "  0.00000000e+00  0.00000000e+00  0.00000000e+00  0.00000000e+00\n",
      "  0.00000000e+00  0.00000000e+00  0.00000000e+00  0.00000000e+00]\n",
      "fluxes [0.]\n",
      "growth [ 1.99840144e-15  0.00000000e+00  5.32907052e-13 -1.66533454e-16\n",
      "  9.15933995e-16  1.87350135e-15 -2.49800181e-16  1.66533454e-16\n",
      "  8.88178420e-16  6.25277607e-13  4.88498131e-15  0.00000000e+00\n",
      " -1.77635684e-15  1.38777878e-15 -2.22044605e-15  3.33066907e-16\n",
      " -5.32907052e-13  4.44089210e-16 -4.44089210e-16 -4.90274488e-13\n",
      " -4.88498131e-15  0.00000000e+00 -5.40012479e-13]\n",
      "\n",
      "5.546357163607166e-29\n"
     ]
    }
   ],
   "source": [
    "res = objectives.residuals(fluxv_cobra, dmdtv_cobra)\n",
    "for name, residual in res.items():\n",
    "    print(name, residual)\n",
    "print()\n",
    "\n",
    "x = jnp.insert(fluxv_cobra, 0, cobra_solution.objective_value)\n",
    "res_full = jnp.concatenate(list(res.values()))\n",
    "# print(jnp.all(constr_jit(x) == res_full))\n",
    "print(jnp.sum(jnp.square((constr_jit(x) - res_full))))"
   ]
  },
  {
   "cell_type": "markdown",
   "id": "6192c7b5-12d1-4ce2-a0da-e5a05e3a44b5",
   "metadata": {
    "tags": []
   },
   "source": [
    "### Same as above, monitor behavior over range of growth rates"
   ]
  },
  {
   "cell_type": "code",
   "execution_count": 16,
   "id": "a2224450-5e44-4d5c-a998-f329bf5c4844",
   "metadata": {
    "tags": []
   },
   "outputs": [
    {
     "data": {
      "image/png": "[encoded data removed]",
      "text/plain": [
       "<Figure size 640x480 with 1 Axes>"
      ]
     },
     "metadata": {},
     "output_type": "display_data"
    }
   ],
   "source": [
    "def assess(growth_rate, fba_result):\n",
    "    x = jnp.insert(fba_result.velocities, 0, growth_rate)\n",
    "    res_full = constr_jit(x)\n",
    "    return {\n",
    "        \"growth\": growth_rate,\n",
    "        \"l1\": jnp.sum(jnp.abs(res_full)),\n",
    "        \"l2\": jnp.sum(jnp.square(res_full))\n",
    "    }\n",
    "assess_df = pd.DataFrame(assess(*result) for result in results)\n",
    "plt.plot(assess_df[\"growth\"], assess_df[\"l1\"], label=\"l1\")\n",
    "plt.plot(assess_df[\"growth\"], assess_df[\"l2\"], label=\"l2\")\n",
    "plt.yscale(\"log\")\n",
    "plt.legend()\n",
    "plt.show()"
   ]
  },
  {
   "cell_type": "markdown",
   "id": "1f3bc914-a355-4082-b3d4-25113270ad93",
   "metadata": {
    "tags": []
   },
   "source": [
    "## Finally, try minimize()\n",
    "- x[0] is growth rate, x[1:] is v\n",
    "- Constraints go in an instance of scipy.optimize.NonLinearContraint\n",
    "- The \"function\" to minimize returns -x[0] -- jacobian (grad) and hessian are trivial"
   ]
  },
  {
   "cell_type": "code",
   "execution_count": 17,
   "id": "9c60a739-81cc-489a-9f3a-8f85f3c311e0",
   "metadata": {
    "tags": []
   },
   "outputs": [
    {
     "name": "stderr",
     "output_type": "stream",
     "text": [
      "/home/fdrusso/.pyenv/versions/3.8.16/envs/notebooks/lib/python3.8/site-packages/scipy/optimize/_trustregion_constr/projections.py:181: UserWarning: Singular Jacobian matrix. Using SVD decomposition to perform the factorizations.\n",
      "  warn('Singular Jacobian matrix. Using SVD decomposition to ' +\n",
      "/home/fdrusso/.pyenv/versions/3.8.16/envs/notebooks/lib/python3.8/site-packages/scipy/optimize/_hessian_update_strategy.py:182: UserWarning: delta_grad == 0.0. Check if the approximated function is linear. If the function is linear better results can be obtained by defining the Hessian as zero instead of using quasi-Newton approximations.\n",
      "  warn('delta_grad == 0.0. Check if the approximated '\n"
     ]
    },
    {
     "name": "stdout",
     "output_type": "stream",
     "text": [
      "Growth rate = 1.6279957442260724e-12\n",
      "Loss = 373.1662516120457\n",
      "\n"
     ]
    },
    {
     "data": {
      "text/plain": [
       "{'steady-state': array([-0.76195728, -1.38949156,  0.62096889,  0.50944013,  0.79029891,\n",
       "        -0.24182227,  1.40638802, -0.50394773, -0.86460596,  0.20252751,\n",
       "         0.35572046, -0.93157745,  2.09940171,  1.65569346,  0.49190064,\n",
       "         0.08913025,  0.10718661,  0.42850431,  0.72280312, -0.86665374,\n",
       "        -0.22747629,  0.64552509, -0.34967261, -0.17918986,  0.51423291,\n",
       "        -0.24564402, -0.62096889,  0.20446538,  0.91703895]),\n",
       " 'irrev': Array([0., 0., 0., 0., 0., 0., 0., 0., 0., 0., 0., 0., 0., 0., 0., 0., 0.,\n",
       "        0., 0., 0., 0., 0., 0., 0., 0., 0., 0., 0., 0., 0., 0., 0., 0., 0.,\n",
       "        0.], dtype=float64),\n",
       " 'bounds': Array([-0.63163823, -0.76608999, -0.85178324,  0.        , -0.93064771,\n",
       "        -0.65957034, -0.65718449, -0.06460374,  0.        , -0.06378649,\n",
       "        -0.86809164,  0.        ,  0.        , -0.69183396, -0.14310074,\n",
       "         0.        ,  0.        ,  0.        , -0.88070131, -0.29883542],      dtype=float64),\n",
       " 'fluxes': Array([-7.59595056], dtype=float64),\n",
       " 'growth': array([ 0.71420314,  0.30874481, -3.20964765,  0.1791658 ,  2.81950332,\n",
       "         0.56504191, -1.36065681, -0.65729816,  1.89452132, -3.62639907,\n",
       "        -3.39204188,  1.24900588,  1.12921197, -0.08209957,  0.88061581,\n",
       "        -0.9888814 ,  3.38883751,  0.76497304, -0.80064545, 14.42523696,\n",
       "         3.39204188, -1.24900588,  1.66228741])}"
      ]
     },
     "execution_count": 17,
     "metadata": {},
     "output_type": "execute_result"
    }
   ],
   "source": [
    "xlen = 1 + network.shape[1]\n",
    "x0=jax.random.uniform(prng, shape=(xlen,))\n",
    "jac_const = -jnp.eye(xlen)[0]\n",
    "hess_const = jnp.zeros(xlen)\n",
    "lb = np.array([0] + [-np.inf] * network.shape[1])\n",
    "ub = np.full(xlen, np.inf)\n",
    "\n",
    "soln = scipy.optimize.minimize(\n",
    "    method=\"trust-constr\",\n",
    "    fun=lambda x: -x[0].astype(float),\n",
    "    jac=lambda x: jac_const,\n",
    "    hess=lambda x: hess_const,\n",
    "    x0=x0,\n",
    "    bounds=scipy.optimize.Bounds(lb=lb, ub=ub, keep_feasible=True),\n",
    "    constraints=scipy.optimize.NonlinearConstraint(\n",
    "        fun=constr_jit,\n",
    "        jac=constr_jac,\n",
    "        # hess=constr_hess,  TODO: figure out this Hessian stuff\n",
    "        lb=0,\n",
    "        ub=0,\n",
    "    ),\n",
    "    options={\"xtol\": 1e-12, \"gtol\": 1e-12},\n",
    ")\n",
    "\n",
    "growth_rate = soln.x[0].astype(float)\n",
    "velocities = soln.x[1:]\n",
    "dmdt = network.s_matrix @ velocities\n",
    "print(f\"Growth rate = {growth_rate}\")\n",
    "print(f\"Loss = {jnp.sum(jnp.square(residuals(soln.x)))}\")\n",
    "print()\n",
    "objectives.residuals(velocities, dmdt, {\"growth\": growth_rate})\n"
   ]
  },
  {
   "cell_type": "markdown",
   "id": "8b4697c8-05d2-4c1c-bfbd-83ad0f8ecdff",
   "metadata": {
    "tags": []
   },
   "source": [
    "### Focus on a much smaller problem to debug this"
   ]
  },
  {
   "cell_type": "code",
   "execution_count": 18,
   "id": "37f0a404-ac8c-4c39-83f5-b6e2663f6fb6",
   "metadata": {
    "tags": []
   },
   "outputs": [
    {
     "data": {
      "text/plain": [
       "[(0, [ACALD] acald_c + coa_c + nad_c <=> accoa_c + h_c + nadh_c),\n",
       " (1, [ACALDt] acald_e <=> acald_c),\n",
       " (2, [ACKr] ac_c + atp_c <=> actp_c + adp_c),\n",
       " (3, [ACONTa] cit_c <=> acon_C_c + h2o_c),\n",
       " (4, [ACONTb] acon_C_c + h2o_c <=> icit_c),\n",
       " (5, [ACt2r] ac_e + h_e <=> ac_c + h_c),\n",
       " (6, [ADK1] amp_c + atp_c <=> 2.0 adp_c),\n",
       " (7, [AKGDH] akg_c + coa_c + nad_c => co2_c + nadh_c + succoa_c),\n",
       " (8, [AKGt2r] akg_e + h_e <=> akg_c + h_c),\n",
       " (9, [ALCD2x] etoh_c + nad_c <=> acald_c + h_c + nadh_c),\n",
       " (10, [ATPM] atp_c + h2o_c => adp_c + h_c + pi_c),\n",
       " (11, [ATPS4r] adp_c + 4.0 h_e + pi_c <=> atp_c + h2o_c + 3.0 h_c),\n",
       " (12, [CO2t] co2_e <=> co2_c),\n",
       " (13, [CS] accoa_c + h2o_c + oaa_c => cit_c + coa_c + h_c),\n",
       " (14, [CYTBD] 2.0 h_c + 0.5 o2_c + q8h2_c => h2o_c + 2.0 h_e + q8_c),\n",
       " (15, [D_LACt2] h_e + lac__D_e <=> h_c + lac__D_c),\n",
       " (16, [ENO] 2pg_c <=> h2o_c + pep_c),\n",
       " (17, [ETOHt2r] etoh_e + h_e <=> etoh_c + h_c),\n",
       " (18, [FBA] fdp_c <=> dhap_c + g3p_c),\n",
       " (19, [FBP] fdp_c + h2o_c => f6p_c + pi_c),\n",
       " (20, [FORt2] for_e + h_e => for_c + h_c),\n",
       " (21, [FORti] for_c => for_e),\n",
       " (22, [FRD7] fum_c + q8h2_c => q8_c + succ_c),\n",
       " (23, [FRUpts2] fru_e + pep_c => f6p_c + pyr_c),\n",
       " (24, [FUM] fum_c + h2o_c <=> mal__L_c),\n",
       " (25, [FUMt2_2] fum_e + 2.0 h_e => fum_c + 2.0 h_c),\n",
       " (26, [G6PDH2r] g6p_c + nadp_c <=> 6pgl_c + h_c + nadph_c),\n",
       " (27, [GAPD] g3p_c + nad_c + pi_c <=> 13dpg_c + h_c + nadh_c),\n",
       " (28, [GLCpts] glc__D_e + pep_c => g6p_c + pyr_c),\n",
       " (29, [GLNS] atp_c + glu__L_c + nh4_c => adp_c + gln__L_c + h_c + pi_c),\n",
       " (30, [GLNabc] atp_c + gln__L_e + h2o_c => adp_c + gln__L_c + h_c + pi_c),\n",
       " (31, [GLUDy] glu__L_c + h2o_c + nadp_c <=> akg_c + h_c + nadph_c + nh4_c),\n",
       " (32, [GLUN] gln__L_c + h2o_c => glu__L_c + nh4_c),\n",
       " (33, [GLUSy] akg_c + gln__L_c + h_c + nadph_c => 2.0 glu__L_c + nadp_c),\n",
       " (34, [GLUt2r] glu__L_e + h_e <=> glu__L_c + h_c),\n",
       " (35, [GND] 6pgc_c + nadp_c => co2_c + nadph_c + ru5p__D_c),\n",
       " (36, [H2Ot] h2o_e <=> h2o_c),\n",
       " (37, [ICDHyr] icit_c + nadp_c <=> akg_c + co2_c + nadph_c),\n",
       " (38, [ICL] icit_c => glx_c + succ_c),\n",
       " (39, [LDH_D] lac__D_c + nad_c <=> h_c + nadh_c + pyr_c),\n",
       " (40, [MALS] accoa_c + glx_c + h2o_c => coa_c + h_c + mal__L_c),\n",
       " (41, [MALt2_2] 2.0 h_e + mal__L_e => 2.0 h_c + mal__L_c),\n",
       " (42, [MDH] mal__L_c + nad_c <=> h_c + nadh_c + oaa_c),\n",
       " (43, [ME1] mal__L_c + nad_c => co2_c + nadh_c + pyr_c),\n",
       " (44, [ME2] mal__L_c + nadp_c => co2_c + nadph_c + pyr_c),\n",
       " (45, [NADH16] 4.0 h_c + nadh_c + q8_c => 3.0 h_e + nad_c + q8h2_c),\n",
       " (46, [NADTRHD] nad_c + nadph_c => nadh_c + nadp_c),\n",
       " (47, [NH4t] nh4_e <=> nh4_c),\n",
       " (48, [O2t] o2_e <=> o2_c),\n",
       " (49, [PDH] coa_c + nad_c + pyr_c => accoa_c + co2_c + nadh_c),\n",
       " (50, [PFK] atp_c + f6p_c => adp_c + fdp_c + h_c),\n",
       " (51, [PFL] coa_c + pyr_c => accoa_c + for_c),\n",
       " (52, [PGI] g6p_c <=> f6p_c),\n",
       " (53, [PGK] 3pg_c + atp_c <=> 13dpg_c + adp_c),\n",
       " (54, [PGL] 6pgl_c + h2o_c => 6pgc_c + h_c),\n",
       " (55, [PGM] 2pg_c <=> 3pg_c),\n",
       " (56, [PIt2r] h_e + pi_e <=> h_c + pi_c),\n",
       " (57, [PPC] co2_c + h2o_c + pep_c => h_c + oaa_c + pi_c),\n",
       " (58, [PPCK] atp_c + oaa_c => adp_c + co2_c + pep_c),\n",
       " (59, [PPS] atp_c + h2o_c + pyr_c => amp_c + 2.0 h_c + pep_c + pi_c),\n",
       " (60, [PTAr] accoa_c + pi_c <=> actp_c + coa_c),\n",
       " (61, [PYK] adp_c + h_c + pep_c => atp_c + pyr_c),\n",
       " (62, [PYRt2] h_e + pyr_e <=> h_c + pyr_c),\n",
       " (63, [RPE] ru5p__D_c <=> xu5p__D_c),\n",
       " (64, [RPI] r5p_c <=> ru5p__D_c),\n",
       " (65, [SUCCt2_2] 2.0 h_e + succ_e => 2.0 h_c + succ_c),\n",
       " (66, [SUCCt3] h_e + succ_c => h_c + succ_e),\n",
       " (67, [SUCDi] q8_c + succ_c => fum_c + q8h2_c),\n",
       " (68, [SUCOAS] atp_c + coa_c + succ_c <=> adp_c + pi_c + succoa_c),\n",
       " (69, [TALA] g3p_c + s7p_c <=> e4p_c + f6p_c),\n",
       " (70, [THD2] 2.0 h_e + nadh_c + nadp_c => 2.0 h_c + nad_c + nadph_c),\n",
       " (71, [TKT1] r5p_c + xu5p__D_c <=> g3p_c + s7p_c),\n",
       " (72, [TKT2] e4p_c + xu5p__D_c <=> f6p_c + g3p_c),\n",
       " (73, [TPI] dhap_c <=> g3p_c)]"
      ]
     },
     "execution_count": 18,
     "metadata": {},
     "output_type": "execute_result"
    }
   ],
   "source": [
    "list(enumerate(network.reactions))"
   ]
  },
  {
   "cell_type": "code",
   "execution_count": 19,
   "id": "3f019370-d393-4e9e-a7b2-0f6d1cca3eef",
   "metadata": {
    "tags": []
   },
   "outputs": [
    {
     "data": {
      "text/html": [
       "<div>\n",
       "<style scoped>\n",
       "    .dataframe tbody tr th:only-of-type {\n",
       "        vertical-align: middle;\n",
       "    }\n",
       "\n",
       "    .dataframe tbody tr th {\n",
       "        vertical-align: top;\n",
       "    }\n",
       "\n",
       "    .dataframe thead th {\n",
       "        text-align: right;\n",
       "    }\n",
       "</style>\n",
       "<table border=\"1\" class=\"dataframe\">\n",
       "  <thead>\n",
       "    <tr style=\"text-align: right;\">\n",
       "      <th></th>\n",
       "      <th>PGI</th>\n",
       "      <th>PFK</th>\n",
       "      <th>FBA</th>\n",
       "      <th>TPI</th>\n",
       "    </tr>\n",
       "  </thead>\n",
       "  <tbody>\n",
       "    <tr>\n",
       "      <th>g6p_c</th>\n",
       "      <td>-1.0</td>\n",
       "      <td>0.0</td>\n",
       "      <td>0.0</td>\n",
       "      <td>0.0</td>\n",
       "    </tr>\n",
       "    <tr>\n",
       "      <th>f6p_c</th>\n",
       "      <td>1.0</td>\n",
       "      <td>-1.0</td>\n",
       "      <td>0.0</td>\n",
       "      <td>0.0</td>\n",
       "    </tr>\n",
       "    <tr>\n",
       "      <th>atp_c</th>\n",
       "      <td>0.0</td>\n",
       "      <td>-1.0</td>\n",
       "      <td>0.0</td>\n",
       "      <td>0.0</td>\n",
       "    </tr>\n",
       "    <tr>\n",
       "      <th>adp_c</th>\n",
       "      <td>0.0</td>\n",
       "      <td>1.0</td>\n",
       "      <td>0.0</td>\n",
       "      <td>0.0</td>\n",
       "    </tr>\n",
       "    <tr>\n",
       "      <th>fdp_c</th>\n",
       "      <td>0.0</td>\n",
       "      <td>1.0</td>\n",
       "      <td>-1.0</td>\n",
       "      <td>0.0</td>\n",
       "    </tr>\n",
       "    <tr>\n",
       "      <th>h_c</th>\n",
       "      <td>0.0</td>\n",
       "      <td>1.0</td>\n",
       "      <td>0.0</td>\n",
       "      <td>0.0</td>\n",
       "    </tr>\n",
       "    <tr>\n",
       "      <th>dhap_c</th>\n",
       "      <td>0.0</td>\n",
       "      <td>0.0</td>\n",
       "      <td>1.0</td>\n",
       "      <td>-1.0</td>\n",
       "    </tr>\n",
       "    <tr>\n",
       "      <th>g3p_c</th>\n",
       "      <td>0.0</td>\n",
       "      <td>0.0</td>\n",
       "      <td>1.0</td>\n",
       "      <td>1.0</td>\n",
       "    </tr>\n",
       "  </tbody>\n",
       "</table>\n",
       "</div>"
      ],
      "text/plain": [
       "        PGI  PFK  FBA  TPI\n",
       "g6p_c  -1.0  0.0  0.0  0.0\n",
       "f6p_c   1.0 -1.0  0.0  0.0\n",
       "atp_c   0.0 -1.0  0.0  0.0\n",
       "adp_c   0.0  1.0  0.0  0.0\n",
       "fdp_c   0.0  1.0 -1.0  0.0\n",
       "h_c     0.0  1.0  0.0  0.0\n",
       "dhap_c  0.0  0.0  1.0 -1.0\n",
       "g3p_c   0.0  0.0  1.0  1.0"
      ]
     },
     "execution_count": 19,
     "metadata": {},
     "output_type": "execute_result"
    }
   ],
   "source": [
    "baby = ReactionNetwork([network.reactions[52], network.reactions[50], network.reactions[18], network.reactions[73]])\n",
    "pd.DataFrame(baby.s_matrix, index=labels(baby.reactants), columns=labels(baby.reactions))"
   ]
  },
  {
   "cell_type": "code",
   "execution_count": 20,
   "id": "203ac056-f0f3-4ef7-ac72-a5c290771997",
   "metadata": {
    "tags": []
   },
   "outputs": [],
   "source": [
    "b_objectives = MultiObjective({\n",
    "    \"steady-state\": fba_gd.SteadyStateObjective(baby, [baby.reactants[1], baby.reactants[4]], weight=1e4),\n",
    "    \"irrev\": fba_gd.IrreversibilityObjective(baby, weight=1e4),\n",
    "    \"bounds\": fba_gd.ProductionObjective(baby, {baby.reactants[0]: (-10., 0), baby.reactants[6]: (0, None)}, weight=1e2),\n",
    "    \"growth\": BiomassObjective(baby, {baby.reactants[7]: 1.}, 1.)\n",
    "})\n",
    "\n",
    "def b_residuals(x):\n",
    "    growth_rate = x[0].astype(float)\n",
    "    velocities = x[1:]\n",
    "    dmdt = baby.s_matrix @ velocities\n",
    "    return jnp.concatenate(list(b_objectives.residuals(velocities, dmdt, {\"growth\": growth_rate}).values()))"
   ]
  },
  {
   "cell_type": "code",
   "execution_count": 21,
   "id": "2e97eaff-12d7-4835-a33e-0c0e2a36bacb",
   "metadata": {
    "tags": []
   },
   "outputs": [
    {
     "data": {
      "text/plain": [
       "Array([0., 0., 0., 0., 0., 0.], dtype=float64)"
      ]
     },
     "execution_count": 21,
     "metadata": {},
     "output_type": "execute_result"
    }
   ],
   "source": [
    "bx2 = jnp.array([2., 1., 1., 1., 1])\n",
    "b_residuals(bx2)"
   ]
  },
  {
   "cell_type": "code",
   "execution_count": 22,
   "id": "609dd3db-beff-465f-ba73-122e54a9676c",
   "metadata": {
    "tags": []
   },
   "outputs": [
    {
     "name": "stdout",
     "output_type": "stream",
     "text": [
      "{[PGI] g6p_c <=> f6p_c: 1.0, [PFK] atp_c + f6p_c => adp_c + fdp_c + h_c: 1.0, [FBA] fdp_c <=> dhap_c + g3p_c: 1.0, [TPI] dhap_c <=> g3p_c: 0.5}\n",
      "{[g6p_c] D-Glucose 6-phosphate: -1.0, [f6p_c] D-Fructose 6-phosphate: 0.0, [atp_c] ATP: -1.0, [adp_c] ADP: 1.0, [fdp_c] D-Fructose 1,6-bisphosphate: 0.0, [h_c] H+: 1.0, [dhap_c] Dihydroxyacetone phosphate: 0.5, [g3p_c] Glyceraldehyde 3-phosphate: 1.5}\n"
     ]
    }
   ],
   "source": [
    "v = np.array([1, 1, 1, .5])\n",
    "print(baby.reactions.unpack(v))\n",
    "print(baby.reactants.unpack(baby.s_matrix @ v))"
   ]
  },
  {
   "cell_type": "code",
   "execution_count": 23,
   "id": "05483a23-5cc9-4227-8d44-2606ffa51108",
   "metadata": {
    "tags": []
   },
   "outputs": [
    {
     "name": "stdout",
     "output_type": "stream",
     "text": [
      "Growth rate = 0.8691411774261413\n",
      "Loss = 0.0\n",
      "\n"
     ]
    },
    {
     "name": "stderr",
     "output_type": "stream",
     "text": [
      "/home/fdrusso/.pyenv/versions/3.8.16/envs/notebooks/lib/python3.8/site-packages/scipy/optimize/_trustregion_constr/projections.py:181: UserWarning: Singular Jacobian matrix. Using SVD decomposition to perform the factorizations.\n",
      "  warn('Singular Jacobian matrix. Using SVD decomposition to ' +\n",
      "/home/fdrusso/.pyenv/versions/3.8.16/envs/notebooks/lib/python3.8/site-packages/scipy/optimize/_hessian_update_strategy.py:182: UserWarning: delta_grad == 0.0. Check if the approximated function is linear. If the function is linear better results can be obtained by defining the Hessian as zero instead of using quasi-Newton approximations.\n",
      "  warn('delta_grad == 0.0. Check if the approximated '\n"
     ]
    },
    {
     "data": {
      "text/plain": [
       "{'steady-state': array([0., 0.]),\n",
       " 'irrev': Array([0.], dtype=float64),\n",
       " 'bounds': Array([0., 0.], dtype=float64),\n",
       " 'growth': array([0.])}"
      ]
     },
     "execution_count": 23,
     "metadata": {},
     "output_type": "execute_result"
    }
   ],
   "source": [
    "bxlen = 1 + baby.shape[1]\n",
    "bx0=jax.random.uniform(prng, shape=(bxlen,))\n",
    "bjac_const = -jnp.eye(bxlen)[0]\n",
    "blb = np.array([0] + [-np.inf] * baby.shape[1])\n",
    "bub = np.full(bxlen, np.inf)\n",
    "\n",
    "def bfun(x):\n",
    "    return -x[0].astype(float)\n",
    "\n",
    "bconstr_jit = jax.jit(b_residuals)\n",
    "bconstr_jac = jax.jit(jax.jacfwd(b_residuals))\n",
    "\n",
    "soln = scipy.optimize.minimize(\n",
    "    method=\"trust-constr\",\n",
    "    fun=jax.jit(bfun),\n",
    "    jac=jax.jit(jax.jacfwd(bfun)),\n",
    "    x0=bx0,\n",
    "    bounds=scipy.optimize.Bounds(lb=blb, ub=bub, keep_feasible=True),\n",
    "    constraints=scipy.optimize.NonlinearConstraint(\n",
    "        fun=bconstr_jit,\n",
    "        jac=bconstr_jac,\n",
    "        lb=0,\n",
    "        ub=0,\n",
    "    ),\n",
    "    options={\"xtol\": 1e-12, \"gtol\": 1e-12},\n",
    ")\n",
    "\n",
    "growth_rate = soln.x[0].astype(float)\n",
    "velocities = soln.x[1:]\n",
    "dmdt = baby.s_matrix @ velocities\n",
    "print(f\"Growth rate = {growth_rate}\")\n",
    "print(f\"Loss = {jnp.sum(jnp.square(b_residuals(soln.x)))}\")\n",
    "print()\n",
    "b_objectives.residuals(velocities, dmdt, {\"growth\": growth_rate})\n"
   ]
  },
  {
   "cell_type": "code",
   "execution_count": 24,
   "id": "0c3e699b-1bbb-472d-9a89-ab48ea4131c7",
   "metadata": {
    "tags": []
   },
   "outputs": [
    {
     "data": {
      "text/plain": [
       "{[PGI] g6p_c <=> f6p_c: 0.43457058871307064,\n",
       " [PFK] atp_c + f6p_c => adp_c + fdp_c + h_c: 0.43457058871307064,\n",
       " [FBA] fdp_c <=> dhap_c + g3p_c: 0.43457058871307064,\n",
       " [TPI] dhap_c <=> g3p_c: 0.43457058871307064}"
      ]
     },
     "execution_count": 24,
     "metadata": {},
     "output_type": "execute_result"
    }
   ],
   "source": [
    "baby.reactions.unpack(soln.x[1:])"
   ]
  },
  {
   "cell_type": "code",
   "execution_count": 25,
   "id": "888c9d70-7c2b-4a36-b218-65dc08161f21",
   "metadata": {
    "tags": []
   },
   "outputs": [
    {
     "data": {
      "text/plain": [
       "{[g6p_c] D-Glucose 6-phosphate: -0.43457058871307064,\n",
       " [f6p_c] D-Fructose 6-phosphate: 0.0,\n",
       " [atp_c] ATP: -0.43457058871307064,\n",
       " [adp_c] ADP: 0.43457058871307064,\n",
       " [fdp_c] D-Fructose 1,6-bisphosphate: 0.0,\n",
       " [h_c] H+: 0.43457058871307064,\n",
       " [dhap_c] Dihydroxyacetone phosphate: 0.0,\n",
       " [g3p_c] Glyceraldehyde 3-phosphate: 0.8691411774261413}"
      ]
     },
     "execution_count": 25,
     "metadata": {},
     "output_type": "execute_result"
    }
   ],
   "source": [
    "baby.reactants.unpack(baby.s_matrix @ soln.x[1:])"
   ]
  },
  {
   "cell_type": "markdown",
   "id": "11c5aeb2-9c17-45b0-a1ca-c55df24c1045",
   "metadata": {},
   "source": [
    "This is not working. There is plenty of room to increase the growth rate without violating the constraints.\n",
    "- Confirm this: flux, dm/dt and loss over a wide range of growth rates"
   ]
  },
  {
   "cell_type": "code",
   "execution_count": 26,
   "id": "d7e197bf-cef8-453d-b2f8-b6c1e340a7eb",
   "metadata": {
    "tags": []
   },
   "outputs": [
    {
     "data": {
      "image/png": "[encoded data removed]",
      "text/plain": [
       "<Figure size 600x800 with 3 Axes>"
      ]
     },
     "metadata": {},
     "output_type": "display_data"
    }
   ],
   "source": [
    "bfba = fba_gd.FbaGd(\n",
    "    baby,\n",
    "    intermediates = [baby.reactants[i] for i in b_objectives.objectives[\"steady-state\"].indices],\n",
    "    objectives={name: objective for name, objective in b_objectives.objectives.items() if name in [\"bounds\", \"growth\"]},\n",
    "    w_fitness=1e4,\n",
    ")\n",
    "results = []\n",
    "for growth_rate in np.arange(0, 30, 2.5):\n",
    "    result = {\"growth_rate\": growth_rate}\n",
    "\n",
    "    bfba.update_params({\"growth\": growth_rate})\n",
    "    bsoln = bfba.solve(gtol=1e-12)\n",
    "    for r, flux in baby.reactions.unpack(bsoln.velocities).items():\n",
    "        result[r.id] = flux\n",
    "    for m, d in baby.reactants.unpack(bsoln.dmdt).items():\n",
    "        result[m.id] = d\n",
    "    for name, resid in b_objectives.residuals(bsoln.velocities, bsoln.dmdt, {\"growth\": growth_rate}).items():\n",
    "        result[name] = np.sum(np.square(resid))\n",
    "    results.append(result)\n",
    "results_df = pd.DataFrame(results).set_index(\"growth_rate\")\n",
    "\n",
    "fig, ax = plt.subplots(2, 1, figsize=(6, 8))\n",
    "ax[0].set_ylabel(\"flux\")\n",
    "for rxn_id in [\"PGI\", \"PFK\", \"FBA\", \"TPI\"]:\n",
    "    ax[0].plot(results_df.index, results_df[rxn_id], label=rxn_id)\n",
    "ax[0].legend()\n",
    "\n",
    "rax = ax[0].twinx()\n",
    "rax.set_ylabel(\"constraint violation\")\n",
    "rax.plot(results_df.index, results_df[b_objectives.objectives.keys()].sum(axis=1))\n",
    "\n",
    "ax[1].set_ylabel(\"dm/dt\")\n",
    "for met_id in [\"g6p_c\", \"f6p_c\", \"atp_c\", \"dhap_c\", \"g3p_c\"]:\n",
    "    ax[1].plot(results_df.index, results_df[met_id], label=met_id)\n",
    "ax[1].set_xlabel(\"growth rate\")\n",
    "ax[1].legend()\n",
    "plt.show()"
   ]
  },
  {
   "cell_type": "markdown",
   "id": "45ae7f64-ebad-4396-8927-057cec1fb8a5",
   "metadata": {
    "tags": []
   },
   "source": [
    "### Try it with LinearConstraint\n",
    "- Pretty far afield of FbaGd code, and not so different from constructing an LP problem. But try it anyway"
   ]
  },
  {
   "cell_type": "code",
   "execution_count": 27,
   "id": "82bf41f6-9a64-4bdc-a74f-9d17aaac2986",
   "metadata": {
    "tags": []
   },
   "outputs": [
    {
     "ename": "ValueError",
     "evalue": "all the input arrays must have same number of dimensions, but the array at index 0 has 1 dimension(s) and the array at index 1 has 2 dimension(s)",
     "output_type": "error",
     "traceback": [
      "\u001b[0;31m---------------------------------------------------------------------------\u001b[0m",
      "\u001b[0;31mValueError\u001b[0m                                Traceback (most recent call last)",
      "Cell \u001b[0;32mIn[27], line 26\u001b[0m\n\u001b[1;32m     10\u001b[0m \u001b[38;5;66;03m# rows = []\u001b[39;00m\n\u001b[1;32m     11\u001b[0m \u001b[38;5;66;03m# row_bounds = []\u001b[39;00m\n\u001b[1;32m     12\u001b[0m \u001b[38;5;66;03m# for i in b_objectives.objectives[\"steady-state\"].indices:\u001b[39;00m\n\u001b[0;32m   (...)\u001b[0m\n\u001b[1;32m     22\u001b[0m \u001b[38;5;66;03m#     rows.append(i)\u001b[39;00m\n\u001b[1;32m     23\u001b[0m \u001b[38;5;66;03m#     row_bounds.append((0, 0))\u001b[39;00m\n\u001b[1;32m     25\u001b[0m biomass_frac \u001b[38;5;241m=\u001b[39m \u001b[38;5;241m-\u001b[39mbaby\u001b[38;5;241m.\u001b[39mreactants\u001b[38;5;241m.\u001b[39mpack({baby\u001b[38;5;241m.\u001b[39mreactants[\u001b[38;5;241m7\u001b[39m]: \u001b[38;5;241m1.\u001b[39m})\n\u001b[0;32m---> 26\u001b[0m aug_matrix \u001b[38;5;241m=\u001b[39m \u001b[43mnp\u001b[49m\u001b[38;5;241;43m.\u001b[39;49m\u001b[43mhstack\u001b[49m\u001b[43m(\u001b[49m\u001b[43m[\u001b[49m\u001b[43mbiomass_frac\u001b[49m\u001b[43m,\u001b[49m\u001b[43m \u001b[49m\u001b[43mbaby\u001b[49m\u001b[38;5;241;43m.\u001b[39;49m\u001b[43ms_matrix\u001b[49m\u001b[43m]\u001b[49m\u001b[43m)\u001b[49m\n\u001b[1;32m     27\u001b[0m constraints \u001b[38;5;241m=\u001b[39m [\n\u001b[1;32m     28\u001b[0m     scipy\u001b[38;5;241m.\u001b[39moptimize\u001b[38;5;241m.\u001b[39mLinearConstraint(aug_matrix[b_objectives\u001b[38;5;241m.\u001b[39mobjectives[\u001b[38;5;124m\"\u001b[39m\u001b[38;5;124msteady-state\u001b[39m\u001b[38;5;124m\"\u001b[39m]\u001b[38;5;241m.\u001b[39mindices], lb\u001b[38;5;241m=\u001b[39m\u001b[38;5;241m0\u001b[39m, ub\u001b[38;5;241m=\u001b[39m\u001b[38;5;241m0\u001b[39m),\n\u001b[1;32m     29\u001b[0m     scipy\u001b[38;5;241m.\u001b[39moptimize\u001b[38;5;241m.\u001b[39mLinearConstraint(aug_matrix[b_objectives\u001b[38;5;241m.\u001b[39mobjectives[\u001b[38;5;124m\"\u001b[39m\u001b[38;5;124mgrowth\u001b[39m\u001b[38;5;124m\"\u001b[39m]\u001b[38;5;241m.\u001b[39mindices], lb\u001b[38;5;241m=\u001b[39m\u001b[38;5;241m0\u001b[39m, ub\u001b[38;5;241m=\u001b[39m\u001b[38;5;241m0\u001b[39m),\n\u001b[0;32m   (...)\u001b[0m\n\u001b[1;32m     33\u001b[0m         ub\u001b[38;5;241m=\u001b[39mb_objectives\u001b[38;5;241m.\u001b[39mobjectives[\u001b[38;5;124m\"\u001b[39m\u001b[38;5;124mbounds\u001b[39m\u001b[38;5;124m\"\u001b[39m]\u001b[38;5;241m.\u001b[39mbounds[\u001b[38;5;241m1\u001b[39m]),\n\u001b[1;32m     34\u001b[0m ]\n\u001b[1;32m     35\u001b[0m \u001b[38;5;66;03m# row_bounds = np.array(row_bounds).T\u001b[39;00m\n\u001b[1;32m     36\u001b[0m \u001b[38;5;66;03m# lconstr = scipy.optimize.LinearConstraint(aug_matrix[rows], lb=row_bounds[0], ub=row_bounds[1])\u001b[39;00m\n",
      "File \u001b[0;32m<__array_function__ internals>:180\u001b[0m, in \u001b[0;36mhstack\u001b[0;34m(*args, **kwargs)\u001b[0m\n",
      "File \u001b[0;32m~/.pyenv/versions/3.8.16/envs/notebooks/lib/python3.8/site-packages/numpy/core/shape_base.py:343\u001b[0m, in \u001b[0;36mhstack\u001b[0;34m(tup)\u001b[0m\n\u001b[1;32m    341\u001b[0m \u001b[38;5;66;03m# As a special case, dimension 0 of 1-dimensional arrays is \"horizontal\"\u001b[39;00m\n\u001b[1;32m    342\u001b[0m \u001b[38;5;28;01mif\u001b[39;00m arrs \u001b[38;5;129;01mand\u001b[39;00m arrs[\u001b[38;5;241m0\u001b[39m]\u001b[38;5;241m.\u001b[39mndim \u001b[38;5;241m==\u001b[39m \u001b[38;5;241m1\u001b[39m:\n\u001b[0;32m--> 343\u001b[0m     \u001b[38;5;28;01mreturn\u001b[39;00m \u001b[43m_nx\u001b[49m\u001b[38;5;241;43m.\u001b[39;49m\u001b[43mconcatenate\u001b[49m\u001b[43m(\u001b[49m\u001b[43marrs\u001b[49m\u001b[43m,\u001b[49m\u001b[43m \u001b[49m\u001b[38;5;241;43m0\u001b[39;49m\u001b[43m)\u001b[49m\n\u001b[1;32m    344\u001b[0m \u001b[38;5;28;01melse\u001b[39;00m:\n\u001b[1;32m    345\u001b[0m     \u001b[38;5;28;01mreturn\u001b[39;00m _nx\u001b[38;5;241m.\u001b[39mconcatenate(arrs, \u001b[38;5;241m1\u001b[39m)\n",
      "File \u001b[0;32m<__array_function__ internals>:180\u001b[0m, in \u001b[0;36mconcatenate\u001b[0;34m(*args, **kwargs)\u001b[0m\n",
      "\u001b[0;31mValueError\u001b[0m: all the input arrays must have same number of dimensions, but the array at index 0 has 1 dimension(s) and the array at index 1 has 2 dimension(s)"
     ]
    }
   ],
   "source": [
    "col_bounds = [(0, np.inf)]   # growth rate\n",
    "for rxn in baby.reactions:\n",
    "    if rxn.reversible:\n",
    "        col_bounds.append((-np.inf, np.inf))\n",
    "    else:\n",
    "        col_bounds.append((0, np.inf))\n",
    "col_bounds = np.array(col_bounds).T\n",
    "bbounds = scipy.optimize.Bounds(lb=col_bounds[0], ub=col_bounds[1])\n",
    "\n",
    "# rows = []\n",
    "# row_bounds = []\n",
    "# for i in b_objectives.objectives[\"steady-state\"].indices:\n",
    "#     rows.append(i)\n",
    "#     row_bounds.append((0, 0))\n",
    "# for i, (lb, ub) in zip(b_objectives.objectives[\"bounds\"].indices, b_objectives.objectives[\"bounds\"].bounds.T):\n",
    "#     rows.append(i)\n",
    "#     row_bounds.append((lb, ub))\n",
    "\n",
    "# biomass_frac = np.zeros((baby.shape[0], 1))\n",
    "# for i, frac in zip(b_objectives.objectives[\"growth\"].indices, b_objectives.objectives[\"growth\"].fractions):\n",
    "#     biomass_frac[i, 0] = -frac\n",
    "#     rows.append(i)\n",
    "#     row_bounds.append((0, 0))\n",
    "\n",
    "biomass_frac = -baby.reactants.pack({baby.reactants[7]: 1.})\n",
    "aug_matrix = np.hstack([biomass_frac, baby.s_matrix])\n",
    "constraints = [\n",
    "    scipy.optimize.LinearConstraint(aug_matrix[b_objectives.objectives[\"steady-state\"].indices], lb=0, ub=0),\n",
    "    scipy.optimize.LinearConstraint(aug_matrix[b_objectives.objectives[\"growth\"].indices], lb=0, ub=0),\n",
    "    scipy.optimize.LinearConstraint(\n",
    "        aug_matrix[b_objectives.objectives[\"bounds\"].indices], \n",
    "        lb=b_objectives.objectives[\"bounds\"].bounds[0],\n",
    "        ub=b_objectives.objectives[\"bounds\"].bounds[1]),\n",
    "]\n",
    "# row_bounds = np.array(row_bounds).T\n",
    "# lconstr = scipy.optimize.LinearConstraint(aug_matrix[rows], lb=row_bounds[0], ub=row_bounds[1])"
   ]
  },
  {
   "cell_type": "code",
   "execution_count": 28,
   "id": "b0daa162-3deb-46f2-868b-c18ffb981abe",
   "metadata": {
    "tags": []
   },
   "outputs": [
    {
     "name": "stdout",
     "output_type": "stream",
     "text": [
      "Growth rate = 19.99993600020489\n",
      "Loss = 0.0\n",
      "\n",
      "CPU times: user 84.9 ms, sys: 5.11 ms, total: 90 ms\n",
      "Wall time: 88.6 ms\n"
     ]
    },
    {
     "data": {
      "text/plain": [
       "{'steady-state': array([0., 0.]),\n",
       " 'irrev': Array([0.], dtype=float64),\n",
       " 'bounds': Array([0., 0.], dtype=float64),\n",
       " 'growth': array([0.])}"
      ]
     },
     "execution_count": 28,
     "metadata": {},
     "output_type": "execute_result"
    }
   ],
   "source": [
    "%%time\n",
    "hessp = np.zeros_like(bx0)\n",
    "soln = scipy.optimize.minimize(\n",
    "    method=\"trust-constr\",\n",
    "    fun=jax.jit(bfun),\n",
    "    jac=jax.jit(jax.jacfwd(bfun)),\n",
    "    hessp=lambda x, v: hessp,\n",
    "    x0=bx0,\n",
    "    bounds=scipy.optimize.Bounds(lb=col_bounds[0], ub=col_bounds[1]),\n",
    "    constraints=scipy.optimize.LinearConstraint(aug_matrix[rows], lb=row_bounds[0], ub=row_bounds[1]),\n",
    "    options={\"xtol\": 1e-12, \"gtol\": 1e-12},\n",
    ")\n",
    "\n",
    "growth_rate = soln.x[0].astype(float)\n",
    "velocities = soln.x[1:]\n",
    "dmdt = baby.s_matrix @ velocities\n",
    "print(f\"Growth rate = {growth_rate}\")\n",
    "print(f\"Loss = {jnp.sum(jnp.square(b_residuals(soln.x)))}\")\n",
    "print()\n",
    "b_objectives.residuals(velocities, dmdt, {\"growth\": growth_rate})\n"
   ]
  },
  {
   "cell_type": "code",
   "execution_count": 29,
   "id": "f62d7903-06ab-4935-aad8-6683630a931c",
   "metadata": {
    "tags": []
   },
   "outputs": [],
   "source": [
    "col_bounds = [(0, np.inf)]   # growth rate\n",
    "for rxn in network.reactions:\n",
    "    if rxn in flux_targets:\n",
    "        col_bounds.append(flux_targets[rxn])\n",
    "    elif rxn.reversible:\n",
    "        col_bounds.append((-np.inf, np.inf))\n",
    "    else:\n",
    "        col_bounds.append((0, np.inf))\n",
    "col_bounds = np.array(col_bounds).T\n",
    "\n",
    "rows = []\n",
    "row_bounds = []\n",
    "for i in objectives.objectives[\"steady-state\"].indices:\n",
    "    rows.append(i)\n",
    "    row_bounds.append((0, 0))\n",
    "for i, (lb, ub) in zip(objectives.objectives[\"bounds\"].indices, objectives.objectives[\"bounds\"].bounds.T):\n",
    "    rows.append(i)\n",
    "    row_bounds.append((lb, ub))\n",
    "\n",
    "biomass_frac = np.zeros((network.shape[0], 1))\n",
    "for i, frac in zip(objectives.objectives[\"growth\"].indices, objectives.objectives[\"growth\"].fractions):\n",
    "    biomass_frac[i, 0] = -frac\n",
    "    rows.append(i)\n",
    "    row_bounds.append((0, 0))\n",
    "\n",
    "aug_matrix = np.hstack([biomass_frac, network.s_matrix])\n",
    "row_bounds = np.array(row_bounds).T\n"
   ]
  },
  {
   "cell_type": "code",
   "execution_count": 30,
   "id": "0120c80c-522c-4c6b-a252-7b6798400602",
   "metadata": {
    "tags": []
   },
   "outputs": [
    {
     "name": "stderr",
     "output_type": "stream",
     "text": [
      "/home/fdrusso/.pyenv/versions/3.8.16/envs/notebooks/lib/python3.8/site-packages/scipy/optimize/_trustregion_constr/projections.py:181: UserWarning: Singular Jacobian matrix. Using SVD decomposition to perform the factorizations.\n",
      "  warn('Singular Jacobian matrix. Using SVD decomposition to ' +\n"
     ]
    },
    {
     "name": "stdout",
     "output_type": "stream",
     "text": [
      "Growth rate = -0.14323160113842123\n",
      "Loss = 41.90568332670435\n",
      "\n",
      "CPU times: user 20.2 s, sys: 51.2 s, total: 1min 11s\n",
      "Wall time: 9.39 s\n"
     ]
    },
    {
     "data": {
      "text/plain": [
       "{'steady-state': array([-0.00177084,  0.34447563, -0.55909635, -0.40177271, -0.21222029,\n",
       "         0.42998095,  0.24888549,  0.77122194,  0.17101594, -0.01575714,\n",
       "        -0.0965977 ,  0.25373652, -0.36953541,  0.0071276 ,  0.25356243,\n",
       "         0.23389329, -0.031019  ,  0.19253258, -0.14207171,  0.29575919,\n",
       "         0.55878078,  1.63345457,  0.08320438,  0.27114762, -0.23389329,\n",
       "        -0.35518241,  0.24139225, -0.23382163,  0.34325755]),\n",
       " 'irrev': Array([ 0.        ,  0.        ,  0.        ,  0.        ,  0.        ,\n",
       "         0.        ,  0.        ,  0.        , -0.08411689,  0.        ,\n",
       "         0.        ,  0.        ,  0.        ,  0.        ,  0.        ,\n",
       "         0.        ,  0.        ,  0.        ,  0.        ,  0.        ,\n",
       "         0.        ,  0.        ,  0.        ,  0.        ,  0.        ,\n",
       "         0.        ,  0.        ,  0.        ,  0.        ,  0.        ,\n",
       "         0.        ,  0.        ,  0.        ,  0.        ,  0.        ],      dtype=float64),\n",
       " 'bounds': Array([-0.2191649 ,  0.        , -0.56730279,  0.        ,  0.        ,\n",
       "         0.        ,  0.        , -0.10465907,  0.        , -0.10487053,\n",
       "         0.        ,  0.        ,  0.        ,  0.        , -0.23769959,\n",
       "         0.        ,  0.        ,  0.        , -0.06768902,  0.        ],      dtype=float64),\n",
       " 'fluxes': Array([-3.56955208], dtype=float64),\n",
       " 'growth': array([-0.29085379, -0.05869745,  0.40603082,  0.25539904,  0.50702844,\n",
       "         0.26262013, -0.01517545, -0.15188766,  0.56040078,  1.2192122 ,\n",
       "        -1.23570865,  1.28591718,  0.13328931,  0.0543607 ,  0.56825082,\n",
       "        -0.51737874, -0.5985634 , -0.00809661, -0.7125245 ,  3.49786008,\n",
       "         1.23570865, -1.28591718, -0.84035659])}"
      ]
     },
     "execution_count": 30,
     "metadata": {},
     "output_type": "execute_result"
    }
   ],
   "source": [
    "%%time\n",
    "xlen = 1 + network.shape[1]\n",
    "x0=jax.random.uniform(prng, shape=(xlen,))\n",
    "jac = -jnp.eye(xlen)[0]\n",
    "hessp = np.zeros(xlen)\n",
    "\n",
    "soln = scipy.optimize.minimize(\n",
    "    method=\"trust-constr\",\n",
    "    fun=lambda x: -x[0].astype(float),\n",
    "    jac=lambda x: jac,\n",
    "    hessp=lambda x, v: hessp,\n",
    "    x0=x0,\n",
    "    bounds=scipy.optimize.Bounds(lb=col_bounds[0], ub=col_bounds[1]),\n",
    "    constraints=scipy.optimize.LinearConstraint(aug_matrix[rows], lb=row_bounds[0], ub=row_bounds[1]),\n",
    "    options={\"xtol\": 1e-12, \"gtol\": 1e-12},\n",
    ")\n",
    "\n",
    "growth_rate = soln.x[0].astype(float)\n",
    "velocities = soln.x[1:]\n",
    "dmdt = network.s_matrix @ velocities\n",
    "print(f\"Growth rate = {growth_rate}\")\n",
    "print(f\"Loss = {jnp.sum(jnp.square(residuals(soln.x)))}\")\n",
    "print()\n",
    "objectives.residuals(velocities, dmdt, {\"growth\": growth_rate})\n"
   ]
  },
  {
   "cell_type": "code",
   "execution_count": 188,
   "id": "752a8373-c31a-418f-bade-559fd0cbe923",
   "metadata": {
    "tags": []
   },
   "outputs": [
    {
     "data": {
      "text/plain": [
       "Bounds(array([0.  , -inf, -inf, -inf, -inf, -inf, -inf, -inf, 0.  , -inf, -inf,\n",
       "       8.39, -inf, -inf, 0.  , 0.  , -inf, -inf, -inf, -inf, 0.  , 0.  ,\n",
       "       0.  , 0.  , 0.  , -inf, 0.  , -inf, -inf, 0.  , 0.  , 0.  , -inf,\n",
       "       0.  , 0.  , -inf, 0.  , -inf, -inf, 0.  , -inf, 0.  , 0.  , -inf,\n",
       "       0.  , 0.  , 0.  , 0.  , -inf, -inf, 0.  , 0.  , 0.  , -inf, -inf,\n",
       "       0.  , -inf, -inf, 0.  , 0.  , 0.  , -inf, 0.  , -inf, -inf, -inf,\n",
       "       0.  , 0.  , 0.  , -inf, -inf, 0.  , -inf, -inf, -inf]), array([  inf,   inf,   inf,   inf,   inf,   inf,   inf,   inf,   inf,\n",
       "         inf,   inf, 1000.,   inf,   inf,   inf,   inf,   inf,   inf,\n",
       "         inf,   inf,   inf,   inf,   inf,   inf,   inf,   inf,   inf,\n",
       "         inf,   inf,   inf,   inf,   inf,   inf,   inf,   inf,   inf,\n",
       "         inf,   inf,   inf,   inf,   inf,   inf,   inf,   inf,   inf,\n",
       "         inf,   inf,   inf,   inf,   inf,   inf,   inf,   inf,   inf,\n",
       "         inf,   inf,   inf,   inf,   inf,   inf,   inf,   inf,   inf,\n",
       "         inf,   inf,   inf,   inf,   inf,   inf,   inf,   inf,   inf,\n",
       "         inf,   inf,   inf]))"
      ]
     },
     "execution_count": 188,
     "metadata": {},
     "output_type": "execute_result"
    }
   ],
   "source": [
    "scipy.optimize.Bounds(lb=col_bounds[0], ub=col_bounds[1])"
   ]
  },
  {
   "cell_type": "code",
   "execution_count": 184,
   "id": "52c27ddd-6e60-44eb-a1f6-a6411ddf0d45",
   "metadata": {
    "tags": []
   },
   "outputs": [
    {
     "data": {
      "text/plain": [
       "(75,)"
      ]
     },
     "execution_count": 184,
     "metadata": {},
     "output_type": "execute_result"
    }
   ],
   "source": [
    "hessp.shape"
   ]
  },
  {
   "cell_type": "markdown",
   "id": "8697ec5d-87eb-4524-9bbf-17ea466f5db3",
   "metadata": {
    "tags": []
   },
   "source": [
    "So the _concept_ of constrained minimization works just fine. But something is not as desired with NonLinearConstraint. Maybe that's just fine: most of the constraints on v or dmdt can be expressed that way. It is less flexible API-wise though. Or at least it will take some serious rethinking."
   ]
  },
  {
   "cell_type": "code",
   "execution_count": null,
   "id": "2dccca24-ce18-49d3-b362-dd8b555e7283",
   "metadata": {},
   "outputs": [],
   "source": []
  }
 ],
 "metadata": {
  "kernelspec": {
   "display_name": "Python 3 (ipykernel)",
   "language": "python",
   "name": "python3"
  },
  "language_info": {
   "codemirror_mode": {
    "name": "ipython",
    "version": 3
   },
   "file_extension": ".py",
   "mimetype": "text/x-python",
   "name": "python",
   "nbconvert_exporter": "python",
   "pygments_lexer": "ipython3",
   "version": "3.8.16"
  }
 },
 "nbformat": 4,
 "nbformat_minor": 5
}
