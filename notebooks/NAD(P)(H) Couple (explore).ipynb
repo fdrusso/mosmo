{
 "cells": [
  {
   "cell_type": "markdown",
   "id": "1b8d994f-0db9-4b39-ab74-fbc883a544d9",
   "metadata": {},
   "source": [
    "# NAD+/NADH and NADP+/NADPH"
   ]
  },
  {
   "cell_type": "code",
   "execution_count": 1,
   "id": "3aeda999-34cf-47e2-bd64-4b46c59012e3",
   "metadata": {},
   "outputs": [],
   "source": [
    "import projectpath\n",
    "\n",
    "import jax\n",
    "import jax.numpy as jnp\n",
    "import matplotlib.pyplot as plt\n",
    "import numpy as np\n",
    "import pandas as pd\n",
    "import scipy\n",
    "\n",
    "from mosmo.knowledge import kb\n",
    "from mosmo.knowledge.thermo import Thermodynamics\n",
    "from mosmo.model import KbEntry, DbXref, Molecule, Reaction, ReactionNetwork\n",
    "from mosmo.sim.convenience_kinetics import ConvenienceKinetics, Ligands, ReactionKinetics, PackedNetworkKinetics\n",
    "from mosmo.sim.fba_gd import SteadyStateObjective\n",
    "\n",
    "\n",
    "jax.config.update('jax_enable_x64', True)\n",
    "\n",
    "KB = kb.configure_kb()\n",
    "thermo = Thermodynamics(p_h=7.3, p_mg=1.5, ionic_strength=0.25, temperature=298.15)\n",
    "RT = 8.314463e-3 * 298.15  # kJ / mol\n",
    "FARADAY = 96.485332  # kC / mol"
   ]
  },
  {
   "cell_type": "markdown",
   "id": "5cd69228-a098-4fe2-b6f4-64ce52ae5e93",
   "metadata": {},
   "source": [
    "## Two transhydrogenase reactions\n",
    "\n",
    "- One is PMF-coupled. This is consistently treated as including stoichiometry H+(out): -1, H+(in): +1. This is correct in terms of tracking molecules, but not necessarily the most useful way to represent it for kinetic modeling. We eventually want a clean framework for this, but for now treat it as identical stoichiometry (for kinetics anyway), but with an additional ΔG for the PMF-coupled case. The net result will be a different balance for the forward/back kcat."
   ]
  },
  {
   "cell_type": "code",
   "execution_count": 3,
   "id": "edf39e7b-6b1f-4241-9e6e-26be1c481e5a",
   "metadata": {},
   "outputs": [
    {
     "name": "stdout",
     "output_type": "stream",
     "text": [
      "       UdhA  PntAB\n",
      "NADH     -1     -1\n",
      "NADP+    -1     -1\n",
      "NAD+      1      1\n",
      "NADPH     1      1\n",
      "H+(p)     0     -1\n",
      "H+        0      1\n",
      "\n",
      "NAD+ + H+ + 2 e- <=> NADH ΔG° = 66.78,  ΔG = 82.85\n",
      "NADP+ + H+ + 2 e- <=> NADPH ΔG° = 63.80,  ΔG = 98.40\n",
      "NADH + NADP+ <=> NAD+ + NADPH ΔG° = -2.98,  ΔG = 15.56\n"
     ]
    }
   ],
   "source": [
    "nad = KB(\"nad.ox\")\n",
    "nadh = KB(\"nad.red\")\n",
    "nadp = KB(\"nadp.ox\")\n",
    "nadph = KB(\"nadp.red\")\n",
    "\n",
    "proton = KB(\"h+\")\n",
    "proton_p = Molecule(_id='h+.p', name=\"proton (periplasm)\", shorthand=\"H+(p)\", charge=+1)\n",
    "electron = Molecule(_id='e-', name='electron', shorthand='e-', charge=-1, mass=0.000548579903, xrefs=(DbXref(\"CHEBI\",\"10545\"),))\n",
    "\n",
    "nad_reduction = Reaction(\"nad_red\", name=\"NAD reduction\", stoichiometry={nad: -1, proton: -1, electron: -2, nadh: +1})\n",
    "nadp_reduction = Reaction(\"nadp_red\", name=\"NADP reduction\", stoichiometry={nadp: -1, proton: -1, electron: -2, nadph: +1})\n",
    "\n",
    "udha = Reaction(\n",
    "    _id=\"UdhA\", \n",
    "    name=\"Energy-independent transhydrogenase\",\n",
    "    stoichiometry={nadh: -1, nadp: -1, nad: +1, nadph: +1},\n",
    "    catalyst=\"UdhA\",\n",
    ")\n",
    "pntab = Reaction(\n",
    "    _id=\"PntAB\", \n",
    "    name=\"PMF-coupled transhydrogenase\",\n",
    "    stoichiometry={nadh: -1, nadp: -1, proton_p: -1, nad: +1, nadph: +1, proton: +1},\n",
    "    catalyst=\"PntAB\",\n",
    ")\n",
    "ignored=[proton, proton_p, electron, KB(\"h2o\")]\n",
    "\n",
    "# Key ref for kinetics of UdhA/Sth, at least: https://doi.org/10.1111/j.1574-6968.2011.02287.x\n",
    "kinetics = {\n",
    "    udha: ReactionKinetics(kcat_f=200, kcat_b=1, km={nad: 0.133, nadph: 0.068}, ki={nadph: 1.0}, ka={}),\n",
    "    pntab: ReactionKinetics(kcat_f=1, kcat_b=1, km={}, ki={}, ka={}),\n",
    "}\n",
    "network = ReactionNetwork([udha, pntab])\n",
    "equations = ConvenienceKinetics(network, kinetics, ignore=ignored)\n",
    "\n",
    "print(pd.DataFrame(\n",
    "    network.s_matrix,\n",
    "    index=[mol.label for mol in network.reactants],\n",
    "    columns=[rxn.label for rxn in network.reactions],\n",
    "    dtype=int))\n",
    "print()\n",
    "\n",
    "concs = {\n",
    "    nad: 2.55,\n",
    "    nadh: 8.36e-02,\n",
    "    nadp: 2.08e-03,\n",
    "    nadph: 1.21e-01,\n",
    "    proton: np.power(10, -7.3) * 1000,\n",
    "    proton_p: np.power(10, -6.7) * 1000,\n",
    "}\n",
    "\n",
    "# ΔG = ΔG° + RT ln Q\n",
    "print(f\"{nad_reduction.formula} ΔG° = {thermo.reaction_delta_g(nad_reduction):.2f},  ΔG = {thermo.reaction_delta_g(nad_reduction, concs):.2f}\")\n",
    "print(f\"{nadp_reduction.formula} ΔG° = {thermo.reaction_delta_g(nadp_reduction):.2f},  ΔG = {thermo.reaction_delta_g(nadp_reduction, concs):.2f}\")\n",
    "print(f\"{udha.formula} ΔG° = {thermo.reaction_delta_g(udha):.2f},  ΔG = {thermo.reaction_delta_g(udha, concs):.2f}\")"
   ]
  },
  {
   "cell_type": "markdown",
   "id": "ad056e63-991c-427f-af8d-119c0faee81f",
   "metadata": {},
   "source": [
    "In other words, this system is maintained far from equilibrium, presumably by the PMF-driven transhydrogenase. This also means the ΔG of the PMF must be sufficient to maintain this disequilbrium.\n",
    "\n",
    "The other possibility is that it's dynamic -- NADPH is being (net) produced and NADH (net) consumed at a high enough rate to overcome the tendency of the system toward a more balanced distribution. That would likely be harder to regulate though."
   ]
  },
  {
   "cell_type": "markdown",
   "id": "46170c2b-bbe2-4c3d-a578-d8a67c2ff187",
   "metadata": {
    "tags": []
   },
   "source": [
    "## Working hypothesis: Δp shifts the kinetics of the PntAB transhydrogenase reaction\n",
    "\n",
    "- For PntAB we have two half-reactions, NADH + NADP <=> NAD + NADPH and H+(p) <=> H+(c)\n",
    "- Overall ΔG° is the ΔG° from above plus ΔG due to the proton-motive force.\n",
    "- (Haldane) $ln(k_{cat}^{+}) - ln(k_{cat}^{-}) = -\\frac{\\Delta{G}^{\\circ}_r}{RT} - \\sum\\limits_i{(n_i ln({K_M}_i))}$\n",
    "  - i.e. ΔG° of the reaction affects the relative magnitude of $k_{cat}^{+}$ and $k_{cat}^{-}$\n",
    "- Mechanistically, the magnitude of the PMF is unlikely to affect binding affinities for NAD(P)(H) species, but it _can_ affect the energetics of the pre-transition, transition, and post-transition enzyme-complex states, all of which affect the observed $k_{cat}^{+}$ and $k_{cat}^{-}$\n"
   ]
  },
  {
   "cell_type": "code",
   "execution_count": 4,
   "id": "bacb2ee4-71ee-45c1-b023-d008a0dd610e",
   "metadata": {},
   "outputs": [
    {
     "name": "stdout",
     "output_type": "stream",
     "text": [
      "At Δψ = -150 mV and ΔpH = 0.60:\n",
      "ΔGp = FΔψ + RT ln(H+[p]/H+[c]) = -14.473 + -3.425 = -17.898\n"
     ]
    }
   ],
   "source": [
    "d_psi = -150  # mV\n",
    "ph_p = 6.7\n",
    "dg_p_psi = d_psi / 1000 * FARADAY  # mV * V/mV * (kJ/kC)/V * kC/mol = kJ/mol\n",
    "dg_p_ph = -np.log(10) * RT * (thermo.cc.p_h.m - ph_p)\n",
    "dg_p = dg_p_psi + dg_p_ph\n",
    "print(f\"At Δψ = {d_psi} mV and ΔpH = {thermo.cc.p_h.m - ph_p:.2f}:\")\n",
    "print(f\"ΔGp = FΔψ + RT ln(H+[p]/H+[c]) = {dg_p_psi:.3f} + {dg_p_ph:.3f} = {dg_p:.3f}\")"
   ]
  },
  {
   "cell_type": "markdown",
   "id": "84c9bdcd-267e-4423-b107-10116eda43d9",
   "metadata": {},
   "source": [
    "Conventionally the PMF literature uses Δp (expressed in mV) to quantify PMF, rather than ΔG. The relationship is\n",
    "\n",
    "$\\Delta{p} = -\\frac{\\Delta{G}}{F} = -\\Delta{\\psi} + ln(10)\\frac{RT}{F} \\Delta{pH} \\approx -\\Delta{\\psi} + 59.1 \\Delta{pH}$ (mV)\n",
    "\n",
    "But since all we're doing is multiplying by a constant (-1/F for volts, -1000/F for millivolts), the values are proportional\n",
    "\n",
    "$\\Delta{p}$ (mV) $\\approx -10.36 \\Delta{G}$ (kJ/mol)\n",
    "\n",
    "Everything else we do thermodynamically uses ΔG in kJ/mol, so we'll stick with that. But it's easy enough to convert to mV for presentation."
   ]
  },
  {
   "cell_type": "code",
   "execution_count": 5,
   "id": "965fc614-9dbb-4e8f-a29b-c0bab676559b",
   "metadata": {
    "tags": []
   },
   "outputs": [
    {
     "name": "stdout",
     "output_type": "stream",
     "text": [
      "ΔGp = -17.9 kJ/mol => Δp = 185.5 mV\n"
     ]
    }
   ],
   "source": [
    "print(f\"ΔGp = {dg_p:.1f} kJ/mol => Δp = {-dg_p / FARADAY * 1000:.1f} mV\")"
   ]
  },
  {
   "cell_type": "markdown",
   "id": "0a44b00c-c196-4c6c-941f-23f0c3734a14",
   "metadata": {},
   "source": [
    "## Steady-state NADH/NAD(tot) and NADPH/NADP(tot) as a function of [PntAB] at constant [Udh]\n",
    "- with Δp = 185.5 mV"
   ]
  },
  {
   "cell_type": "code",
   "execution_count": 6,
   "id": "7d1c23a5-7023-4b85-9aad-9ef819c50373",
   "metadata": {},
   "outputs": [
    {
     "data": {
      "text/plain": [
       "PackedNetworkKinetics(kcats_f=DeviceArray([199.95254114, 183.23042286], dtype=float64), kcats_b=DeviceArray([5.43758410e+01, 4.03265789e-02], dtype=float64), kms_s=DeviceArray([[0.1, 0.1],\n",
       "             [0.1, 0.1]], dtype=float64), kms_p=DeviceArray([[0.133, 0.068],\n",
       "             [0.1  , 0.1  ]], dtype=float64), kas=DeviceArray([], dtype=float64), kis=DeviceArray([[1.],\n",
       "             [1.]], dtype=float64))"
      ]
     },
     "execution_count": 6,
     "metadata": {},
     "output_type": "execute_result"
    }
   ],
   "source": [
    "# Manually adjusted kvs to get kcat_f =~ 200\n",
    "dgr0 = thermo.reaction_delta_g(udha)\n",
    "equations.adjust_kinetics(dgrs=np.array([dgr0, dgr0 + dg_p]), kvs=np.array([4.647, 1.]))\n",
    "equations.kparms"
   ]
  },
  {
   "cell_type": "code",
   "execution_count": 7,
   "id": "2dedf98f-d91b-4b9f-b6fd-4826109164b8",
   "metadata": {},
   "outputs": [],
   "source": [
    "objective = SteadyStateObjective(network, [nad, nadh, nadp, nadph])\n",
    "\n",
    "def ss_residual(state, enzyme_concs):\n",
    "    rates = equations.reaction_rates(state, enzyme_concs)\n",
    "    dmdt = network.s_matrix @ rates\n",
    "    # manually enforce lower bound by penalizing negative state\n",
    "    return jnp.concatenate([objective.residual(rates, dmdt), jnp.minimum(0, state)])\n",
    "\n",
    "# There is really only one variable, the net turnover of the reaction NADH + NADP <=> NAD + NADPH\n",
    "state0 = network.reactants.pack(concs)\n",
    "def adjusted_state(x):\n",
    "    return state0 + (network.s_matrix @ jnp.append(x, 0))\n",
    "\n",
    "fn = lambda x, enzyme_concs: ss_residual(adjusted_state(x), enzyme_concs)\n",
    "fn_jit = jax.jit(fn)\n",
    "fn_jac = jax.jit(jax.jacfwd(fn))\n",
    "\n",
    "enzyme_range = np.linspace(0, .1, 101)\n",
    "states = []\n",
    "velocities = []\n",
    "residuals = []\n",
    "for pntab_conc in enzyme_range:\n",
    "    enzyme_concs = network.reactions.pack({udha: 0.001, pntab: pntab_conc})\n",
    "    ss = scipy.optimize.least_squares(\n",
    "        fun=fn_jit,\n",
    "        x0 = np.zeros(1),\n",
    "        jac=fn_jac,\n",
    "        args=(enzyme_concs,),\n",
    "    )\n",
    "    \n",
    "    state = adjusted_state(ss.x)\n",
    "    states.append(state)\n",
    "    velocities.append(equations.reaction_rates(state, enzyme_concs))\n",
    "    residuals.append(np.sum(np.square(ss.fun)))\n",
    "\n",
    "states = np.array(states)\n",
    "velocities = np.array(velocities)\n",
    "residuals = np.array(residuals)"
   ]
  },
  {
   "cell_type": "code",
   "execution_count": 8,
   "id": "faadc772-0e2c-4dc8-b8a3-91eaa6999b88",
   "metadata": {},
   "outputs": [
    {
     "data": {
      "image/png": "[encoded data removed]",
      "text/plain": [
       "<Figure size 720x288 with 2 Axes>"
      ]
     },
     "metadata": {
      "needs_background": "light"
     },
     "output_type": "display_data"
    }
   ],
   "source": [
    "df = pd.DataFrame(states, index=enzyme_range, columns=[mol.label for mol in network.reactants])\n",
    "fig, ax = plt.subplots(1, 2, figsize=(10, 4))\n",
    "ax[0].plot(enzyme_range, df['NADPH']/(df['NADPH'] + df['NADP+']), label='NADP pool')\n",
    "ax[0].plot(enzyme_range, df['NADH']/(df['NADH'] + df['NAD+']), label='NAD pool')\n",
    "ax[0].set_xlabel('[PntAB] (mM)')\n",
    "ax[0].set_title('Redox state')\n",
    "ax[0].legend()\n",
    "ax[1].plot(enzyme_range, velocities[:,1])\n",
    "ax[1].set_xlabel('[PntAB] (mM)')\n",
    "ax[1].set_title('UdhA - PntAB Cycle flux (PMF consumption)')\n",
    "fig.tight_layout()\n",
    "plt.show()"
   ]
  },
  {
   "cell_type": "markdown",
   "id": "f496b536-4227-4b01-93ee-0c2e7040e5a5",
   "metadata": {},
   "source": [
    "### Additional metrics\n",
    "#### Total capacity, charge"
   ]
  },
  {
   "cell_type": "code",
   "execution_count": 10,
   "id": "baa6aa3a-ea2d-41d8-bb4f-286e009bff4c",
   "metadata": {},
   "outputs": [
    {
     "data": {
      "image/png": "[encoded data removed]",
      "text/plain": [
       "<Figure size 432x288 with 1 Axes>"
      ]
     },
     "metadata": {
      "needs_background": "light"
     },
     "output_type": "display_data"
    }
   ],
   "source": [
    "_nad = network.reactants.index_of(nad)\n",
    "_nadh = network.reactants.index_of(nadh)\n",
    "_nadp = network.reactants.index_of(nadp)\n",
    "_nadph = network.reactants.index_of(nadph)\n",
    "\n",
    "capacity_conc = np.sum(states[:, [_nad, _nadh, _nadp, _nadph]], axis=-1)\n",
    "capacity_count = np.floor(capacity_conc * 2e6).astype(int)  # 1 mM ~ 2e6 electrons per cell\n",
    "\n",
    "total_charge_conc = np.sum(states[:, [_nadh, _nadph]], axis=-1)\n",
    "total_charge_count = np.floor(total_charge_conc * 2e6).astype(int)\n",
    "\n",
    "plt.plot(enzyme_range, capacity_count, label=\"Capacity\")\n",
    "plt.plot(enzyme_range, total_charge_count, label=\"Charge\")\n",
    "plt.legend()\n",
    "plt.ylim((0, 1e7))\n",
    "plt.show()\n"
   ]
  },
  {
   "cell_type": "markdown",
   "id": "f887a6b8-fffc-4aff-aeb9-4522001eab94",
   "metadata": {},
   "source": [
    "#### Capacity, charge per pool"
   ]
  },
  {
   "cell_type": "code",
   "execution_count": 11,
   "id": "5376bcf5-06e7-4e89-9159-8075dc826b3a",
   "metadata": {},
   "outputs": [
    {
     "data": {
      "image/png": "[encoded data removed]",
      "text/plain": [
       "<Figure size 720x288 with 2 Axes>"
      ]
     },
     "metadata": {
      "needs_background": "light"
     },
     "output_type": "display_data"
    }
   ],
   "source": [
    "capacity_conc = np.sum(states[:, [[_nad, _nadh], [_nadp, _nadph]]], axis=-1)\n",
    "capacity_count = np.floor(capacity_conc * 2e6).astype(int)  # 1 mM ~ 2e6 electrons per cell\n",
    "charge_conc = states[:, [_nadh, _nadph]]\n",
    "charge_count = np.floor(charge_conc * 2e6).astype(int)\n",
    "\n",
    "fig, ax = plt.subplots(1, 2, figsize=(10,4))\n",
    "for _ax, cap, chg, pool in zip(ax, capacity_count.T, charge_count.T, (\"NAD+\", \"NADP+\")):\n",
    "    _ax.plot(enzyme_range, cap, label=\"Capacity\")\n",
    "    _ax.plot(enzyme_range, chg, label=\"Charge\")\n",
    "    _ax.set_title(pool + \" pool\")\n",
    "    _ax.set_xlabel('[PntAB] (mM)')\n",
    "    _ax.legend()\n",
    "plt.show()\n"
   ]
  },
  {
   "cell_type": "markdown",
   "id": "6fc93839-d1da-4be8-85bc-cfd5a9c8d21e",
   "metadata": {},
   "source": [
    "#### Charge separation between pools"
   ]
  },
  {
   "cell_type": "code",
   "execution_count": 12,
   "id": "9410576c-cd03-4ac0-8c25-21de18fb24b2",
   "metadata": {},
   "outputs": [
    {
     "data": {
      "image/png": "[encoded data removed]",
      "text/plain": [
       "<Figure size 720x288 with 2 Axes>"
      ]
     },
     "metadata": {
      "needs_background": "light"
     },
     "output_type": "display_data"
    }
   ],
   "source": [
    "relative_charge = charge_conc / capacity_conc\n",
    "separation = relative_charge[:, 1] / relative_charge[:, 0]\n",
    "\n",
    "# ΔG = ΔG° + RT ln Q, for pool equalization\n",
    "dgr0 = thermo.reaction_delta_g(udha)\n",
    "ln_q = np.sum(np.log(states[:, [_nad, _nadh, _nadp, _nadph]]) * np.array([[1., -1, -1., 1]]), axis=1)\n",
    "dgr = dgr0 + RT * ln_q\n",
    "\n",
    "fig, ax = plt.subplots(1, 2, figsize=(10, 4))\n",
    "ax[0].plot(enzyme_range, separation)\n",
    "ax[0].set_title(\"Charge separation (NADP vs NAD pool)\")\n",
    "ax[0].set_xlabel('[PntAB] (mM)')\n",
    "ax[1].plot(enzyme_range, dgr)\n",
    "ax[1].set_title(\"Deviation from equilibrium (ΔG)\")\n",
    "ax[1].set_xlabel('[PntAB] (mM)')\n",
    "plt.show()"
   ]
  },
  {
   "cell_type": "markdown",
   "id": "b4df45a6-8f40-4e5c-bc54-ceb391941558",
   "metadata": {},
   "source": [
    "## Response to imbalanced e⁻ load"
   ]
  },
  {
   "cell_type": "code",
   "execution_count": 15,
   "id": "7ab52f2d-c7cd-4ff9-b260-176e747b31b3",
   "metadata": {},
   "outputs": [
    {
     "data": {
      "text/plain": [
       "[nad.red] NADH               0.091779\n",
       "[nadp.ox] NADP+              0.010259\n",
       "[nad.ox] NAD+                2.541821\n",
       "[nadp.red] NADPH             0.112821\n",
       "[h+.p] proton (periplasm)    0.000200\n",
       "[h+] proton                  0.000050\n",
       "dtype: float64"
      ]
     },
     "execution_count": 15,
     "metadata": {},
     "output_type": "execute_result"
    }
   ],
   "source": [
    "pd.Series(network.reactants.unpack(states[-1]))"
   ]
  },
  {
   "cell_type": "code",
   "execution_count": 16,
   "id": "2e039ef5-aed5-493f-95ef-d6359303d8dc",
   "metadata": {},
   "outputs": [
    {
     "data": {
      "text/plain": [
       "[nad.ox] NAD+                2.55000\n",
       "[nad.red] NADH               0.08360\n",
       "[nadp.ox] NADP+              0.00208\n",
       "[nadp.red] NADPH             0.12100\n",
       "[h+] proton                  0.00005\n",
       "[h+.p] proton (periplasm)    0.00020\n",
       "dtype: float64"
      ]
     },
     "execution_count": 16,
     "metadata": {},
     "output_type": "execute_result"
    }
   ],
   "source": [
    "pd.Series(concs)"
   ]
  },
  {
   "cell_type": "code",
   "execution_count": 17,
   "id": "2f48fb61-a1fb-4fdf-8c1f-d3a2052ed24a",
   "metadata": {},
   "outputs": [
    {
     "data": {
      "text/plain": [
       "UdhA    -0.02807\n",
       "PntAB    0.02807\n",
       "dtype: float64"
      ]
     },
     "execution_count": 17,
     "metadata": {},
     "output_type": "execute_result"
    }
   ],
   "source": [
    "pd.Series(velocities[-1], index=[rxn.label for rxn in network.reactions])"
   ]
  },
  {
   "cell_type": "code",
   "execution_count": 18,
   "id": "d4b828e9-f58c-4711-9155-15a23b068ac0",
   "metadata": {},
   "outputs": [
    {
     "data": {
      "text/plain": [
       "UdhA    -0.02807\n",
       "PntAB    0.02807\n",
       "dtype: float64"
      ]
     },
     "execution_count": 18,
     "metadata": {},
     "output_type": "execute_result"
    }
   ],
   "source": [
    "pd.Series(equations.reaction_rates(states[-1], np.array([0.001, 0.1])), index=[rxn.label for rxn in network.reactions])"
   ]
  },
  {
   "cell_type": "code",
   "execution_count": 21,
   "id": "6f3c39e1-85aa-49e2-bda6-00da4979dcf2",
   "metadata": {},
   "outputs": [
    {
     "name": "stdout",
     "output_type": "stream",
     "text": [
      "       UdhA  PntAB  nad_red  nadp_red\n",
      "NADH     -1     -1        1         0\n",
      "NADP+    -1     -1        0        -1\n",
      "NAD+      1      1       -1         0\n",
      "NADPH     1      1        0         1\n",
      "H+(p)     0     -1        0         0\n",
      "H+        0      1       -1        -1\n",
      "e-        0      0       -2        -2\n",
      "\n"
     ]
    }
   ],
   "source": [
    "net1 = ReactionNetwork([udha, pntab, nad_reduction, nadp_reduction])\n",
    "print(pd.DataFrame(net1.s_matrix, index=[mol.label for mol in net1.reactants], columns=[rxn.label for rxn in net1.reactions], dtype=int))\n",
    "print()\n",
    "\n",
    "eq1 = ConvenienceKinetics(net1, kinetics, ignore=ignored)\n",
    "eq1.adjust_kinetics(dgrs=np.array([dgr0, dgr0 + dg_p, 0, 0]), kvs=np.array([4.647, 1., 0., 0.]))\n",
    "obj1 = SteadyStateObjective(net1, [nad, nadh, nadp, nadph, electron])\n",
    "\n",
    "def adjusted_state(adjustment, state0):\n",
    "    return state0 + net1.s_matrix[:, 0] * adjustment\n",
    "\n",
    "def adjusted_rates(nadph_surplus, state, enzyme_concs):\n",
    "    rates = eq1.reaction_rates(state, enzyme_concs)\n",
    "    return rates + jnp.array([0., 0., 1., -1.]) * nadph_surplus\n",
    "\n",
    "def ss_residual(rates):\n",
    "    dmdt = net1.s_matrix @ rates\n",
    "    return obj1.residual(rates, dmdt)\n",
    "\n",
    "def fn(x, state0, enzyme_concs, nadph_surplus):\n",
    "    # adjustment, nadph_surplus = x\n",
    "    adjustment = x[0]\n",
    "    state = adjusted_state(adjustment, state0)\n",
    "    rates = adjusted_rates(nadph_surplus, state, enzyme_concs)\n",
    "    residual = ss_residual(rates)\n",
    "    return jnp.concatenate([residual, jnp.minimum(state, 0.)])\n",
    "\n",
    "fn_jit = jax.jit(fn)\n",
    "fn_jac = jax.jit(jax.jacfwd(fn))\n",
    "\n",
    "state0 = np.append(states[-1], 0)\n",
    "enzyme_concs=net1.reactions.pack({udha: 0.001, pntab: 0.1})\n",
    "\n",
    "surplus_range = np.linspace(-.05, .05, 101)\n",
    "states1 = []\n",
    "velocities1 = []\n",
    "residuals1 = []\n",
    "for nadph_surplus in surplus_range:\n",
    "    ss = scipy.optimize.least_squares(\n",
    "        fun=fn_jit,\n",
    "        x0 = np.zeros(1),\n",
    "        jac=fn_jac,\n",
    "        args=(state0, enzyme_concs, nadph_surplus),\n",
    "    )\n",
    "    \n",
    "    state = adjusted_state(ss.x, state0)\n",
    "    rate = adjusted_rates(nadph_surplus, state, enzyme_concs)\n",
    "    states1.append(state)\n",
    "    velocities1.append(rate)\n",
    "    residuals1.append(np.sum(np.square(ss.fun)))\n",
    "\n",
    "states1 = np.array(states1)\n",
    "velocities1 = np.array(velocities1)\n",
    "residuals1 = np.array(residuals1)"
   ]
  },
  {
   "cell_type": "code",
   "execution_count": 22,
   "id": "b82463dd-4158-4eae-94a3-564907720f87",
   "metadata": {},
   "outputs": [
    {
     "data": {
      "text/plain": [
       "DeviceArray([-0.02807027,  0.02807027,  0.        ,  0.        ], dtype=float64)"
      ]
     },
     "execution_count": 22,
     "metadata": {},
     "output_type": "execute_result"
    }
   ],
   "source": [
    "eq1.reaction_rates(np.append(states[-1], 0), enzyme_concs)"
   ]
  },
  {
   "cell_type": "code",
   "execution_count": 23,
   "id": "f984da62-794d-41f8-8999-9644954d75e5",
   "metadata": {},
   "outputs": [
    {
     "data": {
      "text/plain": [
       "DeviceArray([ 5.55111512e-16, -5.55111512e-16, -5.55111512e-16,\n",
       "              5.55111512e-16,  0.00000000e+00], dtype=float64)"
      ]
     },
     "execution_count": 23,
     "metadata": {},
     "output_type": "execute_result"
    }
   ],
   "source": [
    "ss_residual(adjusted_rates(0, np.append(states[-1], 0), enzyme_concs))"
   ]
  },
  {
   "cell_type": "code",
   "execution_count": 24,
   "id": "1971f500-7ce5-4786-8a33-5d6c62d0e1e5",
   "metadata": {},
   "outputs": [
    {
     "data": {
      "text/plain": [
       "DeviceArray([ 5.58580959e-16, -5.58580959e-16, -5.58580959e-16,\n",
       "              5.58580959e-16,  0.00000000e+00,  0.00000000e+00,\n",
       "              0.00000000e+00,  0.00000000e+00,  0.00000000e+00,\n",
       "              0.00000000e+00,  0.00000000e+00,  0.00000000e+00],            dtype=float64)"
      ]
     },
     "execution_count": 24,
     "metadata": {},
     "output_type": "execute_result"
    }
   ],
   "source": [
    "fn_jit([0], np.append(states[-1], 0), enzyme_concs, 0)"
   ]
  },
  {
   "cell_type": "code",
   "execution_count": 25,
   "id": "a63cdbe9-7c01-4d1d-9cd9-b2f86802a118",
   "metadata": {},
   "outputs": [
    {
     "data": {
      "image/png": "[encoded data removed]",
      "text/plain": [
       "<Figure size 720x288 with 2 Axes>"
      ]
     },
     "metadata": {
      "needs_background": "light"
     },
     "output_type": "display_data"
    }
   ],
   "source": [
    "df = pd.DataFrame(states1, index=surplus_range, columns=[mol.label for mol in net1.reactants])\n",
    "fig, ax = plt.subplots(1, 2, figsize=(10, 4))\n",
    "ax[0].plot(surplus_range, df['NADPH']/(df['NADPH'] + df['NADP+']), label='NADP pool')\n",
    "ax[0].plot(surplus_range, df['NADH']/(df['NADH'] + df['NAD+']), label='NAD pool')\n",
    "ax[0].set_xlabel('NADPH surplus rate (mM/s)')\n",
    "ax[0].set_title('Redox state')\n",
    "ax[0].legend()\n",
    "ax[1].plot(surplus_range, velocities1[:,0], label='UdhA')\n",
    "ax[1].plot(surplus_range, velocities1[:,1], label='PntAB')\n",
    "ax[1].set_xlabel('NADPH surplus rate (mM/s)')\n",
    "ax[1].set_title('UdhA - PntAB Cycle flux')\n",
    "ax[1].legend()\n",
    "fig.tight_layout()\n",
    "plt.show()"
   ]
  },
  {
   "cell_type": "markdown",
   "id": "8d75a155-eb2d-433b-9e11-2e74ecbe2fcc",
   "metadata": {},
   "source": [
    "- Redox state > 1 clearly a bug\n",
    "- Not that interesting really. But this all keeps total charge constant; the interesing responses will probably be when this can float based on\n",
    "    - NADP surplus/deficit\n",
    "    - ETC efficiency"
   ]
  },
  {
   "cell_type": "markdown",
   "id": "0e29514d-b063-4f5c-835b-9de7605da81d",
   "metadata": {},
   "source": [
    "## Timecourse response to e⁻ influx/removal\n",
    "### via NADH, as a pulse"
   ]
  },
  {
   "cell_type": "code",
   "execution_count": 26,
   "id": "11aecdce-2ee4-4456-9914-4c49e4ab4eef",
   "metadata": {},
   "outputs": [
    {
     "data": {
      "image/png": "[encoded data removed]",
      "text/plain": [
       "<Figure size 432x288 with 1 Axes>"
      ]
     },
     "metadata": {
      "needs_background": "light"
     },
     "output_type": "display_data"
    }
   ],
   "source": [
    "fn_jit = jax.jit(eq1.dstate_dt)\n",
    "fn_jac = jax.jit(jax.jacfwd(eq1.dstate_dt))\n",
    "\n",
    "pre = scipy.integrate.solve_ivp(\n",
    "    fun=lambda t, state, enz: fn_jit(state, enz),\n",
    "    jac=lambda t, state, enz: fn_jac(state, enz),\n",
    "    y0=state0,\n",
    "    args=(enzyme_concs,),\n",
    "    t_span=(0., 0.1),\n",
    "    method=\"BDF\",\n",
    ")\n",
    "\n",
    "pulse = net1.s_matrix @ (1. * np.array([0, 0, 1, 0]))\n",
    "sim1 = scipy.integrate.solve_ivp(\n",
    "    fun=lambda t, state, enz: fn_jit(state, enz),\n",
    "    jac=lambda t, state, enz: fn_jac(state, enz),\n",
    "    y0=pre.y.T[-1] + pulse,\n",
    "    args=(enzyme_concs,),\n",
    "    t_span=(0.1, 0.6),\n",
    "    method=\"BDF\",\n",
    ")\n",
    "\n",
    "sim2 = scipy.integrate.solve_ivp(\n",
    "    fun=lambda t, state, enz: fn_jit(state, enz),\n",
    "    jac=lambda t, state, enz: fn_jac(state, enz),\n",
    "    y0=sim1.y.T[-1] - pulse,\n",
    "    args=(enzyme_concs,),\n",
    "    t_span=(0.6, 1.1),\n",
    "    method=\"BDF\",\n",
    ")\n",
    "\n",
    "t = np.concatenate([pre.t, sim1.t, sim2.t])\n",
    "y = np.concatenate([pre.y.T, sim1.y.T, sim2.y.T])\n",
    "for mol in (nad, nadh, nadp, nadph):\n",
    "    plt.plot(t, y[:, net1.reactants.index_of(mol)], label=mol.label)\n",
    "plt.yscale('log')\n",
    "plt.ylabel('Concentration (mM)')\n",
    "plt.xlabel('t (sec)')\n",
    "plt.legend(loc='center left', bbox_to_anchor=(1, 0.5))\n",
    "plt.title('2e6 electrons added, then removed')\n",
    "plt.show()"
   ]
  },
  {
   "cell_type": "markdown",
   "id": "94068398-caaf-4c56-8e8f-7af0a7c75ffc",
   "metadata": {},
   "source": [
    "I think that's a result: the absolute concentration of NADPH is maintained at a constant level, while NADH makes all the excess available to ETC\n",
    "- Maybe not too surprising though -- the NADP pool is almost completely reduced, so it's not like NADPH can go up too much from there..."
   ]
  },
  {
   "cell_type": "markdown",
   "id": "3374fb39-6ab3-42fe-9719-e80583dfbadd",
   "metadata": {},
   "source": [
    "### via NADH, as a load over time"
   ]
  },
  {
   "cell_type": "code",
   "execution_count": 27,
   "id": "322deeec-4743-459e-8a6b-339f7743c0a8",
   "metadata": {},
   "outputs": [
    {
     "data": {
      "image/png": "[encoded data removed]",
      "text/plain": [
       "<Figure size 432x288 with 1 Axes>"
      ]
     },
     "metadata": {
      "needs_background": "light"
     },
     "output_type": "display_data"
    }
   ],
   "source": [
    "def dynamics(state, enzyme_concs, nad_red_rate):\n",
    "    rates = eq1.reaction_rates(state, enzyme_concs)\n",
    "    driver = nad_red_rate * jnp.array([0, 0, 1, 0])\n",
    "    return net1.s_matrix @ (rates + driver)\n",
    "\n",
    "fn_jit = jax.jit(dynamics)\n",
    "fn_jac = jax.jit(jax.jacfwd(dynamics))\n",
    "\n",
    "pre = scipy.integrate.solve_ivp(\n",
    "    fun=lambda t, *args: fn_jit(*args),\n",
    "    jac=lambda t, *args: fn_jac(*args),\n",
    "    y0=state0,\n",
    "    args=(enzyme_concs, 0.),\n",
    "    t_span=(0., 0.1),\n",
    "    method=\"BDF\",\n",
    ")\n",
    "\n",
    "sim1 = scipy.integrate.solve_ivp(\n",
    "    fun=lambda t, *args: fn_jit(*args),\n",
    "    jac=lambda t, *args: fn_jac(*args),\n",
    "    y0=pre.y.T[-1],\n",
    "    args=(enzyme_concs, +2.0), # +1 mM over 0.5 sec\n",
    "    t_span=(0.1, 0.6),\n",
    "    method=\"BDF\",\n",
    ")\n",
    "\n",
    "sim2 = scipy.integrate.solve_ivp(\n",
    "    fun=lambda t, *args: fn_jit(*args),\n",
    "    jac=lambda t, *args: fn_jac(*args),\n",
    "    y0=sim1.y.T[-1],\n",
    "    args=(enzyme_concs, -2.0), # -1 mM over 0.5 sec\n",
    "    t_span=(0.6, 1.1),\n",
    "    method=\"BDF\",\n",
    ")\n",
    "\n",
    "t = np.concatenate([pre.t, sim1.t, sim2.t])\n",
    "y = np.concatenate([pre.y.T, sim1.y.T, sim2.y.T])\n",
    "for mol in (nad, nadh, nadp, nadph):\n",
    "    plt.plot(t, y[:, net1.reactants.index_of(mol)], label=mol.label)\n",
    "plt.yscale('log')\n",
    "plt.ylabel('Concentration (mM)')\n",
    "plt.xlabel('t (sec)')\n",
    "plt.legend(loc='center left', bbox_to_anchor=(1, 0.5))\n",
    "plt.title('2e6 electrons added, then removed, over time')\n",
    "plt.show()"
   ]
  },
  {
   "cell_type": "markdown",
   "id": "759e1e7b-0760-4a41-9e05-60596cef394f",
   "metadata": {},
   "source": [
    "### via NADPH, as a load over time"
   ]
  },
  {
   "cell_type": "code",
   "execution_count": 28,
   "id": "82f98396-fe82-4546-bf24-da75813ad0a9",
   "metadata": {},
   "outputs": [
    {
     "data": {
      "image/png": "[encoded data removed]",
      "text/plain": [
       "<Figure size 432x288 with 1 Axes>"
      ]
     },
     "metadata": {
      "needs_background": "light"
     },
     "output_type": "display_data"
    }
   ],
   "source": [
    "def dynamics(state, enzyme_concs, nadp_red_rate):\n",
    "    rates = eq1.reaction_rates(state, enzyme_concs)\n",
    "    driver = nadp_red_rate * jnp.array([0, 0, 0, 1])\n",
    "    return net1.s_matrix @ (rates + driver)\n",
    "\n",
    "fn_jit = jax.jit(dynamics)\n",
    "fn_jac = jax.jit(jax.jacfwd(dynamics))\n",
    "\n",
    "pre = scipy.integrate.solve_ivp(\n",
    "    fun=lambda t, *args: fn_jit(*args),\n",
    "    jac=lambda t, *args: fn_jac(*args),\n",
    "    y0=state0,\n",
    "    args=(enzyme_concs, 0.),\n",
    "    t_span=(0., 0.1),\n",
    "    method=\"BDF\",\n",
    ")\n",
    "\n",
    "sim1 = scipy.integrate.solve_ivp(\n",
    "    fun=lambda t, *args: fn_jit(*args),\n",
    "    jac=lambda t, *args: fn_jac(*args),\n",
    "    y0=pre.y.T[-1],\n",
    "    args=(enzyme_concs, +2), # +1 mM over 0.5 sec\n",
    "    t_span=(0.1, 0.6),\n",
    "    method=\"BDF\",\n",
    ")\n",
    "\n",
    "sim2 = scipy.integrate.solve_ivp(\n",
    "    fun=lambda t, *args: fn_jit(*args),\n",
    "    jac=lambda t, *args: fn_jac(*args),\n",
    "    y0=sim1.y.T[-1],\n",
    "    args=(enzyme_concs, -2), # -1 mM over 0.5 sec\n",
    "    t_span=(0.6, 1.1),\n",
    "    method=\"BDF\",\n",
    ")\n",
    "\n",
    "t = np.concatenate([pre.t, sim1.t, sim2.t])\n",
    "y = np.concatenate([pre.y.T, sim1.y.T, sim2.y.T])\n",
    "for mol in (nad, nadh, nadp, nadph):\n",
    "    plt.plot(t, y[:, net1.reactants.index_of(mol)], label=mol.label)\n",
    "plt.yscale('log')\n",
    "plt.ylabel('Concentration (mM)')\n",
    "plt.xlabel('t (sec)')\n",
    "plt.legend(loc='center left', bbox_to_anchor=(1, 0.5))\n",
    "plt.title('2e6 electrons added, then removed, over time')\n",
    "plt.show()"
   ]
  },
  {
   "cell_type": "markdown",
   "id": "06fa1247-bb87-4e7d-94f0-de9b4ac7d3f4",
   "metadata": {},
   "source": [
    "**Unstable**: the system can't absorb (or release) the electrons as fast as they are flowing in (or out). Try a lower rate"
   ]
  },
  {
   "cell_type": "code",
   "execution_count": 29,
   "id": "132514da-59bc-4165-bb27-bf44654ec02d",
   "metadata": {},
   "outputs": [
    {
     "data": {
      "image/png": "[encoded data removed]",
      "text/plain": [
       "<Figure size 432x288 with 1 Axes>"
      ]
     },
     "metadata": {
      "needs_background": "light"
     },
     "output_type": "display_data"
    }
   ],
   "source": [
    "\n",
    "pre = scipy.integrate.solve_ivp(\n",
    "    fun=lambda t, *args: fn_jit(*args),\n",
    "    jac=lambda t, *args: fn_jac(*args),\n",
    "    y0=state0,\n",
    "    args=(enzyme_concs, 0.),\n",
    "    t_span=(0., 0.1),\n",
    "    method=\"BDF\",\n",
    ")\n",
    "\n",
    "sim1 = scipy.integrate.solve_ivp(\n",
    "    fun=lambda t, *args: fn_jit(*args),\n",
    "    jac=lambda t, *args: fn_jac(*args),\n",
    "    y0=pre.y.T[-1],\n",
    "    args=(enzyme_concs, +.02), # +1 mM over 0.5 sec\n",
    "    t_span=(0.1, 0.6),\n",
    "    method=\"BDF\",\n",
    ")\n",
    "\n",
    "sim2 = scipy.integrate.solve_ivp(\n",
    "    fun=lambda t, *args: fn_jit(*args),\n",
    "    jac=lambda t, *args: fn_jac(*args),\n",
    "    y0=sim1.y.T[-1],\n",
    "    args=(enzyme_concs, -.02), # -1 mM over 0.5 sec\n",
    "    t_span=(0.6, 1.1),\n",
    "    method=\"BDF\",\n",
    ")\n",
    "\n",
    "t = np.concatenate([pre.t, sim1.t, sim2.t])\n",
    "y = np.concatenate([pre.y.T, sim1.y.T, sim2.y.T])\n",
    "for mol in (nad, nadh, nadp, nadph):\n",
    "    plt.plot(t, y[:, net1.reactants.index_of(mol)], label=mol.label)\n",
    "plt.yscale('log')\n",
    "plt.ylabel('Concentration (mM)')\n",
    "plt.xlabel('t (sec)')\n",
    "plt.legend(loc='center left', bbox_to_anchor=(1, 0.5))\n",
    "plt.title('2e4 electrons added, then removed, over time')\n",
    "plt.show()"
   ]
  },
  {
   "cell_type": "markdown",
   "id": "9ad57566-8d16-432c-97bb-d9390e0201f3",
   "metadata": {},
   "source": [
    "Hypothesis: rate-limited by UdhA. If we then up-regulate UdhA / down-regulate PntAB..."
   ]
  },
  {
   "cell_type": "code",
   "execution_count": 31,
   "id": "2a2834fc-51b9-4cae-98da-01ac4fece3c1",
   "metadata": {},
   "outputs": [
    {
     "data": {
      "image/png": "[encoded data removed]",
      "text/plain": [
       "<Figure size 432x288 with 1 Axes>"
      ]
     },
     "metadata": {
      "needs_background": "light"
     },
     "output_type": "display_data"
    }
   ],
   "source": [
    "enzyme_concs1 = net1.reactions.pack({udha: 0.1, pntab: 0.1})\n",
    "\n",
    "pre = scipy.integrate.solve_ivp(\n",
    "    fun=lambda t, *args: fn_jit(*args),\n",
    "    jac=lambda t, *args: fn_jac(*args),\n",
    "    y0=state0,\n",
    "    args=(enzyme_concs1, 0.),\n",
    "    t_span=(0., 0.1),\n",
    "    method=\"BDF\",\n",
    ")\n",
    "\n",
    "sim1 = scipy.integrate.solve_ivp(\n",
    "    fun=lambda t, *args: fn_jit(*args),\n",
    "    jac=lambda t, *args: fn_jac(*args),\n",
    "    y0=pre.y.T[-1],\n",
    "    args=(enzyme_concs1, +2), # +1 mM over 0.5 sec\n",
    "    t_span=(0.1, 0.6),\n",
    "    method=\"BDF\",\n",
    ")\n",
    "\n",
    "sim2 = scipy.integrate.solve_ivp(\n",
    "    fun=lambda t, *args: fn_jit(*args),\n",
    "    jac=lambda t, *args: fn_jac(*args),\n",
    "    y0=sim1.y.T[-1],\n",
    "    args=(enzyme_concs1, -2), # -1 mM over 0.5 sec\n",
    "    t_span=(0.6, 1.1),\n",
    "    method=\"BDF\",\n",
    ")\n",
    "\n",
    "# Add a post-soak to let the system recover after removing the load\n",
    "post = scipy.integrate.solve_ivp(\n",
    "    fun=lambda t, *args: fn_jit(*args),\n",
    "    jac=lambda t, *args: fn_jac(*args),\n",
    "    y0=sim2.y.T[-1],\n",
    "    args=(enzyme_concs1, 0.),\n",
    "    t_span=(1.1, 1.2),\n",
    "    method=\"BDF\",\n",
    ")\n",
    "\n",
    "t = np.concatenate([pre.t, sim1.t, sim2.t, post.t])\n",
    "y = np.concatenate([pre.y.T, sim1.y.T, sim2.y.T, post.y.T])\n",
    "for mol in (nad, nadh, nadp, nadph):\n",
    "    plt.plot(t, y[:, net1.reactants.index_of(mol)], label=mol.label)\n",
    "plt.yscale('log')\n",
    "plt.ylabel('Concentration (mM)')\n",
    "plt.xlabel('t (sec)')\n",
    "plt.legend(loc='center left', bbox_to_anchor=(1, 0.5))\n",
    "plt.title('2e6 electrons added, then removed, over time')\n",
    "plt.show()"
   ]
  },
  {
   "cell_type": "markdown",
   "id": "72b87ccb-487a-4450-9ace-3d2f4d67e2f0",
   "metadata": {},
   "source": [
    "- Pre-soak finds a different steady-state, with less charge separation between NAD and NADP pools\n",
    "- Way more stable with respect to higher net surplus/deficit rates of NADP reduction\n",
    "- But none of the quantities is as constant as NADPH under the other regime\n",
    "    - Though NADPH is maybe closer than the others. UdhA still not quite keeping up?"
   ]
  },
  {
   "cell_type": "code",
   "execution_count": 32,
   "id": "00eb2a78-9815-49b1-96ff-9acbcbff19d6",
   "metadata": {},
   "outputs": [
    {
     "data": {
      "image/png": "[encoded data removed]",
      "text/plain": [
       "<Figure size 432x288 with 1 Axes>"
      ]
     },
     "metadata": {
      "needs_background": "light"
     },
     "output_type": "display_data"
    }
   ],
   "source": [
    "# 100x the previous activity of UdhA\n",
    "enzyme_concs1 = net1.reactions.pack({udha: 0.1, pntab: 0.1})\n",
    "\n",
    "pre = scipy.integrate.solve_ivp(\n",
    "    fun=lambda t, *args: fn_jit(*args),\n",
    "    jac=lambda t, *args: fn_jac(*args),\n",
    "    y0=state0,\n",
    "    args=(enzyme_concs1, 0.),\n",
    "    t_span=(0., 0.1),\n",
    "    method=\"BDF\",\n",
    ")\n",
    "\n",
    "sim1 = scipy.integrate.solve_ivp(\n",
    "    fun=lambda t, *args: fn_jit(*args),\n",
    "    jac=lambda t, *args: fn_jac(*args),\n",
    "    y0=pre.y.T[-1],\n",
    "    args=(enzyme_concs1, +.2), # +1 mM over 0.5 sec\n",
    "    t_span=(0.1, 0.6),\n",
    "    method=\"BDF\",\n",
    ")\n",
    "\n",
    "sim2 = scipy.integrate.solve_ivp(\n",
    "    fun=lambda t, *args: fn_jit(*args),\n",
    "    jac=lambda t, *args: fn_jac(*args),\n",
    "    y0=sim1.y.T[-1],\n",
    "    args=(enzyme_concs1, -.2), # -1 mM over 0.5 sec\n",
    "    t_span=(0.6, 1.1),\n",
    "    method=\"BDF\",\n",
    ")\n",
    "\n",
    "# Add a post-soak to let the system recover after removing the load\n",
    "post = scipy.integrate.solve_ivp(\n",
    "    fun=lambda t, *args: fn_jit(*args),\n",
    "    jac=lambda t, *args: fn_jac(*args),\n",
    "    y0=sim2.y.T[-1],\n",
    "    args=(enzyme_concs1, 0.),\n",
    "    t_span=(1.1, 1.2),\n",
    "    method=\"BDF\",\n",
    ")\n",
    "\n",
    "t = np.concatenate([pre.t, sim1.t, sim2.t, post.t])\n",
    "y = np.concatenate([pre.y.T, sim1.y.T, sim2.y.T, post.y.T])\n",
    "for mol in (nad, nadh, nadp, nadph):\n",
    "    plt.plot(t, y[:, net1.reactants.index_of(mol)], label=mol.label)\n",
    "plt.yscale('log')\n",
    "plt.ylabel('Concentration (mM)')\n",
    "plt.xlabel('t (sec)')\n",
    "plt.legend(loc='center left', bbox_to_anchor=(1, 0.5))\n",
    "plt.title('2e5 electrons added, then removed, over time')\n",
    "plt.show()"
   ]
  },
  {
   "cell_type": "markdown",
   "id": "352e0898-876f-4199-a025-9c9265bd3182",
   "metadata": {},
   "source": [
    "## Parameter Fitting\n",
    "### General Approach\n",
    "- reaction_rates() and dstate_dt() have hooks to provide (packed) kinetic parameters at call time. We leverage this to include parameters as variables in our optimization/simulation/ensemble experiments\n",
    "- at call time, we need fully specified state, enzyme_concs (technically part of state), and kinetics. For a given experiment we have a defined mapping from a 1d arg vector ('x') to these three objects. There are no theoretical restrictions here, and the mapping is completely up to the experiment\n",
    "- analysis and scoring of the output is also up to the experiment. Plan on a composite objective incentivizing (i.e. penalizing deviation from)\n",
    "    - intrinsic properties\n",
    "        - steady state\n",
    "        - _a priori_ concentration ranges\n",
    "        - _a priori_ kinetic parameter expectations\n",
    "    - observed quantities\n",
    "        - measured state\n",
    "        - reported kinetic parameters\n",
    "        - measured production/flux\n",
    "        - any kind of 'omics\n",
    "    - these will probably resuse exiting Objective subsclasses, and extend new ones. It's also possible we'll have to broaden the framework\n",
    "- inner call may be based on finding steady state, or solve_ivp for some defined interval (assuming that should get us to steady state). This may take some fiddling, since we want to balance inner-loop performance vs robustness and flexibility\n",
    "- outer loop may be optimization, ensemble modeling, MCMC, etc"
   ]
  },
  {
   "cell_type": "code",
   "execution_count": 33,
   "id": "84560da4-fcd2-4a58-b82f-1c32e51ef762",
   "metadata": {},
   "outputs": [
    {
     "name": "stdout",
     "output_type": "stream",
     "text": [
      "[199.95254114 183.23042286] [5.43758410e+01 4.03265789e-02]\n",
      "[199.95254114 183.23042286] [5.43758410e+01 4.03265789e-02]\n"
     ]
    }
   ],
   "source": [
    "# Don't jump too soon to defining an Experiment object, just build it all ad-hoc\n",
    "\n",
    "# Constant for the purpose of this experiment\n",
    "state0 = network.reactants.pack(concs)\n",
    "enzyme_concs = network.reactions.pack({udha: 0.01, pntab: 0.1})\n",
    "kparms = equations.kparms\n",
    "dgrs = jnp.array([thermo.reaction_delta_g(udha), thermo.reaction_delta_g(udha) + dg_p])\n",
    "kvs = jnp.array([4.647, 1.])\n",
    "\n",
    "# Factored out of ConvenienceKinetics -- rethink\n",
    "def adjusted_kinetics(kinetics, dgrs, kvs):\n",
    "    ln_km_s = jnp.log(kinetics.kms_s)\n",
    "    ln_km_p = jnp.log(kinetics.kms_p)\n",
    "    diffs = -dgrs / RT + jnp.sum(ln_km_s, axis=-1) - jnp.sum(ln_km_p, axis=-1)\n",
    "    kcats = jnp.exp(kvs + jnp.array([[0.5], [-0.5]]) * diffs)\n",
    "    return PackedNetworkKinetics(\n",
    "        kcats_f=kcats[0],\n",
    "        kcats_b=kcats[1],\n",
    "        kms_s=kinetics.kms_s,\n",
    "        kms_p=kinetics.kms_p,\n",
    "        kas=kinetics.kas,\n",
    "        kis=kinetics.kis,\n",
    "    )\n",
    "\n",
    "print(kparms.kcats_f, kparms.kcats_b)\n",
    "_kparms = adjusted_kinetics(kparms, dgrs, kvs)\n",
    "print(_kparms.kcats_f, _kparms.kcats_b)"
   ]
  },
  {
   "cell_type": "markdown",
   "id": "f434d44a-20ef-4513-9316-50cd23ea3dea",
   "metadata": {},
   "source": [
    "#### $g(\\vec{\\Theta}) \\rightarrow (f(\\vec{\\vec{y}}) \\rightarrow d\\vec{\\vec{y}}/dt, \\vec{\\vec{v}})$\n",
    "- i.e. given an ensemble $\\vec{\\Theta}$, produce a function (+jit/jac) suitable to optimize and/or simulate a _corresponding_ vector of state vectors\n",
    "- the result is a mapping of $\\Theta$ to steady-state $y$, and all that follows from it.\n",
    "- much more straightforward than I've been thinking? could be just what I need\n",
    "    - But wait, I was reading the docs wrong for solve_ivp(vectorized=True). It doesn't simultaneously simulate an array of state vectors, it just lets a solver multiplex calls to the dynamics function _at its discretion_. This makes sense, because the dynamics of $f(\\vec{y})$ under each $\\Theta$ could be very different, which undermines the optimizations in the solver itself. So it's an open question whether/how batching like I'm think of here improves things\n",
    "    - Bottom line: make it work, and try it with different batch sizes. Both with optimization and brief simulation to find steady state."
   ]
  },
  {
   "cell_type": "markdown",
   "id": "d2affb0d-ca19-4cf1-9212-213eeecb0210",
   "metadata": {},
   "source": [
    "#### First things first: ensemble PackedNetworkKinetics\n",
    "- identical structure, but every array has up to 2 prefix dimensions (dgr and/or kv)"
   ]
  },
  {
   "cell_type": "code",
   "execution_count": 34,
   "id": "3dbc24af-2313-40b7-86a0-cc4688457b8c",
   "metadata": {},
   "outputs": [
    {
     "name": "stdout",
     "output_type": "stream",
     "text": [
      "(3, 2) (5, 2)\n"
     ]
    }
   ],
   "source": [
    "prng = jax.random.PRNGKey(0)\n",
    "dgrs_e = dgrs + 0.1 * jax.random.normal(prng, (3,) + dgrs.shape)\n",
    "kvs_e = jax.random.uniform(prng, shape=(5, network.shape[1])) * 5\n",
    "\n",
    "# kvs.shape[-1] = diffs.shape[-1] = #rxns\n",
    "print(dgrs_e.shape, kvs_e.shape)"
   ]
  },
  {
   "cell_type": "code",
   "execution_count": 35,
   "id": "b8fa1191-6352-41b4-b527-fcebdbee9461",
   "metadata": {},
   "outputs": [
    {
     "name": "stdout",
     "output_type": "stream",
     "text": [
      "(2, 2) (2, 2)\n",
      "(2,)\n"
     ]
    }
   ],
   "source": [
    "# ln_km arrays have shape (#rxns, width), and sum to shape (#rxns,)\n",
    "ln_km_s = jnp.log(kparms.kms_s)\n",
    "ln_km_p = jnp.log(kparms.kms_p)\n",
    "print(ln_km_s.shape, ln_km_p.shape)\n",
    "\n",
    "sum_ln_kms = jnp.sum(ln_km_s, axis=-1) - jnp.sum(ln_km_p, axis=-1)\n",
    "print(sum_ln_kms.shape)"
   ]
  },
  {
   "cell_type": "code",
   "execution_count": 36,
   "id": "4efe3f4f-5f15-4c7f-86be-c88f76a79897",
   "metadata": {},
   "outputs": [
    {
     "name": "stdout",
     "output_type": "stream",
     "text": [
      "(2,) (3, 2)\n"
     ]
    }
   ],
   "source": [
    "# diffs.shape = dgrs.shape\n",
    "diffs = -dgrs / RT + sum_ln_kms\n",
    "diffs_e = -dgrs_e / RT + sum_ln_kms\n",
    "print(diffs.shape, diffs_e.shape)"
   ]
  },
  {
   "cell_type": "code",
   "execution_count": 37,
   "id": "74faccda-290a-4444-a59a-395fb9e75ac8",
   "metadata": {},
   "outputs": [
    {
     "name": "stdout",
     "output_type": "stream",
     "text": [
      "(2, 2)\n",
      "(2, 3, 2)\n"
     ]
    }
   ],
   "source": [
    "# kcats.shape = (2,) + kvs.shape[:-1] + diffs.shape\n",
    "offsets = jnp.array([+0.5, -0.5]).reshape((2,) + (1,) * len(diffs.shape)) * diffs\n",
    "print(offsets.shape)\n",
    "offsets_e = jnp.array([+0.5, -0.5]).reshape((2,) + (1,) * len(diffs_e.shape)) * diffs_e\n",
    "print(offsets_e.shape)"
   ]
  },
  {
   "cell_type": "markdown",
   "id": "775b5f36-b8e2-48d6-983f-f255019dd91f",
   "metadata": {},
   "source": [
    "Combining kvs_e and offsets_e is... complex.  Maybe just keep it simple and only one ensemble dimension at a time"
   ]
  },
  {
   "cell_type": "code",
   "execution_count": 38,
   "id": "a2aafe95-aa92-48f0-bafb-9f0e90fa6d56",
   "metadata": {},
   "outputs": [
    {
     "data": {
      "text/plain": [
       "DeviceArray([[[ 5.27407471,  5.23292497],\n",
       "              [ 5.28913115,  5.1986735 ],\n",
       "              [ 5.30598448,  5.19677452]],\n",
       "\n",
       "             [[ 4.01992529, -3.23292497],\n",
       "              [ 4.00486885, -3.1986735 ],\n",
       "              [ 3.98801552, -3.19677452]]], dtype=float64)"
      ]
     },
     "execution_count": 38,
     "metadata": {},
     "output_type": "execute_result"
    }
   ],
   "source": [
    "offsets_e + kvs"
   ]
  },
  {
   "cell_type": "code",
   "execution_count": 39,
   "id": "61751d43-5521-4e8d-913d-8da292b264e0",
   "metadata": {},
   "outputs": [
    {
     "data": {
      "text/plain": [
       "DeviceArray([[[ 4.9219633 ,  5.04174731],\n",
       "              [ 2.03135429,  6.64715233],\n",
       "              [ 5.61130059,  4.36154407],\n",
       "              [ 1.73255195,  6.09510101],\n",
       "              [ 3.80458223,  9.01796836]],\n",
       "\n",
       "             [[ 3.61980322, -3.3797417 ],\n",
       "              [ 0.7291942 , -1.77433668],\n",
       "              [ 4.3091405 , -4.05994493],\n",
       "              [ 0.43039187, -2.32638799],\n",
       "              [ 2.50242214,  0.59647936]]], dtype=float64)"
      ]
     },
     "execution_count": 39,
     "metadata": {},
     "output_type": "execute_result"
    }
   ],
   "source": [
    "offsets.reshape(2, 1, 2) + kvs_e"
   ]
  },
  {
   "cell_type": "code",
   "execution_count": 40,
   "id": "e438cade-f1c1-4fdd-a690-053eeba149ec",
   "metadata": {},
   "outputs": [
    {
     "data": {
      "text/plain": [
       "(5, 3, 2)"
      ]
     },
     "execution_count": 40,
     "metadata": {},
     "output_type": "execute_result"
    }
   ],
   "source": [
    "kcats_ee = jnp.exp(offsets_e.reshape(2, 1, 3, 2) + kvs_e.reshape(1, 5, 1, 2))\n",
    "kcats_ee[0].shape"
   ]
  },
  {
   "cell_type": "markdown",
   "id": "6e04cc74-d0f1-49e4-b7d1-e81c8dfe39ba",
   "metadata": {},
   "source": [
    "Ok, maybe it'll work. Not that that means it's necessarily a good idea to vary on both axes in the same ensemble. And maintaining code like this could get dicey. OTOH if it Just Works™ that might be cool."
   ]
  },
  {
   "cell_type": "code",
   "execution_count": 41,
   "id": "8193adbe-627e-470e-8a80-5eda80436f14",
   "metadata": {},
   "outputs": [
    {
     "name": "stdout",
     "output_type": "stream",
     "text": [
      "kcat: (2,), (2,)\n",
      "km  : (2, 2), (2, 2)\n",
      "reg : (2, 0), (2, 1)\n"
     ]
    }
   ],
   "source": [
    "def ensemble_kinetics(kparms, dgr, kv):\n",
    "    # Keep track of the shapes of dgr and kv, which determine the shape of the final output.\n",
    "    # - dgr.shape[-1] = kv.shape[-1] = #rxns\n",
    "    # - ensemble kcats_f and _b have shape dgr_prefix + kv_prefix + (#rxns,)\n",
    "    dgr_prefix = dgr.shape[:-1]\n",
    "    kv_prefix = kv.shape[:-1]\n",
    "    num_rxns = dgr.shape[-1]\n",
    "\n",
    "    # ln_km arrays have shape (#rxns, width), and sum to shape (#rxns,)\n",
    "    ln_km_s = np.log(kparms.kms_s)\n",
    "    ln_km_p = np.log(kparms.kms_p)\n",
    "    sum_ln_km = np.sum(ln_km_s, axis=-1) - np.sum(ln_km_p, axis=-1)\n",
    "    \n",
    "    # diff.shape = dgr.shape = dgr_prefix + (#rxns,); offsets multiply that by +/-0.5\n",
    "    diff = -dgr / RT + sum_ln_km\n",
    "    offsets = np.array([+0.5, -0.5]).reshape((2,) + (1,) * len(diff.shape)) * diff\n",
    "    \n",
    "    # Some careful reshaping to allow broadcasting kv vs offsets, into final shape (2,) + dgr_prefix + kv_prefix + (#rxns,)\n",
    "    kcats = np.exp(kv + offsets.reshape((2,) + dgr_prefix + (1,) * len(kv_prefix) + (num_rxns,)))\n",
    "\n",
    "    return PackedNetworkKinetics(\n",
    "        kcats_f=kcats[0],\n",
    "        kcats_b=kcats[1],\n",
    "        kms_s=kparms.kms_s,\n",
    "        kms_p=kparms.kms_p,\n",
    "        kas=kparms.kas,\n",
    "        kis=kparms.kis,\n",
    "    )\n",
    "\n",
    "def shapes(kparms):\n",
    "    print(f\"kcat: {kparms.kcats_f.shape}, {kparms.kcats_b.shape}\")\n",
    "    print(f\"km  : {kparms.kms_s.shape}, {kparms.kms_p.shape}\")\n",
    "    print(f\"reg : {kparms.kas.shape}, {kparms.kis.shape}\")\n",
    "\n",
    "shapes(kparms)"
   ]
  },
  {
   "cell_type": "code",
   "execution_count": 42,
   "id": "17c34127-51be-4813-808b-fdca13686c19",
   "metadata": {},
   "outputs": [
    {
     "name": "stdout",
     "output_type": "stream",
     "text": [
      "kcat: (2,), (2,)\n",
      "km  : (2, 2), (2, 2)\n",
      "reg : (2, 0), (2, 1)\n"
     ]
    }
   ],
   "source": [
    "shapes(ensemble_kinetics(kparms, dgrs, kvs))"
   ]
  },
  {
   "cell_type": "code",
   "execution_count": 43,
   "id": "a7e644e3-4476-4062-b37b-3cce5109a186",
   "metadata": {},
   "outputs": [
    {
     "name": "stdout",
     "output_type": "stream",
     "text": [
      "kcat: (5, 2), (5, 2)\n",
      "km  : (2, 2), (2, 2)\n",
      "reg : (2, 0), (2, 1)\n"
     ]
    }
   ],
   "source": [
    "shapes(ensemble_kinetics(kparms, dgrs, kvs_e))"
   ]
  },
  {
   "cell_type": "code",
   "execution_count": 44,
   "id": "b73fdf22-ae45-48ba-8dc1-9fe79058e479",
   "metadata": {},
   "outputs": [
    {
     "name": "stdout",
     "output_type": "stream",
     "text": [
      "kcat: (3, 2), (3, 2)\n",
      "km  : (2, 2), (2, 2)\n",
      "reg : (2, 0), (2, 1)\n"
     ]
    }
   ],
   "source": [
    "shapes(ensemble_kinetics(kparms, dgrs_e, kvs))"
   ]
  },
  {
   "cell_type": "code",
   "execution_count": 45,
   "id": "d12f46ed-aba7-449a-b82c-d9e742d394c2",
   "metadata": {},
   "outputs": [
    {
     "name": "stdout",
     "output_type": "stream",
     "text": [
      "kcat: (3, 5, 2), (3, 5, 2)\n",
      "km  : (2, 2), (2, 2)\n",
      "reg : (2, 0), (2, 1)\n"
     ]
    }
   ],
   "source": [
    "shapes(ensemble_kinetics(kparms, dgrs_e, kvs_e))"
   ]
  },
  {
   "cell_type": "markdown",
   "id": "91304a17-f564-4dfe-adc0-d36518126646",
   "metadata": {},
   "source": [
    "#### Vectorize reaction_rates()"
   ]
  },
  {
   "cell_type": "code",
   "execution_count": 46,
   "id": "36556954-ca88-47cd-a897-c5c72c5397f5",
   "metadata": {},
   "outputs": [
    {
     "data": {
      "text/plain": [
       "DeviceArray([-0.29007462,  0.003267  ], dtype=float64)"
      ]
     },
     "execution_count": 46,
     "metadata": {},
     "output_type": "execute_result"
    }
   ],
   "source": [
    "equations.reaction_rates(state0, enzyme_concs)"
   ]
  },
  {
   "cell_type": "code",
   "execution_count": 47,
   "id": "4660ab0e-c993-46f4-bad7-cee7f9bd0dad",
   "metadata": {},
   "outputs": [
    {
     "data": {
      "text/plain": [
       "DeviceArray([-0.29007462,  0.003267  ], dtype=float64)"
      ]
     },
     "execution_count": 47,
     "metadata": {},
     "output_type": "execute_result"
    }
   ],
   "source": [
    "equations.reaction_rates(state0, enzyme_concs, kparms)"
   ]
  },
  {
   "cell_type": "code",
   "execution_count": 48,
   "id": "9ec4dc7c-0555-4f31-9563-2f244339c850",
   "metadata": {},
   "outputs": [
    {
     "data": {
      "text/plain": [
       "DeviceArray([[[-0.20399894,  0.00289933],\n",
       "              [-0.01133059,  0.01443832],\n",
       "              [-0.40644641,  0.00146855],\n",
       "              [-0.00840396,  0.00831311],\n",
       "              [-0.06673528,  0.15457842]],\n",
       "\n",
       "             [[-0.20093946,  0.00268324],\n",
       "              [-0.01116065,  0.01336219],\n",
       "              [-0.40035071,  0.0013591 ],\n",
       "              [-0.00827792,  0.00769351],\n",
       "              [-0.06573441,  0.14305725]],\n",
       "\n",
       "             [[-0.19756884,  0.00267135],\n",
       "              [-0.01097344,  0.01330299],\n",
       "              [-0.39363511,  0.00135308],\n",
       "              [-0.00813907,  0.00765943],\n",
       "              [-0.06463176,  0.14242352]]], dtype=float64)"
      ]
     },
     "execution_count": 48,
     "metadata": {},
     "output_type": "execute_result"
    }
   ],
   "source": [
    "equations.reaction_rates(state0, enzyme_concs, ensemble_kinetics(kparms, dgrs_e, kvs_e))"
   ]
  },
  {
   "cell_type": "code",
   "execution_count": 49,
   "id": "28dcdcdc-d5a1-47b9-95e0-151178eaafde",
   "metadata": {},
   "outputs": [
    {
     "data": {
      "text/plain": [
       "DeviceArray([[[-0.29007462,  0.003267  ],\n",
       "              [-0.29007462,  0.003267  ],\n",
       "              [-0.29007462,  0.003267  ]],\n",
       "\n",
       "             [[-0.29007462,  0.003267  ],\n",
       "              [-0.29007462,  0.003267  ],\n",
       "              [-0.29007462,  0.003267  ]]], dtype=float64)"
      ]
     },
     "execution_count": 49,
     "metadata": {},
     "output_type": "execute_result"
    }
   ],
   "source": [
    "equations.reaction_rates(state0, enzyme_concs, ensemble_kinetics(kparms, jnp.broadcast_to(dgrs, (2,) + dgrs.shape), jnp.broadcast_to(kvs, (3,) + kvs.shape)))"
   ]
  },
  {
   "cell_type": "markdown",
   "id": "1e337a1d-dd4e-4e5d-97a0-d332a8b3efeb",
   "metadata": {},
   "source": [
    "That was easy, at least for ensemble params. Ensemble states will be a different story"
   ]
  },
  {
   "cell_type": "code",
   "execution_count": 50,
   "id": "d34086e0-36c8-4c02-873a-643312a7f95a",
   "metadata": {},
   "outputs": [
    {
     "data": {
      "text/plain": [
       "(8, 6)"
      ]
     },
     "execution_count": 50,
     "metadata": {},
     "output_type": "execute_result"
    }
   ],
   "source": [
    "states_e = state0 * jnp.exp(jax.random.normal(prng, (8, state0.shape[0])))\n",
    "states_e.shape"
   ]
  },
  {
   "cell_type": "code",
   "execution_count": 51,
   "id": "7f93ecec-8d00-45df-880e-e1207af21c43",
   "metadata": {},
   "outputs": [
    {
     "data": {
      "text/plain": [
       "DeviceArray([[-0.21348498, -0.00071236],\n",
       "             [-0.31490242, -0.00169702],\n",
       "             [-0.29256569,  0.00901386],\n",
       "             [-0.21314325,  0.08502046],\n",
       "             [-0.30232595,  0.00159294],\n",
       "             [-0.19755323, -0.00307277],\n",
       "             [-0.24353735,  0.00228656],\n",
       "             [-0.30233126,  0.00415489]], dtype=float64)"
      ]
     },
     "execution_count": 51,
     "metadata": {},
     "output_type": "execute_result"
    }
   ],
   "source": [
    "equations.reaction_rates(states_e, enzyme_concs, kparms)"
   ]
  },
  {
   "cell_type": "code",
   "execution_count": 52,
   "id": "519481e6-0536-4372-aeb6-5bbe7314403e",
   "metadata": {},
   "outputs": [
    {
     "name": "stdout",
     "output_type": "stream",
     "text": [
      "(2, 2) (2, 2) (2,)\n"
     ]
    }
   ],
   "source": [
    "tilde_s = equations.substrates.map_state(state, padding=1.) / kparms.kms_s\n",
    "tilde_p = equations.products.map_state(state, padding=1.) / kparms.kms_p\n",
    "numerator = kparms.kcats_f * jnp.prod(tilde_s, axis=-1) - kparms.kcats_b * jnp.prod(tilde_p, axis=-1)\n",
    "print(tilde_s.shape, tilde_p.shape, numerator.shape)\n"
   ]
  },
  {
   "cell_type": "code",
   "execution_count": 53,
   "id": "bf560e9d-32bf-4260-bd3f-50a9949b56f7",
   "metadata": {},
   "outputs": [
    {
     "name": "stdout",
     "output_type": "stream",
     "text": [
      "(8, 6)\n",
      "(49,)\n",
      "(2, 2)\n"
     ]
    }
   ],
   "source": [
    "# jnp.append(state, padding)[self.indices] / constants\n",
    "print(states_e.shape)\n",
    "print(jnp.append(states_e, 1.0).shape)\n",
    "print(jnp.append(states_e, 1.0)[equations.substrates.indices].shape)"
   ]
  },
  {
   "cell_type": "markdown",
   "id": "a419ebaf-88ce-4e44-a1c6-f493db9ca252",
   "metadata": {},
   "source": [
    "The current implementation uses jnp.append(), which flattens the input. So everything runs, it's just not the intent."
   ]
  },
  {
   "cell_type": "code",
   "execution_count": 54,
   "id": "a9f8618f-cfbc-445b-a3f1-3732f8ba8eee",
   "metadata": {},
   "outputs": [
    {
     "name": "stdout",
     "output_type": "stream",
     "text": [
      "(2, 2)\n",
      "(3, 5, 2, 2)\n",
      "(8, 2, 2)\n",
      "(4, 3, 7, 2, 2, 2)\n"
     ]
    }
   ],
   "source": [
    "def select_state(state, indices, padding=1.):\n",
    "    if len(state.shape) == 1:\n",
    "        return jnp.append(state, padding)[indices]\n",
    "    \n",
    "    # Arbitrary array of state vectors -> vector of arbitrary arrays of state values. Append matching array of padding.\n",
    "    _state = jnp.moveaxis(state, -1, 0)\n",
    "    # print(state.shape, _state.shape)\n",
    "    _state = jnp.vstack([_state, jnp.full((1,) + _state.shape[1:], padding)])\n",
    "    # print(_state.shape)\n",
    "\n",
    "    # Use the selector indices to get a 2d array of arbitrary arrays of state vules\n",
    "    _values = _state[indices]\n",
    "    # print(_values.shape)\n",
    "    # Rearrange to anrbitrary array of 2d arrays\n",
    "    _values = jnp.moveaxis(_values, (0, 1), (-2, -1))\n",
    "    # print(_values.shape)\n",
    "    return _values\n",
    "\n",
    "print(select_state(state0, equations.substrates.indices).shape)\n",
    "print(select_state(state0 * jnp.exp(jax.random.normal(prng, (3, 5, state0.shape[0]))), equations.substrates.indices).shape)\n",
    "print(select_state(state0 * jnp.exp(jax.random.normal(prng, (8, state0.shape[0]))), equations.substrates.indices).shape)\n",
    "print(select_state(state0 * jnp.exp(jax.random.normal(prng, (4, 3, 7, 2, state0.shape[0]))), equations.substrates.indices).shape)\n"
   ]
  },
  {
   "cell_type": "code",
   "execution_count": 55,
   "id": "01d5c007-f52d-4019-b203-a8869037f3ce",
   "metadata": {},
   "outputs": [
    {
     "name": "stdout",
     "output_type": "stream",
     "text": [
      "(3, 5, 2, 2) (3, 5, 2, 2) (3, 5, 2)\n"
     ]
    }
   ],
   "source": [
    "kparms_e = ensemble_kinetics(kparms, dgrs_e, kvs_e)\n",
    "states_e = state0 * jnp.exp(jax.random.normal(prng, (dgrs_e.shape[0], kvs_e.shape[0], state0.shape[0])))\n",
    "\n",
    "tilde_s = select_state(states_e, equations.substrates.indices) / kparms_e.kms_s\n",
    "tilde_p = select_state(states_e, equations.products.indices) / kparms_e.kms_p\n",
    "numerator = kparms_e.kcats_f * jnp.prod(tilde_s, axis=-1) - kparms_e.kcats_b * jnp.prod(tilde_p, axis=-1)\n",
    "print(tilde_s.shape, tilde_p.shape, numerator.shape)\n"
   ]
  },
  {
   "cell_type": "code",
   "execution_count": 56,
   "id": "68ad15f2-037a-447f-b4c0-13db4347d747",
   "metadata": {},
   "outputs": [
    {
     "name": "stdout",
     "output_type": "stream",
     "text": [
      "(3, 5, 2) (3, 5, 2, 0) (3, 5, 2, 1) (3, 5, 2)\n",
      "[[[-2.13645142e-01  6.63939457e-03]\n",
      "  [-1.13309665e-02  2.35151367e-03]\n",
      "  [-4.47610335e-01 -8.19483345e-04]\n",
      "  [-3.82381751e-03  1.23555443e-01]\n",
      "  [-7.10722159e-02 -7.82910734e-02]]\n",
      "\n",
      " [[-1.86805854e-01  2.00631742e-02]\n",
      "  [-6.64569958e-03  2.31492099e-01]\n",
      "  [-4.02934418e-01 -9.24105602e-06]\n",
      "  [-8.79104834e-03  2.55730258e-02]\n",
      "  [-6.76754508e-02  3.85061892e+00]]\n",
      "\n",
      " [[-2.09761942e-01  5.42680917e-03]\n",
      "  [-3.65914599e-03  1.36840684e+00]\n",
      "  [-3.58934241e-01  6.13236029e-03]\n",
      "  [-8.90145104e-03 -4.33934970e-03]\n",
      "  [-2.91156603e-02  2.42130784e-01]]]\n"
     ]
    }
   ],
   "source": [
    "denominator = jnp.prod(tilde_s + equations.substrates.mask, axis=-1) + jnp.prod(tilde_p + equations.products.mask, axis=-1) - 1\n",
    "\n",
    "tilde_a = select_state(states_e, equations.activators.indices) / kparms_e.kas\n",
    "activation = jnp.prod(tilde_a / (tilde_a + equations.activators.mask), axis=-1)\n",
    "tilde_i = select_state(states_e, equations.inhibitors.indices, padding=0.) / kparms_e.kis\n",
    "inhibition = jnp.prod(1 / (tilde_i + 1), axis=-1)\n",
    "\n",
    "rates = enzyme_concs * activation * inhibition * numerator / denominator\n",
    "print(denominator.shape, tilde_a.shape, tilde_i.shape, rates.shape)\n",
    "print(rates)"
   ]
  },
  {
   "cell_type": "code",
   "execution_count": 57,
   "id": "8f83babf-9df2-4904-a238-8ade37fc6b68",
   "metadata": {},
   "outputs": [
    {
     "data": {
      "text/plain": [
       "DeviceArray([-0.29007462,  0.003267  ], dtype=float64)"
      ]
     },
     "execution_count": 57,
     "metadata": {},
     "output_type": "execute_result"
    }
   ],
   "source": [
    "def reaction_rates(equations, state, enzyme_concs, kparms):\n",
    "    tilde_s = select_state(state, equations.substrates.indices) / kparms.kms_s\n",
    "    tilde_p = select_state(state, equations.products.indices) / kparms.kms_p\n",
    "    numerator = kparms.kcats_f * jnp.prod(tilde_s, axis=-1) - kparms.kcats_b * jnp.prod(tilde_p, axis=-1)\n",
    "    denominator = jnp.prod(tilde_s + equations.substrates.mask, axis=-1) + jnp.prod(tilde_p + equations.products.mask, axis=-1) - 1\n",
    "\n",
    "    tilde_a = select_state(state, equations.activators.indices) / kparms.kas\n",
    "    activation = jnp.prod(tilde_a / (tilde_a + equations.activators.mask), axis=-1)\n",
    "    tilde_i = select_state(state, equations.inhibitors.indices, padding=0.) / kparms.kis\n",
    "    inhibition = jnp.prod(1 / (tilde_i + 1), axis=-1)\n",
    "\n",
    "    rates = enzyme_concs * activation * inhibition * numerator / denominator\n",
    "    return rates\n",
    "\n",
    "reaction_rates(equations, state0, enzyme_concs, kparms)"
   ]
  },
  {
   "cell_type": "code",
   "execution_count": 58,
   "id": "e6c63a7c-7963-4040-9d72-d89637ec3276",
   "metadata": {},
   "outputs": [
    {
     "data": {
      "text/plain": [
       "DeviceArray([[-0.29007462,  0.003267  ],\n",
       "             [-0.29007462,  0.003267  ],\n",
       "             [-0.29007462,  0.003267  ]], dtype=float64)"
      ]
     },
     "execution_count": 58,
     "metadata": {},
     "output_type": "execute_result"
    }
   ],
   "source": [
    "reaction_rates(equations, jnp.vstack([state0] * 3), enzyme_concs, kparms)"
   ]
  },
  {
   "cell_type": "code",
   "execution_count": 59,
   "id": "6d2cb492-4956-4e86-a4f9-58b3e7e6e40a",
   "metadata": {},
   "outputs": [
    {
     "data": {
      "text/plain": [
       "DeviceArray([[-0.29007462,  0.003267  ],\n",
       "             [-0.29007462,  0.003267  ],\n",
       "             [-0.29007462,  0.003267  ]], dtype=float64)"
      ]
     },
     "execution_count": 59,
     "metadata": {},
     "output_type": "execute_result"
    }
   ],
   "source": [
    "reaction_rates(equations, state0, jnp.vstack([enzyme_concs] * 3), kparms)"
   ]
  },
  {
   "cell_type": "code",
   "execution_count": 60,
   "id": "fca88b8d-551a-4aad-a5bb-db70672af072",
   "metadata": {},
   "outputs": [
    {
     "data": {
      "text/plain": [
       "DeviceArray([[-0.29007462,  0.003267  ],\n",
       "             [-0.29007462,  0.003267  ],\n",
       "             [-0.29007462,  0.003267  ]], dtype=float64)"
      ]
     },
     "execution_count": 60,
     "metadata": {},
     "output_type": "execute_result"
    }
   ],
   "source": [
    "reaction_rates(equations, state0, enzyme_concs, ensemble_kinetics(kparms, jnp.vstack([dgrs] * 3), kvs))"
   ]
  },
  {
   "cell_type": "code",
   "execution_count": 61,
   "id": "d3c9faa7-5f29-4696-8c17-24adb5f8a8da",
   "metadata": {},
   "outputs": [
    {
     "data": {
      "text/plain": [
       "DeviceArray([[-0.29007462,  0.003267  ],\n",
       "             [-0.29007462,  0.003267  ],\n",
       "             [-0.29007462,  0.003267  ]], dtype=float64)"
      ]
     },
     "execution_count": 61,
     "metadata": {},
     "output_type": "execute_result"
    }
   ],
   "source": [
    "reaction_rates(equations, state0, enzyme_concs, ensemble_kinetics(kparms, dgrs, jnp.vstack([kvs] * 3)))"
   ]
  },
  {
   "cell_type": "code",
   "execution_count": 62,
   "id": "0f5416e4-cf17-4ef8-afe4-787a63c7e246",
   "metadata": {},
   "outputs": [
    {
     "data": {
      "text/plain": [
       "DeviceArray([[[-0.29007462,  0.003267  ],\n",
       "              [-0.29007462,  0.003267  ]],\n",
       "\n",
       "             [[-0.29007462,  0.003267  ],\n",
       "              [-0.29007462,  0.003267  ]],\n",
       "\n",
       "             [[-0.29007462,  0.003267  ],\n",
       "              [-0.29007462,  0.003267  ]]], dtype=float64)"
      ]
     },
     "execution_count": 62,
     "metadata": {},
     "output_type": "execute_result"
    }
   ],
   "source": [
    "reaction_rates(\n",
    "    equations,\n",
    "    jnp.broadcast_to(state0, (3, 2) + state0.shape),\n",
    "    jnp.broadcast_to(enzyme_concs, (2,) + enzyme_concs.shape),\n",
    "    ensemble_kinetics(\n",
    "        kparms, \n",
    "        jnp.broadcast_to(dgrs, (3,) + dgrs.shape), \n",
    "        jnp.broadcast_to(kvs, (2,) + kvs.shape)\n",
    "    ),\n",
    ")"
   ]
  },
  {
   "cell_type": "code",
   "execution_count": 63,
   "id": "f1d8d197-ede9-4d48-9c96-c17599b44a6e",
   "metadata": {},
   "outputs": [
    {
     "data": {
      "text/plain": [
       "DeviceArray([[-0.29007462,  0.003267  ],\n",
       "             [-0.29007462,  0.003267  ],\n",
       "             [-0.29007462,  0.003267  ],\n",
       "             [-0.29007462,  0.003267  ],\n",
       "             [-0.29007462,  0.003267  ]], dtype=float64)"
      ]
     },
     "execution_count": 63,
     "metadata": {},
     "output_type": "execute_result"
    }
   ],
   "source": [
    "reaction_rates(\n",
    "    equations, \n",
    "    state0, \n",
    "    enzyme_concs,\n",
    "    PackedNetworkKinetics(\n",
    "        kcats_f=kparms.kcats_f,\n",
    "        kcats_b=kparms.kcats_b,\n",
    "        kms_s=jnp.broadcast_to(kparms.kms_s, (5,) + kparms.kms_s.shape),\n",
    "        kms_p=kparms.kms_p,\n",
    "        kas=kparms.kas,\n",
    "        kis=kparms.kis,\n",
    "    ),\n",
    ")"
   ]
  },
  {
   "cell_type": "code",
   "execution_count": 64,
   "id": "d47873a3-5434-4ac5-b9e6-0694782e1cd5",
   "metadata": {},
   "outputs": [
    {
     "data": {
      "text/plain": [
       "DeviceArray([[-0.29007462,  0.003267  ],\n",
       "             [-0.29007462,  0.003267  ],\n",
       "             [-0.29007462,  0.003267  ]], dtype=float64)"
      ]
     },
     "execution_count": 64,
     "metadata": {},
     "output_type": "execute_result"
    }
   ],
   "source": [
    "reaction_rates(\n",
    "    equations, \n",
    "    state0, \n",
    "    enzyme_concs,\n",
    "    PackedNetworkKinetics(\n",
    "        kcats_f=kparms.kcats_f,\n",
    "        kcats_b=kparms.kcats_b,\n",
    "        kms_s=kparms.kms_s,\n",
    "        kms_p=kparms.kms_p,\n",
    "        kas=jnp.broadcast_to(kparms.kas, (3,) + kparms.kas.shape),\n",
    "        kis=kparms.kis,\n",
    "    ),\n",
    ")"
   ]
  },
  {
   "cell_type": "code",
   "execution_count": 65,
   "id": "7781ecd8-0ef5-4686-8c54-8864f5212cee",
   "metadata": {},
   "outputs": [
    {
     "data": {
      "text/plain": [
       "DeviceArray([ 0.28680761,  0.28680761, -0.28680761, -0.28680761,\n",
       "             -0.003267  ,  0.003267  ], dtype=float64)"
      ]
     },
     "execution_count": 65,
     "metadata": {},
     "output_type": "execute_result"
    }
   ],
   "source": [
    "equations.dstate_dt(state0, enzyme_concs)"
   ]
  },
  {
   "cell_type": "code",
   "execution_count": 66,
   "id": "afa78753-bcc2-4465-b0e4-0ecf084996af",
   "metadata": {},
   "outputs": [
    {
     "data": {
      "text/plain": [
       "DeviceArray([[[ 0.00000000e+00,  0.00000000e+00,  0.00000000e+00,\n",
       "                0.00000000e+00,  1.30104261e-18, -1.30104261e-18],\n",
       "              [ 0.00000000e+00,  0.00000000e+00,  0.00000000e+00,\n",
       "                0.00000000e+00,  1.30104261e-18, -1.30104261e-18]],\n",
       "\n",
       "             [[ 0.00000000e+00,  0.00000000e+00,  0.00000000e+00,\n",
       "                0.00000000e+00,  1.30104261e-18, -1.30104261e-18],\n",
       "              [ 0.00000000e+00,  0.00000000e+00,  0.00000000e+00,\n",
       "                0.00000000e+00,  1.30104261e-18, -1.30104261e-18]],\n",
       "\n",
       "             [[ 0.00000000e+00,  0.00000000e+00,  0.00000000e+00,\n",
       "                0.00000000e+00,  1.30104261e-18, -1.30104261e-18],\n",
       "              [ 0.00000000e+00,  0.00000000e+00,  0.00000000e+00,\n",
       "                0.00000000e+00,  1.30104261e-18, -1.30104261e-18]]],            dtype=float64)"
      ]
     },
     "execution_count": 66,
     "metadata": {},
     "output_type": "execute_result"
    }
   ],
   "source": [
    "equations.dstate_dt(state0, enzyme_concs) - (\n",
    "    reaction_rates(\n",
    "        equations,\n",
    "        jnp.broadcast_to(state0, (3, 2) + state0.shape),\n",
    "        jnp.broadcast_to(enzyme_concs, (2,) + enzyme_concs.shape),\n",
    "        ensemble_kinetics(\n",
    "            kparms, \n",
    "            jnp.broadcast_to(dgrs, (3,) + dgrs.shape), \n",
    "            jnp.broadcast_to(kvs, (2,) + kvs.shape)\n",
    "        ),\n",
    "    ) @ network.s_matrix.T\n",
    ")"
   ]
  }
 ],
 "metadata": {
  "kernelspec": {
   "display_name": "Python 3 (ipykernel)",
   "language": "python",
   "name": "python3"
  },
  "language_info": {
   "codemirror_mode": {
    "name": "ipython",
    "version": 3
   },
   "file_extension": ".py",
   "mimetype": "text/x-python",
   "name": "python",
   "nbconvert_exporter": "python",
   "pygments_lexer": "ipython3",
   "version": "3.8.5"
  }
 },
 "nbformat": 4,
 "nbformat_minor": 5
}
