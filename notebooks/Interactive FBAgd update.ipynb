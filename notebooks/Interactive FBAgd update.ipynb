{
 "cells": [
  {
   "cell_type": "code",
   "execution_count": 9,
   "id": "f5785c11-e19b-4246-910a-a10fcb336535",
   "metadata": {
    "tags": []
   },
   "outputs": [],
   "source": [
    "import projectpath\n",
    "\n",
    "from importlib import resources\n",
    "import ipywidgets as widgets\n",
    "import jax\n",
    "import json\n",
    "import matplotlib.pyplot as plt\n",
    "import numpy as np\n",
    "import time\n",
    "\n",
    "from mosmo.model import Molecule, Reaction, Pathway, ReactionNetwork\n",
    "from mosmo.knowledge import kb\n",
    "from mosmo.calc import fba_gd, elementary_modes\n",
    "from mosmo.preso.escher import escher_map\n",
    "import mosmo.preso.escher.pw as pw_files\n",
    "\n",
    "# Setup matplotlib to play nice with widgets\n",
    "%matplotlib widget\n",
    "plt.ioff()\n",
    "\n",
    "# Setup jax to use float64, and get the No GPU warning out of the way\n",
    "jax.config.update('jax_enable_x64', True)\n",
    "prng = jax.random.PRNGKey(int(time.time() * 1000))\n",
    "\n",
    "# Setup the KB\n",
    "KB = kb.configure_kb()"
   ]
  },
  {
   "cell_type": "markdown",
   "id": "48b0fdff-6668-402c-8c61-8ab9987e5d91",
   "metadata": {
    "tags": []
   },
   "source": [
    "## Glycolysis + Pentose Phosphate"
   ]
  },
  {
   "cell_type": "code",
   "execution_count": 2,
   "id": "255934c0-8df7-4daf-821f-cc464b19a171",
   "metadata": {
    "tags": []
   },
   "outputs": [
    {
     "name": "stdout",
     "output_type": "stream",
     "text": [
      "Network has 31 reactants (17 intermediates + 14 boundaries) in 21 reactions\n"
     ]
    }
   ],
   "source": [
    "network = ReactionNetwork()\n",
    "network.add_reaction(KB(\"pts.glc\"))\n",
    "for pw_name in ['glycolysis', 'pentose phosphate']:\n",
    "    pws = KB.find(KB.pathways, pw_name)\n",
    "    if not pws:\n",
    "        raise ValueError(f'{pw_name} not found in {KB.pathways}')\n",
    "    if len(pws) > 1:\n",
    "        print(f'Multiple hits to \"{pw_name}\"')\n",
    "    for pw in pws:\n",
    "        for step in pw.steps:\n",
    "            network.add_reaction(step)\n",
    "\n",
    "boundaries = [KB(met_id) for met_id in [\n",
    "    \"Glc.D.ext\",\n",
    "    # \"Glc.D.6P\",\n",
    "    \"accoa\",\n",
    "    \"coa\",\n",
    "    \"amp\",\n",
    "    \"adp\",\n",
    "    \"atp\",\n",
    "    \"pi\",\n",
    "    \"nad.ox\",\n",
    "    \"nad.red\",\n",
    "    \"nadp.ox\",\n",
    "    \"nadp.red\",\n",
    "    \"co2\",\n",
    "    \"h+\",\n",
    "    \"h2o\",\n",
    "]]\n",
    "intermediates = [met for met in network.reactants if met not in boundaries]\n",
    "\n",
    "print(f'Network has {network.shape[0]} reactants ({len(intermediates)} intermediates + {len(boundaries)} boundaries) in {network.shape[1]} reactions')"
   ]
  },
  {
   "cell_type": "markdown",
   "id": "835af727-bc19-4a3c-80ae-84b29ff459ed",
   "metadata": {
    "tags": []
   },
   "source": [
    "## FBA balancing demand for acCoA, ATP, and NADPH"
   ]
  },
  {
   "cell_type": "code",
   "execution_count": 6,
   "id": "a365d652-ceb3-4ed3-9dab-d9d532a02217",
   "metadata": {
    "tags": []
   },
   "outputs": [],
   "source": [
    "class InteractiveFba:\n",
    "    def __init__(self, network, boundaries, targets, map_json):\n",
    "        self.network = network\n",
    "        self.boundaries = boundaries\n",
    "        self.boundary_indices = np.array([network.reactants.index_of(b) for b in boundaries])\n",
    "\n",
    "        # Set up the FBA problem\n",
    "        intermediates = [met for met in network.reactants if met not in boundaries]\n",
    "        self.fba = fba_gd.FbaGd(network, intermediates, {\"targets\": fba_gd.ProductionObjective(network, targets)})\n",
    "        \n",
    "        # Boundary flux plot\n",
    "        fig, ax = plt.subplots(figsize=(3, 4))\n",
    "        fig.canvas.header_visible = False\n",
    "        fig.canvas.footer_visible = False\n",
    "        fig.canvas.toolbar_visible = False\n",
    "        fig.canvas.resizable = False\n",
    "\n",
    "        y = np.arange(len(boundaries))\n",
    "        ax.set_title(\"Boundary Fluxes\")\n",
    "        ax.set_xlabel('Net Flux')\n",
    "        ax.set_xlim(-10, 10)\n",
    "        ax.set_yticks(y, labels=[b.label for b in boundaries])\n",
    "        ax.invert_yaxis()\n",
    "        ax.grid(True)\n",
    "        ax.axvline(0)\n",
    "        fig.tight_layout()\n",
    "        \n",
    "        self.boundary_plot = fig\n",
    "        self.bars = ax.barh(y, width=0)\n",
    "\n",
    "        # Pathway diagram to show reaction fluxes\n",
    "        self.diagram = escher_map.EscherMap(\n",
    "            map_json,\n",
    "            width=\"12cm\",\n",
    "            reaction_scale=escher_map.Scale({0: (\"#eeeeee\", 5), 5: (\"#1f77b4\", 40)}, use_abs=True),\n",
    "        )\n",
    "        # Draw everything with the initial solution before displaying it\n",
    "        self.show_results(self.fba.solve())\n",
    "\n",
    "        # Set up the controls and update logic\n",
    "        self.control_map = {}\n",
    "        for target, value in targets.items():\n",
    "            control = widgets.FloatSlider(\n",
    "                value=value,\n",
    "                description=target.label,\n",
    "                min=0,\n",
    "                max=5.0,\n",
    "                step=0.1,\n",
    "                continuous_update=False,\n",
    "                readout=True,\n",
    "                readout_format=\".1f\")\n",
    "            control.observe(self.update, names=\"value\")\n",
    "            self.control_map[control] = target\n",
    "\n",
    "        # Finally, lay it all out in a dashboard\n",
    "        self.dashboard = widgets.HBox([\n",
    "            widgets.VBox([\n",
    "                widgets.VBox(list(self.control_map.keys())),\n",
    "                fig.canvas,\n",
    "            ], layout=widgets.Layout(width=\"40%\")),\n",
    "            self.diagram.widget,\n",
    "        ], layout = widgets.Layout(width='1000px', border='1px solid green'))\n",
    "\n",
    "    def show_results(self, soln):\n",
    "        # Update the Boundary Fluxes plot\n",
    "        for bar, value in zip(self.bars, soln.dmdt[self.boundary_indices]):\n",
    "            bar.set_width(value)\n",
    "        self.boundary_plot.canvas.draw_idle()\n",
    "\n",
    "        # Update the pathway diagram\n",
    "        self.diagram.draw(reaction_data={rxn.label: flux for rxn, flux in network.reactions.unpack(soln.velocities).items()})\n",
    "\n",
    "    def update(self, change):\n",
    "        if change.type == \"change\":\n",
    "            self.fba.update_params({\"targets\": {self.control_map[change.owner]: change.new}})\n",
    "            self.show_results(self.fba.solve())\n"
   ]
  },
  {
   "cell_type": "code",
   "execution_count": 7,
   "id": "a40a7a6a-3949-4018-9667-1881cdf43b34",
   "metadata": {
    "tags": []
   },
   "outputs": [
    {
     "data": {
      "application/vnd.jupyter.widget-view+json": {
       "model_id": "95f7d9c3604a400e8a4c0a67df1240d4",
       "version_major": 2,
       "version_minor": 0
      },
      "text/plain": [
       "HBox(children=(VBox(children=(VBox(children=(FloatSlider(value=2.0, continuous_update=False, description='acCo…"
      ]
     },
     "execution_count": 7,
     "metadata": {},
     "output_type": "execute_result"
    }
   ],
   "source": [
    "ifba = InteractiveFba(\n",
    "    network,\n",
    "    boundaries,\n",
    "    {KB('accoa'): 2, KB('atp'): 2, KB('nadp.red'): 0},\n",
    "    json.loads(resources.read_text(pw_files, \"glycolysis_ppp.json\"))\n",
    ")\n",
    "ifba.dashboard"
   ]
  },
  {
   "cell_type": "markdown",
   "id": "7d65b26d-1188-4499-9830-8f13da292a1f",
   "metadata": {},
   "source": [
    "## Trade Off acCoA vs R5P vs E4P"
   ]
  },
  {
   "cell_type": "code",
   "execution_count": 8,
   "id": "04f30afe-b621-4e3f-b3e5-0071dfb991e2",
   "metadata": {
    "tags": []
   },
   "outputs": [
    {
     "data": {
      "application/vnd.jupyter.widget-view+json": {
       "model_id": "28e91bd66f9b4fd9898164137ce844c6",
       "version_major": 2,
       "version_minor": 0
      },
      "text/plain": [
       "HBox(children=(VBox(children=(VBox(children=(FloatSlider(value=2.0, continuous_update=False, description='acCo…"
      ]
     },
     "execution_count": 8,
     "metadata": {},
     "output_type": "execute_result"
    }
   ],
   "source": [
    "ifba2 = InteractiveFba(\n",
    "    network,\n",
    "    boundaries + [KB(\"Rib.D.5P\"), KB(\"Ery.D.4P\")],\n",
    "    {KB('accoa'): 2, KB(\"Rib.D.5P\"): 0, KB(\"Ery.D.4P\"): 0},\n",
    "    json.loads(resources.read_text(pw_files, \"glycolysis_ppp.json\"))\n",
    ")\n",
    "ifba2.dashboard"
   ]
  },
  {
   "cell_type": "markdown",
   "id": "f014daeb-4eb5-41a9-9ab2-b927c723d1a3",
   "metadata": {},
   "source": [
    "## Elementary Modes in acCoA vs R5P vs E4P"
   ]
  },
  {
   "cell_type": "code",
   "execution_count": 23,
   "id": "166f3f2b-92f1-48fd-a27d-07d5f7f69393",
   "metadata": {
    "tags": []
   },
   "outputs": [],
   "source": [
    "def build_internal_system(network, bounds):\n",
    "    \"\"\"Returns S matrix with rows for internal (non-bounds) metabolites only.\"\"\"\n",
    "    intermediates = [met not in bounds for met in network.reactants]\n",
    "    return network.s_matrix[intermediates].astype(int)\n",
    "\n",
    "def mode_formula(network, mode):\n",
    "    parts = []\n",
    "    for reaction, coeff in zip(network.reactions.labels(), mode):\n",
    "        if coeff == -1:\n",
    "            parts.append('-')\n",
    "        elif coeff < 0:\n",
    "            parts.append(f'- {-coeff}')\n",
    "        elif coeff == 1:\n",
    "            if parts:\n",
    "                parts.append('+')\n",
    "        elif coeff > 0:\n",
    "            if parts:\n",
    "                parts.append(f'+ {coeff}')\n",
    "            else:\n",
    "                parts.append(f'{coeff}')\n",
    "        \n",
    "        if coeff:\n",
    "            parts.append(reaction)\n",
    "    \n",
    "    return ' '.join(parts)\n",
    "\n",
    "def show_modes(network, modes, rev):\n",
    "    s_elementary = (network.s_matrix.astype(int) @ modes)\n",
    "    net_reactions = []\n",
    "    for i, (mode, reversible) in enumerate(zip(s_elementary.T, rev)):\n",
    "        stoich = {}\n",
    "        for met, count in zip(network.reactants, mode):\n",
    "            if count != 0:\n",
    "                stoich[met] = count\n",
    "\n",
    "        net_reaction = Reaction(_id=f'mode{i}', name=f'Elementary Mode {i}', stoichiometry=stoich, reversible=reversible)\n",
    "        net_reactions.append(net_reaction)\n",
    "\n",
    "    w = f'{160 + modes.shape[1] * 8:d}px' if modes.shape[1] < 80 else '100%'\n",
    "    mode_select = widgets.IntSlider(\n",
    "        value=0,\n",
    "        min=0,\n",
    "        max=modes.shape[1] - 1,\n",
    "        description='Mode',\n",
    "        continuous_update=True,\n",
    "        readout=True,\n",
    "        layout={'width': w}\n",
    "    )\n",
    "    mode_fluxes = widgets.Text(description='flux ratios', layout={'width': '99%'})\n",
    "    mode_net = widgets.Text(description='net reaction', layout={'width': '99%'})\n",
    "    diag = escher_map.EscherMap(\n",
    "        json.loads(resources.read_text(pw_files, 'glycolysis_ppp.json')),\n",
    "        width=\"100%\",\n",
    "        reaction_scale=escher_map.Scale({0.: (\"#eeeeee\", 3), 6.: (\"#1f77cc\", 50)}, use_abs=True))\n",
    "\n",
    "    def show_mode(change):\n",
    "        mode = mode_select.value\n",
    "        mode_fluxes.value = mode_formula(network, modes.T[mode])\n",
    "        mode_net.value = net_reactions[mode].formula\n",
    "        diag.draw(reaction_data={r.label: v for r, v in zip(network.reactions, modes.T[mode])})\n",
    "\n",
    "    mode_select.observe(show_mode, names='value')\n",
    "    show_mode(None)\n",
    "\n",
    "    return widgets.VBox([mode_select, mode_fluxes, mode_net, diag.widget], layout={\"width\": \"600px\"})"
   ]
  },
  {
   "cell_type": "code",
   "execution_count": 24,
   "id": "091c13e4-0854-4402-a6e9-da9caa654715",
   "metadata": {
    "tags": []
   },
   "outputs": [
    {
     "data": {
      "application/vnd.jupyter.widget-view+json": {
       "model_id": "64fbb91c016040ce80cc1f08e86b9edf",
       "version_major": 2,
       "version_minor": 0
      },
      "text/plain": [
       "VBox(children=(IntSlider(value=0, description='Mode', layout=Layout(width='480px'), max=39), Text(value='- PYK…"
      ]
     },
     "execution_count": 24,
     "metadata": {},
     "output_type": "execute_result"
    }
   ],
   "source": [
    "modes, rev = elementary_modes.elementary_modes(build_internal_system(network, ifba2.boundaries), [r.reversible for r in network.reactions])\n",
    "show_modes(network, modes, rev)"
   ]
  },
  {
   "cell_type": "code",
   "execution_count": null,
   "id": "8681d724-0680-4156-b6e8-31f669e8983b",
   "metadata": {},
   "outputs": [],
   "source": []
  }
 ],
 "metadata": {
  "kernelspec": {
   "display_name": "Python 3 (ipykernel)",
   "language": "python",
   "name": "python3"
  },
  "language_info": {
   "codemirror_mode": {
    "name": "ipython",
    "version": 3
   },
   "file_extension": ".py",
   "mimetype": "text/x-python",
   "name": "python",
   "nbconvert_exporter": "python",
   "pygments_lexer": "ipython3",
   "version": "3.8.16"
  }
 },
 "nbformat": 4,
 "nbformat_minor": 5
}
