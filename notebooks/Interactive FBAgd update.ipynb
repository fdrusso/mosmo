{
 "cells": [
  {
   "cell_type": "code",
   "execution_count": 1,
   "id": "f5785c11-e19b-4246-910a-a10fcb336535",
   "metadata": {
    "tags": []
   },
   "outputs": [
    {
     "name": "stderr",
     "output_type": "stream",
     "text": [
      "No GPU/TPU found, falling back to CPU. (Set TF_CPP_MIN_LOG_LEVEL=0 and rerun for more info.)\n"
     ]
    }
   ],
   "source": [
    "import projectpath\n",
    "\n",
    "from importlib import resources\n",
    "import ipywidgets as widgets\n",
    "import jax\n",
    "import json\n",
    "import matplotlib.pyplot as plt\n",
    "import numpy as np\n",
    "import time\n",
    "\n",
    "from mosmo.model import Molecule, Reaction, Pathway, ReactionNetwork\n",
    "from mosmo.knowledge import kb\n",
    "from mosmo.calc import fba_gd\n",
    "from mosmo.preso.escher import escher_map\n",
    "import mosmo.preso.escher.pw as pw_files\n",
    "\n",
    "# Setup matplotlib to play nice with widgets\n",
    "%matplotlib widget\n",
    "plt.ioff()\n",
    "\n",
    "# Setup jax to use float64, and get the No GPU warning out of the way\n",
    "jax.config.update('jax_enable_x64', True)\n",
    "prng = jax.random.PRNGKey(int(time.time() * 1000))\n",
    "\n",
    "# Setup the KB\n",
    "KB = kb.configure_kb()"
   ]
  },
  {
   "cell_type": "markdown",
   "id": "48b0fdff-6668-402c-8c61-8ab9987e5d91",
   "metadata": {
    "tags": []
   },
   "source": [
    "## Glycolysis, Pentose Phosphate, and Entner-Doudoroff"
   ]
  },
  {
   "cell_type": "code",
   "execution_count": 2,
   "id": "255934c0-8df7-4daf-821f-cc464b19a171",
   "metadata": {
    "tags": []
   },
   "outputs": [
    {
     "name": "stdout",
     "output_type": "stream",
     "text": [
      "Network has 31 reactants (17 intermediates + 14 boundaries) in 22 reactions\n"
     ]
    }
   ],
   "source": [
    "network = ReactionNetwork()\n",
    "for pw_name in ['glycolysis', 'pentose phosphate', 'entner-doudoroff']:\n",
    "    pws = KB.find(KB.pathways, pw_name)\n",
    "    if not pws:\n",
    "        raise ValueError(f'{pw_name} not found in {KB.pathways}')\n",
    "    if len(pws) > 1:\n",
    "        print(f'Multiple hits to \"{pw_name}\"')\n",
    "    for pw in pws:\n",
    "        for step in pw.steps:\n",
    "            network.add_reaction(step)\n",
    "\n",
    "boundaries = [KB(met_id) for met_id in [\n",
    "    \"Glc.D.6P\",\n",
    "    \"accoa\",\n",
    "    \"coa\",\n",
    "    \"amp\",\n",
    "    \"adp\",\n",
    "    \"atp\",\n",
    "    \"pi\",\n",
    "    \"nad.ox\",\n",
    "    \"nad.red\",\n",
    "    \"nadp.ox\",\n",
    "    \"nadp.red\",\n",
    "    \"co2\",\n",
    "    \"h+\",\n",
    "    \"h2o\",\n",
    "]]\n",
    "intermediates = [met for met in network.reactants if met not in boundaries]\n",
    "\n",
    "print(f'Network has {network.shape[0]} reactants ({len(intermediates)} intermediates + {len(boundaries)} boundaries) in {network.shape[1]} reactions')"
   ]
  },
  {
   "cell_type": "markdown",
   "id": "835af727-bc19-4a3c-80ae-84b29ff459ed",
   "metadata": {
    "tags": []
   },
   "source": [
    "## FBA balancing demand for acCoA, ATP, and NADPH"
   ]
  },
  {
   "cell_type": "code",
   "execution_count": 5,
   "id": "a365d652-ceb3-4ed3-9dab-d9d532a02217",
   "metadata": {
    "tags": []
   },
   "outputs": [],
   "source": [
    "class InteractiveFba:\n",
    "    def __init__(self, network, boundaries, targets, map_json):\n",
    "        self.network = network\n",
    "        self.boundaries = boundaries\n",
    "\n",
    "        # Set up the FBA problem\n",
    "        intermediates = [met for met in network.reactants if met not in boundaries]\n",
    "        self.fba = fba_gd.FbaGd(network, intermediates, {\"targets\": fba_gd.ProductionObjective(network, targets)})\n",
    "        \n",
    "        # Boundary flux plot\n",
    "        fig, ax = plt.subplots(figsize=(3, 4))\n",
    "        fig.canvas.header_visible = False\n",
    "        fig.canvas.footer_visible = False\n",
    "        fig.canvas.toolbar_visible = False\n",
    "        fig.canvas.resizable = False\n",
    "\n",
    "        y = np.arange(len(boundaries))\n",
    "        ax.set_title(\"Boundary Fluxes\")\n",
    "        ax.set_xlabel('Net Flux')\n",
    "        ax.set_xlim(-10, 10)\n",
    "        ax.set_yticks(y, labels=[b.label for b in boundaries])\n",
    "        ax.invert_yaxis()\n",
    "        ax.grid(True)\n",
    "        ax.axvline(0)\n",
    "        fig.tight_layout()\n",
    "        \n",
    "        self.boundary_plot = fig\n",
    "        self.bars = ax.barh(y, width=0)\n",
    "        self.boundary_indices = np.array([network.reactants.index_of(b) for b in boundaries])\n",
    "\n",
    "        # Pathway diagram to show reaction fluxes\n",
    "        self.diagram = escher_map.EscherMap(\n",
    "            map_json,\n",
    "            width=\"12cm\",\n",
    "            reaction_scale=escher_map.Scale({0: (\"#eeeeee\", 5), 5: (\"#1f77b4\", 40)}, use_abs=True),\n",
    "        )\n",
    "        # Draw everything with the initial solution before displaying it\n",
    "        self.show_results(self.fba.solve())\n",
    "\n",
    "        # Set up the controls and update logic\n",
    "        self.control_map = {}\n",
    "        for target, value in targets.items():\n",
    "            control = widgets.FloatSlider(\n",
    "                value=value,\n",
    "                description=target.label,\n",
    "                min=0,\n",
    "                max=5.0,\n",
    "                step=0.1,\n",
    "                continuous_update=False,\n",
    "                readout=True,\n",
    "                readout_format=\".1f\")\n",
    "            control.observe(self.update, names=\"value\")\n",
    "            self.control_map[control] = target\n",
    "\n",
    "        # Finally, lay it all out in a dashboard\n",
    "        self.dashboard = widgets.HBox([\n",
    "            widgets.VBox([\n",
    "                widgets.VBox(list(self.control_map.keys())),\n",
    "                fig.canvas,\n",
    "            ], layout=widgets.Layout(width=\"40%\")),\n",
    "            self.diagram.widget,\n",
    "        ], layout = widgets.Layout(width='1000px', height='600px', border='1px solid green'))\n",
    "\n",
    "    def show_results(self, soln):\n",
    "        # Update the Boundary Fluxes plot\n",
    "        for bar, value in zip(self.bars, soln.dmdt[self.boundary_indices]):\n",
    "            bar.set_width(value)\n",
    "        self.boundary_plot.canvas.draw_idle()\n",
    "\n",
    "        # Update the pathway diagram\n",
    "        self.diagram.draw(reaction_data={rxn.label: flux for rxn, flux in network.reactions.unpack(soln.velocities).items()})\n",
    "\n",
    "    def update(self, change):\n",
    "        if change.type == \"change\":\n",
    "            self.fba.update_params({\"targets\": {self.control_map[change.owner]: change.new}})\n",
    "            self.show_results(self.fba.solve())\n"
   ]
  },
  {
   "cell_type": "code",
   "execution_count": 6,
   "id": "a40a7a6a-3949-4018-9667-1881cdf43b34",
   "metadata": {
    "tags": []
   },
   "outputs": [
    {
     "data": {
      "application/vnd.jupyter.widget-view+json": {
       "model_id": "fa0a9ec1d6d14085819ed9e95ca2daec",
       "version_major": 2,
       "version_minor": 0
      },
      "text/plain": [
       "HBox(children=(VBox(children=(VBox(children=(FloatSlider(value=2.0, continuous_update=False, description='acCo…"
      ]
     },
     "execution_count": 6,
     "metadata": {},
     "output_type": "execute_result"
    }
   ],
   "source": [
    "ifba = InteractiveFba(\n",
    "    network,\n",
    "    boundaries,\n",
    "    {KB('accoa'): 2, KB('atp'): 3, KB('nadp.red'): 0},\n",
    "    json.loads(resources.read_text(pw_files, \"glycolysis_ppp_ed.json\"))\n",
    ")\n",
    "ifba.dashboard"
   ]
  },
  {
   "cell_type": "code",
   "execution_count": 7,
   "id": "04f30afe-b621-4e3f-b3e5-0071dfb991e2",
   "metadata": {
    "tags": []
   },
   "outputs": [
    {
     "data": {
      "application/vnd.jupyter.widget-view+json": {
       "model_id": "47e82344339c4dcb8976f44b7c537771",
       "version_major": 2,
       "version_minor": 0
      },
      "text/plain": [
       "HBox(children=(VBox(children=(VBox(children=(FloatSlider(value=2.0, continuous_update=False, description='acCo…"
      ]
     },
     "execution_count": 7,
     "metadata": {},
     "output_type": "execute_result"
    }
   ],
   "source": [
    "ifba2 = InteractiveFba(\n",
    "    network,\n",
    "    boundaries + [KB(\"Rib.D.5P\"), KB(\"Ery.D.4P\")],\n",
    "    {KB('accoa'): 2, KB(\"Rib.D.5P\"): 0, KB(\"Ery.D.4P\"): 0},\n",
    "    json.loads(resources.read_text(pw_files, \"glycolysis_ppp_ed.json\"))\n",
    ")\n",
    "ifba2.dashboard"
   ]
  },
  {
   "cell_type": "code",
   "execution_count": null,
   "id": "c8af9114-619c-42f3-ba3a-b71f80d62a4a",
   "metadata": {},
   "outputs": [],
   "source": []
  }
 ],
 "metadata": {
  "kernelspec": {
   "display_name": "Python 3 (ipykernel)",
   "language": "python",
   "name": "python3"
  },
  "language_info": {
   "codemirror_mode": {
    "name": "ipython",
    "version": 3
   },
   "file_extension": ".py",
   "mimetype": "text/x-python",
   "name": "python",
   "nbconvert_exporter": "python",
   "pygments_lexer": "ipython3",
   "version": "3.8.16"
  }
 },
 "nbformat": 4,
 "nbformat_minor": 5
}
