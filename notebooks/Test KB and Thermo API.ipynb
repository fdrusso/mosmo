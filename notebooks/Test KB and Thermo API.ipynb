{
 "cells": [
  {
   "cell_type": "code",
   "execution_count": 1,
   "id": "709c359e-d1ff-430a-8adc-24e71d497a39",
   "metadata": {},
   "outputs": [],
   "source": [
    "import projectpath\n",
    "\n",
    "from mosmo.model import core\n",
    "from mosmo.knowledge import kb\n",
    "\n",
    "KB = kb.configure_kb()"
   ]
  },
  {
   "cell_type": "code",
   "execution_count": 2,
   "id": "48dfb9f4-9e78-4524-8b4c-6f462b842aab",
   "metadata": {},
   "outputs": [
    {
     "data": {
      "text/plain": [
       "{'EC': ref.EC [KbEntry],\n",
       " 'GO': ref.GO [KbEntry],\n",
       " 'CHEBI': ref.CHEBI [Molecule],\n",
       " 'RHEA': ref.RHEA [Reaction],\n",
       " 'compounds': kb.compounds [Molecule],\n",
       " 'reactions': kb.reactions [Reaction],\n",
       " 'pathways': kb.pathways [Pathway]}"
      ]
     },
     "execution_count": 2,
     "metadata": {},
     "output_type": "execute_result"
    }
   ],
   "source": [
    "KB.schema"
   ]
  },
  {
   "cell_type": "code",
   "execution_count": 3,
   "id": "b9fcd898-5716-469e-b989-0e184b1b6867",
   "metadata": {},
   "outputs": [
    {
     "data": {
      "text/plain": [
       "{mosmo.model.core.Molecule: kb.compounds [Molecule],\n",
       " mosmo.model.core.Reaction: kb.reactions [Reaction],\n",
       " mosmo.model.core.Pathway: kb.pathways [Pathway]}"
      ]
     },
     "execution_count": 3,
     "metadata": {},
     "output_type": "execute_result"
    }
   ],
   "source": [
    "KB.canon"
   ]
  },
  {
   "cell_type": "code",
   "execution_count": 4,
   "id": "b8cae8a5-d81a-4742-b6ff-8ee536ad40bf",
   "metadata": {},
   "outputs": [
    {
     "data": {
      "text/plain": [
       "KEGG:C00002"
      ]
     },
     "execution_count": 4,
     "metadata": {},
     "output_type": "execute_result"
    }
   ],
   "source": [
    "KB.as_xref(\"KEGG:C00002\")"
   ]
  },
  {
   "cell_type": "code",
   "execution_count": 5,
   "id": "d077d39a-c91f-4855-a64e-056ecbd1d89a",
   "metadata": {},
   "outputs": [
    {
     "data": {
      "text/plain": [
       "None:C00002"
      ]
     },
     "execution_count": 5,
     "metadata": {},
     "output_type": "execute_result"
    }
   ],
   "source": [
    "KB.as_xref(\"C00002\")"
   ]
  },
  {
   "cell_type": "code",
   "execution_count": 6,
   "id": "156fc593-6b4f-414a-a94b-8f2756cd664f",
   "metadata": {},
   "outputs": [],
   "source": [
    "KB.deref(\"KEGG:C00002\")"
   ]
  },
  {
   "cell_type": "code",
   "execution_count": 7,
   "id": "e2be379e-8a8f-4894-9229-960adbf8626e",
   "metadata": {},
   "outputs": [
    {
     "data": {
      "text/plain": [
       "[[atp] adenosine 5'-triphosphate, [atp.full] ATP (fully protonated)]"
      ]
     },
     "execution_count": 7,
     "metadata": {},
     "output_type": "execute_result"
    }
   ],
   "source": [
    "KB.xref(KB.compounds, \"KEGG:C00002\")"
   ]
  },
  {
   "cell_type": "code",
   "execution_count": 8,
   "id": "bba00210-3767-4552-a520-7786b24afc6e",
   "metadata": {},
   "outputs": [
    {
     "data": {
      "text/plain": [
       "KbEntry(_id='1.6.1.1', name='NAD(P)+ transhydrogenase (Si-specific)', shorthand=None, description='The enzyme from Azotobacter vinelandii is a flavoprotein (FAD). It is Si-specific with respect to both NAD+ and NADP+. Also acts on deamino coenzymes [cf. EC 1.6.1.2 NAD(P)+ transhydrogenase (Re/Si-specific)].', aka=['NADPH:NAD+ oxidoreductase (Si-specific)', 'pyridine nucleotide transhydrogenase', 'transhydrogenase', 'NAD(P)+ transhydrogenase', 'nicotinamide adenine dinucleotide (phosphate) transhydrogenase', 'NAD+ transhydrogenase', 'NADH transhydrogenase', 'nicotinamide nucleotide transhydrogenase', 'NADPH-NAD+ transhydrogenase', 'pyridine nucleotide transferase', 'NADPH-NAD+ oxidoreductase', 'NADH-NADP+-transhydrogenase', 'NADPH:NAD+ transhydrogenase', 'H+-Thase', 'non-energy-linked transhydrogenase', 'NADPH:NAD+ oxidoreductase (B-specific)', 'NAD(P)+ transhydrogenase (B-specific)'], xrefs=None)"
      ]
     },
     "execution_count": 8,
     "metadata": {},
     "output_type": "execute_result"
    }
   ],
   "source": [
    "KB.deref(\"EC:1.6.1.1\")"
   ]
  },
  {
   "cell_type": "code",
   "execution_count": 9,
   "id": "f13fdd0f-81c8-42a9-bdb2-e2d336c99186",
   "metadata": {},
   "outputs": [
    {
     "data": {
      "text/plain": [
       "[[pgi] G6P <=> F6P]"
      ]
     },
     "execution_count": 9,
     "metadata": {},
     "output_type": "execute_result"
    }
   ],
   "source": [
    "KB.xref(KB.reactions, \"EC:5.3.1.9\")"
   ]
  },
  {
   "cell_type": "code",
   "execution_count": 10,
   "id": "683942c5-4337-43fa-b645-c609cf9d72ee",
   "metadata": {},
   "outputs": [
    {
     "data": {
      "text/plain": [
       "[57540] NAD(1-)"
      ]
     },
     "execution_count": 10,
     "metadata": {},
     "output_type": "execute_result"
    }
   ],
   "source": [
    "KB.deref(\"CHEBI:57540\")"
   ]
  },
  {
   "cell_type": "code",
   "execution_count": 11,
   "id": "08ac5e98-6697-446d-9b3a-09458e745a43",
   "metadata": {},
   "outputs": [
    {
     "data": {
      "text/plain": [
       "[57540] NAD(1-)"
      ]
     },
     "execution_count": 11,
     "metadata": {},
     "output_type": "execute_result"
    }
   ],
   "source": [
    "KB(\"CHEBI:57540\")"
   ]
  },
  {
   "cell_type": "code",
   "execution_count": 12,
   "id": "2d418dcb-fd19-4d66-b0ec-86951d39abb2",
   "metadata": {},
   "outputs": [
    {
     "data": {
      "text/plain": [
       "{'_id': 'nad.ox',\n",
       " 'name': 'NAD+',\n",
       " 'shorthand': 'NAD+',\n",
       " 'description': None,\n",
       " 'aka': ['NAD(1-)',\n",
       "  'NAD anion',\n",
       "  \"adenosine 5'-{3-[1-(3-carbamoylpyridinio)-1,4-anhydro-D-ribitol-5-yl] diphosphate}\",\n",
       "  'NAD(+)'],\n",
       " 'xrefs': {CHEBI:57540, KEGG:C00003, METACYC:NAD},\n",
       " 'formula': 'C21H26N7O14P2',\n",
       " 'mass': 662.4172,\n",
       " 'charge': -1,\n",
       " 'inchi': 'InChI=1S/C21H27N7O14P2/c22-17-12-19(25-7-24-17)28(8-26-12)21-16(32)14(30)11(41-21)6-39-44(36,37)42-43(34,35)38-5-10-13(29)15(31)20(40-10)27-3-1-2-9(4-27)18(23)33/h1-4,7-8,10-11,13-16,20-21,29-32H,5-6H2,(H5-,22,23,24,25,33,34,35,36,37)/p-1/t10-,11-,13-,14-,15-,16-,20-,21-/m1/s1',\n",
       " 'variations': None,\n",
       " 'canonical_form': None,\n",
       " 'default_form': None}"
      ]
     },
     "execution_count": 12,
     "metadata": {},
     "output_type": "execute_result"
    }
   ],
   "source": [
    "KB(\"nad.ox\").__dict__"
   ]
  },
  {
   "cell_type": "code",
   "execution_count": 13,
   "id": "9660f935-1bdc-4148-862f-47e28124ad06",
   "metadata": {},
   "outputs": [
    {
     "data": {
      "text/plain": [
       "[pgi] G6P <=> F6P"
      ]
     },
     "execution_count": 13,
     "metadata": {},
     "output_type": "execute_result"
    }
   ],
   "source": [
    "KB(\"pgi\")"
   ]
  },
  {
   "cell_type": "code",
   "execution_count": 14,
   "id": "5ca7a56a-453a-4ffd-86c5-d9b543ab58b8",
   "metadata": {},
   "outputs": [
    {
     "data": {
      "text/plain": [
       "[pgi] G6P <=> F6P"
      ]
     },
     "execution_count": 14,
     "metadata": {},
     "output_type": "execute_result"
    }
   ],
   "source": [
    "KB(KB(\"pgi\"))"
   ]
  },
  {
   "cell_type": "code",
   "execution_count": 15,
   "id": "f1d96aaf-ca89-4fbb-abb0-7936b873c1cc",
   "metadata": {},
   "outputs": [
    {
     "name": "stdout",
     "output_type": "stream",
     "text": [
      "[pgi] G6P <=> F6P cannot be converted to DbXref.\n"
     ]
    }
   ],
   "source": [
    "try:\n",
    "    KB.deref(KB(\"pgi\"))\n",
    "except TypeError as e:\n",
    "    print(e)"
   ]
  },
  {
   "cell_type": "code",
   "execution_count": 16,
   "id": "b727f75f-89b4-44ff-bc1f-fb123e7d0585",
   "metadata": {},
   "outputs": [],
   "source": [
    "from mosmo.knowledge.thermo import Thermodynamics\n",
    "\n",
    "thermo = Thermodynamics()"
   ]
  },
  {
   "cell_type": "code",
   "execution_count": 17,
   "id": "13e422b0-161b-4d95-b068-341501d9daa6",
   "metadata": {},
   "outputs": [
    {
     "data": {
      "text/plain": [
       "{}"
      ]
     },
     "execution_count": 17,
     "metadata": {},
     "output_type": "execute_result"
    }
   ],
   "source": [
    "thermo._cc_compounds"
   ]
  },
  {
   "cell_type": "code",
   "execution_count": 18,
   "id": "0a6cd8e3-3f60-4ae6-8358-b8268a77291e",
   "metadata": {},
   "outputs": [
    {
     "data": {
      "text/html": [
       "2.4776264999999995 kilojoule/mole"
      ],
      "text/latex": [
       "$2.4776264999999995\\ \\frac{\\mathrm{kilojoule}}{\\mathrm{mole}}$"
      ],
      "text/plain": [
       "2.4776264999999995 <Unit('kilojoule / mole')>"
      ]
     },
     "execution_count": 18,
     "metadata": {},
     "output_type": "execute_result"
    }
   ],
   "source": [
    "thermo.cc.RT"
   ]
  },
  {
   "cell_type": "code",
   "execution_count": 19,
   "id": "c7a4149a-e56d-4aeb-9c0a-d5c91c1dc816",
   "metadata": {},
   "outputs": [
    {
     "data": {
      "text/plain": [
       "-0.049859255775004385"
      ]
     },
     "execution_count": 19,
     "metadata": {},
     "output_type": "execute_result"
    }
   ],
   "source": [
    "thermo.reaction_delta_g(KB(\"pgi\"))"
   ]
  },
  {
   "cell_type": "code",
   "execution_count": 20,
   "id": "212b748f-281d-458a-8d90-8acffb7872ba",
   "metadata": {},
   "outputs": [
    {
     "data": {
      "text/plain": [
       "-1301.4485115635407"
      ]
     },
     "execution_count": 20,
     "metadata": {},
     "output_type": "execute_result"
    }
   ],
   "source": [
    "thermo.formation_delta_g(KB(\"Fru.D.6P\"))"
   ]
  },
  {
   "cell_type": "code",
   "execution_count": 21,
   "id": "52d27b71-07cb-468d-a40a-afa1c2857c7d",
   "metadata": {},
   "outputs": [
    {
     "data": {
      "text/plain": [
       "-1301.3986523077656"
      ]
     },
     "execution_count": 21,
     "metadata": {},
     "output_type": "execute_result"
    }
   ],
   "source": [
    "thermo.formation_delta_g(KB(\"Glc.D.6P\"))"
   ]
  },
  {
   "cell_type": "code",
   "execution_count": 22,
   "id": "cec73134-defc-412b-819c-202726e46c0b",
   "metadata": {},
   "outputs": [
    {
     "data": {
      "text/plain": [
       "-0.04985925577511807"
      ]
     },
     "execution_count": 22,
     "metadata": {},
     "output_type": "execute_result"
    }
   ],
   "source": [
    "thermo.formation_delta_g(KB(\"Fru.D.6P\")) - thermo.formation_delta_g(KB(\"Glc.D.6P\"))"
   ]
  },
  {
   "cell_type": "code",
   "execution_count": 23,
   "id": "97a9dcd6-5f69-47e6-bf93-aaf4e41e78d0",
   "metadata": {},
   "outputs": [
    {
     "data": {
      "text/plain": [
       "-16.177938426490925"
      ]
     },
     "execution_count": 23,
     "metadata": {},
     "output_type": "execute_result"
    }
   ],
   "source": [
    "thermo.reaction_delta_g(KB(\"pfk\"))"
   ]
  },
  {
   "cell_type": "code",
   "execution_count": 24,
   "id": "494f05ed-f08f-4614-af59-95a54d9d9ea8",
   "metadata": {},
   "outputs": [
    {
     "data": {
      "text/plain": [
       "-16.177938426490982"
      ]
     },
     "execution_count": 24,
     "metadata": {},
     "output_type": "execute_result"
    }
   ],
   "source": [
    "sum(count * thermo.formation_delta_g(reactant) for reactant, count in KB(\"pfk\").stoichiometry.items())"
   ]
  },
  {
   "cell_type": "code",
   "execution_count": 25,
   "id": "908d9f75-7329-482c-9b79-798de105e1f9",
   "metadata": {},
   "outputs": [
    {
     "data": {
      "text/plain": [
       "{[Glc.D.6P] D-glucose 6-phosphate: Compound(id=152, inchi_key=NBSCHQHZLSJFNQ-GASJEMHNSA-L),\n",
       " [Fru.D.6P] D-fructose 6-phosphate: Compound(id=125172, inchi_key=BGWGXPAPYGQALX-VRPWFDPXSA-N\n",
       " ),\n",
       " [atp] adenosine 5'-triphosphate: Compound(id=6, inchi_key=ZKHQWZAMYRWXGA-KQYNXXCUSA-J),\n",
       " [adp] adenosine 5'-diphosphate: Compound(id=10, inchi_key=XTWYTFMLZFPYCI-KQYNXXCUSA-K),\n",
       " [Fru.D.bis16] D-fructose 1,6-bisphosphate: Compound(id=396, inchi_key=RNBGYGVWRKECFJ-VRPWFDPXSA-J),\n",
       " [h+] proton: Compound(id=4, inchi_key=GPRLSGONYQIRFK-UHFFFAOYSA-N)}"
      ]
     },
     "execution_count": 25,
     "metadata": {},
     "output_type": "execute_result"
    }
   ],
   "source": [
    "thermo._cc_compounds"
   ]
  },
  {
   "cell_type": "code",
   "execution_count": 26,
   "id": "8850e8ef-149e-4847-9477-30c61b1ae6c8",
   "metadata": {},
   "outputs": [
    {
     "data": {
      "text/plain": [
       "[5.13, 3.2]"
      ]
     },
     "execution_count": 26,
     "metadata": {},
     "output_type": "execute_result"
    }
   ],
   "source": [
    "mal = KB(\"mal.L\")\n",
    "thermo.pkas(mal)"
   ]
  },
  {
   "cell_type": "code",
   "execution_count": 27,
   "id": "065f9057-7063-40cd-855b-ac88ab0ea1e1",
   "metadata": {},
   "outputs": [
    {
     "data": {
      "text/plain": [
       "[13.99, 12.73, 10.28, 6.25, 1.22]"
      ]
     },
     "execution_count": 27,
     "metadata": {},
     "output_type": "execute_result"
    }
   ],
   "source": [
    "thermo.pkas(KB(\"Fru.D.6P\"))"
   ]
  },
  {
   "cell_type": "code",
   "execution_count": 28,
   "id": "ed36fd65-04ef-423a-8d5a-43135855e07b",
   "metadata": {},
   "outputs": [
    {
     "name": "stdout",
     "output_type": "stream",
     "text": [
      "[nad_red] NAD+ + H+ + 2 e- <=> NADH\n"
     ]
    },
    {
     "data": {
      "text/plain": [
       "66.78389426787089"
      ]
     },
     "execution_count": 28,
     "metadata": {},
     "output_type": "execute_result"
    }
   ],
   "source": [
    "nad = KB(\"nad.ox\")\n",
    "nadh = KB(\"nad.red\")\n",
    "proton = KB(\"h+\")\n",
    "electron = core.Molecule(_id='e-', name='electron', shorthand='e-', charge=-1, mass=0.000548579903, xrefs=(core.DbXref(\"CHEBI\",\"10545\"),))\n",
    "\n",
    "halfcell = core.Reaction(\"nad_red\", name=\"NAD reduction\", stoichiometry={nad: -1, proton: -1, electron: -2, nadh: +1})\n",
    "print(halfcell)\n",
    "thermo.reaction_delta_g(halfcell)"
   ]
  }
 ],
 "metadata": {
  "kernelspec": {
   "display_name": "Python 3 (ipykernel)",
   "language": "python",
   "name": "python3"
  },
  "language_info": {
   "codemirror_mode": {
    "name": "ipython",
    "version": 3
   },
   "file_extension": ".py",
   "mimetype": "text/x-python",
   "name": "python",
   "nbconvert_exporter": "python",
   "pygments_lexer": "ipython3",
   "version": "3.8.5"
  }
 },
 "nbformat": 4,
 "nbformat_minor": 5
}
