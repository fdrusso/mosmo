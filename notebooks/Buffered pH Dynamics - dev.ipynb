{
 "cells": [
  {
   "cell_type": "markdown",
   "id": "69306ce9-6b84-4f5a-b4f5-2cb6cb7f217e",
   "metadata": {},
   "source": [
    "# Buffered pH Dynamics\n",
    "\n",
    "With some inspiration from Glaser _et al_ (2014) https://doi.org/10.1021/ed400808c. Core approach\n",
    "is to model the mass-action kinetics of proton dissociation/association in water plus an arbitrary\n",
    "number of other sites with specified $pK_a$s.\n",
    "\n",
    "All are modeled as _dissociation_ reactions, ${HA} \\rightleftharpoons A^- + H^+$. So:\n",
    "- $v_f = k_f [HA]$\n",
    "- $v_b = k_b [H^+] [A^-]$\n",
    "- $K_a = k_f / k_b$\n",
    "- $pK_a = -log_{10}(K_a)$\n",
    "\n",
    "where _f_ subscripts refer to forward reaction, and _b_ to back.\n",
    "\n",
    "In general, $pK_a$ is measured, but $k_f$ and $k_b$ are not independently known. In the absence of other information we will assume a constant value for $k_b$, with the rationale that it is dominated by frequency of collistion with $H^+$."
   ]
  },
  {
   "cell_type": "code",
   "execution_count": 1,
   "id": "7a93eeb7-cd7a-4c3c-8112-c5e242b67f81",
   "metadata": {},
   "outputs": [],
   "source": [
    "import projectpath\n",
    "\n",
    "from dataclasses import dataclass\n",
    "import jax\n",
    "import jax.numpy as jnp\n",
    "import matplotlib.pyplot as plt\n",
    "import numpy as np\n",
    "import pandas as pd\n",
    "import scipy.integrate\n",
    "import scipy.optimize\n",
    "\n",
    "from mosmo.knowledge import kb\n",
    "from mosmo.model import KbEntry, Molecule\n",
    "\n",
    "jax.config.update('jax_enable_x64', True)\n",
    "KB = kb.configure_kb()"
   ]
  },
  {
   "cell_type": "markdown",
   "id": "51a7cfea-8101-4474-91b0-2430a019328d",
   "metadata": {},
   "source": [
    "## From Glaser _et al_, malic acid system"
   ]
  },
  {
   "cell_type": "code",
   "execution_count": 2,
   "id": "b16c0878-fd28-48e3-aae2-b4e75f56ae35",
   "metadata": {},
   "outputs": [
    {
     "data": {
      "text/plain": [
       "[Deprotonation(id='auto', acid=[15377] water, base=[16234] hydroxide, pKa=14.0),\n",
       " Deprotonation(id='h1', acid=[30797] (S)-malic acid, base=[malate.L.1-] L-malate(1-), pKa=3.46),\n",
       " Deprotonation(id='h2', acid=[malate.L.1-] L-malate(1-), base=[15589] (S)-malate(2-), pKa=5.1)]"
      ]
     },
     "execution_count": 2,
     "metadata": {},
     "output_type": "execute_result"
    }
   ],
   "source": [
    "water = KB.get(KB.CHEBI, '15377')\n",
    "proton = KB.get(KB.CHEBI, '24636')\n",
    "hydroxide = KB.get(KB.CHEBI, '16234')\n",
    "\n",
    "malic = KB.get(KB.CHEBI, '30797')  # L-malate,  fully protonated\n",
    "malate_m2 = KB.get(KB.CHEBI, '15589')  # L-malate 2-\n",
    "\n",
    "# Not even CHEBI defines monoprotonated L-malate 1- (at either site). \n",
    "# Glaser et al refers only to a single HA-, i.e. they assume the more acidic group _always_ dissociates first.\n",
    "# We might explore this assumption below, but for now follow their lead.\n",
    "malate_m1 = Molecule(\n",
    "    _id='malate.L.1-',\n",
    "    name='L-malate(1-)',\n",
    "    formula='C4H5O5',\n",
    "    mass=133.08,\n",
    "    charge=-1,\n",
    ")\n",
    "\n",
    "@dataclass\n",
    "class Deprotonation:\n",
    "    id: str\n",
    "    acid: Molecule\n",
    "    base: Molecule\n",
    "    pKa: float\n",
    "\n",
    "deprotonations = [\n",
    "    Deprotonation('auto', water, hydroxide, 14.0),\n",
    "    Deprotonation('h1', malic, malate_m1, 3.46),\n",
    "    Deprotonation('h2', malate_m1, malate_m2, 5.10),\n",
    "]\n",
    "deprotonations"
   ]
  },
  {
   "cell_type": "markdown",
   "id": "dd953bbc-bf8f-4e10-aab6-8538964805e7",
   "metadata": {},
   "source": [
    "One thing to explore: The treatment of water as both a solvent and a reactant is, if not controversial, then at least subject to confusion (see [What is the pKa of water?](https://chem.libretexts.org/Bookshelves/Organic_Chemistry/Supplemental_Modules_(Organic_Chemistry)/Fundamentals/What_is_the_pKa_of_water)). \n",
    "\n",
    "To work consistently, we must satisfy (for water)\n",
    "- $pK_a = 14.0 \\Longrightarrow K_a = 10^{-14}$\n",
    "- $\\frac{k_f}{k_b} = K_a \\Longrightarrow k_f = k_b K_a$\n",
    "- At equilibrium, $k_f[H_2O] = k_b[H^+][OH^-]$\n",
    "\n",
    "As discussed in that article, this only works if $[H_2O]$ _i.e._ the _activity_ of water is defined to be 1 (not its concentration, which is ~55 M). This is consistent with the common definition of $K_a = [H^+][OH^-] = 10^{-14}$, \"leaving out\" the substrate (acid) $[H_2O]$ from the denominator of the equilibrium constant. As the author describes it, $[H_2O]$ is not left out so much as we simply ignore the effect of dividing by 1.\n",
    "\n",
    "For our purposes, the most important point is that $v_f = k_f[H_2O]$ and $v_b = k_b[H^+][OH^-]$ are consistent with measured pH values, iff we take $[H_2O] = 1$. I can reconcile this in my head by saying everything is baked into conventions and how we define reference points, although it does stand in the way of interpreting the first-order $k_f$ as an intrinsic _per molecule_ decay rate.\n"
   ]
  },
  {
   "cell_type": "code",
   "execution_count": 3,
   "id": "50183c4c-e66e-48ec-beef-ec2e5fb413cf",
   "metadata": {},
   "outputs": [],
   "source": [
    "DEFAULT_KBACK = 1e9  # per Molar per sec.  TODO: reference/justification for this value\n",
    "pH = 7.0\n",
    "\n",
    "# 0.1 M malic acid in water.\n",
    "concs = {\n",
    "    water: 1.0,  # Activity of the solvent defined as 1.\n",
    "    proton: pow(10, -pH),\n",
    "    hydroxide: pow(10, pH - 14),\n",
    "    malic: 0.1,\n",
    "    malate_m1: 0,\n",
    "    malate_m2: 0,\n",
    "}\n",
    "\n",
    "mols = list(concs.keys())\n",
    "acids_idx = np.array([mols.index(d.acid) for d in deprotonations])\n",
    "bases_idx = np.array([mols.index(d.base) for d in deprotonations])\n",
    "proton_idx = mols.index(proton)\n",
    "\n",
    "s_matrix = np.zeros((len(mols), len(deprotonations)))\n",
    "for i, d in enumerate(deprotonations):\n",
    "    s_matrix[mols.index(d.acid), i] = -1\n",
    "    s_matrix[mols.index(d.base), i] = 1\n",
    "    s_matrix[mols.index(proton), i] = 1\n",
    "\n",
    "pK_a = np.array([d.pKa for d in deprotonations])\n",
    "K_a = np.power(10, -pK_a)  # Molar\n",
    "k_f = K_a * DEFAULT_KBACK  # per sec\n",
    "k_b = np.full_like(k_f, DEFAULT_KBACK)\n",
    "\n",
    "def dydt(y):\n",
    "    vf = k_f * y[acids_idx]\n",
    "    vb = k_b * y[proton_idx] * y[bases_idx]\n",
    "    vnet = vf - vb\n",
    "    return s_matrix @ vnet\n"
   ]
  },
  {
   "cell_type": "markdown",
   "id": "91228716-7527-4864-afd0-c993d98aad44",
   "metadata": {},
   "source": [
    "## Simulate Forward (solve_ivp)"
   ]
  },
  {
   "cell_type": "code",
   "execution_count": 4,
   "id": "1c242869-9245-4b41-9c1b-6a1390d8e5f3",
   "metadata": {},
   "outputs": [
    {
     "name": "stderr",
     "output_type": "stream",
     "text": [
      "No GPU/TPU found, falling back to CPU. (Set TF_CPP_MIN_LOG_LEVEL=0 and rerun for more info.)\n"
     ]
    }
   ],
   "source": [
    "fn = jax.jit(dydt)\n",
    "jac = jax.jit(jax.jacfwd(dydt))\n",
    "\n",
    "y0 = jnp.array([concs[mol] for mol in mols])\n",
    "t = np.linspace(0, 0.0001, 1001)  # pH is fast\n",
    "sim = scipy.integrate.solve_ivp(\n",
    "    fun=lambda _, y: fn(y),\n",
    "    jac=lambda _, y: jac(y),\n",
    "    y0=y0,\n",
    "    t_span=(0, 0.001),\n",
    "    t_eval=t,\n",
    "    method='BDF',\n",
    "    first_step=1e-9,\n",
    ")"
   ]
  },
  {
   "cell_type": "code",
   "execution_count": 5,
   "id": "31b56d7f-5305-4e35-8769-cd77273a9b8c",
   "metadata": {},
   "outputs": [
    {
     "data": {
      "text/html": [
       "<div>\n",
       "<style scoped>\n",
       "    .dataframe tbody tr th:only-of-type {\n",
       "        vertical-align: middle;\n",
       "    }\n",
       "\n",
       "    .dataframe tbody tr th {\n",
       "        vertical-align: top;\n",
       "    }\n",
       "\n",
       "    .dataframe thead th {\n",
       "        text-align: right;\n",
       "    }\n",
       "</style>\n",
       "<table border=\"1\" class=\"dataframe\">\n",
       "  <thead>\n",
       "    <tr style=\"text-align: right;\">\n",
       "      <th></th>\n",
       "      <th>water</th>\n",
       "      <th>proton</th>\n",
       "      <th>hydroxide</th>\n",
       "      <th>(S)-malic acid</th>\n",
       "      <th>L-malate(1-)</th>\n",
       "      <th>(S)-malate(2-)</th>\n",
       "    </tr>\n",
       "  </thead>\n",
       "  <tbody>\n",
       "    <tr>\n",
       "      <th>0.000000e+00</th>\n",
       "      <td>1.0</td>\n",
       "      <td>1.000000e-07</td>\n",
       "      <td>1.000000e-07</td>\n",
       "      <td>0.100000</td>\n",
       "      <td>0.000000</td>\n",
       "      <td>0.000000</td>\n",
       "    </tr>\n",
       "    <tr>\n",
       "      <th>1.000000e-07</th>\n",
       "      <td>1.0</td>\n",
       "      <td>3.067378e-03</td>\n",
       "      <td>8.491093e-08</td>\n",
       "      <td>0.096934</td>\n",
       "      <td>0.003065</td>\n",
       "      <td>0.000001</td>\n",
       "    </tr>\n",
       "    <tr>\n",
       "      <th>2.000000e-07</th>\n",
       "      <td>1.0</td>\n",
       "      <td>4.761677e-03</td>\n",
       "      <td>5.662610e-08</td>\n",
       "      <td>0.095242</td>\n",
       "      <td>0.004755</td>\n",
       "      <td>0.000003</td>\n",
       "    </tr>\n",
       "    <tr>\n",
       "      <th>3.000000e-07</th>\n",
       "      <td>1.0</td>\n",
       "      <td>5.406015e-03</td>\n",
       "      <td>3.382121e-08</td>\n",
       "      <td>0.094599</td>\n",
       "      <td>0.005395</td>\n",
       "      <td>0.000005</td>\n",
       "    </tr>\n",
       "    <tr>\n",
       "      <th>4.000000e-07</th>\n",
       "      <td>1.0</td>\n",
       "      <td>5.624396e-03</td>\n",
       "      <td>1.946971e-08</td>\n",
       "      <td>0.094382</td>\n",
       "      <td>0.005612</td>\n",
       "      <td>0.000006</td>\n",
       "    </tr>\n",
       "    <tr>\n",
       "      <th>...</th>\n",
       "      <td>...</td>\n",
       "      <td>...</td>\n",
       "      <td>...</td>\n",
       "      <td>...</td>\n",
       "      <td>...</td>\n",
       "      <td>...</td>\n",
       "    </tr>\n",
       "    <tr>\n",
       "      <th>9.960000e-05</th>\n",
       "      <td>1.0</td>\n",
       "      <td>5.725546e-03</td>\n",
       "      <td>1.742254e-12</td>\n",
       "      <td>0.094282</td>\n",
       "      <td>0.005710</td>\n",
       "      <td>0.000008</td>\n",
       "    </tr>\n",
       "    <tr>\n",
       "      <th>9.970000e-05</th>\n",
       "      <td>1.0</td>\n",
       "      <td>5.725546e-03</td>\n",
       "      <td>1.742261e-12</td>\n",
       "      <td>0.094282</td>\n",
       "      <td>0.005710</td>\n",
       "      <td>0.000008</td>\n",
       "    </tr>\n",
       "    <tr>\n",
       "      <th>9.980000e-05</th>\n",
       "      <td>1.0</td>\n",
       "      <td>5.725546e-03</td>\n",
       "      <td>1.742268e-12</td>\n",
       "      <td>0.094282</td>\n",
       "      <td>0.005710</td>\n",
       "      <td>0.000008</td>\n",
       "    </tr>\n",
       "    <tr>\n",
       "      <th>9.990000e-05</th>\n",
       "      <td>1.0</td>\n",
       "      <td>5.725546e-03</td>\n",
       "      <td>1.742275e-12</td>\n",
       "      <td>0.094282</td>\n",
       "      <td>0.005710</td>\n",
       "      <td>0.000008</td>\n",
       "    </tr>\n",
       "    <tr>\n",
       "      <th>1.000000e-04</th>\n",
       "      <td>1.0</td>\n",
       "      <td>5.725546e-03</td>\n",
       "      <td>1.742282e-12</td>\n",
       "      <td>0.094282</td>\n",
       "      <td>0.005710</td>\n",
       "      <td>0.000008</td>\n",
       "    </tr>\n",
       "  </tbody>\n",
       "</table>\n",
       "<p>1001 rows × 6 columns</p>\n",
       "</div>"
      ],
      "text/plain": [
       "              water        proton     hydroxide  (S)-malic acid  L-malate(1-)  \\\n",
       "0.000000e+00    1.0  1.000000e-07  1.000000e-07        0.100000      0.000000   \n",
       "1.000000e-07    1.0  3.067378e-03  8.491093e-08        0.096934      0.003065   \n",
       "2.000000e-07    1.0  4.761677e-03  5.662610e-08        0.095242      0.004755   \n",
       "3.000000e-07    1.0  5.406015e-03  3.382121e-08        0.094599      0.005395   \n",
       "4.000000e-07    1.0  5.624396e-03  1.946971e-08        0.094382      0.005612   \n",
       "...             ...           ...           ...             ...           ...   \n",
       "9.960000e-05    1.0  5.725546e-03  1.742254e-12        0.094282      0.005710   \n",
       "9.970000e-05    1.0  5.725546e-03  1.742261e-12        0.094282      0.005710   \n",
       "9.980000e-05    1.0  5.725546e-03  1.742268e-12        0.094282      0.005710   \n",
       "9.990000e-05    1.0  5.725546e-03  1.742275e-12        0.094282      0.005710   \n",
       "1.000000e-04    1.0  5.725546e-03  1.742282e-12        0.094282      0.005710   \n",
       "\n",
       "              (S)-malate(2-)  \n",
       "0.000000e+00        0.000000  \n",
       "1.000000e-07        0.000001  \n",
       "2.000000e-07        0.000003  \n",
       "3.000000e-07        0.000005  \n",
       "4.000000e-07        0.000006  \n",
       "...                      ...  \n",
       "9.960000e-05        0.000008  \n",
       "9.970000e-05        0.000008  \n",
       "9.980000e-05        0.000008  \n",
       "9.990000e-05        0.000008  \n",
       "1.000000e-04        0.000008  \n",
       "\n",
       "[1001 rows x 6 columns]"
      ]
     },
     "execution_count": 5,
     "metadata": {},
     "output_type": "execute_result"
    }
   ],
   "source": [
    "df = pd.DataFrame(sim.y.T, index=t, columns=[mol.name for mol in mols])\n",
    "df"
   ]
  },
  {
   "cell_type": "markdown",
   "id": "9a690478-a5e6-4feb-a478-94c515122193",
   "metadata": {},
   "source": [
    "## Find Steady State by Gradient Descent\n",
    "\n",
    "- Same fn, same jacobian, same y0 (because why not)\n"
   ]
  },
  {
   "cell_type": "code",
   "execution_count": 6,
   "id": "d2103b62-e036-419c-9c1d-b93d806b0f39",
   "metadata": {},
   "outputs": [
    {
     "name": "stdout",
     "output_type": "stream",
     "text": [
      "   Iteration     Total nfev        Cost      Cost reduction    Step norm     Optimality   \n",
      "       0              1         1.8034e+09                                    3.61e+10    \n",
      "       1              4         2.4940e+08      1.55e+09       6.28e-02       1.34e+10    \n",
      "       2              6         1.2788e+06      2.48e+08       3.14e-02       4.74e+09    \n",
      "       3             11         3.3760e+05      9.41e+05       2.45e-04       2.32e+09    \n",
      "       4             12         2.4003e+05      9.76e+04       4.91e-04       2.08e+09    \n",
      "       5             14         3.9185e+04      2.01e+05       1.23e-04       6.88e+08    \n",
      "       6             16         4.9598e+03      3.42e+04       6.13e-05       1.87e+08    \n",
      "       7             18         1.5982e+02      4.80e+03       3.07e-05       3.37e+07    \n",
      "       8             21         3.2528e+01      1.27e+02       3.83e-06       1.54e+07    \n",
      "       9             23         5.1884e+00      2.73e+01       1.92e-06       6.15e+06    \n",
      "      10             25         3.2984e-01      4.86e+00       9.58e-07       1.54e+06    \n",
      "      11             27         7.5974e-02      2.54e-01       4.79e-07       7.38e+05    \n",
      "      12             29         2.2300e-02      5.37e-02       2.40e-07       4.00e+05    \n",
      "      13             31         3.9884e-03      1.83e-02       1.20e-07       1.69e+05    \n",
      "      14             33         1.8566e-03      2.13e-03       5.99e-08       1.15e+05    \n",
      "      15             35         1.0066e-04      1.76e-03       3.00e-08       2.69e+04    \n",
      "      16             38         1.1503e-05      8.92e-05       3.74e-09       9.02e+03    \n",
      "      17             40         5.3504e-09      1.15e-05       1.87e-09       1.93e+02    \n",
      "      18             44         9.3235e-10      4.42e-09       5.85e-11       8.07e+01    \n",
      "      19             46         4.5394e-10      4.78e-10       2.92e-11       5.63e+01    \n",
      "      20             48         2.1291e-11      4.33e-10       1.46e-11       1.22e+01    \n",
      "      21             51         1.8884e-12      1.94e-11       1.83e-12       3.62e+00    \n",
      "      22             53         6.0388e-14      1.83e-12       9.14e-13       6.48e-01    \n",
      "      23             56         1.8703e-15      5.85e-14       1.14e-13       1.14e-01    \n",
      "      24             59         3.2167e-16      1.55e-15       1.43e-14       4.71e-02    \n",
      "      25             61         2.7875e-17      2.94e-16       7.14e-15       1.39e-02    \n",
      "      26             63         1.0983e-18      2.68e-17       3.57e-15       2.75e-03    \n",
      "      27             66         6.6090e-20      1.03e-18       4.46e-16       6.75e-04    \n",
      "`xtol` termination condition is satisfied.\n",
      "Function evaluations 66, initial cost 1.8034e+09, final cost 6.6090e-20, first-order optimality 6.75e-04.\n"
     ]
    },
    {
     "data": {
      "text/plain": [
       "     message: `xtol` termination condition is satisfied.\n",
       "     success: True\n",
       "      status: 3\n",
       "         fun: [-2.085e-10 -6.934e-11  2.085e-10  1.212e-10  3.544e-11\n",
       "               -1.566e-10]\n",
       "           x: [ 1.000e+00  1.941e-03  5.153e-12  5.754e-03  1.028e-03\n",
       "                4.208e-06]\n",
       "        cost: 6.609019601363514e-20\n",
       "         jac: [[-1.000e-05  5.153e-03 ...  0.000e+00  0.000e+00]\n",
       "               [ 1.000e-05 -1.032e+06 ... -1.933e+06 -1.941e+06]\n",
       "               ...\n",
       "               [ 0.000e+00 -1.024e+06 ... -1.949e+06  1.941e+06]\n",
       "               [ 0.000e+00 -4.208e+03 ...  7.943e+03 -1.941e+06]]\n",
       "        grad: [ 3.476e-15  1.605e-04 -6.745e-04 -5.377e-05  2.989e-04\n",
       "                5.073e-04]\n",
       "  optimality: 0.0006745408767412285\n",
       " active_mask: [ 0.000e+00  0.000e+00  0.000e+00  0.000e+00  0.000e+00\n",
       "                0.000e+00]\n",
       "        nfev: 66\n",
       "        njev: 28"
      ]
     },
     "execution_count": 6,
     "metadata": {},
     "output_type": "execute_result"
    }
   ],
   "source": [
    "soln = scipy.optimize.least_squares(\n",
    "    fun=fn,\n",
    "    jac=jac,\n",
    "    x0=y0,\n",
    "    verbose=2,\n",
    "    xtol=1e-15,\n",
    ")\n",
    "soln"
   ]
  },
  {
   "cell_type": "markdown",
   "id": "655f6978-499f-4703-b7f8-1bd3f5e3f848",
   "metadata": {},
   "source": [
    "Wait, that's not right. The issue is that nothing conserves the total (malic acid + malate(1-) + malate(2-)). In the forward sim the s_matrix ensures this conservation. In an optimization we need to do it another way.\n"
   ]
  },
  {
   "cell_type": "code",
   "execution_count": 7,
   "id": "81244602-7fdc-4307-b5f9-59eb71bd80ea",
   "metadata": {},
   "outputs": [
    {
     "name": "stdout",
     "output_type": "stream",
     "text": [
      "   Iteration     Total nfev        Cost      Cost reduction    Step norm     Optimality   \n",
      "       0              1         1.8034e+09                                    3.61e+10    \n",
      "       1              5         1.0538e+09      7.50e+08       2.69e-03       4.55e+11    \n",
      "       2              6         6.8833e+08      3.65e+08       4.63e-03       9.63e+11    \n",
      "       3              7         6.2667e+06      6.82e+08       1.43e-03       7.43e+10    \n",
      "       4              8         1.2113e+03      6.27e+06       1.69e-04       1.00e+09    \n",
      "       5              9         5.0599e-05      1.21e+03       2.42e-06       2.05e+05    \n",
      "       6             10         8.9659e-20      5.06e-05       4.96e-10       8.62e-03    \n",
      "       7             11         5.0247e-24      8.97e-20       2.11e-17       6.47e-05    \n",
      "       8             12         5.0247e-24      0.00e+00       0.00e+00       6.47e-05    \n",
      "`xtol` termination condition is satisfied.\n",
      "Function evaluations 12, initial cost 1.8034e+09, final cost 5.0247e-24, first-order optimality 6.47e-05.\n"
     ]
    },
    {
     "data": {
      "text/plain": [
       "     message: `xtol` termination condition is satisfied.\n",
       "     success: True\n",
       "      status: 3\n",
       "         fun: [-1.028e-17  1.826e-12  1.028e-17 -1.830e-12  1.834e-12\n",
       "               -4.229e-15]\n",
       "           x: [-1.000e-07  5.718e-03  7.921e-06]\n",
       "        cost: 5.024688348873446e-24\n",
       "         jac: [[ 5.726e+06  1.747e-03  1.747e-03]\n",
       "               [-1.144e+07 -1.178e+07 -5.726e+06]\n",
       "               ...\n",
       "               [-5.702e+06 -1.178e+07  5.757e+06]\n",
       "               [-7.921e+03  2.198e+01 -5.741e+06]]\n",
       "        grad: [-4.181e-05 -6.469e-05  1.598e-07]\n",
       "  optimality: 6.469155255282102e-05\n",
       " active_mask: [ 0.000e+00  0.000e+00  0.000e+00]\n",
       "        nfev: 12\n",
       "        njev: 8"
      ]
     },
     "execution_count": 7,
     "metadata": {},
     "output_type": "execute_result"
    }
   ],
   "source": [
    "# Too clever by half: What we optimize is the net integrated flux per Deprotonation\n",
    "def dydt_from_events(x):\n",
    "    y = y0 + s_matrix @ x\n",
    "    return dydt(y)\n",
    "\n",
    "soln = scipy.optimize.least_squares(\n",
    "    fun=jax.jit(dydt_from_events),\n",
    "    jac=jax.jit(jax.jacfwd(dydt_from_events)),\n",
    "    x0=jnp.zeros(s_matrix.shape[1]),\n",
    "    xtol=1e-15,\n",
    "    verbose=2,\n",
    ")\n",
    "soln"
   ]
  },
  {
   "cell_type": "code",
   "execution_count": 8,
   "id": "6f86de5e-dbc7-4ad3-bc7b-0c0d828d6841",
   "metadata": {},
   "outputs": [
    {
     "data": {
      "text/plain": [
       "water             1.000000e+00\n",
       "proton            5.725546e-03\n",
       "hydroxide         1.746558e-12\n",
       "(S)-malic acid    9.428237e-02\n",
       "L-malate(1-)      5.709704e-03\n",
       "(S)-malate(2-)    7.921303e-06\n",
       "dtype: float64"
      ]
     },
     "execution_count": 8,
     "metadata": {},
     "output_type": "execute_result"
    }
   ],
   "source": [
    "pd.Series(y0 + s_matrix @ soln.x, index=[mol.name for mol in mols])"
   ]
  },
  {
   "cell_type": "code",
   "execution_count": 9,
   "id": "dac6acd7-7ff3-48a8-b19f-049eafe84feb",
   "metadata": {},
   "outputs": [
    {
     "data": {
      "text/plain": [
       "water             1.000000e+00\n",
       "proton            5.725546e-03\n",
       "hydroxide         1.742282e-12\n",
       "(S)-malic acid    9.428237e-02\n",
       "L-malate(1-)      5.709704e-03\n",
       "(S)-malate(2-)    7.921304e-06\n",
       "Name: 0.0001, dtype: float64"
      ]
     },
     "execution_count": 9,
     "metadata": {},
     "output_type": "execute_result"
    }
   ],
   "source": [
    "df.iloc[-1]"
   ]
  },
  {
   "cell_type": "markdown",
   "id": "89a7107c-cae9-42bd-91a4-3ff122635b50",
   "metadata": {},
   "source": [
    "Noice"
   ]
  },
  {
   "cell_type": "code",
   "execution_count": 10,
   "id": "55e5b673-8def-4f6e-8bd8-4c32d643826c",
   "metadata": {},
   "outputs": [
    {
     "data": {
      "text/plain": [
       "2.242183063133049"
      ]
     },
     "execution_count": 10,
     "metadata": {},
     "output_type": "execute_result"
    }
   ],
   "source": [
    "-np.log10((y0 + s_matrix @ soln.x)[proton_idx])"
   ]
  },
  {
   "cell_type": "markdown",
   "id": "ade6f352-81bd-4279-9988-32483ced95d5",
   "metadata": {},
   "source": [
    "Which agrees with Glaser et al for dilute malic acid, 1e-1 M."
   ]
  },
  {
   "cell_type": "markdown",
   "id": "a30d9831-67e2-4632-848e-550caf979ba1",
   "metadata": {},
   "source": [
    "### Consolidate into a PhBuffer class"
   ]
  },
  {
   "cell_type": "code",
   "execution_count": 11,
   "id": "40cbe07b-21ba-485e-a585-4d691b48b3fb",
   "metadata": {},
   "outputs": [],
   "source": [
    "class PhBuffer:\n",
    "    def __init__(self, components):\n",
    "        # Water and its dissociation are always part of dynamics\n",
    "        mols = ['H+', 'H2O', 'OH-']\n",
    "        acids_idx = [1]\n",
    "        bases_idx = [2]\n",
    "        kas = [1e-14]\n",
    "        \n",
    "        for mol, pKas in components.items():\n",
    "            start = len(mols)\n",
    "            mols.append(mol)\n",
    "            for i, pKa in enumerate(pKas):\n",
    "                mols.append(f'{mol}(-{i + 1})')\n",
    "                acids_idx.append(start + i)\n",
    "                bases_idx.append(start + i + 1)\n",
    "                kas.append(pow(10, -pKa))\n",
    "        \n",
    "        self.mols = mols\n",
    "        self.acids_idx = np.array(acids_idx)\n",
    "        self.bases_idx = np.array(bases_idx)\n",
    "        \n",
    "        self.kf = np.array(kas) * DEFAULT_KBACK\n",
    "        self.kb = np.full_like(self.kf, DEFAULT_KBACK)\n",
    "\n",
    "        # Use an S matrix just like any other reaction network. TODO: slicker ops eploiting known sparsity?\n",
    "        self.s_matrix = np.zeros((len(mols), len(kas)))\n",
    "        cols = np.arange(self.s_matrix.shape[1])\n",
    "        self.s_matrix[self.acids_idx, cols] = -1  # all dissociations consume the acid\n",
    "        self.s_matrix[self.bases_idx, cols] = 1   # all dissociations produce the base\n",
    "        self.s_matrix[0, cols] = 1  # all dissociations produce a proton\n",
    "\n",
    "    def state_vector(self, pH, concs):\n",
    "        values = [pow(10, -pH), 1, pow(10, pH - 14)]\n",
    "        for mol in self.mols[3:]:\n",
    "            values.append(concs.get(mol, 0))\n",
    "        return jnp.array(values)\n",
    "    \n",
    "    def rates(self, y):\n",
    "        vf = self.kf * y[self.acids_idx]\n",
    "        vb = self.kb * y[0] * y[self.bases_idx]\n",
    "        return vf, vb\n",
    "    \n",
    "    def dydt(self, y):\n",
    "        vf, vb = self.rates(y)\n",
    "        vnet = vf - vb\n",
    "        return self.s_matrix @ vnet\n",
    "    \n",
    "    def simulate(self, pH, concs, end, step=1e-7):\n",
    "        fn = jax.jit(self.dydt)\n",
    "        jac = jax.jit(jax.jacfwd(self.dydt))\n",
    "\n",
    "        return scipy.integrate.solve_ivp(\n",
    "            fun=lambda _, y: fn(y),\n",
    "            jac=lambda _, y: jac(y),\n",
    "            y0=self.state_vector(pH, concs),\n",
    "            t_span=(0, end),\n",
    "            t_eval=np.linspace(0, end, int(end / step) + 1),\n",
    "            method='BDF',\n",
    "            first_step=1e-9,  # pH is fast\n",
    "        )\n",
    "    \n",
    "    def titrate(self, pH, concs, **kwargs):\n",
    "        y0 = self.state_vector(pH, concs)\n",
    "        proton_onehot = np.eye(self.s_matrix.shape[0])[0]\n",
    "\n",
    "        def project_state(x):\n",
    "            proton_ex = proton_onehot * x[0]\n",
    "            dissociations = self.s_matrix @ x[1:]\n",
    "            return y0 + dissociations + proton_ex\n",
    "        \n",
    "        def residual(x):\n",
    "            y = project_state(x)\n",
    "            dydt = self.dydt(y)\n",
    "            return jnp.append(dydt, y[0] - y0[0])\n",
    "        \n",
    "        soln = scipy.optimize.least_squares(\n",
    "            fun=jax.jit(residual),\n",
    "            jac=jax.jit(jax.jacfwd(residual)),\n",
    "            x0=jnp.zeros(1 + self.s_matrix.shape[1]),\n",
    "            **kwargs\n",
    "        )\n",
    "        \n",
    "        result = {m: v for m, v in zip(self.mols, np.asarray(project_state(soln.x)))}\n",
    "        return result, soln        \n"
   ]
  },
  {
   "cell_type": "code",
   "execution_count": 12,
   "id": "eb9ee6e8-29de-467e-ae7b-0ad271cff530",
   "metadata": {},
   "outputs": [
    {
     "data": {
      "text/html": [
       "<div>\n",
       "<style scoped>\n",
       "    .dataframe tbody tr th:only-of-type {\n",
       "        vertical-align: middle;\n",
       "    }\n",
       "\n",
       "    .dataframe tbody tr th {\n",
       "        vertical-align: top;\n",
       "    }\n",
       "\n",
       "    .dataframe thead tr th {\n",
       "        text-align: left;\n",
       "    }\n",
       "</style>\n",
       "<table border=\"1\" class=\"dataframe\">\n",
       "  <thead>\n",
       "    <tr>\n",
       "      <th></th>\n",
       "      <th>H+</th>\n",
       "      <th>H2O</th>\n",
       "      <th>OH-</th>\n",
       "      <th>malate</th>\n",
       "      <th>malate(-1)</th>\n",
       "      <th>malate(-2)</th>\n",
       "    </tr>\n",
       "  </thead>\n",
       "  <tbody>\n",
       "    <tr>\n",
       "      <th>0.000000e+00</th>\n",
       "      <td>1.000000e-07</td>\n",
       "      <td>1.0</td>\n",
       "      <td>1.000000e-07</td>\n",
       "      <td>0.100000</td>\n",
       "      <td>0.000000</td>\n",
       "      <td>0.000000</td>\n",
       "    </tr>\n",
       "    <tr>\n",
       "      <th>1.000000e-07</th>\n",
       "      <td>3.067378e-03</td>\n",
       "      <td>1.0</td>\n",
       "      <td>8.491093e-08</td>\n",
       "      <td>0.096934</td>\n",
       "      <td>0.003065</td>\n",
       "      <td>0.000001</td>\n",
       "    </tr>\n",
       "    <tr>\n",
       "      <th>2.000000e-07</th>\n",
       "      <td>4.761677e-03</td>\n",
       "      <td>1.0</td>\n",
       "      <td>5.662610e-08</td>\n",
       "      <td>0.095242</td>\n",
       "      <td>0.004755</td>\n",
       "      <td>0.000003</td>\n",
       "    </tr>\n",
       "    <tr>\n",
       "      <th>3.000000e-07</th>\n",
       "      <td>5.406015e-03</td>\n",
       "      <td>1.0</td>\n",
       "      <td>3.382121e-08</td>\n",
       "      <td>0.094599</td>\n",
       "      <td>0.005395</td>\n",
       "      <td>0.000005</td>\n",
       "    </tr>\n",
       "    <tr>\n",
       "      <th>4.000000e-07</th>\n",
       "      <td>5.624396e-03</td>\n",
       "      <td>1.0</td>\n",
       "      <td>1.946971e-08</td>\n",
       "      <td>0.094382</td>\n",
       "      <td>0.005612</td>\n",
       "      <td>0.000006</td>\n",
       "    </tr>\n",
       "    <tr>\n",
       "      <th>...</th>\n",
       "      <td>...</td>\n",
       "      <td>...</td>\n",
       "      <td>...</td>\n",
       "      <td>...</td>\n",
       "      <td>...</td>\n",
       "      <td>...</td>\n",
       "    </tr>\n",
       "    <tr>\n",
       "      <th>9.960000e-05</th>\n",
       "      <td>5.725546e-03</td>\n",
       "      <td>1.0</td>\n",
       "      <td>1.746435e-12</td>\n",
       "      <td>0.094282</td>\n",
       "      <td>0.005710</td>\n",
       "      <td>0.000008</td>\n",
       "    </tr>\n",
       "    <tr>\n",
       "      <th>9.970000e-05</th>\n",
       "      <td>5.725546e-03</td>\n",
       "      <td>1.0</td>\n",
       "      <td>1.746448e-12</td>\n",
       "      <td>0.094282</td>\n",
       "      <td>0.005710</td>\n",
       "      <td>0.000008</td>\n",
       "    </tr>\n",
       "    <tr>\n",
       "      <th>9.980000e-05</th>\n",
       "      <td>5.725546e-03</td>\n",
       "      <td>1.0</td>\n",
       "      <td>1.746461e-12</td>\n",
       "      <td>0.094282</td>\n",
       "      <td>0.005710</td>\n",
       "      <td>0.000008</td>\n",
       "    </tr>\n",
       "    <tr>\n",
       "      <th>9.990000e-05</th>\n",
       "      <td>5.725546e-03</td>\n",
       "      <td>1.0</td>\n",
       "      <td>1.746474e-12</td>\n",
       "      <td>0.094282</td>\n",
       "      <td>0.005710</td>\n",
       "      <td>0.000008</td>\n",
       "    </tr>\n",
       "    <tr>\n",
       "      <th>1.000000e-04</th>\n",
       "      <td>5.725546e-03</td>\n",
       "      <td>1.0</td>\n",
       "      <td>1.746487e-12</td>\n",
       "      <td>0.094282</td>\n",
       "      <td>0.005710</td>\n",
       "      <td>0.000008</td>\n",
       "    </tr>\n",
       "  </tbody>\n",
       "</table>\n",
       "<p>1001 rows × 6 columns</p>\n",
       "</div>"
      ],
      "text/plain": [
       "                        H+  H2O           OH-    malate malate(-1) malate(-2)\n",
       "0.000000e+00  1.000000e-07  1.0  1.000000e-07  0.100000   0.000000   0.000000\n",
       "1.000000e-07  3.067378e-03  1.0  8.491093e-08  0.096934   0.003065   0.000001\n",
       "2.000000e-07  4.761677e-03  1.0  5.662610e-08  0.095242   0.004755   0.000003\n",
       "3.000000e-07  5.406015e-03  1.0  3.382121e-08  0.094599   0.005395   0.000005\n",
       "4.000000e-07  5.624396e-03  1.0  1.946971e-08  0.094382   0.005612   0.000006\n",
       "...                    ...  ...           ...       ...        ...        ...\n",
       "9.960000e-05  5.725546e-03  1.0  1.746435e-12  0.094282   0.005710   0.000008\n",
       "9.970000e-05  5.725546e-03  1.0  1.746448e-12  0.094282   0.005710   0.000008\n",
       "9.980000e-05  5.725546e-03  1.0  1.746461e-12  0.094282   0.005710   0.000008\n",
       "9.990000e-05  5.725546e-03  1.0  1.746474e-12  0.094282   0.005710   0.000008\n",
       "1.000000e-04  5.725546e-03  1.0  1.746487e-12  0.094282   0.005710   0.000008\n",
       "\n",
       "[1001 rows x 6 columns]"
      ]
     },
     "execution_count": 12,
     "metadata": {},
     "output_type": "execute_result"
    }
   ],
   "source": [
    "buffer = PhBuffer({'malate': [3.46, 5.10]})\n",
    "sim = buffer.simulate(7.0, {'malate': 0.1}, 0.0001)\n",
    "pd.DataFrame(sim.y.T, index=sim.t, columns=[buffer.mols])"
   ]
  },
  {
   "cell_type": "code",
   "execution_count": 13,
   "id": "00afa5e5-d18b-47f1-8f99-0b63ad17bcd1",
   "metadata": {},
   "outputs": [
    {
     "data": {
      "text/plain": [
       "({'H+': 1.0000000000287557e-07,\n",
       "  'H2O': 1.0,\n",
       "  'OH-': 1e-07,\n",
       "  'malate': 3.58562715754851e-07,\n",
       "  'malate(-1)': 0.001243269067528932,\n",
       "  'malate(-2)': 0.09875637236975532},\n",
       "      message: `xtol` termination condition is satisfied.\n",
       "      success: True\n",
       "       status: 3\n",
       "          fun: [-2.898e-10  2.876e-16 -2.876e-16  5.925e-12  2.780e-10\n",
       "                -2.839e-10  2.876e-18]\n",
       "            x: [-1.988e-01  6.091e-24  1.000e-01  9.876e-02]\n",
       "         cost: 1.2095403704011514e-19\n",
       "          jac: [[-1.000e+08 -1.000e+08 -1.003e+08 -1.000e+08]\n",
       "                [ 1.000e+02  2.000e+02  1.000e+02  1.000e+02]\n",
       "                ...\n",
       "                [-9.876e+07 -9.876e+07 -9.875e+07 -9.876e+07]\n",
       "                [ 1.000e+00  1.000e+00  1.000e+00  1.000e+00]]\n",
       "         grad: [ 8.413e-02  8.413e-02  8.413e-02  8.414e-02]\n",
       "   optimality: 0.08414067096385917\n",
       "  active_mask: [ 0.000e+00  0.000e+00  0.000e+00  0.000e+00]\n",
       "         nfev: 5\n",
       "         njev: 5)"
      ]
     },
     "execution_count": 13,
     "metadata": {},
     "output_type": "execute_result"
    }
   ],
   "source": [
    "buffer.titrate(7.0, {'malate': 0.1}, xtol=1e-15)"
   ]
  },
  {
   "cell_type": "markdown",
   "id": "ce04ecdd-478e-4d2d-af5d-fed2b9b66836",
   "metadata": {},
   "source": [
    "## Glutamate (+Phosphate, +Glutathione, ...)"
   ]
  },
  {
   "cell_type": "code",
   "execution_count": 14,
   "id": "aaeeea7b-c8bf-4e23-a8c6-b0ef89331ab0",
   "metadata": {},
   "outputs": [
    {
     "data": {
      "text/plain": [
       "{'H+': 5.0118723338155036e-08,\n",
       " 'H2O': 1.0,\n",
       " 'OH-': 1.9952623139795223e-07,\n",
       " 'glu': 3.5407150822397426e-10,\n",
       " 'glu(-1)': 5.6116552372850736e-05,\n",
       " 'glu(-2)': 0.09529957886522757,\n",
       " 'glu(-3)': 0.000644304228328071,\n",
       " 'pi': 2.792465656625831e-08,\n",
       " 'pi(-1)': 0.005970185709941768,\n",
       " 'pi(-2)': 0.01802967260585814,\n",
       " 'pi(-3)': 1.1375954352380949e-07}"
      ]
     },
     "execution_count": 14,
     "metadata": {},
     "output_type": "execute_result"
    }
   ],
   "source": [
    "buffer = PhBuffer({\n",
    "    'glu': [2.10, 4.07, 9.47],\n",
    "    'pi': [1.97, 6.82, 12.5],\n",
    "})\n",
    "\n",
    "concs, details = buffer.titrate(7.3, {'glu': 0.096, 'pi': 0.024})\n",
    "concs"
   ]
  },
  {
   "cell_type": "code",
   "execution_count": 15,
   "id": "0105a027-c75c-42ce-87db-5720482dad2f",
   "metadata": {},
   "outputs": [
    {
     "data": {
      "text/plain": [
       "0.096"
      ]
     },
     "execution_count": 15,
     "metadata": {},
     "output_type": "execute_result"
    }
   ],
   "source": [
    "sum(v for m, v in concs.items() if m.startswith('glu'))"
   ]
  },
  {
   "cell_type": "code",
   "execution_count": 16,
   "id": "a9ffbe53-7c70-49b9-9d61-9dbc7ca1db12",
   "metadata": {},
   "outputs": [
    {
     "data": {
      "text/plain": [
       "0.024"
      ]
     },
     "execution_count": 16,
     "metadata": {},
     "output_type": "execute_result"
    }
   ],
   "source": [
    "sum(v for m, v in concs.items() if m.startswith('pi'))"
   ]
  },
  {
   "cell_type": "code",
   "execution_count": 17,
   "id": "8b6a30d2-ef57-4f6c-a854-c4a936adb58e",
   "metadata": {},
   "outputs": [
    {
     "data": {
      "text/plain": [
       "7.3000000002129255"
      ]
     },
     "execution_count": 17,
     "metadata": {},
     "output_type": "execute_result"
    }
   ],
   "source": [
    "-np.log10(concs['H+'])"
   ]
  },
  {
   "cell_type": "markdown",
   "id": "5ac7122e-75e3-4d30-8e30-a04814340027",
   "metadata": {},
   "source": [
    "### A second titration from the end state of the first avoids some numerical precision issues\n",
    "\n",
    "Which means maybe rethink the optimization to avoid the issues in the first place, if possible"
   ]
  },
  {
   "cell_type": "code",
   "execution_count": 18,
   "id": "48e5040f-0ec1-417c-a8e5-2658395f9fc4",
   "metadata": {},
   "outputs": [
    {
     "data": {
      "text/plain": [
       "7.3"
      ]
     },
     "execution_count": 18,
     "metadata": {},
     "output_type": "execute_result"
    }
   ],
   "source": [
    "-np.log10(buffer.titrate(7.3, concs, xtol=1e-15)[0]['H+'])"
   ]
  },
  {
   "cell_type": "markdown",
   "id": "c7594976-eb34-4b3a-a50f-bf53605edd79",
   "metadata": {},
   "source": [
    "**Simpler**: optimize the vector of net integrated dissociation fluxes, but hold H+ (i.e. pH) constant.\n",
    "\n",
    "Also, key everything on (mol, charge) tuples -- more intuitive to work with"
   ]
  },
  {
   "cell_type": "code",
   "execution_count": 19,
   "id": "7cc421f2-7fab-42ed-a252-d49f08ab4f7d",
   "metadata": {},
   "outputs": [],
   "source": [
    "class PhBuffer:\n",
    "    def __init__(self, components):\n",
    "        # Water and its dissociation are always part of dynamics\n",
    "        mols = [('H', 1), ('H2O', 0), ('OH', -1)]\n",
    "        acids_idx = [1]\n",
    "        bases_idx = [2]\n",
    "        kas = [1e-14]\n",
    "        \n",
    "        for (mol, charge), pKas in components.items():\n",
    "            start = len(mols)\n",
    "            mols.append((mol, charge))\n",
    "            for i, pKa in enumerate(pKas):\n",
    "                mols.append((mol, charge - i - 1))\n",
    "                acids_idx.append(start + i)\n",
    "                bases_idx.append(start + i + 1)\n",
    "                kas.append(pow(10, -pKa))\n",
    "        \n",
    "        self.mols = mols\n",
    "        self.acids_idx = np.array(acids_idx)\n",
    "        self.bases_idx = np.array(bases_idx)\n",
    "        \n",
    "        self.kf = np.array(kas) * DEFAULT_KBACK\n",
    "        self.kb = np.full_like(self.kf, DEFAULT_KBACK)\n",
    "\n",
    "        # Use an S matrix just like any other reaction network. TODO: slicker ops eploiting known sparsity?\n",
    "        self.s_matrix = np.zeros((len(mols), len(kas)))\n",
    "        cols = np.arange(self.s_matrix.shape[1])\n",
    "        self.s_matrix[self.acids_idx, cols] = -1  # all dissociations consume the acid\n",
    "        self.s_matrix[self.bases_idx, cols] = 1   # all dissociations produce the base\n",
    "        self.s_matrix[0, cols] = 1  # all dissociations produce a proton\n",
    "\n",
    "    def state_vector(self, pH, concs):\n",
    "        values = [pow(10, -pH), 1, pow(10, pH - 14)]\n",
    "        for mol in self.mols[3:]:\n",
    "            values.append(concs.get(mol, 0))\n",
    "        return jnp.array(values)\n",
    "    \n",
    "    def rates(self, y):\n",
    "        vf = self.kf * y[self.acids_idx]\n",
    "        vb = self.kb * y[0] * y[self.bases_idx]\n",
    "        return vf, vb\n",
    "    \n",
    "    def dydt(self, y):\n",
    "        vf, vb = self.rates(y)\n",
    "        vnet = vf - vb\n",
    "        return self.s_matrix @ vnet\n",
    "    \n",
    "    def titrate(self, pH, concs, **kwargs):\n",
    "        y0 = self.state_vector(pH, concs)\n",
    "\n",
    "        def project_state(x):\n",
    "            dissociations = self.s_matrix @ x\n",
    "            y = y0 + dissociations\n",
    "            return y.at[0].set(y0[0])\n",
    "        \n",
    "        def residual(x):\n",
    "            y = project_state(x)\n",
    "            dydt = self.dydt(y)\n",
    "            return dydt\n",
    "        \n",
    "        soln = scipy.optimize.least_squares(\n",
    "            fun=jax.jit(residual),\n",
    "            jac=jax.jit(jax.jacfwd(residual)),\n",
    "            x0=jnp.zeros(self.s_matrix.shape[1]),\n",
    "            **kwargs\n",
    "        )\n",
    "        \n",
    "        result = {m: v for m, v in zip(self.mols, np.asarray(project_state(soln.x)))}\n",
    "        return result, soln        \n",
    "    \n",
    "    def simulate(self, pH, concs, end, step=1e-7):\n",
    "        fn = jax.jit(self.dydt)\n",
    "        jac = jax.jit(jax.jacfwd(self.dydt))\n",
    "\n",
    "        return scipy.integrate.solve_ivp(\n",
    "            fun=lambda _, y: fn(y),\n",
    "            jac=lambda _, y: jac(y),\n",
    "            y0=self.state_vector(pH, concs),\n",
    "            t_span=(0, end),\n",
    "            t_eval=np.linspace(0, end, int(end / step) + 1),\n",
    "            method='BDF',\n",
    "            first_step=1e-9,  # pH is fast\n",
    "        )\n"
   ]
  },
  {
   "cell_type": "code",
   "execution_count": 20,
   "id": "43d536df-424b-4375-8114-a35973b11abe",
   "metadata": {},
   "outputs": [
    {
     "data": {
      "text/plain": [
       "{('H', 1): 5.011872336272725e-08,\n",
       " ('H2O', 0): 1.0,\n",
       " ('OH', -1): 1.995262314968879e-07,\n",
       " ('glu', 1): 3.5407150866556463e-10,\n",
       " ('glu', 0): 5.6116552372848914e-05,\n",
       " ('glu', -1): 0.09529957886522758,\n",
       " ('glu', -2): 0.0006443042283280577,\n",
       " ('pi', 0): 2.792465656550428e-08,\n",
       " ('pi', -1): 0.005970185709941773,\n",
       " ('pi', -2): 0.01802967260585817,\n",
       " ('pi', -3): 1.1375954349239553e-07}"
      ]
     },
     "execution_count": 20,
     "metadata": {},
     "output_type": "execute_result"
    }
   ],
   "source": [
    "buffer = PhBuffer({\n",
    "    ('glu', +1): [2.10, 4.07, 9.47],\n",
    "    ('pi', 0): [1.97, 6.82, 12.5],\n",
    "})\n",
    "\n",
    "concs, details = buffer.titrate(7.3, {('glu', -1): 0.096, ('pi', -2): 0.024})\n",
    "concs"
   ]
  },
  {
   "cell_type": "code",
   "execution_count": 21,
   "id": "738dca99-06e2-4f3a-8f3c-1efe0dea25a7",
   "metadata": {},
   "outputs": [
    {
     "data": {
      "text/plain": [
       "7.3"
      ]
     },
     "execution_count": 21,
     "metadata": {},
     "output_type": "execute_result"
    }
   ],
   "source": [
    "-np.log10(buffer.titrate(7.3, concs, xtol=1e-15)[0][('H', 1)])"
   ]
  },
  {
   "cell_type": "markdown",
   "id": "0a966984-b58d-4811-9b30-c97d3cc21cfe",
   "metadata": {},
   "source": [
    "Booyah"
   ]
  },
  {
   "cell_type": "markdown",
   "id": "244e6384-ba01-475f-a3a6-42a8f12fd7e4",
   "metadata": {},
   "source": [
    "## Experiment: Challenge with Proton Excess / Deficiency\n",
    "\n",
    "- Titrate buffer to pH 7.3 (presumed _E. coli_ intracellular)\n",
    "- Excess: increase [H+] corresponding to 10, 100, ... additional protons per cell\n",
    "- Deficit: increase [OH-] as above to emulate removing protons\n",
    "    - We can't just remove 1e6 protons when there are only 50 free protons per cell\n",
    "- In each case let the buffer find its new equilibrium, and measure the pH"
   ]
  },
  {
   "cell_type": "code",
   "execution_count": 22,
   "id": "ec0af803-928a-4223-a7bd-21b7850e21bb",
   "metadata": {},
   "outputs": [],
   "source": [
    "buffer = PhBuffer({\n",
    "    ('glu', +1): [2.10, 4.07, 9.47],\n",
    "    ('pi', 0): [1.97, 6.82, 12.5],\n",
    "    ('gsh', +1): [2.12, 3.59, 8.75, 9.65],\n",
    "    ('fru-bp', 0): [0.89, 1.49, 5.92, 6.52],\n",
    "})\n",
    "initial, _ = buffer.titrate(7.3, {('glu', -1): .096, ('pi', -2): .024, ('gsh', -1): .017, ('fru-bp', -4): .015})\n",
    "\n",
    "# The class doesn't do this conveniently just yet. Build the process up manually.\n",
    "def residual(x, y):\n",
    "    dissociations = buffer.s_matrix @ x\n",
    "    return buffer.dydt(y + dissociations)\n",
    "\n",
    "fn = jax.jit(residual)\n",
    "jac = jax.jit(jax.jacfwd(residual))\n",
    "\n",
    "y0 = buffer.state_vector(7.3, initial)\n",
    "proton_onehot = jnp.eye(buffer.s_matrix.shape[0])[0]\n",
    "hydroxide_onehot = jnp.eye(buffer.s_matrix.shape[0])[2]\n",
    "\n",
    "challenges = []\n",
    "excess = []\n",
    "deficit = []\n",
    "for i in range(9):\n",
    "    challenge = pow(10, i)\n",
    "    challenge_conc = challenge * 1e-9  # 1 molecule/cell ~ 1 nM\n",
    "    challenges.append(challenge)\n",
    "    \n",
    "    y_excess = y0 + challenge_conc * proton_onehot\n",
    "    soln_excess = scipy.optimize.least_squares(\n",
    "        fun=fn,\n",
    "        jac=jac,\n",
    "        args=(y_excess,),\n",
    "        x0=jnp.zeros(buffer.s_matrix.shape[1]),\n",
    "    )\n",
    "    excess.append(y_excess + buffer.s_matrix @ soln_excess.x)\n",
    "    \n",
    "    y_deficit = y0 + challenge_conc * hydroxide_onehot\n",
    "    soln_deficit = scipy.optimize.least_squares(\n",
    "        fun=fn,\n",
    "        jac=jac,\n",
    "        args=(y_deficit,),\n",
    "        x0=jnp.zeros(buffer.s_matrix.shape[1]),\n",
    "    )\n",
    "    deficit.append(y_deficit + buffer.s_matrix @ soln_deficit.x)\n",
    "\n",
    "excess = np.array(excess)\n",
    "deficit = np.array(deficit)"
   ]
  },
  {
   "cell_type": "code",
   "execution_count": 23,
   "id": "ec1fe538-c5f7-4329-8584-9fed9fcbf2d5",
   "metadata": {},
   "outputs": [],
   "source": [
    "excess_df = pd.DataFrame(excess, columns=buffer.mols, index=challenges)\n",
    "deficit_df = pd.DataFrame(deficit, columns=buffer.mols, index=challenges)"
   ]
  },
  {
   "cell_type": "code",
   "execution_count": 24,
   "id": "08aa05ca-de36-46e1-822a-725709e9166d",
   "metadata": {},
   "outputs": [
    {
     "data": {
      "image/png": "[encoded data removed]",
      "text/plain": [
       "<Figure size 640x480 with 1 Axes>"
      ]
     },
     "metadata": {},
     "output_type": "display_data"
    }
   ],
   "source": [
    "excess_pH = -np.log10(excess_df[('H', 1)])\n",
    "plt.plot(excess_df.index, excess_pH, label='pH')\n",
    "plt.title('E. coli cytoplasmic buffering')\n",
    "plt.xlabel('Excess protons')\n",
    "plt.ylabel('pH')\n",
    "plt.xscale('log')\n",
    "plt.show()"
   ]
  },
  {
   "cell_type": "code",
   "execution_count": 25,
   "id": "ef930d0c-8e3b-4838-ad45-e14ddba512c2",
   "metadata": {},
   "outputs": [],
   "source": [
    "excess_by_mol = {\n",
    "    'glu': excess[:, 3:7],\n",
    "    'pi': excess[:, 7:11],\n",
    "    'gsh': excess[:, 11:16],\n",
    "    'fru-bp': excess[:, 16:21],\n",
    "}\n",
    "\n",
    "pfrac_excess = {}\n",
    "for mol, concs in excess_by_mol.items():\n",
    "    # Protonated fraction of site i is the sum of all species j where j <= i,\n",
    "    # i going most acidic to most basic\n",
    "    cumtot = np.cumsum(concs, axis=1)\n",
    "    pfrac_excess[mol] = cumtot[:, :-1]/cumtot[:, -1:]"
   ]
  },
  {
   "cell_type": "code",
   "execution_count": 26,
   "id": "c4f8fa64-7594-4de8-9b9d-586af1d8acc7",
   "metadata": {},
   "outputs": [
    {
     "data": {
      "image/png": "[encoded data removed]",
      "text/plain": [
       "<Figure size 800x600 with 4 Axes>"
      ]
     },
     "metadata": {},
     "output_type": "display_data"
    }
   ],
   "source": [
    "fig, ax = plt.subplots(2, 2, figsize=(8, 6), sharex=True, sharey=True)\n",
    "panels = [(0, 0), (0, 1), (1, 0), (1, 1)]\n",
    "\n",
    "for i, (mol, pfrac) in enumerate(pfrac_excess.items()):\n",
    "    ax_ = ax[panels[i]]\n",
    "    for j in range(pfrac.shape[1]):\n",
    "        ax_.plot(challenges, pfrac[:, j] * 100, label=f'{mol}[{j}]')\n",
    "    ax_.set_title(mol)\n",
    "    ax_.set_xscale('log')\n",
    "\n",
    "ax[1, 0].set_xlabel('Excess protons')\n",
    "ax[1, 1].set_xlabel('Excess protons')\n",
    "ax[0, 0].set_ylabel('% protonated')\n",
    "ax[1, 0].set_ylabel('% protonated')\n",
    "plt.suptitle('Buffer component protonation, by site')\n",
    "plt.show()"
   ]
  },
  {
   "cell_type": "code",
   "execution_count": 27,
   "id": "70dadebf-89ad-4586-b440-5eb39eb6f693",
   "metadata": {},
   "outputs": [
    {
     "data": {
      "image/png": "[encoded data removed]",
      "text/plain": [
       "<Figure size 640x480 with 1 Axes>"
      ]
     },
     "metadata": {},
     "output_type": "display_data"
    },
    {
     "data": {
      "image/png": "[encoded data removed]",
      "text/plain": [
       "<Figure size 800x600 with 4 Axes>"
      ]
     },
     "metadata": {},
     "output_type": "display_data"
    }
   ],
   "source": [
    "deficit_by_mol = {\n",
    "    'glu': deficit[:, 3:7],\n",
    "    'pi': deficit[:, 7:11],\n",
    "    'gsh': deficit[:, 11:16],\n",
    "    'fru-bp': deficit[:, 16:21],\n",
    "}\n",
    "\n",
    "pfrac_deficit = {}\n",
    "for mol, concs in deficit_by_mol.items():\n",
    "    # Protonated fraction of site i is the sum of all species j where j <= i,\n",
    "    # i going most acidic to most basic\n",
    "    cumtot = np.cumsum(concs, axis=1)\n",
    "    pfrac_deficit[mol] = cumtot[:, :-1]/cumtot[:, -1:]\n",
    "    \n",
    "deficit_pH = -np.log10(deficit[:, 0])\n",
    "plt.plot(challenges, deficit_pH, label='pH')\n",
    "plt.title('E. coli cytoplasmic buffering')\n",
    "plt.xlabel('proton deficit')\n",
    "plt.ylabel('pH')\n",
    "plt.xscale('log')\n",
    "plt.show()\n",
    "\n",
    "fig, ax = plt.subplots(2, 2, figsize=(8, 6), sharex=True, sharey=True)\n",
    "panels = [(0, 0), (0, 1), (1, 0), (1, 1)]\n",
    "\n",
    "for i, (mol, pfrac) in enumerate(pfrac_deficit.items()):\n",
    "    ax_ = ax[panels[i]]\n",
    "    for j in range(pfrac.shape[1]):\n",
    "        ax_.plot(challenges, pfrac[:, j] * 100, label=f'{mol}[{j}]')\n",
    "    ax_.set_title(mol)\n",
    "    ax_.set_xscale('log')\n",
    "\n",
    "ax[1, 0].set_xlabel('Proton deficit')\n",
    "ax[1, 1].set_xlabel('Proton deficit')\n",
    "ax[0, 0].set_ylabel('% protonated')\n",
    "ax[1, 0].set_ylabel('% protonated')\n",
    "plt.suptitle('Buffer component protonation, by site')\n",
    "plt.show()"
   ]
  },
  {
   "cell_type": "markdown",
   "id": "e91eaedd-568e-49e2-81c4-4b7760169084",
   "metadata": {},
   "source": [
    "## Experiment: Challenge with a pulse of added/removed protons, at varying rates\n",
    "\n",
    "- Titrate buffer to pH 7.3 (presumed _E. coli_ intracellular)\n",
    "- Simulate buffer dynamics forward in time with a constant proton supply or drain\n",
    "- Add or remove 1e6 protons total, over 1 ns, 1μs, 1 ms\n",
    "    - This time we can drain protons directly, since we're doing it dynamically\n",
    "- In each case continue the simulation for 1 ms total"
   ]
  },
  {
   "cell_type": "code",
   "execution_count": 28,
   "id": "a19ce22c-fa51-40a4-bd2c-25d61e25126d",
   "metadata": {},
   "outputs": [
    {
     "name": "stdout",
     "output_type": "stream",
     "text": [
      "(0, 0.001) [0.    0.001]\n",
      "(0.001, 0.001) [0.001 0.001]\n",
      "\n",
      "(0, 1e-06) [0.e+00 1.e-06]\n",
      "(1e-06, 0.001) [1.e-06 1.e-03]\n",
      "\n",
      "(0, 1e-09) [0. 0.]\n",
      "(1e-09, 0.001) [0.    0.001]\n",
      "\n"
     ]
    }
   ],
   "source": [
    "buffer = PhBuffer({\n",
    "    ('glu', +1): [2.10, 4.07, 9.47],\n",
    "    ('pi', 0): [1.97, 6.82, 12.5],\n",
    "    ('gsh', +1): [2.12, 3.59, 8.75, 9.65],\n",
    "    ('fru-bp', 0): [0.89, 1.49, 5.92, 6.52],\n",
    "})\n",
    "initial, _ = buffer.titrate(7.3, {('glu', -1): .096, ('pi', -2): .024, ('gsh', -1): .017, ('fru-bp', -4): .015})\n",
    "y0 = buffer.state_vector(7.3, initial)\n",
    "\n",
    "proton_onehot = jnp.eye(buffer.s_matrix.shape[0])[0]\n",
    "total_change = pow(10, 6) * 1e-9  # or just 1e-3 M or 1 mM. Just making it explicit we're adding/removing a million protons.\n",
    "\n",
    "# Again the class doesn't do this conveniently, so build and integrate the odes manually\n",
    "def dydt(y, rate):\n",
    "    return buffer.dydt(y) + proton_onehot * rate\n",
    "    \n",
    "fn = jax.jit(dydt)\n",
    "jac = jax.jit(jax.jacfwd(dydt))\n",
    "\n",
    "def sim_pulse(rate, width, end):\n",
    "    t_eval = np.linspace(0, end, 1001)\n",
    "    switchpoint = int(1000 * width/end) + 1\n",
    "    # sim1 = scipy.integrate.solve_ivp(\n",
    "    #     fun=lambda _, y: fn(y),\n",
    "    #     jac=lambda _, y: jac(y),\n",
    "    #     y0=y0,\n",
    "    #     args=(rate,),\n",
    "    #     t_span=(0, width),\n",
    "    #     t_eval=t_eval[:switchpoint],\n",
    "    print((0, width), t_eval[:switchpoint][[0, -1]])\n",
    "    #     method='BDF',\n",
    "    #     first_step=1e-9,  # pH is fast\n",
    "    # )\n",
    "    # sim2 = scipy.integrate.solve_ivp(\n",
    "    #     fun=lambda _, y: fn(y),\n",
    "    #     jac=lambda _, y: jac(y),\n",
    "    #     y0=y0,\n",
    "    #     args=(rate,),\n",
    "    #     t_span=(width, end),\n",
    "    #     t_eval=t_eval[switchpoint-1:],\n",
    "    print((width, end), t_eval[switchpoint-1:][[0, -1]])\n",
    "    #     method='BDF',\n",
    "    #     first_step=1e-9,  # pH is fast\n",
    "    # )\n",
    "    print()\n",
    "\n",
    "sims = {}\n",
    "for width in [1e-3, 1e-6, 1e-9]:\n",
    "    rate = total_change / width\n",
    "    sim_pulse(rate, width, 1e-3)\n",
    "    # print(rate, [max(0, total_change - abs(rate) * t) for t in np.linspace(0, .001, 11)])\n",
    "    # sims[(width, rate)] = scipy.integrate.solve_ivp(\n",
    "    #     fun=fn,\n",
    "    #     jac=jac,\n",
    "    #     y0=y0,\n",
    "    #     args=(rate, width),\n",
    "    #     t_span=(0, .001),\n",
    "    #     t_eval=np.linspace(0, .001, 1001),\n",
    "    #     method='BDF',\n",
    "    #     first_step=1e-9,  # pH is fast\n",
    "    # )    \n",
    "    # sims[(width, -rate)] = scipy.integrate.solve_ivp(\n",
    "    #     fun=fn,\n",
    "    #     jac=jac,\n",
    "    #     y0=y0,\n",
    "    #     args=(irate, width),\n",
    "    #     t_span=(0, .001),\n",
    "    #     t_eval=np.linspace(0, .001, 1001),\n",
    "    #     method='BDF',\n",
    "    #     first_step=1e-9,  # pH is fast\n",
    "    # )"
   ]
  }
 ],
 "metadata": {
  "kernelspec": {
   "display_name": "Python 3 (ipykernel)",
   "language": "python",
   "name": "python3"
  },
  "language_info": {
   "codemirror_mode": {
    "name": "ipython",
    "version": 3
   },
   "file_extension": ".py",
   "mimetype": "text/x-python",
   "name": "python",
   "nbconvert_exporter": "python",
   "pygments_lexer": "ipython3",
   "version": "3.8.16"
  }
 },
 "nbformat": 4,
 "nbformat_minor": 5
}
