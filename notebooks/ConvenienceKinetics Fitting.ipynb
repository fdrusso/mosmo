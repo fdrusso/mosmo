{
 "cells": [
  {
   "cell_type": "markdown",
   "id": "f700e2fd-ffd5-4005-83d3-c0697d88bdbb",
   "metadata": {},
   "source": [
    "# ConvenienceKinetics Fitting"
   ]
  },
  {
   "cell_type": "code",
   "execution_count": 1,
   "id": "3622c9ea-776c-4bdd-9b01-04cf0d5dc6aa",
   "metadata": {},
   "outputs": [],
   "source": [
    "import projectpath\n",
    "\n",
    "import jax\n",
    "import jax.numpy as jnp\n",
    "import matplotlib.pyplot as plt\n",
    "import numpy as np\n",
    "import pandas as pd\n",
    "import scipy\n",
    "\n",
    "from mosmo.knowledge import kb\n",
    "from mosmo.knowledge.thermo import Thermodynamics\n",
    "from mosmo.model import KbEntry, DbXref, Molecule, Reaction, ReactionNetwork\n",
    "from mosmo.sim.convenience_kinetics import ConvenienceKinetics, Ligands, ReactionKinetics, PackedNetworkKinetics\n",
    "\n",
    "jax.config.update('jax_enable_x64', True)\n",
    "\n",
    "KB = kb.configure_kb()\n",
    "thermo = Thermodynamics(p_h=7.3, p_mg=1.5, ionic_strength=0.25, temperature=298.15)"
   ]
  },
  {
   "cell_type": "markdown",
   "id": "33728352-0aed-4806-960d-c3bfa7bd23c8",
   "metadata": {},
   "source": [
    "## A Couple enzymes from glycolysis\n",
    "- Initial kinetic constants set from Brenda\n",
    "- Adjusted kcats to fit thermodynamic constraints"
   ]
  },
  {
   "cell_type": "code",
   "execution_count": 2,
   "id": "e040112b-d5d2-4419-9af4-f99aec669a1e",
   "metadata": {},
   "outputs": [
    {
     "name": "stderr",
     "output_type": "stream",
     "text": [
      "WARNING:absl:No GPU/TPU found, falling back to CPU. (Set TF_CPP_MIN_LOG_LEVEL=0 and rerun for more info.)\n"
     ]
    },
    {
     "name": "stdout",
     "output_type": "stream",
     "text": [
      "[pgi] G6P <=> F6P : ΔG = -0.049859255775004385\n",
      "[pfk] ATP + F6P => ADP + F16bP + H+ : ΔG = -16.177938426490925\n"
     ]
    },
    {
     "data": {
      "text/plain": [
       "PackedNetworkKinetics(kcats_f=DeviceArray([ 1.39408043, 60.16425292], dtype=float64), kcats_b=DeviceArray([0.71731873, 0.00587483], dtype=float64), kms_s=DeviceArray([[0.28, 1.  ],\n",
       "             [0.15, 0.1 ]], dtype=float64), kms_p=DeviceArray([[0.147, 1.   , 1.   ],\n",
       "             [0.1  , 0.1  , 0.1  ]], dtype=float64), kas=DeviceArray([], dtype=float64), kis=DeviceArray([[ 1.],\n",
       "             [10.]], dtype=float64))"
      ]
     },
     "execution_count": 2,
     "metadata": {},
     "output_type": "execute_result"
    }
   ],
   "source": [
    "glycolysis = KB.find(KB.pathways, 'glycolysis')[0]\n",
    "pgi = glycolysis.steps[0]\n",
    "pfk = glycolysis.steps[1]\n",
    "g6p = KB('Glc.D.6P')\n",
    "f6p = KB('Fru.D.6P')\n",
    "\n",
    "pgi_dg = thermo.reaction_delta_g(pgi)\n",
    "pfk_dg = thermo.reaction_delta_g(pfk)\n",
    "\n",
    "print(f'[{pgi.id}] {pgi.formula} : ΔG = {pgi_dg}')\n",
    "print(f'[{pfk.id}] {pfk.formula} : ΔG = {pfk_dg}')\n",
    "\n",
    "concs = {KB(met_id): conc for met_id, conc in [\n",
    "    ('Fru.D.6P', 2.52),\n",
    "    ('Fru.D.bis16', 15.2),\n",
    "    ('Glc.D.6P', 7.88),\n",
    "    ('adp', 5.55e-01),\n",
    "    ('atp', 9.63),\n",
    "    ('h+', 1e-4),\n",
    "    ('h2o', 1000.0),  # Activity of the solvent is defined as 1 (M?)\n",
    "]}\n",
    "\n",
    "kinetics = {\n",
    "    pgi: ReactionKinetics(kcat_f=1, kcat_b=1, km={g6p: 0.28, f6p: 0.147}, ka={}, ki={}),\n",
    "    pfk: ReactionKinetics(kcat_f=60, kcat_b=1, km={f6p: 0.1, KB('atp'): 0.15, KB('adp'): 0.1}, ka={}, ki={KB('atp'): 10.}),  # edited Ki for ATP\n",
    "}\n",
    "\n",
    "network = ReactionNetwork([pgi, pfk])\n",
    "ck = ConvenienceKinetics(network, kinetics)\n",
    "# Manually choose kv to get close to the configured kcat_f for pfk.\n",
    "ck.adjust_kinetics(np.array([pgi_dg, pfk_dg]), np.array([0., -0.52]))\n",
    "ck.kparms"
   ]
  },
  {
   "cell_type": "markdown",
   "id": "e569f261-3330-42b3-9e45-6062f6070115",
   "metadata": {},
   "source": [
    "## (Initial) Velocity vs Substrate Concentration"
   ]
  },
  {
   "cell_type": "code",
   "execution_count": 3,
   "id": "aac1eba0-92da-428c-91bb-5f7840771a73",
   "metadata": {},
   "outputs": [],
   "source": [
    "def substrate_velocity_state(network, substrate, min_conc=0.01, max_conc=100, num_assays=20, other_concs=None):\n",
    "    background = network.reactants.pack(other_concs or {})\n",
    "    substrate_range = jnp.exp(jnp.linspace(jnp.log(min_conc), jnp.log(max_conc), num_assays))\n",
    "    return jnp.tile(background, [num_assays, 1]).at[:, network.reactants.index_of(substrate)].set(substrate_range)"
   ]
  },
  {
   "cell_type": "markdown",
   "id": "0809e83a-7b2d-4b75-bce3-c9e17a8cf9d6",
   "metadata": {},
   "source": [
    "### PFK V vs S\n",
    "#### S = F6P"
   ]
  },
  {
   "cell_type": "code",
   "execution_count": 4,
   "id": "24208bf9-435a-4de7-9eb1-9aa9619f4701",
   "metadata": {},
   "outputs": [
    {
     "data": {
      "image/png": "[encoded data removed]",
      "text/plain": [
       "<Figure size 432x288 with 1 Axes>"
      ]
     },
     "metadata": {
      "needs_background": "light"
     },
     "output_type": "display_data"
    }
   ],
   "source": [
    "pfk_enzyme = network.reactions.pack({pfk: 0.01})\n",
    "fn = lambda state: ck.dstate_dt(state, pfk_enzyme)\n",
    "vfn = jax.vmap(fn)\n",
    "substrate = f6p\n",
    "product = KB('Fru.D.bis16')\n",
    "states = substrate_velocity_state(network, substrate, min_conc=1e-3, max_conc=5, other_concs={KB('atp'): 1})\n",
    "dstate_dt = vfn(states)\n",
    "\n",
    "s_range = states[:, network.reactants.index_of(substrate)]\n",
    "v_result = dstate_dt[:, network.reactants.index_of(product)]\n",
    "\n",
    "plt.plot(s_range, v_result)\n",
    "plt.plot(s_range, 0.01 * 60 * s_range / (s_range + 0.1))\n",
    "plt.xlabel(substrate.label)\n",
    "plt.ylabel(product.label + \" per sec\")\n",
    "plt.show()"
   ]
  },
  {
   "cell_type": "markdown",
   "id": "fffe67d0-6ae5-4164-80f4-bd851f8c4220",
   "metadata": {},
   "source": [
    "- Not full strength because of substrate inhibition. So, working as intended."
   ]
  },
  {
   "cell_type": "markdown",
   "id": "4e706e24-8f9e-43f9-b2ce-fdcd1cdda7dc",
   "metadata": {},
   "source": [
    "#### S = ATP"
   ]
  },
  {
   "cell_type": "code",
   "execution_count": 5,
   "id": "132de77d-28cd-4924-8fe8-8328c41e7e2f",
   "metadata": {},
   "outputs": [
    {
     "data": {
      "image/png": "[encoded data removed]",
      "text/plain": [
       "<Figure size 432x288 with 1 Axes>"
      ]
     },
     "metadata": {
      "needs_background": "light"
     },
     "output_type": "display_data"
    }
   ],
   "source": [
    "substrate = KB('atp')\n",
    "product = KB('Fru.D.bis16')\n",
    "states = substrate_velocity_state(network, substrate, min_conc=1e-3, max_conc=20, other_concs={f6p: 100}, num_assays=101)\n",
    "dstate_dt = vfn(states)\n",
    "\n",
    "s_range = states[:, network.reactants.index_of(substrate)]\n",
    "v_result = dstate_dt[:, network.reactants.index_of(product)]\n",
    "\n",
    "plt.plot(s_range, v_result)\n",
    "plt.plot(s_range, 0.01 * 60 * s_range / (s_range + 0.1))\n",
    "plt.xlabel(substrate.label)\n",
    "plt.ylabel(product.label + \" per sec\")\n",
    "plt.show()"
   ]
  },
  {
   "cell_type": "markdown",
   "id": "2bdab125-25df-448f-9eeb-97e784eb3fa1",
   "metadata": {},
   "source": [
    "Substrate inhibition in action\n",
    "- Importantly, this means flux through glycolysis increases ~proportionally as [ATP] decreasees near the physiological range of ~10 mM, which is exactly the point"
   ]
  },
  {
   "cell_type": "markdown",
   "id": "1e67518f-33ce-4ed9-965c-957cb41c84ef",
   "metadata": {},
   "source": [
    "### PGI V vs S\n",
    "- S = G6P\n",
    "- S = F6P (reverse)"
   ]
  },
  {
   "cell_type": "code",
   "execution_count": 6,
   "id": "e5e58f5f-6ae5-428c-899a-69c234c58bc1",
   "metadata": {},
   "outputs": [
    {
     "data": {
      "image/png": "[encoded data removed]",
      "text/plain": [
       "<Figure size 432x288 with 1 Axes>"
      ]
     },
     "metadata": {
      "needs_background": "light"
     },
     "output_type": "display_data"
    },
    {
     "data": {
      "image/png": "[encoded data removed]",
      "text/plain": [
       "<Figure size 432x288 with 1 Axes>"
      ]
     },
     "metadata": {
      "needs_background": "light"
     },
     "output_type": "display_data"
    }
   ],
   "source": [
    "fn = lambda state: ck.dstate_dt(state, network.reactions.pack({pgi: 0.01}))\n",
    "vfn = jax.vmap(fn)\n",
    "\n",
    "substrate = g6p\n",
    "product = f6p\n",
    "states = substrate_velocity_state(network, substrate, min_conc=1e-3, max_conc=20)\n",
    "dstate_dt = vfn(states)\n",
    "\n",
    "s_range = states[:, network.reactants.index_of(substrate)]\n",
    "v_result = dstate_dt[:, network.reactants.index_of(product)]\n",
    "\n",
    "plt.plot(s_range, 0.01 * 1.394 * s_range / (s_range + 0.28))\n",
    "plt.plot(s_range, v_result)\n",
    "plt.xlabel(substrate.label)\n",
    "plt.ylabel(product.label + \" per sec\")\n",
    "plt.show()\n",
    "\n",
    "product = g6p\n",
    "substrate = f6p\n",
    "states = substrate_velocity_state(network, substrate, min_conc=1e-3, max_conc=20)\n",
    "dstate_dt = vfn(states)\n",
    "\n",
    "s_range = states[:, network.reactants.index_of(substrate)]\n",
    "v_result = dstate_dt[:, network.reactants.index_of(product)]\n",
    "\n",
    "plt.plot(s_range, 0.01 * 0.717 * s_range / (s_range + 0.147))\n",
    "plt.plot(s_range, v_result)\n",
    "plt.xlabel(substrate.label)\n",
    "plt.ylabel(product.label + \" per sec\")\n",
    "plt.show()"
   ]
  },
  {
   "cell_type": "markdown",
   "id": "9668dab8-ad36-4f95-9085-00d9b4391b56",
   "metadata": {},
   "source": [
    "## Find Steady State in a 2-reaction System\n",
    "- F6P is the only variable; everything else is as given"
   ]
  },
  {
   "cell_type": "code",
   "execution_count": 7,
   "id": "afcc5d30-28e8-4e63-82d8-5ee8d3897e88",
   "metadata": {},
   "outputs": [],
   "source": [
    "def ss_residual_fn(concs, enzymes, internals):\n",
    "    state = jnp.asarray(network.reactants.pack(concs))\n",
    "    enzyme_concs = jnp.asarray(network.reactions.pack(enzymes))\n",
    "    var_idx = np.array([network.reactants.index_of(mol) for mol in internals])\n",
    "\n",
    "    def ss_residual(x):\n",
    "        dydt = ck.dstate_dt(state.at[var_idx].set(x), enzyme_concs)\n",
    "        return dydt[var_idx]\n",
    "    \n",
    "    return ss_residual\n"
   ]
  },
  {
   "cell_type": "code",
   "execution_count": 8,
   "id": "e536cd1b-b8a7-44f7-bd36-2d01a03bfec8",
   "metadata": {},
   "outputs": [
    {
     "name": "stdout",
     "output_type": "stream",
     "text": [
      "Steady state [F6P] = [0.07434658], with residual dy/dt = [3.36565498e-12]\n",
      "Velocities:\n",
      "  PGI: 0.013110431732100743\n",
      "  PFK: 0.01311043172873509\n"
     ]
    }
   ],
   "source": [
    "fn = ss_residual_fn(concs, {pgi: 0.01, pfk: 0.01}, [f6p])\n",
    "ss = scipy.optimize.least_squares(\n",
    "    fun=jax.jit(fn),\n",
    "    x0 = jnp.array([concs[f6p]]),\n",
    "    jac=jax.jit(jax.jacfwd(fn))\n",
    ")\n",
    "print(f'Steady state [F6P] = {ss.x}, with residual dy/dt = {ss.fun}')\n",
    "rates = ck.reaction_rates(jnp.asarray(network.reactants.pack(concs)).at[network.reactants.index_of(f6p)].set(ss.x[0]),\n",
    "                          jnp.asarray(network.reactions.pack({pgi: 0.01, pfk: 0.01})))\n",
    "print(f'Velocities:')\n",
    "for rxn, v in zip(network.reactions, rates):\n",
    "    print(f'  {rxn.label}: {v}')"
   ]
  },
  {
   "cell_type": "markdown",
   "id": "095faaf3-4389-4fdd-83f6-037e9472ee3d",
   "metadata": {},
   "source": [
    "### Steady state [F6P] as a function of [PGI] with [PFK] constant"
   ]
  },
  {
   "cell_type": "code",
   "execution_count": 9,
   "id": "3a6c5875-1305-4622-bea6-c3be2d3209a2",
   "metadata": {},
   "outputs": [
    {
     "data": {
      "image/png": "[encoded data removed]",
      "text/plain": [
       "<Figure size 432x288 with 1 Axes>"
      ]
     },
     "metadata": {
      "needs_background": "light"
     },
     "output_type": "display_data"
    }
   ],
   "source": [
    "min_conc = 1e-6  # 1 nM = 1 per cell\n",
    "max_conc = 10.0  # 10 mM = 1e7 per cell\n",
    "num_assays = 31\n",
    "pgi_range = jnp.exp(jnp.linspace(jnp.log(min_conc), jnp.log(max_conc), num_assays))\n",
    "\n",
    "results = []\n",
    "residuals = []\n",
    "for pgi_conc in pgi_range:\n",
    "    fn = ss_residual_fn(concs, {pgi: pgi_conc, pfk: 0.01}, [f6p])\n",
    "    ss = scipy.optimize.least_squares(\n",
    "        fun=jax.jit(fn),\n",
    "        x0 = jnp.array([concs[f6p]]),\n",
    "        jac=jax.jit(jax.jacfwd(fn))\n",
    "    )\n",
    "\n",
    "    results.append(ss.x[0])\n",
    "    residuals.append(ss.fun[0])\n",
    "\n",
    "plt.plot(pgi_range, results)\n",
    "plt.show()"
   ]
  },
  {
   "cell_type": "markdown",
   "id": "e9240478-4b55-4757-bf91-18ec0b1b902a",
   "metadata": {},
   "source": [
    "PFK is limiting at high PGI; F6P approaches equilibrium with respect to G6P."
   ]
  },
  {
   "cell_type": "markdown",
   "id": "4b81adee-081b-4e9a-baf6-03cde3a64af5",
   "metadata": {},
   "source": [
    "### Steady-State F6P as a function of [PFK] with [PGI] constant"
   ]
  },
  {
   "cell_type": "code",
   "execution_count": 10,
   "id": "dbe23510-c32b-4f67-96ab-19f90ca3e73f",
   "metadata": {},
   "outputs": [
    {
     "data": {
      "image/png": "[encoded data removed]",
      "text/plain": [
       "<Figure size 432x288 with 1 Axes>"
      ]
     },
     "metadata": {
      "needs_background": "light"
     },
     "output_type": "display_data"
    }
   ],
   "source": [
    "min_conc = 1e-6  # 1 nM = 1 per cell\n",
    "max_conc = 0.01  # 0.01 mM = 1e4 per cell\n",
    "num_assays = 31\n",
    "pfk_range = jnp.exp(jnp.linspace(jnp.log(min_conc), jnp.log(max_conc), num_assays))\n",
    "\n",
    "results = []\n",
    "residuals = []\n",
    "for pfk_conc in pfk_range:\n",
    "    fn = ss_residual_fn(concs, {pgi: 0.01, pfk: pfk_conc}, [f6p])\n",
    "    ss = scipy.optimize.least_squares(\n",
    "        fun=jax.jit(fn),\n",
    "        x0 = jnp.array([concs[f6p]]),\n",
    "        jac=jax.jit(jax.jacfwd(fn))\n",
    "    )\n",
    "\n",
    "    results.append(ss.x[0])\n",
    "    residuals.append(ss.fun[0])\n",
    "\n",
    "plt.plot(pfk_range, results)\n",
    "plt.show()"
   ]
  },
  {
   "cell_type": "markdown",
   "id": "129bf89a-e8cc-4c8d-b3cf-7ccb753b770c",
   "metadata": {},
   "source": [
    "PGI is limiting at high PFK; F6P crashes"
   ]
  },
  {
   "cell_type": "markdown",
   "id": "2f7abc57-9e86-40c8-a4d3-5456ba430ca4",
   "metadata": {},
   "source": [
    "### Fix kinetics and metabolite concentrations, then fit enzyme concentrations\n",
    "#### 1. For PGI + PFK\n",
    "- Hey, maybe we can reuse some of the fba_gd objectives as-is"
   ]
  },
  {
   "cell_type": "code",
   "execution_count": 11,
   "id": "f8252ed9-f96c-4c19-80f8-3bb362c00afd",
   "metadata": {},
   "outputs": [],
   "source": [
    "from mosmo.sim.fba_gd import SteadyStateObjective, ProductionObjective, VelocityObjective"
   ]
  },
  {
   "cell_type": "code",
   "execution_count": 12,
   "id": "e0902ead-5189-4468-90d8-a060861dd9d3",
   "metadata": {},
   "outputs": [],
   "source": [
    "ck = ConvenienceKinetics(network, kinetics)  # Fixed\n",
    "kinetic_params = ck.kparms\n",
    "state = jnp.asarray(network.reactants.pack(concs))  # Fixed\n",
    "\n",
    "enzyme_concs = jnp.asarray(network.reactions.pack({pgi: 0.001, pfk: 0.001}))  # Variable, initial 1000 per cell\n",
    "objectives = {\n",
    "    'steadystate': SteadyStateObjective(network, [f6p])\n",
    "}\n",
    "\n",
    "# Ripped straight from fba_gd.py\n",
    "def residual(v, *params):\n",
    "    dmdt = network.s_matrix @ v\n",
    "    return jnp.concatenate([objective.residual(v, dmdt, p) for objective, p in zip(objectives.values(), params)])\n",
    "\n",
    "# But velocity vector v is not the variable being optimized; instead we get it from ck.reaction_rates()\n",
    "def fn(enzyme_concs):\n",
    "    v = ck.reaction_rates(state, enzyme_concs, kinetic_params)\n",
    "    return residual(v, [None])"
   ]
  },
  {
   "cell_type": "code",
   "execution_count": 13,
   "id": "d9dd7a92-0f59-476e-a748-dfc0a9513000",
   "metadata": {},
   "outputs": [
    {
     "name": "stdout",
     "output_type": "stream",
     "text": [
      "Succes = True, residual = 2.3512457867945755e-20\n",
      "Steady state reactions:\n",
      "       PGI [0.001013 mM]: 2.41e-04 mM/sec\n",
      "       PFK [0.000013 mM]: 2.41e-04 mM/sec\n",
      "\n",
      "Steady state metabolites:\n",
      "       G6P: 7.88 mM (-2.41e-04 mM/sec)\n",
      "       F6P: 2.52 mM (+1.53e-10 mM/sec)\n",
      "       ATP: 9.63 mM (-2.41e-04 mM/sec)\n",
      "       ADP: 0.555 mM (+2.41e-04 mM/sec)\n",
      "     F16bP: 15.2 mM (+2.41e-04 mM/sec)\n",
      "        H+: 0.0001 mM (+2.41e-04 mM/sec)\n"
     ]
    }
   ],
   "source": [
    "soln = scipy.optimize.least_squares(\n",
    "    fun=jax.jit(fn),\n",
    "    jac=jax.jit(jax.jacfwd(fn)),\n",
    "    x0=enzyme_concs,\n",
    ")\n",
    "\n",
    "soln_concs = soln.x\n",
    "soln_rates = ck.reaction_rates(state, soln_concs)\n",
    "soln_dconcdt = network.s_matrix @ soln_rates\n",
    "\n",
    "print(f'Succes = {soln.success}, residual = {np.sum(np.square(soln.fun))}')\n",
    "print(f'Steady state reactions:')\n",
    "for rxn, econc, rate in zip(network.reactions, soln_concs, soln_rates):\n",
    "    print(f'{rxn.label:>10} [{econc:.6f} mM]: {rate:.2e} mM/sec')\n",
    "print()\n",
    "print('Steady state metabolites:')\n",
    "for reactant, conc, dconcdt in zip(network.reactants, state, soln_dconcdt):\n",
    "    print(f'{reactant.label:>10}: {conc} mM ({dconcdt:+.2e} mM/sec)')\n"
   ]
  },
  {
   "cell_type": "code",
   "execution_count": 14,
   "id": "b1c97ad7-a1d8-41ac-9ce5-c591eb11104a",
   "metadata": {},
   "outputs": [
    {
     "name": "stdout",
     "output_type": "stream",
     "text": [
      "Succes = True, residual = 0.0\n",
      "Steady state reactions:\n",
      "       PGI [0.076769 mM]: 1.82e-02 mM/sec\n",
      "       PFK [0.001000 mM]: 1.82e-02 mM/sec\n",
      "\n",
      "Steady state metabolites:\n",
      "       G6P: 7.88 mM (-1.82e-02 mM/sec)\n",
      "       F6P: 2.52 mM (+3.47e-18 mM/sec)\n",
      "       ATP: 9.63 mM (-1.82e-02 mM/sec)\n",
      "       ADP: 0.555 mM (+1.82e-02 mM/sec)\n",
      "     F16bP: 15.2 mM (+1.82e-02 mM/sec)\n",
      "        H+: 0.0001 mM (+1.82e-02 mM/sec)\n"
     ]
    }
   ],
   "source": [
    "# Only adjust one of the enzymes.\n",
    "def fn(x):\n",
    "    # Arbitrarily adjust the first enzyme\n",
    "    v = ck.reaction_rates(state, enzyme_concs.at[0].set(x[0]), kinetic_params)\n",
    "    return residual(v, [None])\n",
    "\n",
    "soln = scipy.optimize.least_squares(\n",
    "    fun=jax.jit(fn),\n",
    "    jac=jax.jit(jax.jacfwd(fn)),\n",
    "    x0=jnp.array([0.001]),\n",
    ")\n",
    "\n",
    "soln_concs = enzyme_concs.at[0].set(soln.x[0])\n",
    "soln_rates = ck.reaction_rates(state, soln_concs)\n",
    "soln_dconcdt = network.s_matrix @ soln_rates\n",
    "\n",
    "print(f'Succes = {soln.success}, residual = {np.sum(np.square(soln.fun))}')\n",
    "print(f'Steady state reactions:')\n",
    "for rxn, econc, rate in zip(network.reactions, soln_concs, soln_rates):\n",
    "    print(f'{rxn.label:>10} [{econc:.6f} mM]: {rate:.2e} mM/sec')\n",
    "print()\n",
    "print('Steady state metabolites:')\n",
    "for reactant, conc, dconcdt in zip(network.reactants, state, soln_dconcdt):\n",
    "    print(f'{reactant.label:>10}: {conc} mM ({dconcdt:+.2e} mM/sec)')\n"
   ]
  },
  {
   "cell_type": "markdown",
   "id": "0dd88408-feeb-4267-b041-c0267e9181b3",
   "metadata": {},
   "source": [
    "#### 2. For full glycolysis\n",
    "- Taller order -- need to collect all that kinetic data"
   ]
  },
  {
   "cell_type": "code",
   "execution_count": null,
   "id": "9715e90c-8ea9-4414-b706-2e9a4cd6bcc8",
   "metadata": {},
   "outputs": [],
   "source": []
  }
 ],
 "metadata": {
  "kernelspec": {
   "display_name": "Python 3 (ipykernel)",
   "language": "python",
   "name": "python3"
  },
  "language_info": {
   "codemirror_mode": {
    "name": "ipython",
    "version": 3
   },
   "file_extension": ".py",
   "mimetype": "text/x-python",
   "name": "python",
   "nbconvert_exporter": "python",
   "pygments_lexer": "ipython3",
   "version": "3.8.5"
  }
 },
 "nbformat": 4,
 "nbformat_minor": 5
}
