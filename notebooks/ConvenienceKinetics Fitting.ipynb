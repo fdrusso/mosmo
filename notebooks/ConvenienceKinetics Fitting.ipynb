{
 "cells": [
  {
   "cell_type": "markdown",
   "id": "f700e2fd-ffd5-4005-83d3-c0697d88bdbb",
   "metadata": {},
   "source": [
    "# ConvenienceKinetics Fitting"
   ]
  },
  {
   "cell_type": "code",
   "execution_count": 1,
   "id": "3622c9ea-776c-4bdd-9b01-04cf0d5dc6aa",
   "metadata": {},
   "outputs": [],
   "source": [
    "import projectpath\n",
    "\n",
    "from typing import Iterable, Union\n",
    "\n",
    "import equilibrator_api\n",
    "import jax\n",
    "import jax.numpy as jnp\n",
    "import numpy as np\n",
    "import matplotlib.pyplot as plt\n",
    "import scipy\n",
    "\n",
    "from kb import kb\n",
    "from model.core import KbEntry, DbXref, Molecule, Reaction\n",
    "from model.reaction_network import ReactionNetwork\n",
    "from sim.convenience_kinetics import ConvenienceKinetics, Ligands, ReactionKinetics, PackedNetworkKinetics, generate_kcats\n",
    "\n",
    "jax.config.update('jax_enable_x64', True)\n",
    "\n",
    "KB = kb.configure_kb()\n",
    "\n",
    "def kbm(mol_id):\n",
    "    return KB.get(KB.compounds, mol_id)\n",
    "\n",
    "def kbr(rxn_id):\n",
    "    return KB.get(KB.reactions, rxn_id)\n",
    "\n",
    "def labels(entries: Union[KbEntry, Iterable[KbEntry]]):\n",
    "    if isinstance(entries, KbEntry):\n",
    "        entries.shorthand or entries.id\n",
    "    else:\n",
    "        return [entry.shorthand or entry.id for entry in entries]\n",
    "\n",
    "def reaction_formula(reaction: Reaction):\n",
    "    def reactant_term(reactant: Molecule, count: int) -> str:\n",
    "        label = reactant.shorthand or reactant.id\n",
    "        count = abs(count)\n",
    "        if count == 1:\n",
    "            return label\n",
    "        else:\n",
    "            return f'{count} {label}'\n",
    "    \n",
    "    lhs = [reactant_term(reactant, count) for reactant, count in reaction.stoichiometry.items() if count < 0]\n",
    "    rhs = [reactant_term(reactant, count) for reactant, count in reaction.stoichiometry.items() if count > 0]\n",
    "    \n",
    "    arrow = ' <=> ' if reaction.reversible else ' => '\n",
    "    \n",
    "    return ' + '.join(lhs) + arrow + ' + '.join(rhs)\n",
    "\n",
    "cc = equilibrator_api.ComponentContribution()\n",
    "Q_ = equilibrator_api.Q_\n",
    "cc.p_h = Q_(7.3)\n",
    "cc.p_mg = Q_(1.5)\n",
    "cc.ionic_strength = Q_(\"0.25M\")\n",
    "cc.temperature = Q_(\"298.15K\")\n",
    "\n",
    "def find_cc_met(met):\n",
    "    for xref in (met.xrefs or []):\n",
    "        if xref.db == 'KEGG':\n",
    "            return cc.get_compound(f'KEGG:{xref.id}')\n",
    "    return None\n",
    "\n",
    "def delta_g(reaction):\n",
    "    cc_rxn = equilibrator_api.Reaction({find_cc_met(met): count for met, count in reaction.stoichiometry.items()})\n",
    "    return cc.physiological_dg_prime(cc_rxn).value.m\n"
   ]
  },
  {
   "cell_type": "markdown",
   "id": "33728352-0aed-4806-960d-c3bfa7bd23c8",
   "metadata": {},
   "source": [
    "## Couple enzymes from glycolysis\n",
    "- Initial kinetic constants set from Brenda\n",
    "- Adjusted kcats to fit thermodynamic constraints"
   ]
  },
  {
   "cell_type": "code",
   "execution_count": 2,
   "id": "e040112b-d5d2-4419-9af4-f99aec669a1e",
   "metadata": {},
   "outputs": [
    {
     "name": "stderr",
     "output_type": "stream",
     "text": [
      "WARNING:absl:No GPU/TPU found, falling back to CPU. (Set TF_CPP_MIN_LOG_LEVEL=0 and rerun for more info.)\n"
     ]
    },
    {
     "name": "stdout",
     "output_type": "stream",
     "text": [
      "[pgi] G6P <=> F6P : ΔG = -0.049859255775004385\n",
      "[pfk] ATP + F6P => ADP + F16bP + H+ : ΔG = -16.177938426490925\n"
     ]
    },
    {
     "data": {
      "text/plain": [
       "PackedNetworkKinetics(kcats_f=DeviceArray([ 1.39408043, 60.16425292], dtype=float64), kcats_b=DeviceArray([0.71731873, 0.00587483], dtype=float64), kms_s=array([[0.28, 1.  ],\n",
       "       [0.15, 0.1 ]]), kms_p=array([[0.147, 1.   , 1.   ],\n",
       "       [0.1  , 0.1  , 0.1  ]]), kas=array([], shape=(2, 0), dtype=float64), kis=array([[ 1.],\n",
       "       [10.]]))"
      ]
     },
     "execution_count": 2,
     "metadata": {},
     "output_type": "execute_result"
    }
   ],
   "source": [
    "glycolysis = KB.find(KB.pathways, 'glycolysis')[0]\n",
    "pgi = glycolysis.steps[0]\n",
    "pfk = glycolysis.steps[1]\n",
    "\n",
    "pgi_dg = delta_g(pgi)\n",
    "pfk_dg = delta_g(pfk)\n",
    "\n",
    "print(f'[{pgi.id}] {reaction_formula(pgi)} : ΔG = {pgi_dg}')\n",
    "print(f'[{pfk.id}] {reaction_formula(pfk)} : ΔG = {pfk_dg}')\n",
    "\n",
    "concs = {kbm(met_id): conc for met_id, conc in [\n",
    "    ('Fru.D.6P', 2.52),\n",
    "    ('Fru.D.bis16', 15.2),\n",
    "    ('Glc.D.6P', 7.88),\n",
    "    ('adp', 5.55e-01),\n",
    "    ('atp', 9.63),\n",
    "    ('h+', 1e-7),\n",
    "    ('h2o', 1.0),  # Activity of the solvent is defined as 1\n",
    "]}\n",
    "\n",
    "kinetics = {\n",
    "    pgi: ReactionKinetics(pgi, kcat_f=1, kcat_b=1, km={kbm('Glc.D.6P'): 0.28, kbm('Fru.D.6P'): 0.147}, ka={}, ki={}),\n",
    "    pfk: ReactionKinetics(pfk, kcat_f=60, kcat_b=1, km={kbm('Fru.D.6P'): 0.1, kbm('atp'): 0.15, kbm('adp'): 0.1}, ka={}, ki={kbm('atp'): 10.}),  # edited Ki for ATP\n",
    "}\n",
    "\n",
    "network = ReactionNetwork([pgi, pfk])\n",
    "ck = ConvenienceKinetics(network, kinetics)\n",
    "\n",
    "# Manually choose kv to get close to the configured kcat_f for pfk.\n",
    "# Of course we'll want a cleaner path for this...\n",
    "kcats = generate_kcats(ck.kinetics.kms_s, ck.kinetics.kms_p, np.array([0., -0.52]), np.array([pgi_dg, pfk_dg]))\n",
    "ck.kinetics.kcats_f = kcats[:, 0]\n",
    "ck.kinetics.kcats_b = kcats[:, 1]\n",
    "\n",
    "ck.kinetics"
   ]
  },
  {
   "cell_type": "markdown",
   "id": "e569f261-3330-42b3-9e45-6062f6070115",
   "metadata": {},
   "source": [
    "## (Initial) Velocity vs Substrate Concentration"
   ]
  },
  {
   "cell_type": "code",
   "execution_count": 3,
   "id": "aac1eba0-92da-428c-91bb-5f7840771a73",
   "metadata": {},
   "outputs": [],
   "source": [
    "def substrate_velocity_state(network, substrate, min_conc=0.01, max_conc=100, num_assays=20, other_concs=None):\n",
    "    background = network.reactant_vector(other_concs or {})\n",
    "    substrate_range = jnp.exp(jnp.linspace(jnp.log(min_conc), jnp.log(max_conc), num_assays))\n",
    "    return jnp.tile(background, [num_assays, 1]).at[:, network.reactant_index(substrate)].set(substrate_range)"
   ]
  },
  {
   "cell_type": "markdown",
   "id": "0809e83a-7b2d-4b75-bce3-c9e17a8cf9d6",
   "metadata": {},
   "source": [
    "### PFK V vs S\n",
    "#### S = F6P"
   ]
  },
  {
   "cell_type": "code",
   "execution_count": 4,
   "id": "24208bf9-435a-4de7-9eb1-9aa9619f4701",
   "metadata": {},
   "outputs": [
    {
     "data": {
      "image/png": "[encoded data removed]",
      "text/plain": [
       "<Figure size 432x288 with 1 Axes>"
      ]
     },
     "metadata": {
      "needs_background": "light"
     },
     "output_type": "display_data"
    }
   ],
   "source": [
    "pfk_enzyme = network.reaction_vector({pfk: 0.01})\n",
    "fn = lambda state: ck.dstate_dt(state, pfk_enzyme)\n",
    "vfn = jax.vmap(fn)\n",
    "states = substrate_velocity_state(network, kbm('Fru.D.6P'), min_conc=1e-3, max_conc=5, other_concs={kbm('atp'): 1})\n",
    "dstate_dt = vfn(states)\n",
    "\n",
    "s_range = states[:, network.reactant_index(kbm('Fru.D.6P'))]\n",
    "v_result = dstate_dt[:, network.reactant_index(kbm('Fru.D.bis16'))]\n",
    "\n",
    "plt.plot(s_range, v_result)\n",
    "plt.plot(s_range, 0.01 * 60 * s_range / (s_range + 0.1))\n",
    "plt.show()"
   ]
  },
  {
   "cell_type": "markdown",
   "id": "fffe67d0-6ae5-4164-80f4-bd851f8c4220",
   "metadata": {},
   "source": [
    "- Not full strength because of substrate inhibition. So, working as intended."
   ]
  },
  {
   "cell_type": "markdown",
   "id": "4e706e24-8f9e-43f9-b2ce-fdcd1cdda7dc",
   "metadata": {},
   "source": [
    "#### S = ATP"
   ]
  },
  {
   "cell_type": "code",
   "execution_count": 5,
   "id": "132de77d-28cd-4924-8fe8-8328c41e7e2f",
   "metadata": {},
   "outputs": [
    {
     "data": {
      "image/png": "[encoded data removed]",
      "text/plain": [
       "<Figure size 432x288 with 1 Axes>"
      ]
     },
     "metadata": {
      "needs_background": "light"
     },
     "output_type": "display_data"
    }
   ],
   "source": [
    "states = substrate_velocity_state(network, kbm('atp'), min_conc=1e-3, max_conc=20, other_concs={kbm('Fru.D.6P'): 100}, num_assays=101)\n",
    "dstate_dt = vfn(states)\n",
    "\n",
    "s_range = states[:, network.reactant_index(kbm('atp'))]\n",
    "v_result = dstate_dt[:, network.reactant_index(kbm('Fru.D.bis16'))]\n",
    "\n",
    "plt.plot(s_range, v_result)\n",
    "plt.plot(s_range, 0.01 * 60 * s_range / (s_range + 0.1))\n",
    "plt.show()"
   ]
  },
  {
   "cell_type": "markdown",
   "id": "2bdab125-25df-448f-9eeb-97e784eb3fa1",
   "metadata": {},
   "source": [
    "Substrate inhibition in action"
   ]
  },
  {
   "cell_type": "markdown",
   "id": "1e67518f-33ce-4ed9-965c-957cb41c84ef",
   "metadata": {},
   "source": [
    "### PGI V vs S\n",
    "- S = G6P\n",
    "- S = F6P (reverse)"
   ]
  },
  {
   "cell_type": "code",
   "execution_count": 6,
   "id": "e5e58f5f-6ae5-428c-899a-69c234c58bc1",
   "metadata": {},
   "outputs": [
    {
     "data": {
      "image/png": "[encoded data removed]",
      "text/plain": [
       "<Figure size 432x288 with 1 Axes>"
      ]
     },
     "metadata": {
      "needs_background": "light"
     },
     "output_type": "display_data"
    },
    {
     "data": {
      "image/png": "[encoded data removed]",
      "text/plain": [
       "<Figure size 432x288 with 1 Axes>"
      ]
     },
     "metadata": {
      "needs_background": "light"
     },
     "output_type": "display_data"
    }
   ],
   "source": [
    "states = substrate_velocity_state(network, kbm('Glc.D.6P'), min_conc=1e-3, max_conc=20)\n",
    "fn = lambda state: ck.dstate_dt(state, network.reaction_vector({pgi: 0.01}))\n",
    "vfn = jax.vmap(fn)\n",
    "dstate_dt = vfn(states)\n",
    "\n",
    "s_range = states[:, network.reactant_index(kbm('Glc.D.6P'))]\n",
    "v_result = dstate_dt[:, network.reactant_index(kbm('Fru.D.6P'))]\n",
    "\n",
    "plt.plot(s_range, 0.01 * 1.394 * s_range / (s_range + 0.28))\n",
    "plt.plot(s_range, v_result)\n",
    "plt.show()\n",
    "\n",
    "states = substrate_velocity_state(network, kbm('Fru.D.6P'), min_conc=1e-3, max_conc=20)\n",
    "dstate_dt = vfn(states)\n",
    "\n",
    "s_range = states[:, network.reactant_index(kbm('Fru.D.6P'))]\n",
    "v_result = -dstate_dt[:, network.reactant_index(kbm('Glc.D.6P'))]\n",
    "\n",
    "plt.plot(s_range, 0.01 * 0.717 * s_range / (s_range + 0.147))\n",
    "plt.plot(s_range, v_result)\n",
    "plt.show()"
   ]
  },
  {
   "cell_type": "markdown",
   "id": "9668dab8-ad36-4f95-9085-00d9b4391b56",
   "metadata": {},
   "source": [
    "## Find Steady State in a 2-reaction System\n",
    "- F6P is the only variable; everything else is as given"
   ]
  },
  {
   "cell_type": "code",
   "execution_count": 11,
   "id": "afcc5d30-28e8-4e63-82d8-5ee8d3897e88",
   "metadata": {},
   "outputs": [],
   "source": [
    "def ss_residual_fn(concs, enzymes, internals):\n",
    "    state = jnp.asarray(network.reactant_vector(concs))\n",
    "    enzyme_concs = jnp.asarray(network.reaction_vector(enzymes))\n",
    "    var_idx = np.array([network.reactant_index(mol) for mol in internals])\n",
    "\n",
    "    def ss_residual(x):\n",
    "        dydt = ck.dstate_dt(state.at[var_idx].set(x), enzyme_concs)\n",
    "        return dydt[var_idx]\n",
    "    \n",
    "    return ss_residual\n"
   ]
  },
  {
   "cell_type": "code",
   "execution_count": 15,
   "id": "e536cd1b-b8a7-44f7-bd36-2d01a03bfec8",
   "metadata": {},
   "outputs": [
    {
     "name": "stdout",
     "output_type": "stream",
     "text": [
      "Steady state [F6P] = [0.07571588], with residual dy/dt = [4.12832268e-12]\n"
     ]
    }
   ],
   "source": [
    "fn = ss_residual_fn(concs, {pgi: 0.01, pfk: 0.01}, [kbm('Fru.D.6P')])\n",
    "ss = scipy.optimize.least_squares(\n",
    "    fun=jax.jit(fn),\n",
    "    x0 = jnp.array([concs[kbm('Fru.D.6P')]]),\n",
    "    jac=jax.jit(jax.jacfwd(fn))\n",
    ")\n",
    "print(f'Steady state [F6P] = {ss.x}, with residual dy/dt = {ss.fun}')\n"
   ]
  },
  {
   "cell_type": "markdown",
   "id": "095faaf3-4389-4fdd-83f6-037e9472ee3d",
   "metadata": {},
   "source": [
    "### Steady state [F6P] as a function of [PGI] with [PFK] constant"
   ]
  },
  {
   "cell_type": "code",
   "execution_count": 25,
   "id": "3a6c5875-1305-4622-bea6-c3be2d3209a2",
   "metadata": {},
   "outputs": [
    {
     "data": {
      "image/png": "[encoded data removed]",
      "text/plain": [
       "<Figure size 432x288 with 1 Axes>"
      ]
     },
     "metadata": {
      "needs_background": "light"
     },
     "output_type": "display_data"
    }
   ],
   "source": [
    "min_conc = 1e-6  # 1 nM = 1 per cell\n",
    "max_conc = 0.1  # 1 mM = 1e5 per cell\n",
    "num_assays = 21\n",
    "pgi_range = jnp.exp(jnp.linspace(jnp.log(min_conc), jnp.log(max_conc), num_assays))\n",
    "\n",
    "results = []\n",
    "residuals = []\n",
    "for pgi_conc in pgi_range:\n",
    "    fn = ss_residual_fn(concs, {pgi: pgi_conc, pfk: 0.01}, [kbm('Fru.D.6P')])\n",
    "    ss = scipy.optimize.least_squares(\n",
    "        fun=jax.jit(fn),\n",
    "        x0 = jnp.array([concs[kbm('Fru.D.6P')]]),\n",
    "        jac=jax.jit(jax.jacfwd(fn))\n",
    "    )\n",
    "\n",
    "    results.append(ss.x[0])\n",
    "    residuals.append(ss.fun[0])\n",
    "\n",
    "plt.plot(pgi_range, results)\n",
    "plt.show()"
   ]
  },
  {
   "cell_type": "code",
   "execution_count": 26,
   "id": "49340170-14e4-4284-8bc7-efa485380d67",
   "metadata": {},
   "outputs": [
    {
     "data": {
      "text/plain": [
       "[6.00515669545565e-12,\n",
       " 1.8990180242746624e-11,\n",
       " 6.005226485507141e-11,\n",
       " 1.8990017349332318e-10,\n",
       " 6.00503613140327e-10,\n",
       " 1.8988771361579918e-09,\n",
       " 6.004304304775977e-09,\n",
       " 1.8984601204630126e-08,\n",
       " 1.1940291420528548e-14,\n",
       " 1.1932607137631057e-13,\n",
       " 1.191886812770132e-12,\n",
       " 1.1894454388441944e-11,\n",
       " 1.1851130818883726e-10,\n",
       " 1.177437523782604e-09,\n",
       " 1.163878856052375e-08,\n",
       " 4.3841666408361846e-14,\n",
       " 4.128320948981745e-12,\n",
       " 3.7033382610518473e-10,\n",
       " 3.037360396529465e-08,\n",
       " 1.7542522989799636e-11,\n",
       " 1.456647302777725e-11]"
      ]
     },
     "execution_count": 26,
     "metadata": {},
     "output_type": "execute_result"
    }
   ],
   "source": [
    "residuals"
   ]
  },
  {
   "cell_type": "code",
   "execution_count": null,
   "id": "5255bbf8-96f3-40e3-9f7f-6a44b92a6b1a",
   "metadata": {},
   "outputs": [],
   "source": []
  }
 ],
 "metadata": {
  "kernelspec": {
   "display_name": "Python 3 (ipykernel)",
   "language": "python",
   "name": "python3"
  },
  "language_info": {
   "codemirror_mode": {
    "name": "ipython",
    "version": 3
   },
   "file_extension": ".py",
   "mimetype": "text/x-python",
   "name": "python",
   "nbconvert_exporter": "python",
   "pygments_lexer": "ipython3",
   "version": "3.8.5"
  }
 },
 "nbformat": 4,
 "nbformat_minor": 5
}
