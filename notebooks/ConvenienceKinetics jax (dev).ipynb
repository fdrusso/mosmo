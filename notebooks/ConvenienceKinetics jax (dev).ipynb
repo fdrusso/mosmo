{
 "cells": [
  {
   "cell_type": "markdown",
   "id": "d21d29bd-6140-42ff-9f65-692f2a449a41",
   "metadata": {
    "tags": []
   },
   "source": [
    "# Convenience Kinetics with Jax\n",
    "\n",
    "From _Bringing metabolic networks to life: convenience rate law and thermodynamic constraints_, Liebermeister and Klipp (2006)\n",
    "https://www.ncbi.nlm.nih.gov/pmc/articles/PMC1781438/"
   ]
  },
  {
   "cell_type": "code",
   "execution_count": 1,
   "id": "af3b8b85-68c5-4241-95cb-b7dbd4e7e299",
   "metadata": {},
   "outputs": [],
   "source": [
    "import projectpath\n",
    "\n",
    "from dataclasses import dataclass\n",
    "from typing import Iterable, Mapping, Optional, Tuple, Union\n",
    "\n",
    "import jax\n",
    "import jax.numpy as jnp\n",
    "import numpy as np\n",
    "\n",
    "from kb import kb\n",
    "from model.reaction_network import ReactionNetwork\n",
    "from model.core import Molecule, Reaction, Pathway\n",
    "\n",
    "ArrayT = Union[np.ndarray, jnp.ndarray]\n",
    "\n",
    "KB = kb.configure_kb()\n",
    "\n",
    "jax.config.update('jax_enable_x64', True)"
   ]
  },
  {
   "cell_type": "markdown",
   "id": "93074e93-7786-401e-81e3-9e0cef032455",
   "metadata": {},
   "source": [
    "### General Rate Law, as defined in the paper:\n",
    "$$\n",
    "v(a,b) = E\n",
    "\\frac{\n",
    "    k_{+}^{cat} \\prod\\limits_i \\tilde{a}_i\n",
    "    + k_{-}^{cat} \\prod\\limits_j \\tilde{b}_j\n",
    "}{\n",
    "    \\prod\\limits_i (1 + \\tilde{a}_i)\n",
    "    + \\prod\\limits_j (1 + \\tilde{b}_j)\n",
    "    - 1\n",
    "}\n",
    "$$"
   ]
  },
  {
   "cell_type": "code",
   "execution_count": 2,
   "id": "51e70ed7-9ba3-491a-8420-864a57eee78d",
   "metadata": {},
   "outputs": [],
   "source": [
    "glycolysis = KB.find(KB.pathways, 'glycolysis')[0]\n",
    "network = ReactionNetwork(glycolysis.steps)"
   ]
  },
  {
   "cell_type": "code",
   "execution_count": 3,
   "id": "4761af58-3f17-4c1d-9d9f-9f2e82b68513",
   "metadata": {},
   "outputs": [
    {
     "data": {
      "text/plain": [
       "[[[0], [1]],\n",
       " [[2, 1], [3, 4, 5]],\n",
       " [[4, 6], [1, 7]],\n",
       " [[4], [8, 9]],\n",
       " [[8], [9]],\n",
       " [[8, 10, 7], [11, 5, 12]],\n",
       " [[13, 2], [11, 3]],\n",
       " [[14], [13]],\n",
       " [[14], [6, 15]],\n",
       " [[2, 16], [3, 5, 15]],\n",
       " [[2, 6, 16], [17, 7, 15, 5, 5]],\n",
       " [[18, 10, 16], [19, 20, 12]]]"
      ]
     },
     "execution_count": 3,
     "metadata": {},
     "output_type": "execute_result"
    }
   ],
   "source": [
    "# Build up a list of substrate and product indices for each reaction.\n",
    "width = 0\n",
    "ragged_indices = []\n",
    "for reaction in network.reactions():\n",
    "    reaction_indices = [[], []]\n",
    "    for reactant, count in reaction.stoichiometry.items():\n",
    "        idx = network.reactant_index(reactant)\n",
    "        if count < 0:\n",
    "            reaction_indices[0].extend([idx] * -count)\n",
    "        else:\n",
    "            reaction_indices[1].extend([idx] * count)\n",
    "\n",
    "    width = max(width, len(reaction_indices[0]), len(reaction_indices[1]))\n",
    "    ragged_indices.append(reaction_indices)\n",
    "\n",
    "ragged_indices"
   ]
  },
  {
   "cell_type": "code",
   "execution_count": 4,
   "id": "19e2e84e-2fd1-4b69-b166-eb8f89f4dc32",
   "metadata": {},
   "outputs": [
    {
     "name": "stdout",
     "output_type": "stream",
     "text": [
      "[[[ 0 -1 -1 -1 -1]\n",
      "  [ 1 -1 -1 -1 -1]]\n",
      "\n",
      " [[ 2  1 -1 -1 -1]\n",
      "  [ 3  4  5 -1 -1]]\n",
      "\n",
      " [[ 4  6 -1 -1 -1]\n",
      "  [ 1  7 -1 -1 -1]]\n",
      "\n",
      " [[ 4 -1 -1 -1 -1]\n",
      "  [ 8  9 -1 -1 -1]]\n",
      "\n",
      " [[ 8 -1 -1 -1 -1]\n",
      "  [ 9 -1 -1 -1 -1]]\n",
      "\n",
      " [[ 8 10  7 -1 -1]\n",
      "  [11  5 12 -1 -1]]\n",
      "\n",
      " [[13  2 -1 -1 -1]\n",
      "  [11  3 -1 -1 -1]]\n",
      "\n",
      " [[14 -1 -1 -1 -1]\n",
      "  [13 -1 -1 -1 -1]]\n",
      "\n",
      " [[14 -1 -1 -1 -1]\n",
      "  [ 6 15 -1 -1 -1]]\n",
      "\n",
      " [[ 2 16 -1 -1 -1]\n",
      "  [ 3  5 15 -1 -1]]\n",
      "\n",
      " [[ 2  6 16 -1 -1]\n",
      "  [17  7 15  5  5]]\n",
      "\n",
      " [[18 10 16 -1 -1]\n",
      "  [19 20 12 -1 -1]]]\n",
      "[[[1 0 0 0 0]\n",
      "  [1 0 0 0 0]]\n",
      "\n",
      " [[1 1 0 0 0]\n",
      "  [1 1 1 0 0]]\n",
      "\n",
      " [[1 1 0 0 0]\n",
      "  [1 1 0 0 0]]\n",
      "\n",
      " [[1 0 0 0 0]\n",
      "  [1 1 0 0 0]]\n",
      "\n",
      " [[1 0 0 0 0]\n",
      "  [1 0 0 0 0]]\n",
      "\n",
      " [[1 1 1 0 0]\n",
      "  [1 1 1 0 0]]\n",
      "\n",
      " [[1 1 0 0 0]\n",
      "  [1 1 0 0 0]]\n",
      "\n",
      " [[1 0 0 0 0]\n",
      "  [1 0 0 0 0]]\n",
      "\n",
      " [[1 0 0 0 0]\n",
      "  [1 1 0 0 0]]\n",
      "\n",
      " [[1 1 0 0 0]\n",
      "  [1 1 1 0 0]]\n",
      "\n",
      " [[1 1 1 0 0]\n",
      "  [1 1 1 1 1]]\n",
      "\n",
      " [[1 1 1 0 0]\n",
      "  [1 1 1 0 0]]]\n"
     ]
    }
   ],
   "source": [
    "# Build a regularized array of indices, padded with -1, and a corresponding mask padded with 0.\n",
    "indices = -np.ones((len(ragged_indices), 2, width), dtype=int)\n",
    "mask = np.zeros((len(ragged_indices), 2, width), dtype=int)\n",
    "for i, reaction_indices in enumerate(ragged_indices):\n",
    "    indices[i, 0, :len(reaction_indices[0])] = reaction_indices[0]\n",
    "    indices[i, 1, :len(reaction_indices[1])] = reaction_indices[1]\n",
    "    mask[i, 0, :len(reaction_indices[0])] = 1\n",
    "    mask[i, 1, :len(reaction_indices[1])] = 1\n",
    "print(indices)\n",
    "print(mask)"
   ]
  },
  {
   "cell_type": "code",
   "execution_count": 5,
   "id": "bc4e5aed-c109-4e37-aa27-d0f933e59cbc",
   "metadata": {},
   "outputs": [
    {
     "data": {
      "text/plain": [
       "array([7.88e+00, 2.52e+00, 9.63e+00, 5.55e-01, 1.52e+01, 1.00e-07,\n",
       "       1.00e+00, 2.39e+01, 2.71e-01, 3.06e+00, 2.55e+00, 1.65e-02,\n",
       "       8.36e-02, 1.54e+00, 9.18e-02, 1.84e-01, 3.66e+00, 2.81e-01,\n",
       "       1.37e+00, 6.06e-01, 7.52e-02])"
      ]
     },
     "execution_count": 5,
     "metadata": {},
     "output_type": "execute_result"
    }
   ],
   "source": [
    "# All taken from https://www.ncbi.nlm.nih.gov/pmc/articles/PMC4912430/, except where starred\n",
    "# Maybe this should be in the KB somewhere...\n",
    "POOLS = {KB.get(KB.compounds, met_id): conc for met_id, conc in [\n",
    "    ('2pg', 9.18e-02),\n",
    "    ('3pg', 1.54),\n",
    "    ('6pg', 3.77),\n",
    "    ('6pgdl', 1.), # ************\n",
    "    ('Ery.D.4P', 4.90e-02),\n",
    "    ('Fru.D.6P', 2.52),\n",
    "    ('Fru.D.bis16', 15.2),\n",
    "    ('Glc.D.6P', 7.88),\n",
    "    ('Rib.D.5P', 7.87e-01),\n",
    "    ('Rul.D.5P', 1.12e-01),\n",
    "    ('Sed.D.7P', 8.82e-01),\n",
    "    ('Xul.D.5P', 1.81e-01),\n",
    "    ('accoa', 6.06e-01),\n",
    "    ('acon', 1.61e-02),\n",
    "    ('adp', 5.55e-01),\n",
    "    ('akg', 4.43e-01),\n",
    "    ('amp', 2.81e-01),\n",
    "    ('atp', 9.63),\n",
    "    ('cit', 1.96),\n",
    "    ('co2', 7.52e-02),\n",
    "    ('coa', 1.37),\n",
    "    ('dhap', 3.06),\n",
    "    ('dpg', 1.65e-02),\n",
    "    ('fum', 2.88e-01),\n",
    "    ('gap', 2.71e-01),\n",
    "    ('glx', 0.1),  # **********\n",
    "    ('h+', 1e-7),\n",
    "    ('h2o', 1.0),  # Activity of the solvent is defined as 1\n",
    "    ('icit', 3.67e-02),\n",
    "    ('kdpg', 0.01),  # **********\n",
    "    ('mal.L', 1.68),\n",
    "    ('nad.ox', 2.55),\n",
    "    ('nad.red', 8.36e-02),\n",
    "    ('nadp.ox', 2.08e-03),\n",
    "    ('nadp.red', 1.21e-01),\n",
    "    ('oaa', 4.87e-04),\n",
    "    ('pep', 1.84e-01),\n",
    "    ('pi', 23.9),\n",
    "    ('pyr', 3.66),\n",
    "    ('q.ox', 0.01),  # **********\n",
    "    ('q.red', 0.01),  # **********\n",
    "    ('succ', 5.69e-01),\n",
    "    ('succcoa', 2.33e-01),\n",
    "]}\n",
    "\n",
    "state = network.reactant_vector(POOLS)\n",
    "state"
   ]
  },
  {
   "cell_type": "code",
   "execution_count": 6,
   "id": "775eb188-a476-4a73-a7cd-b7a41f76abb3",
   "metadata": {},
   "outputs": [
    {
     "name": "stderr",
     "output_type": "stream",
     "text": [
      "WARNING:absl:No GPU/TPU found, falling back to CPU. (Set TF_CPP_MIN_LOG_LEVEL=0 and rerun for more info.)\n"
     ]
    },
    {
     "name": "stdout",
     "output_type": "stream",
     "text": [
      "[[0.24393938 0.98864717]\n",
      " [0.79771909 0.86229213]\n",
      " [0.30505736 0.35540929]\n",
      " [0.97067327 0.08206506]\n",
      " [0.71806872 0.15587295]\n",
      " [0.70148372 0.43307884]\n",
      " [0.37127029 0.33883736]\n",
      " [0.79413118 0.04328649]\n",
      " [0.91175046 0.72198283]\n",
      " [0.63780652 0.22756648]\n",
      " [0.44202183 0.3890605 ]\n",
      " [0.17855327 0.44526287]] [[[1.7330887  1.         1.         1.         1.        ]\n",
      "  [1.84511803 1.         1.         1.         1.        ]]\n",
      "\n",
      " [[1.68000414 1.4106932  1.         1.         1.        ]\n",
      "  [1.88453739 1.06395593 1.36094188 1.         1.        ]]\n",
      "\n",
      " [[1.86311185 1.41219498 1.         1.         1.        ]\n",
      "  [1.08700861 1.81891399 1.         1.         1.        ]]\n",
      "\n",
      " [[1.83816509 1.         1.         1.         1.        ]\n",
      "  [1.34808971 1.67732023 1.         1.         1.        ]]\n",
      "\n",
      " [[1.25781949 1.         1.         1.         1.        ]\n",
      "  [1.06395669 1.         1.         1.         1.        ]]\n",
      "\n",
      " [[1.73577349 1.01549016 1.91770028 1.         1.        ]\n",
      "  [1.84548954 1.99723361 1.61885689 1.         1.        ]]\n",
      "\n",
      " [[1.44950365 1.84345003 1.         1.         1.        ]\n",
      "  [1.31038109 1.24856331 1.         1.         1.        ]]\n",
      "\n",
      " [[1.20205876 1.         1.         1.         1.        ]\n",
      "  [1.64689767 1.         1.         1.         1.        ]]\n",
      "\n",
      " [[1.17591246 1.         1.         1.         1.        ]\n",
      "  [1.98912617 1.6723483  1.         1.         1.        ]]\n",
      "\n",
      " [[1.59369042 1.76544111 1.         1.         1.        ]\n",
      "  [1.86370886 1.24211536 1.47529502 1.         1.        ]]\n",
      "\n",
      " [[1.39288675 1.76409595 1.85526158 1.         1.        ]\n",
      "  [1.62408382 1.73038468 1.72420759 1.56365822 1.21783288]]\n",
      "\n",
      " [[1.04809883 1.45620172 1.64901482 1.         1.        ]\n",
      "  [1.77559645 1.44985384 1.89182254 1.         1.        ]]]\n"
     ]
    }
   ],
   "source": [
    "# Generate some random kinetic data\n",
    "prng = jax.random.PRNGKey(0)\n",
    "prng, prng_ = jax.random.split(prng)\n",
    "kcat_ = jax.random.uniform(prng_, indices.shape[:2])\n",
    "prng, prng_ = jax.random.split(prng)\n",
    "km_ = jax.random.uniform(prng_, indices.shape) * mask + 1\n",
    "print(kcat_, km_)"
   ]
  },
  {
   "cell_type": "code",
   "execution_count": 7,
   "id": "6529adf9-c216-4e7b-bd1c-6dd58b9332fb",
   "metadata": {},
   "outputs": [
    {
     "name": "stdout",
     "output_type": "stream",
     "text": [
      "pgi: [Glc.D.6P: 1.73308870290881, Fru.D.6P: 1.845118028680578]\n",
      "pfk: [atp: 1.6800041426858345, Fru.D.6P: 1.4106931966597775, adp: 1.8845373875380222, Fru.D.bis16: 1.0639559349130323, h+: 1.360941883732501]\n",
      "fbp: [Fru.D.bis16: 1.863111852460446, h2o: 1.4121949840515609, Fru.D.6P: 1.087008606641008, pi: 1.8189139870287792]\n",
      "fba: [Fru.D.bis16: 1.83816508655738, gap: 1.3480897075806795, dhap: 1.6773202300618018]\n",
      "tpi: [gap: 1.2578194870841028, dhap: 1.06395669472636]\n",
      "gapdh: [gap: 1.735773490376081, nad.ox: 1.0154901613098066, pi: 1.9177002810527666, dpg: 1.8454895449793587, h+: 1.997233605782102, nad.red: 1.6188568909964942]\n",
      "pgk: [3pg: 1.4495036494695925, atp: 1.8434500296356866, dpg: 1.310381086550176, adp: 1.248563312555589]\n",
      "gpm.indep: [2pg: 1.2020587643039475, 3pg: 1.6468976747200537]\n",
      "eno: [2pg: 1.1759124551051658, h2o: 1.989126170369294, pep: 1.6723482997507577]\n",
      "pyk: [atp: 1.5936904245159553, pyr: 1.765441106928819, adp: 1.8637088638990469, h+: 1.2421153611883478, pep: 1.4752950199836787]\n",
      "pps: [atp: 1.392886754131421, h2o: 1.7640959476547124, pyr: 1.8552615752237405, amp: 1.624083817979262, pi: 1.730384684847881, pep: 1.7242075907854153, h+: 1.2178328834410348]\n",
      "pdh: [coa: 1.0480988258198884, nad.ox: 1.4562017205008837, pyr: 1.6490148162089582, accoa: 1.7755964452728505, co2: 1.449853835067272, nad.red: 1.8918225404321467]\n"
     ]
    }
   ],
   "source": [
    "kcats = {reaction: tuple(v.tolist()) for reaction, v in zip(network.reactions(), kcat_)}\n",
    "kms = {\n",
    "    reaction: {\n",
    "        network.reactant(idx): km\n",
    "        for idx, km in zip(reaction_indices.ravel(), reaction_kms.ravel().tolist())\n",
    "        if idx >= 0\n",
    "    }\n",
    "    for reaction, reaction_indices, reaction_kms in zip(network.reactions(), indices, km_)\n",
    "}\n",
    "for rxn, data in kms.items():\n",
    "    print(f'{rxn.id}: [{\", \".join(f\"{mol.id}: {km}\" for mol, km in data.items())}]')"
   ]
  },
  {
   "cell_type": "code",
   "execution_count": 8,
   "id": "1aac42c7-55a1-4772-ae51-d1a5c0b34be2",
   "metadata": {},
   "outputs": [],
   "source": [
    "def kcat_array(kcats):\n",
    "    return np.array([kcats.get(reaction, (0, 0)) for reaction in network.reactions()])\n",
    "\n",
    "def km_array(kms):\n",
    "    # Result shape is (#rxns, 2, width)\n",
    "    result = np.ones((network.shape[1], 2, width))\n",
    "    # Use self.indices_ as the source of truth; do not rely on iterating over reaction.stoichiometry.items().\n",
    "    for i, rxn_indices in enumerate(indices):\n",
    "        reaction = network.reaction(i)\n",
    "        if reaction in kms:\n",
    "            for j, side in enumerate(rxn_indices):\n",
    "                for k, reactant_idx in enumerate(side):\n",
    "                    if reactant_idx >= 0:\n",
    "                        result[i, j, k] = kms[reaction].get(network.reactant(reactant_idx), 1)\n",
    "    return result\n"
   ]
  },
  {
   "cell_type": "code",
   "execution_count": 9,
   "id": "2a7b688d-623b-48ef-a1f6-1bf2b7cec01b",
   "metadata": {},
   "outputs": [
    {
     "name": "stdout",
     "output_type": "stream",
     "text": [
      "0.0\n",
      "0.11959516277754548\n"
     ]
    }
   ],
   "source": [
    "print(np.sum(np.square(kcat_ - kcat_array(kcats))))\n",
    "print(np.sum(np.square(km_ - km_array(kms))))"
   ]
  },
  {
   "cell_type": "code",
   "execution_count": 10,
   "id": "d1d891c6-0dc7-4892-91b3-f4f865d0ab49",
   "metadata": {},
   "outputs": [
    {
     "data": {
      "text/plain": [
       "Reaction(_id='pps', name='Phosphoenolpyruvate Synthetase', shorthand='PPS', description=None, aka=None, xrefs={KEGG:R00199, EC:2.7.9.2, ECOCYC:PEPSYNTH-RXN, GO:0008986, RHEA:11364, METACYC:PEPSYNTH-RXN}, stoichiometry={Molecule [atp] adenosine 5'-triphosphate: -1, Molecule [h2o] water: -1, Molecule [pyr] pyruvate: -1, Molecule [amp] adenosine 5'-monophosphate: 1, Molecule [pi] phosphate: 1, Molecule [pep] phosphoenolpyruvate: 1, Molecule [h+] proton: 2}, catalyst=Molecule [PpsA] , reversible=False)"
      ]
     },
     "execution_count": 10,
     "metadata": {},
     "output_type": "execute_result"
    }
   ],
   "source": [
    "network.reaction(10)"
   ]
  },
  {
   "cell_type": "code",
   "execution_count": 11,
   "id": "e40c64bc-2d98-4717-8b06-dbf25f281dc4",
   "metadata": {},
   "outputs": [
    {
     "data": {
      "text/plain": [
       "DeviceArray([[1.39288675, 1.76409595, 1.85526158, 1.        , 1.        ],\n",
       "             [1.62408382, 1.73038468, 1.72420759, 1.56365822, 1.21783288]],            dtype=float64)"
      ]
     },
     "execution_count": 11,
     "metadata": {},
     "output_type": "execute_result"
    }
   ],
   "source": [
    "km_[10]"
   ]
  },
  {
   "cell_type": "code",
   "execution_count": 12,
   "id": "5b2b61a3-3cc0-4f4c-b13b-d34e1c9b42dd",
   "metadata": {},
   "outputs": [
    {
     "data": {
      "text/plain": [
       "array([[1.39288675, 1.76409595, 1.85526158, 1.        , 1.        ],\n",
       "       [1.62408382, 1.73038468, 1.72420759, 1.21783288, 1.21783288]])"
      ]
     },
     "execution_count": 12,
     "metadata": {},
     "output_type": "execute_result"
    }
   ],
   "source": [
    "km_array(kms)[10]"
   ]
  },
  {
   "cell_type": "code",
   "execution_count": 13,
   "id": "d856df96-be25-49a7-9981-095b83bb7f2f",
   "metadata": {},
   "outputs": [
    {
     "data": {
      "text/plain": [
       "DeviceArray([[[4.54679555e+00, 1.00000000e+00, 1.00000000e+00,\n",
       "               1.00000000e+00, 1.00000000e+00],\n",
       "              [1.36576629e+00, 1.00000000e+00, 1.00000000e+00,\n",
       "               1.00000000e+00, 1.00000000e+00]],\n",
       "\n",
       "             [[5.73212872e+00, 1.78635582e+00, 1.00000000e+00,\n",
       "               1.00000000e+00, 1.00000000e+00],\n",
       "              [2.94501984e-01, 1.42863059e+01, 7.34785234e-08,\n",
       "               1.00000000e+00, 1.00000000e+00]],\n",
       "\n",
       "             [[8.15839370e+00, 7.08117513e-01, 1.00000000e+00,\n",
       "               1.00000000e+00, 1.00000000e+00],\n",
       "              [2.31828891e+00, 1.31397087e+01, 1.00000000e+00,\n",
       "               1.00000000e+00, 1.00000000e+00]],\n",
       "\n",
       "             [[8.26911582e+00, 1.00000000e+00, 1.00000000e+00,\n",
       "               1.00000000e+00, 1.00000000e+00],\n",
       "              [2.01025198e-01, 1.82433858e+00, 1.00000000e+00,\n",
       "               1.00000000e+00, 1.00000000e+00]],\n",
       "\n",
       "             [[2.15452219e-01, 1.00000000e+00, 1.00000000e+00,\n",
       "               1.00000000e+00, 1.00000000e+00],\n",
       "              [2.87605691e+00, 1.00000000e+00, 1.00000000e+00,\n",
       "               1.00000000e+00, 1.00000000e+00]],\n",
       "\n",
       "             [[1.56126362e-01, 2.51110262e+00, 1.24628443e+01,\n",
       "               1.00000000e+00, 1.00000000e+00],\n",
       "              [8.94071714e-03, 5.00692556e-08, 5.16413776e-02,\n",
       "               1.00000000e+00, 1.00000000e+00]],\n",
       "\n",
       "             [[1.06243265e+00, 5.22390075e+00, 1.00000000e+00,\n",
       "               1.00000000e+00, 1.00000000e+00],\n",
       "              [1.25917568e-02, 4.44510899e-01, 1.00000000e+00,\n",
       "               1.00000000e+00, 1.00000000e+00]],\n",
       "\n",
       "             [[7.63689786e-02, 1.00000000e+00, 1.00000000e+00,\n",
       "               1.00000000e+00, 1.00000000e+00],\n",
       "              [9.35091490e-01, 1.00000000e+00, 1.00000000e+00,\n",
       "               1.00000000e+00, 1.00000000e+00]],\n",
       "\n",
       "             [[7.80670360e-02, 1.00000000e+00, 1.00000000e+00,\n",
       "               1.00000000e+00, 1.00000000e+00],\n",
       "              [5.02733318e-01, 1.10024927e-01, 1.00000000e+00,\n",
       "               1.00000000e+00, 1.00000000e+00]],\n",
       "\n",
       "             [[6.04257882e+00, 2.07313627e+00, 1.00000000e+00,\n",
       "               1.00000000e+00, 1.00000000e+00],\n",
       "              [2.97793293e-01, 8.05078201e-08, 1.24720817e-01,\n",
       "               1.00000000e+00, 1.00000000e+00]],\n",
       "\n",
       "             [[6.91369917e+00, 5.66862591e-01, 1.97276764e+00,\n",
       "               1.00000000e+00, 1.00000000e+00],\n",
       "              [1.73020627e-01, 1.38119577e+01, 1.06715688e-01,\n",
       "               6.39525945e-08, 8.21130726e-08]],\n",
       "\n",
       "             [[1.30712865e+00, 1.75113102e+00, 2.21950704e+00,\n",
       "               1.00000000e+00, 1.00000000e+00],\n",
       "              [3.41293767e-01, 5.18672974e-02, 4.41901913e-02,\n",
       "               1.00000000e+00, 1.00000000e+00]]], dtype=float64)"
      ]
     },
     "execution_count": 13,
     "metadata": {},
     "output_type": "execute_result"
    }
   ],
   "source": [
    "# $\\tilde{a} = a_i / {km}^a_i for all i; \\tilde{b} = b_j / {km}^b_j for all j$, padded with ones as neccessary\n",
    "state_norm = jnp.append(state, 1)[indices] / km_\n",
    "state_norm"
   ]
  },
  {
   "cell_type": "code",
   "execution_count": 14,
   "id": "2e3a831f-3134-4aa1-8f18-21b3f48df5ec",
   "metadata": {
    "tags": []
   },
   "outputs": [
    {
     "data": {
      "text/plain": [
       "DeviceArray([ 2.45940347,  8.1683418 , 12.58869747,  8.05670604,\n",
       "              0.60300898,  3.42748425,  2.0624625 ,  0.10112382,\n",
       "              0.11111283,  7.9898593 ,  3.41749531,  0.90746114],            dtype=float64)"
      ]
     },
     "execution_count": 14,
     "metadata": {},
     "output_type": "execute_result"
    }
   ],
   "source": [
    "# $k_{+}^{cat} \\prod_i{\\tilde{a}_i} + k_{-}^{cat} \\prod_j{\\tilde{b}_j}$\n",
    "numerator = jnp.sum(kcat_ * jnp.prod(state_norm, axis=-1), axis=-1)\n",
    "numerator"
   ]
  },
  {
   "cell_type": "code",
   "execution_count": 15,
   "id": "901c4ead-c553-455d-bee9-a540358df0ac",
   "metadata": {},
   "outputs": [
    {
     "data": {
      "text/plain": [
       "DeviceArray([ 6.91256184, 37.54626087, 61.56325138, 11.66121762,\n",
       "              4.09150913, 54.71047545, 13.29907594,  2.01146047,\n",
       "              1.74613848, 22.10245968, 55.09025619, 20.9081069 ],            dtype=float64)"
      ]
     },
     "execution_count": 15,
     "metadata": {},
     "output_type": "execute_result"
    }
   ],
   "source": [
    "# $\\prod_i{(1 + \\tilde{a}_i)} + \\prod_j{(1 + \\tilde{b}_j)} - 1$\n",
    "denominator = jnp.sum(jnp.prod(state_norm + mask, axis=-1), axis=-1) - 1\n",
    "denominator"
   ]
  },
  {
   "cell_type": "code",
   "execution_count": 16,
   "id": "05ce0e39-4314-4579-94c7-0a43b433a57a",
   "metadata": {},
   "outputs": [
    {
     "data": {
      "text/plain": [
       "DeviceArray([0.32628979, 0.21069843, 0.09611057, 0.65048012, 0.13741619,\n",
       "             0.0020999 , 0.02806377, 0.02456297, 0.00987514, 0.16441616,\n",
       "             0.05763836, 0.00126864], dtype=float64)"
      ]
     },
     "execution_count": 16,
     "metadata": {},
     "output_type": "execute_result"
    }
   ],
   "source": [
    "prng, prng_ = jax.random.split(prng)\n",
    "enzyme_conc = jax.random.uniform(prng_, indices.shape[:1])\n",
    "rates = enzyme_conc * numerator / denominator\n",
    "rates"
   ]
  },
  {
   "cell_type": "code",
   "execution_count": 17,
   "id": "88dcaea7-8702-4b64-a2d1-04e0972d33f1",
   "metadata": {},
   "outputs": [],
   "source": [
    "@dataclass\n",
    "class ReactionKinetics:\n",
    "    reaction: Reaction\n",
    "    kcat_f: float\n",
    "    kcat_b: float\n",
    "    km: Mapping[Molecule, float]\n",
    "\n",
    "\n",
    "class ConvenienceKinetics:\n",
    "    def __init__(self, \n",
    "                 network: ReactionNetwork,\n",
    "                 kinetics: Optional[Iterable[ReactionKinetics]] = None):\n",
    "        self.network = network\n",
    "        \n",
    "        # Build up a list of substrate and product indices for each reaction.\n",
    "        width = 0\n",
    "        ragged_indices = []\n",
    "        for reaction in network.reactions():\n",
    "            reaction_indices = [[], []]\n",
    "            for reactant, count in reaction.stoichiometry.items():\n",
    "                idx = network.reactant_index(reactant)\n",
    "                if count < 0:\n",
    "                    reaction_indices[0].extend([idx] * -count)\n",
    "                else:\n",
    "                    reaction_indices[1].extend([idx] * count)\n",
    "\n",
    "            width = max(width, len(reaction_indices[0]), len(reaction_indices[1]))\n",
    "            ragged_indices.append(reaction_indices)\n",
    "            \n",
    "        # Build a regularized array of indices, padded with -1, and a corresponding mask padded with 0.\n",
    "        indices = -np.ones((len(ragged_indices), 2, width), dtype=int)\n",
    "        mask = np.zeros((len(ragged_indices), 2, width), dtype=int)\n",
    "        for i, reaction_indices in enumerate(ragged_indices):\n",
    "            indices[i, 0, :len(reaction_indices[0])] = reaction_indices[0]\n",
    "            indices[i, 1, :len(reaction_indices[1])] = reaction_indices[1]\n",
    "            mask[i, 0, :len(reaction_indices[0])] = 1\n",
    "            mask[i, 1, :len(reaction_indices[1])] = 1\n",
    "\n",
    "        self.width_ = width\n",
    "        self.indices_ = indices\n",
    "        self.mask_ = mask\n",
    "        \n",
    "        # Save kinetic parameters per reaction, if given\n",
    "        if kinetics is not None:\n",
    "            self.kcats_, self.kms_ = self.param_arrays(kinetics)\n",
    "        else:\n",
    "            self.kcats_ = None\n",
    "            self.kms_ = None\n",
    "\n",
    "    def param_arrays(self, kinetics: Iterable[ReactionKinetics]) -> Tuple[np.ndarray, np.ndarray]:\n",
    "        \"\"\"Processes ReactionKinetics structure into parameter arrays used for rate calculations.\"\"\"\n",
    "        kcats = np.zeros((self.network.shape[1], 2))\n",
    "        kms = np.ones((self.network.shape[1], 2, self.width_))\n",
    "        \n",
    "        for reaction_kinetics in kinetics:\n",
    "            i = self.network.reaction_index(reaction_kinetics.reaction)\n",
    "            if i is not None:\n",
    "                kcats[i, 0] = reaction_kinetics.kcat_f\n",
    "                kcats[i, 1] = reaction_kinetics.kcat_b\n",
    "\n",
    "                # Use self.indices_ as the source of truth for what value belongs where.\n",
    "                for j, side in enumerate(self.indices_[i]):\n",
    "                    for k, reactant_idx in enumerate(side):\n",
    "                        if reactant_idx >= 0:\n",
    "                            kms[i, j, k] = reaction_kinetics.km.get(self.network.reactant(reactant_idx), 1)\n",
    "        return kcats, kms\n",
    "        \n",
    "    def reaction_rates(self,\n",
    "                       state: ArrayT,\n",
    "                       enzyme_conc: ArrayT,\n",
    "                       kcats: Optional[ArrayT] = None,\n",
    "                       kms: Optional[ArrayT] = None) -> ArrayT:\n",
    "        \"\"\"Calculates current reaction rates using the convenience kinetics formula.\"\"\"\n",
    "        # Use kinetic parameters as supplied, or fall back to configred intrinsic values\n",
    "        if kcats is None:\n",
    "            kcats = self.kcats_\n",
    "        if kms is None:\n",
    "            kms = self.kms_\n",
    "        \n",
    "        # $\\tilde{a} = a_i / {km}^a_i for all i; \\tilde{b} = b_j / {km}^b_j for all j$, padded with ones as neccessary\n",
    "        # Appending [1] to the state vector means any index of -1 translates to unity, i.e. a no-op for multiplication.\n",
    "        state_norm = jnp.append(state, 1)[self.indices_] / kms\n",
    "\n",
    "        # $k_{+}^{cat} \\prod_i{\\tilde{a}_i} + k_{-}^{cat} \\prod_j{\\tilde{b}_j}$\n",
    "        numerator = jnp.sum(kcats * jnp.prod(state_norm, axis=-1), axis=-1)\n",
    "        \n",
    "        # $\\prod_i{(1 + \\tilde{a}_i)} + \\prod_j{(1 + \\tilde{b}_j)} - 1$\n",
    "        # state_norm + mask means (1 + \\tilde{a}_i) for all real values, and 1 (i.e. a no-op for multiplication) for all padded values.\n",
    "        denominator = jnp.sum(jnp.prod(state_norm + self.mask_, axis=-1), axis=-1) - 1\n",
    "        \n",
    "        rates = enzyme_conc * numerator / denominator\n",
    "        return rates\n",
    "\n",
    "    def dstate_dt(self,\n",
    "                  state: ArrayT,\n",
    "                  enzyme_conc: ArrayT,\n",
    "                  kcats: Optional[ArrayT] = None,\n",
    "                  kms: Optional[ArrayT] = None) -> ArrayT:\n",
    "        return network.s_matrix @ self.reaction_rates(state, enzyme_conc, kcats, kms)"
   ]
  },
  {
   "cell_type": "code",
   "execution_count": 18,
   "id": "c6cb31aa-821c-4916-bf6e-24ee6d3cb7a5",
   "metadata": {},
   "outputs": [],
   "source": [
    "kinetics = [ReactionKinetics(rxn, kcat_f, kcat_b, kms[rxn]) for rxn, (kcat_f, kcat_b) in kcats.items()]\n",
    "ck = ConvenienceKinetics(network, kinetics)"
   ]
  },
  {
   "cell_type": "code",
   "execution_count": 19,
   "id": "0953f9ff-69c7-44e7-be63-4264a5a28b5a",
   "metadata": {},
   "outputs": [
    {
     "data": {
      "text/plain": [
       "DeviceArray([0.32628979, 0.21069843, 0.09611057, 0.65048012, 0.13741619,\n",
       "             0.0020999 , 0.02806377, 0.02456297, 0.00987514, 0.16441616,\n",
       "             0.05763836, 0.00126864], dtype=float64)"
      ]
     },
     "execution_count": 19,
     "metadata": {},
     "output_type": "execute_result"
    }
   ],
   "source": [
    "ck.reaction_rates(state, enzyme_conc)"
   ]
  },
  {
   "cell_type": "code",
   "execution_count": 20,
   "id": "2c03645a-8880-45c1-8657-9b7409fb58ee",
   "metadata": {},
   "outputs": [
    {
     "data": {
      "text/plain": [
       "DeviceArray([-0.32628979,  0.21170194, -0.46081672,  0.40317835,\n",
       "             -0.53589227,  0.49249121, -0.1438738 ,  0.15164904,\n",
       "              0.51096403,  0.78789631, -0.00336854,  0.03016367,\n",
       "              0.00336854, -0.0035008 , -0.03443811,  0.23192966,\n",
       "             -0.22332315,  0.05763836, -0.00126864,  0.00126864,\n",
       "              0.00126864], dtype=float64)"
      ]
     },
     "execution_count": 20,
     "metadata": {},
     "output_type": "execute_result"
    }
   ],
   "source": [
    "ck.dstate_dt(state, enzyme_conc)"
   ]
  },
  {
   "cell_type": "markdown",
   "id": "73bfc394-65fe-4e51-8c2f-b97af459ad14",
   "metadata": {},
   "source": [
    "## Alternative Approach to the Computation\n",
    "\n",
    "- True data shape for $k_m$ and $\\tilde{a}$ is (#rxns, 2, {ragged})\n",
    "- First approach pads the ragged dimension with ones, then uses jnp.prod to collapse to (#rxns, 2)\n",
    "- Alternative strings everything into a 1d array, then uses segment_prod and reshape to get the same (#rxn2, 2) result"
   ]
  },
  {
   "cell_type": "code",
   "execution_count": 21,
   "id": "3e4d3206-e273-4311-9cdd-94bcc128632c",
   "metadata": {},
   "outputs": [],
   "source": [
    "class ConvenienceKinetics2:\n",
    "    def __init__(self, \n",
    "                 network: ReactionNetwork,\n",
    "                 kinetics: Optional[Mapping[Reaction, ReactionKinetics]] = None):\n",
    "        self.network = network\n",
    "        \n",
    "        # Build up a list of substrate and product indices for each reaction.\n",
    "        # Collapse into a 1d vector, with corresponding segment id vector to identify the original groupings.\n",
    "        indices = []\n",
    "        segment_ids = []\n",
    "        for i, reaction in enumerate(network.reactions()):\n",
    "            reaction_indices = [[], []]\n",
    "            for reactant, count in reaction.stoichiometry.items():\n",
    "                idx = network.reactant_index(reactant)\n",
    "                if count < 0:\n",
    "                    reaction_indices[0].extend([idx] * -count)\n",
    "                else:\n",
    "                    reaction_indices[1].extend([idx] * count)\n",
    "\n",
    "            indices.extend(reaction_indices[0])\n",
    "            segment_ids.extend([2 * i] * len(reaction_indices[0]))\n",
    "            indices.extend(reaction_indices[1])\n",
    "            segment_ids.extend([2 * i + 1] * len(reaction_indices[1]))\n",
    "\n",
    "        self.indices_ = np.array(indices)\n",
    "        self.segment_ids_ = np.array(segment_ids)\n",
    "        \n",
    "        # Save kinetic parameters per reaction, if given\n",
    "        if kinetics is not None:\n",
    "            self.kcats_, self.kms_ = self.param_arrays(kinetics)\n",
    "        else:\n",
    "            self.kcats_ = None\n",
    "            self.kms_ = None\n",
    "\n",
    "    def param_arrays(self, kinetics: Mapping[Reaction, ReactionKinetics]) -> Tuple[np.ndarray, np.ndarray]:\n",
    "        \"\"\"Processes ReactionKinetics structure into parameter arrays used for rate calculations.\"\"\"\n",
    "        kcats = []\n",
    "        for reaction in self.network.reactions():\n",
    "            # Require that each reaction's kinetics are included, i.e. allow this to throw an error if not.\n",
    "            reaction_kinetics = kinetics[reaction]\n",
    "            kcats.append([reaction_kinetics.kcat_f, reaction_kinetics.kcat_b])\n",
    "        \n",
    "        # Easiest to build the Km array colinear with self.indices_, inferring reaction from segment_id.\n",
    "        kms = []\n",
    "        for reactant_index, segment_id in zip(self.indices_, self.segment_ids_):\n",
    "            # Segment ids for reaction i are 2i (substrates) and 2i + 1 (products).\n",
    "            i = int(segment_id / 2)\n",
    "            reaction = self.network.reaction(i)\n",
    "            # Require that each reaction's kinetics are included, i.e. allow this to throw an error if not.\n",
    "            reaction_kinetics = kinetics[reaction]\n",
    "            kms.append(reaction_kinetics.km[self.network.reactant(reactant_index)])\n",
    "\n",
    "        return jnp.array(kcats, dtype=np.float64), jnp.array(kms, dtype=np.float64)\n",
    "\n",
    "    def reaction_rates(self,\n",
    "                       state: ArrayT,\n",
    "                       enzyme_conc: ArrayT,\n",
    "                       kcats: Optional[ArrayT] = None,\n",
    "                       kms: Optional[ArrayT] = None) -> ArrayT:\n",
    "        \"\"\"Calculates current reaction rates using the convenience kinetics formula.\"\"\"\n",
    "        # Use kinetic parameters as supplied, or fall back to configred intrinsic values\n",
    "        if kcats is None:\n",
    "            kcats = self.kcats_\n",
    "        if kms is None:\n",
    "            kms = self.kms_\n",
    "        \n",
    "        # $\\tilde{a} = a_i / {km}^a_i for all i; \\tilde{b} = b_j / {km}^b_j for all j$.\n",
    "        state_norm = state[self.indices_] / kms\n",
    "\n",
    "        # $k_{+}^{cat} \\prod_i{\\tilde{a}_i} + k_{-}^{cat} \\prod_j{\\tilde{b}_j}$\n",
    "        num_rxns = self.network.shape[1]\n",
    "        numerator = jnp.sum(kcats * jax.ops.segment_prod(state_norm, segment_ids=self.segment_ids_, num_segments=num_rxns * 2).reshape((num_rxns, 2)), axis=-1)\n",
    "        \n",
    "        # $\\prod_i{(1 + \\tilde{a}_i)} + \\prod_j{(1 + \\tilde{b}_j)} - 1$\n",
    "        denominator = jnp.sum(jax.ops.segment_prod(state_norm + 1, segment_ids=self.segment_ids_, num_segments=num_rxns * 2).reshape((num_rxns, 2)), axis=-1) - 1\n",
    "        \n",
    "        rates = enzyme_conc * numerator / denominator\n",
    "        return rates\n",
    "\n",
    "    def dstate_dt(self,\n",
    "                  state: ArrayT,\n",
    "                  enzyme_conc: ArrayT,\n",
    "                  kcats: Optional[ArrayT] = None,\n",
    "                  kms: Optional[ArrayT] = None) -> ArrayT:\n",
    "        return network.s_matrix @ self.reaction_rates(state, enzyme_conc, kcats, kms)"
   ]
  },
  {
   "cell_type": "code",
   "execution_count": 22,
   "id": "9464c27e-8079-412e-98ee-614b586d922f",
   "metadata": {},
   "outputs": [],
   "source": [
    "ck2 = ConvenienceKinetics2(network, {rk.reaction: rk for rk in kinetics})"
   ]
  },
  {
   "cell_type": "code",
   "execution_count": 23,
   "id": "bb8c8ba2-0e7a-42e0-a931-bb0c294debcc",
   "metadata": {},
   "outputs": [
    {
     "data": {
      "text/plain": [
       "DeviceArray([ 0.0000000e+00,  0.0000000e+00,  0.0000000e+00,\n",
       "              0.0000000e+00,  0.0000000e+00,  0.0000000e+00,\n",
       "              0.0000000e+00,  0.0000000e+00,  0.0000000e+00,\n",
       "              0.0000000e+00, -6.9388939e-18,  0.0000000e+00],            dtype=float64)"
      ]
     },
     "execution_count": 23,
     "metadata": {},
     "output_type": "execute_result"
    }
   ],
   "source": [
    "ck.reaction_rates(state, enzyme_conc) - ck2.reaction_rates(state, enzyme_conc)"
   ]
  },
  {
   "cell_type": "markdown",
   "id": "107f542a-af2c-4a77-aa15-5820d534966d",
   "metadata": {},
   "source": [
    "Numerical instability(?) - all the inputs are the same, but the sum-of-products comes out different in the 14th decimal place, for one reaction"
   ]
  },
  {
   "cell_type": "code",
   "execution_count": 24,
   "id": "594eac03-5257-43d7-831f-04443e296506",
   "metadata": {},
   "outputs": [
    {
     "name": "stdout",
     "output_type": "stream",
     "text": [
      "894 µs ± 6.16 µs per loop (mean ± std. dev. of 7 runs, 1,000 loops each)\n",
      "2.11 ms ± 16.8 µs per loop (mean ± std. dev. of 7 runs, 100 loops each)\n"
     ]
    }
   ],
   "source": [
    "%timeit ck.reaction_rates(state, enzyme_conc)\n",
    "%timeit ck2.reaction_rates(state, enzyme_conc)"
   ]
  },
  {
   "cell_type": "code",
   "execution_count": 25,
   "id": "9117a372-cc91-4870-9c54-1406866efe83",
   "metadata": {},
   "outputs": [
    {
     "name": "stdout",
     "output_type": "stream",
     "text": [
      "4.61 µs ± 14.2 ns per loop (mean ± std. dev. of 7 runs, 100,000 loops each)\n",
      "5.83 µs ± 481 ns per loop (mean ± std. dev. of 7 runs, 100,000 loops each)\n"
     ]
    }
   ],
   "source": [
    "fn1 = jax.jit(ck.reaction_rates)\n",
    "fn2 = jax.jit(ck2.reaction_rates)\n",
    "%timeit fn1(state, enzyme_conc)\n",
    "%timeit fn2(state, enzyme_conc)"
   ]
  },
  {
   "cell_type": "markdown",
   "id": "ef500358-4e08-4148-aeaa-6f72cb0d8d5a",
   "metadata": {},
   "source": [
    "All that and it's clearly not faster even on a CPU. Stick with the initial implementation."
   ]
  },
  {
   "cell_type": "markdown",
   "id": "07c5c912-d320-4a85-8d8b-9383316ff0b0",
   "metadata": {},
   "source": [
    "## Regulation\n",
    "\n",
    "- Parameters ($K_I$ and $K_A$) can be stored semantically with ReactionKinetics\n",
    "- Simple generalized equations in the Convenience Kinetics paper\n",
    "  - Activation: $v' = \\frac{d}{d + K_A}v$\n",
    "    - Interpretation: unbound enzyme is purely inactive\n",
    "  - Inhibition: $v' = \\frac{K_I}{d + K_I}v$\n",
    "    - Interpretation: bound enzyme is purely inactive\n",
    "- Both can be expressed using the same convention of $\\tilde{d} = \\frac{d}{K}$, which then looks a lot like the other convenience kinetics terms:\n",
    "  - Activation: $v' = \\frac{\\tilde{d}}{\\tilde{d} + 1}v$\n",
    "  - Inhibition: $v' = \\frac{1}{\\tilde{d} + 1}v$\n"
   ]
  },
  {
   "cell_type": "code",
   "execution_count": 79,
   "id": "d5f01947-842b-4d91-b14c-ffae5bd35fc1",
   "metadata": {},
   "outputs": [],
   "source": [
    "@dataclass\n",
    "class ReactionKinetics:\n",
    "    reaction: Reaction\n",
    "    kcat_f: float\n",
    "    kcat_b: float\n",
    "    km: Mapping[Molecule, float]\n",
    "    ka: Mapping[Molecule, float]\n",
    "    ki: Mapping[Molecule, float]\n",
    "\n",
    "class Ligands:\n",
    "    def __init__(self, network: ReactionNetwork, ligand_lists: Iterable[Iterable[Molecule]], constants: Iterable[Mapping[Molecule, float]]):\n",
    "        self.network = network\n",
    "\n",
    "        ragged_indices = []\n",
    "        width = 0\n",
    "        for ligand_list in ligand_lists:\n",
    "            indices = [network.reactant_index(ligand) for ligand in ligand_list]\n",
    "            ragged_indices.append(indices)\n",
    "            width = max(width, len(indices))\n",
    "        \n",
    "        # -1 as a default index lets us deref an array by appending a default value\n",
    "        padded_indices = np.full((len(ragged_indices), width), -1, dtype=int)\n",
    "        mask = np.zeros((len(ragged_indices), width), dtype=int)\n",
    "        for i, indices in enumerate(ragged_indices):\n",
    "            padded_indices[i, :len(indices)] = indices\n",
    "            mask[i, :len(indices)] = 1\n",
    "            \n",
    "        self.width = width\n",
    "        self.indices = padded_indices\n",
    "        self.mask = mask\n",
    "        \n",
    "        self.constants = self.constants_array(constants, default=1.0)\n",
    "\n",
    "    def constants_array(self, constants: Iterable[Mapping[Molecule, float]], default: float = 0.0) -> np.ndarray:\n",
    "        result = np.full(self.indices.shape, default)\n",
    "        for i, (row_indices, row_constants) in enumerate(zip(self.indices, constants)):\n",
    "            for j, ligand_index in enumerate(row_indices):\n",
    "                if self.mask[i, j]:\n",
    "                    result[i, j] = row_constants.get(self.network.reactant(ligand_index), default)\n",
    "        return result\n",
    "    \n",
    "    def occupancy(self, state: ArrayT, constants: Optional[ArrayT] = None, default: float = 1.0) -> jnp.ndarray:\n",
    "        if constants is None:\n",
    "            constants = self.constants\n",
    "        # Appending [default] to the state vector means any index of -1 derefs to the default value.\n",
    "        return jnp.append(state, default)[self.indices] / constants\n",
    "\n",
    "    \n",
    "class ConvenienceKinetics:\n",
    "    def __init__(self,\n",
    "                 network: ReactionNetwork,\n",
    "                 kinetics: Mapping[Reaction, ReactionKinetics]):\n",
    "        self.network = network\n",
    "        self.kcats = np.array([[kinetics[reaction].kcat_f, kinetics[reaction].kcat_b] for reaction in network.reactions()])\n",
    "        \n",
    "        # Substrates and products represented by one Ligands set each, with Km's.\n",
    "        substrates = []\n",
    "        products = []\n",
    "        constants = []\n",
    "        for reaction in network.reactions():\n",
    "            substrates.append([])\n",
    "            products.append([])\n",
    "            for reactant, count in reaction.stoichiometry.items():\n",
    "                if count < 0:\n",
    "                    substrates[-1].extend([reactant] * -count)\n",
    "                else:\n",
    "                    products[-1].extend([reactant] * count)\n",
    "\n",
    "            constants.append(kinetics[reaction].km)\n",
    "\n",
    "        self.substrates = Ligands(network, substrates, constants)\n",
    "        self.products = Ligands(network, products, constants)\n",
    "        \n",
    "        # Activators and inhibitors represented by one Ligands set each, with Ka's or Ki's respectively.\n",
    "        activators = []\n",
    "        kas = []\n",
    "        inhibitors = []\n",
    "        kis = []\n",
    "        for reaction in network.reactions():\n",
    "            reaction_kinetics = kinetics[reaction]\n",
    "            activators.append(reaction_kinetics.ka.keys())\n",
    "            kas.append(reaction_kinetics.ka)\n",
    "            inhibitors.append(reaction_kinetics.ki.keys())\n",
    "            kis.append(reaction_kinetics.ki)\n",
    "        \n",
    "        self.activators = Ligands(network, activators, kas)\n",
    "        self.inhibitors = Ligands(network, inhibitors, kis)\n",
    "\n",
    "    def reaction_rates(self,\n",
    "                       state: ArrayT,\n",
    "                       enzyme_conc: ArrayT) -> ArrayT:\n",
    "        kcats = self.kcats\n",
    "\n",
    "        # $\\tilde{a} = a_i / {km}^a_i for all i; \\tilde{b} = b_j / {km}^b_j for all j$, padded with ones as necessary.\n",
    "        occupancy_s = self.substrates.occupancy(state, default=1)\n",
    "        occupancy_p = self.products.occupancy(state, default=1)\n",
    "\n",
    "        # $k_{+}^{cat} \\prod_i{\\tilde{a}_i} + k_{-}^{cat} \\prod_j{\\tilde{b}_j}$.\n",
    "        numerator = kcats[:, 0] * jnp.prod(occupancy_s, axis=-1) + kcats[:, 1] * jnp.prod(occupancy_p, axis=-1)\n",
    "\n",
    "        # $\\prod_i{(1 + \\tilde{a}_i)} + \\prod_j{(1 + \\tilde{b}_j)} - 1$\n",
    "        denominator = jnp.prod(occupancy_s * self.substrates.mask + 1, axis=-1) + jnp.prod(occupancy_p * self.products.mask + 1, axis=-1) - 1\n",
    "        \n",
    "        occupancy_a = self.activators.occupancy(state, default=1)\n",
    "        occupancy_i = self.inhibitors.occupancy(state, default=0)\n",
    "        activation = jnp.prod(occupancy_a / (occupancy_a * self.activators.mask + 1), axis=-1)\n",
    "        inhibition = jnp.prod(1 / (occupancy_i + 1), axis=-1)\n",
    "\n",
    "        return enzyme_conc * numerator / denominator * activation * inhibition\n",
    "\n",
    "    def dstate_dt(self,\n",
    "                  state: ArrayT,\n",
    "                  enzyme_conc: ArrayT) -> ArrayT:\n",
    "        return self.network.s_matrix @ self.reaction_rates(state, enzyme_conc)\n",
    "\n"
   ]
  },
  {
   "cell_type": "code",
   "execution_count": 80,
   "id": "638115b3-3d9d-48bc-badd-d75a6bfdb501",
   "metadata": {},
   "outputs": [],
   "source": [
    "k3 = {k.reaction: ReactionKinetics(\n",
    "    reaction=k.reaction,\n",
    "    kcat_f=k.kcat_f,\n",
    "    kcat_b=k.kcat_b,\n",
    "    km=k.km,\n",
    "    ka={},\n",
    "    ki={}\n",
    ") for k in kinetics}\n",
    "# Set ATP as an inhibitor of PFK\n",
    "k3[glycolysis.steps[1]].ki[KB.get(KB.compounds, 'atp')] = 5.\n",
    "ck3 = ConvenienceKinetics(network, k3)"
   ]
  },
  {
   "cell_type": "code",
   "execution_count": 81,
   "id": "70cecbc1-c516-457b-a894-586a3e405e3a",
   "metadata": {},
   "outputs": [
    {
     "data": {
      "text/plain": [
       "array([[1.],\n",
       "       [5.],\n",
       "       [1.],\n",
       "       [1.],\n",
       "       [1.],\n",
       "       [1.],\n",
       "       [1.],\n",
       "       [1.],\n",
       "       [1.],\n",
       "       [1.],\n",
       "       [1.],\n",
       "       [1.]])"
      ]
     },
     "execution_count": 81,
     "metadata": {},
     "output_type": "execute_result"
    }
   ],
   "source": [
    "ck3.inhibitors.constants"
   ]
  },
  {
   "cell_type": "code",
   "execution_count": 82,
   "id": "b38ae469-d0d7-457f-8f88-b6de7ac3571e",
   "metadata": {},
   "outputs": [
    {
     "data": {
      "text/plain": [
       "DeviceArray([0.32628979, 0.07200903, 0.09611057, 0.65048012, 0.13741619,\n",
       "             0.0020999 , 0.02806377, 0.02456297, 0.00987514, 0.16441616,\n",
       "             0.05763836, 0.00126864], dtype=float64)"
      ]
     },
     "execution_count": 82,
     "metadata": {},
     "output_type": "execute_result"
    }
   ],
   "source": [
    "ck3.reaction_rates(state, enzyme_conc)"
   ]
  },
  {
   "cell_type": "code",
   "execution_count": null,
   "id": "0d4580d2-7878-43c3-a23b-61fd2a9a5062",
   "metadata": {},
   "outputs": [],
   "source": []
  },
  {
   "cell_type": "code",
   "execution_count": null,
   "id": "264b03cd-c904-48a4-9732-38925a424513",
   "metadata": {},
   "outputs": [],
   "source": []
  },
  {
   "cell_type": "markdown",
   "id": "4175c99e-3717-4676-ad43-88b9ca8ca15d",
   "metadata": {},
   "source": [
    "## Thermodynamically independent system parameters\n",
    "\n",
    "Independent parameters\n",
    "- $\\Delta{G}_f$ per reactant\n",
    "- velocity constant per reaction (drives kcat_f and kcat_b together)\n",
    "- $K_M$ per (reaction, reactant) pair\n",
    "\n",
    "The paper focuses a lot on the first set, though this seems to me as something largely 'known', at least within some uncertainty. The latter two seem the most likely to be unknown, and therefore needing to be fit for some model.\n",
    "\n",
    "Ultimately it boils down to treating the forward and back kcats as dependent on everything else, instead of as 'free' parameters. This makes sense, it's a question of what you do with it.\n",
    "\n",
    "Ok, defer this for now, see how far we get with supplied kinetic paramaters"
   ]
  }
 ],
 "metadata": {
  "kernelspec": {
   "display_name": "Python 3 (ipykernel)",
   "language": "python",
   "name": "python3"
  },
  "language_info": {
   "codemirror_mode": {
    "name": "ipython",
    "version": 3
   },
   "file_extension": ".py",
   "mimetype": "text/x-python",
   "name": "python",
   "nbconvert_exporter": "python",
   "pygments_lexer": "ipython3",
   "version": "3.8.5"
  }
 },
 "nbformat": 4,
 "nbformat_minor": 5
}
