{
 "cells": [
  {
   "cell_type": "markdown",
   "id": "565d7a31-7f71-4557-8991-83ab611a3c9d",
   "metadata": {
    "tags": []
   },
   "source": [
    "# TL; DR:\n",
    "- least_squares() beats minimize() in speed and reproducibility\n",
    "- Trying to minimize futile cycles by penalizing all flux does not work well\n",
    "  - The optimizer does not always converge, particularly with minimize()\n",
    "  - When it does converge, the constraint introduces artifacts into the solution\n",
    "- An alternative approach to break futile cycles seems to work well\n",
    "\n",
    "Changes were needed to this notebook to reproduce its behavior before the branch 'futile' and revision 39da4196528af413112ecf304a2dea070d023180, implementing the very changes it suggests."
   ]
  },
  {
   "cell_type": "code",
   "execution_count": 1,
   "id": "ebb5d202-c2f5-4d65-84f5-6ceacd49def1",
   "metadata": {},
   "outputs": [],
   "source": [
    "import projectpath\n",
    "\n",
    "from typing import Union, Iterable\n",
    "\n",
    "import jax\n",
    "import jax.numpy as jnp\n",
    "import matplotlib.pyplot as plt\n",
    "import numpy as np\n",
    "import pandas as pd\n",
    "import scipy\n",
    "from scipy.sparse import csr_matrix\n",
    "\n",
    "from kb import kb\n",
    "from model.reaction_network import ReactionNetwork\n",
    "from model.core import KbEntry, Molecule, Reaction, Pathway\n",
    "from sim import fba_gd\n",
    "\n",
    "KB = kb.configure_kb()\n",
    "\n",
    "jax.config.update('jax_enable_x64', True)\n",
    "\n",
    "def labels(entries: Union[KbEntry, Iterable[KbEntry]]):\n",
    "    if isinstance(entries, KbEntry):\n",
    "        return entries.shorthand or entries.id\n",
    "    else:\n",
    "        return [entry.shorthand or entry.id for entry in entries]"
   ]
  },
  {
   "cell_type": "markdown",
   "id": "3f6ef473-3f07-4efa-b9a4-f86ced30b24b",
   "metadata": {},
   "source": [
    "# Setup: PTS + glycolysis + PPP; objectives from [R5P, E4P, PEP, acCoA]"
   ]
  },
  {
   "cell_type": "code",
   "execution_count": 2,
   "id": "c5941689-a9dd-4a55-9cc9-811a8db9b90f",
   "metadata": {},
   "outputs": [],
   "source": [
    "glycolysis = KB.find(KB.pathways, 'glycolysis')[0]\n",
    "ppp = KB.find(KB.pathways, 'pentose phosphate')[0]\n",
    "pts = KB.get(KB.reactions, 'pts.glc')\n",
    "\n",
    "r5p = KB.get(KB.compounds, 'Rib.D.5P')\n",
    "e4p = KB.get(KB.compounds, 'Ery.D.4P')\n",
    "pep = KB.get(KB.compounds, 'pep')\n",
    "pyr = KB.get(KB.compounds, 'pyr')\n",
    "acCoA = KB.get(KB.compounds, 'accoa')\n",
    "\n",
    "concs = {KB.get(KB.compounds, met_id): conc for met_id, conc in [\n",
    "    ('accoa', 0.61),\n",
    "    ('adp', 0.55),\n",
    "    ('amp', 0.28),\n",
    "    ('atp', 9.6),\n",
    "    ('co2', 0.01),\n",
    "    ('coa', 1.4),\n",
    "    ('h+', 1e-7),\n",
    "    ('h2o', 55500.),\n",
    "    ('nad.ox', 2.6),\n",
    "    ('nad.red', 0.083),\n",
    "    ('nadp.ox', 0.0021),\n",
    "    ('nadp.red', 0.12),\n",
    "    ('pep', 0.18),\n",
    "    ('pyr', 0.1),  # guess\n",
    "    ('pi', 10.),  # guess\n",
    "    ('Rib.D.5P', 0.8),  # guess\n",
    "    ('Ery.D.4P', 0.8),  # guess    \n",
    "    ('Glc.D.ext', 10.),  # arbitrary\n",
    "]}\n",
    "\n",
    "network = ReactionNetwork([pts] + glycolysis.steps + ppp.steps)\n",
    "boundaries = concs.keys()\n",
    "intermediates = [met for met in network.reactants() if met not in boundaries]"
   ]
  },
  {
   "cell_type": "markdown",
   "id": "f51d9f5a-5429-4850-8853-940e299c0654",
   "metadata": {},
   "source": [
    "# Existing Code"
   ]
  },
  {
   "cell_type": "markdown",
   "id": "7cf4f438-42ce-4925-8806-73732a83317c",
   "metadata": {},
   "source": [
    "## Straight glycolysis to acCoA"
   ]
  },
  {
   "cell_type": "code",
   "execution_count": 3,
   "id": "b222857e-751a-44e0-911b-1b0ff2c0585f",
   "metadata": {},
   "outputs": [
    {
     "name": "stderr",
     "output_type": "stream",
     "text": [
      "WARNING:absl:No GPU/TPU found, falling back to CPU. (Set TF_CPP_MIN_LOG_LEVEL=0 and rerun for more info.)\n"
     ]
    }
   ],
   "source": [
    "import time\n",
    "\n",
    "# Reconstructing existing code, before 39da4196528af413112ecf304a2dea070d023180\n",
    "def l_pt5(residual):\n",
    "    return jnp.sum(jnp.sqrt(jnp.abs(residual)))\n",
    "\n",
    "def l2(residual):\n",
    "    return jnp.sum(jnp.square(residual))\n",
    "\n",
    "class LegacyObjective(fba_gd.Objective):\n",
    "    def __init__(self, objective, aggfun=l2):\n",
    "        self.objective = objective\n",
    "        self.weight = objective.weight\n",
    "        self.aggfun = aggfun\n",
    "\n",
    "    def update_params(self, params):\n",
    "        self.objective.update_params(params)\n",
    "\n",
    "    def params(self):\n",
    "        return self.objective.params()\n",
    "\n",
    "    def residual(self, velocities, dmdt, params):\n",
    "        return self.objective.residual(velocities, dmdt, params)\n",
    "\n",
    "    def loss(self, velocities, dmdt, params):\n",
    "        return self.objective.weight * self.aggfun(self.objective.residual(velocities, dmdt, params))\n",
    "\n",
    "class LegacyFbaGd:\n",
    "    def __init__(self, network, intermediates, objectives, w_fitness=1e4, w_sparsity=1e-4):\n",
    "        self.network = network\n",
    "        self.objectives = {\n",
    "            'steady-state': LegacyObjective(fba_gd.SteadyStateObjective(network, intermediates, weight=w_fitness)),\n",
    "            'irreversibility': LegacyObjective(fba_gd.IrreversibilityObjective(network, weight=w_fitness)),\n",
    "            'sparsity': LegacyObjective(fba_gd.VelocityObjective(network, {r: 0 for r in network.reactions()}, weight=w_sparsity), aggfun=l_pt5),\n",
    "        }\n",
    "        self.objectives.update(objectives)\n",
    "\n",
    "        def loss(v, *params):\n",
    "            dmdt = self.network.s_matrix @ v\n",
    "            return sum(objective.loss(v, dmdt, p) for objective, p in zip(self.objectives.values(), params))\n",
    "\n",
    "        # Cache the jitted loss and jacobian functions\n",
    "        self._loss_jit = jax.jit(loss)\n",
    "        self._loss_jac = jax.jit(jax.jacfwd(loss))\n",
    "\n",
    "    def update_params(self, updates):\n",
    "        for name, params in updates.items():\n",
    "            self.objectives[name].update_params(params)\n",
    "\n",
    "    def solve(self, v0=None, seed=None, **kw_args):\n",
    "        if v0 is None:\n",
    "            if seed is None:\n",
    "                seed = jax.random.PRNGKey(int(time.time() * 1000))\n",
    "            v0 = jax.random.normal(seed, self.network.shape[1:])\n",
    "\n",
    "        params = tuple(objective.params() for objective in self.objectives.values())\n",
    "        soln = scipy.optimize.minimize(fun=self._loss_jit, args=params, x0=v0, jac=self._loss_jac, **kw_args)\n",
    "\n",
    "        dmdt = self.network.s_matrix @ soln.x\n",
    "        return fba_gd.FbaResult(v0=v0,\n",
    "                                velocities=soln.x,\n",
    "                                dmdt=dmdt,\n",
    "                                fit=sum(float(self.objectives[name].loss(soln.x, dmdt, None))\n",
    "                                        for name in ['steady-state', 'irreversibility']))\n",
    "\n",
    "fba = LegacyFbaGd(\n",
    "    network,\n",
    "    intermediates,\n",
    "    {\n",
    "        'drivers': LegacyObjective(fba_gd.ProductionObjective(network, {acCoA: 0.06, pep: 0., pyr:  0., r5p: 0., e4p: 0.})),\n",
    "    }\n",
    ")\n",
    "soln = fba.solve()"
   ]
  },
  {
   "cell_type": "code",
   "execution_count": 4,
   "id": "791d8407-1a88-4807-819e-4f56d0e2793c",
   "metadata": {},
   "outputs": [
    {
     "name": "stdout",
     "output_type": "stream",
     "text": [
      "   Glc.D.ext: -0.0006\n",
      "         PEP: -0.0027\n",
      "    Glc.D.6P: -0.0000\n",
      "         pyr: -0.0027\n",
      "    Fru.D.6P: -0.0000\n",
      "         ATP: -0.3915\n",
      "         ADP: -1.3298\n",
      " Fru.D.bis16:  0.0000\n",
      "          H+:  1.9745\n",
      "         H2O: -2.0035\n",
      "          Pi:  2.1207\n",
      "         GAP: -0.0000\n",
      "        DHAP:  0.0000\n",
      "         NAD: -0.1016\n",
      "         DPG:  0.0000\n",
      "        NADH:  0.1016\n",
      "         3PG: -0.0000\n",
      "         2PG:  0.0000\n",
      "         AMP:  1.7213\n",
      "         CoA: -0.0535\n",
      "       acCoA:  0.0535\n",
      "         CO2: -0.0638\n",
      "    Rib.D.5P: -0.0027\n",
      "    Rul.D.5P: -0.0000\n",
      "    Sed.D.7P: -0.0000\n",
      "    Xul.D.5P:  0.0000\n",
      "       6PGDL: -0.0000\n",
      "         6PG: -0.0000\n",
      "        NADP:  0.2345\n",
      "       NADPH: -0.2345\n",
      "    Ery.D.4P: -0.0024\n"
     ]
    }
   ],
   "source": [
    "for m, dmdt in network.reactant_values(soln.dmdt).items():\n",
    "    print(f'{labels(m):>12s}: {dmdt:7.4f}')"
   ]
  },
  {
   "cell_type": "code",
   "execution_count": 5,
   "id": "98896e90-cee0-4deb-9300-3b2a9acd21d2",
   "metadata": {},
   "outputs": [
    {
     "name": "stdout",
     "output_type": "stream",
     "text": [
      "    ('pts.glc',  0.0006),  # GlcPTS\n",
      "    ('pgi',  0.1179),  # PGI\n",
      "    ('pfk',  0.4898),  # PFK\n",
      "    ('fbp',  0.4475),  # FBP\n",
      "    ('fba',  0.0423),  # FBA\n",
      "    ('tpi', -0.0423),  # TPI\n",
      "    ('gapdh',  0.0481),  # GAPDH\n",
      "    ('pgk', -0.0481),  # PGK\n",
      "    ('gpm.indep', -0.0481),  # GPMM\n",
      "    ('eno',  0.0481),  # ENO\n",
      "    ('pyk', -1.7715),  # PYK\n",
      "    ('pps',  1.7213),  # PPS\n",
      "    ('pdh',  0.0535),  # PDH\n",
      "    ('r5pi',  0.0417),  # R5PI\n",
      "    ('tkt.c5c5',  0.0390),  # TKT1\n",
      "    ('rpe', -0.0756),  # RPE\n",
      "    ('pglase', -0.1173),  # PGLase\n",
      "    ('pgldh', -0.1173),  # PGLDH\n",
      "    ('tal', -0.0390),  # TALA\n",
      "    ('tkt.c5c4', -0.0366),  # TKT2\n",
      "    ('g6pdh', -0.1173),  # G6PDH\n"
     ]
    }
   ],
   "source": [
    "for r, v in network.reaction_values(soln.velocities).items():\n",
    "    print(f\"    ('{r.id}', {v:7.4f}),  # {r.shorthand or r.name}\")"
   ]
  },
  {
   "cell_type": "markdown",
   "id": "9c320e9e-9a98-400b-8886-90d25b49fff4",
   "metadata": {},
   "source": [
    "Not a compelling solution. What if we manufacture the known 'best' (or at least intended) solution?"
   ]
  },
  {
   "cell_type": "code",
   "execution_count": 6,
   "id": "b3ae4bca-2e9a-4067-a8e6-d77fd0db51ab",
   "metadata": {},
   "outputs": [
    {
     "name": "stdout",
     "output_type": "stream",
     "text": [
      "steady-state [0. 0. 0. 0. 0. 0. 0. 0. 0. 0. 0. 0. 0.]\n",
      "irreversibility [0. 0. 0. 0. 0.]\n",
      "sparsity [ 0.03  0.03  0.03  0.    0.03 -0.03  0.06 -0.06 -0.06  0.06 -0.03  0.\n",
      "  0.06  0.    0.    0.    0.    0.    0.    0.    0.  ]\n",
      "drivers [0. 0. 0. 0. 0.]\n"
     ]
    }
   ],
   "source": [
    "optimal = {KB.get(KB.reactions, rxn_id): v for rxn_id, v in [\n",
    "    ('pts.glc',  0.03),\n",
    "    ('pgi', 0.03),\n",
    "    ('pfk',  0.03),\n",
    "    ('fbp',  0.),\n",
    "    ('fba', 0.03),\n",
    "    ('tpi',  -0.03),\n",
    "    ('gapdh',  0.06),\n",
    "    ('pgk', -0.06),\n",
    "    ('gpm.indep', -0.06),\n",
    "    ('eno',  0.06),\n",
    "    ('pyk',  -0.03),\n",
    "    ('pps',  0.),\n",
    "    ('pdh',  0.06),\n",
    "    ('r5pi', 0.),\n",
    "    ('tkt.c5c5', 0.),\n",
    "    ('rpe',  0.),\n",
    "    ('pglase',  0.),\n",
    "    ('pgldh',  0.),\n",
    "    ('tal',  0.),\n",
    "    ('tkt.c5c4',  0.),\n",
    "    ('g6pdh',  0.),\n",
    "]}\n",
    "optimal_array = network.reaction_vector(optimal)\n",
    "dmdt = network.s_matrix @ optimal_array\n",
    "\n",
    "for key, obj in fba.objectives.items():\n",
    "    print(key, obj.residual(optimal_array, dmdt, obj.params()))"
   ]
  },
  {
   "cell_type": "code",
   "execution_count": 7,
   "id": "8f25e08e-5cef-416b-98a9-6e9c37d2845d",
   "metadata": {},
   "outputs": [
    {
     "data": {
      "text/plain": [
       "(21,)"
      ]
     },
     "execution_count": 7,
     "metadata": {},
     "output_type": "execute_result"
    }
   ],
   "source": [
    "optimal_array.shape"
   ]
  },
  {
   "cell_type": "code",
   "execution_count": 8,
   "id": "13daa732-9ac1-4824-b25f-ef27766ff80d",
   "metadata": {},
   "outputs": [
    {
     "name": "stdout",
     "output_type": "stream",
     "text": [
      "Warning: NaN result encountered.\n",
      "         Current function value: 0.000326\n",
      "         Iterations: 0\n",
      "         Function evaluations: 1\n",
      "         Gradient evaluations: 1\n",
      "[ 0.0301  0.03    0.03    0.      0.03   -0.03    0.06   -0.06   -0.06\n",
      "  0.06   -0.03    0.      0.06    0.      0.      0.      0.      0.\n",
      "  0.      0.      0.    ] [1.e-04 0.e+00 0.e+00 0.e+00 0.e+00 0.e+00 0.e+00 0.e+00 0.e+00 0.e+00\n",
      " 0.e+00 0.e+00 0.e+00 0.e+00 0.e+00 0.e+00 0.e+00 0.e+00 0.e+00 0.e+00\n",
      " 0.e+00]\n",
      "steady-state [1.e-04 0.e+00 0.e+00 0.e+00 0.e+00 0.e+00 0.e+00 0.e+00 0.e+00 0.e+00\n",
      " 0.e+00 0.e+00 0.e+00]\n",
      "irreversibility [0. 0. 0. 0. 0.]\n",
      "sparsity [ 0.0301  0.03    0.03    0.      0.03   -0.03    0.06   -0.06   -0.06\n",
      "  0.06   -0.03    0.      0.06    0.      0.      0.      0.      0.\n",
      "  0.      0.      0.    ]\n",
      "drivers [ 0.e+00 -1.e-04  1.e-04  0.e+00  0.e+00]\n"
     ]
    }
   ],
   "source": [
    "# jiggle = 0.00001 * jax.random.normal(jax.random.PRNGKey(0), optimal_array.shape)\n",
    "jiggle = np.array([[1e-4] + [0] * 20])\n",
    "soln = fba.solve(v0=optimal_array + jiggle, options={'disp': True})\n",
    "print(soln.velocities, soln.velocities - optimal_array)\n",
    "for key, obj in fba.objectives.items():\n",
    "    print(key, obj.residual(soln.velocities, soln.dmdt, obj.params()))"
   ]
  },
  {
   "cell_type": "markdown",
   "id": "cc71df38-d1b6-428e-92f5-fdd6e9da77c1",
   "metadata": {},
   "source": [
    "With minimize() and the above objective:\n",
    "- jiggle = 0 ==> Warning: NaN result encountered.\n",
    "- jiggle = _any_ non-zero, even very small ==> Warning: Desired error not necessarily achieved due to precision loss.\n",
    "\n",
    "**Not** working as intended"
   ]
  },
  {
   "cell_type": "markdown",
   "id": "f3f06a84-e9e2-4546-903c-af0269dc9825",
   "metadata": {},
   "source": [
    "## Try it in μM to give more breathing room on the bottom"
   ]
  },
  {
   "cell_type": "code",
   "execution_count": 9,
   "id": "b2659013-da17-4427-a27a-2055ad64763e",
   "metadata": {},
   "outputs": [
    {
     "name": "stdout",
     "output_type": "stream",
     "text": [
      "Warning: Desired error not necessarily achieved due to precision loss.\n",
      "         Current function value: 0.007160\n",
      "         Iterations: 4\n",
      "         Function evaluations: 64\n",
      "         Gradient evaluations: 56\n",
      "[ 2.99999999e+01  2.99999997e+01  3.00000004e+01 -9.96902408e-07\n",
      "  3.00000001e+01 -3.00000005e+01  5.99999997e+01 -6.00000001e+01\n",
      " -5.99999992e+01  6.00000002e+01 -2.99999988e+01  5.46444976e-07\n",
      "  6.00000014e+01  1.15028206e-08 -7.08899396e-08  3.56060595e-07\n",
      " -3.60925550e-07 -9.21740116e-07 -1.17474740e-06  4.19498256e-10\n",
      " -5.44813269e-07] [-7.45090674e-08 -2.64279787e-07  3.82863188e-07 -9.96902408e-07\n",
      "  1.47420430e-07 -4.88234676e-07 -2.81621091e-07 -8.97009329e-08\n",
      "  7.64537162e-07  1.72420776e-07  1.21294777e-06  5.46444976e-07\n",
      "  1.44711706e-06  1.15028206e-08 -7.08899396e-08  3.56060595e-07\n",
      " -3.60925550e-07 -9.21740116e-07 -1.17474740e-06  4.19498256e-10\n",
      " -5.44813269e-07]\n",
      "steady-state [ 7.34583989e-07 -2.81837329e-06  1.23234517e-06  2.16333304e-06\n",
      " -3.40814246e-07 -3.71322024e-07  8.54238095e-07 -9.36957939e-07\n",
      " -1.26629789e-06  1.24563734e-06  2.84751158e-07 -1.83887719e-07\n",
      "  5.60814566e-07]\n",
      "irreversibility [ 0.00000000e+00  0.00000000e+00 -9.96902408e-07  0.00000000e+00\n",
      "  0.00000000e+00]\n",
      "sparsity [ 2.99999999e+01  2.99999997e+01  3.00000004e+01 -9.96902408e-07\n",
      "  3.00000001e+01 -3.00000005e+01  5.99999997e+01 -6.00000001e+01\n",
      " -5.99999992e+01  6.00000002e+01 -2.99999988e+01  5.46444976e-07\n",
      "  6.00000014e+01  1.15028206e-08 -7.08899396e-08  3.56060595e-07\n",
      " -3.60925550e-07 -9.21740116e-07 -1.17474740e-06  4.19498256e-10\n",
      " -5.44813269e-07]\n",
      "drivers [ 1.44711706e-06  2.00632259e-06 -3.28101888e-06 -8.23927601e-08\n",
      " -1.17516690e-06]\n"
     ]
    }
   ],
   "source": [
    "fba.update_params({'drivers': {acCoA: 60.}})\n",
    "jiggle = 1e-6 * jax.random.normal(jax.random.PRNGKey(0), optimal_array.shape)\n",
    "soln = fba.solve(v0=optimal_array*1000 + jiggle, options={'disp': True})\n",
    "print(soln.velocities, soln.velocities - optimal_array*1000)\n",
    "for key, obj in fba.objectives.items():\n",
    "    print(key, obj.residual(soln.velocities, soln.dmdt, obj.params()))"
   ]
  },
  {
   "cell_type": "markdown",
   "id": "45915a77-e1d6-4f06-b83f-e500556867b3",
   "metadata": {},
   "source": [
    "Same result. Comforting, I guess..."
   ]
  },
  {
   "cell_type": "markdown",
   "id": "5eae355b-83ec-4bed-8978-60bb7ae5d107",
   "metadata": {},
   "source": [
    "## Still using scipy.optimize.minimize, but remove sparsity objective (which is on a very different scale)"
   ]
  },
  {
   "cell_type": "code",
   "execution_count": 10,
   "id": "88df84a9-d17a-47c2-ac35-af24b39dd89b",
   "metadata": {},
   "outputs": [
    {
     "name": "stdout",
     "output_type": "stream",
     "text": [
      "Optimization terminated successfully.\n",
      "         Current function value: 0.000000\n",
      "         Iterations: 23\n",
      "         Function evaluations: 38\n",
      "         Gradient evaluations: 38\n",
      "[ 3.00026975e-02  2.99830434e-02  3.00464705e-02  5.04443813e-05\n",
      "  2.99960263e-02 -2.99960262e-02  5.99985114e-02 -5.99985113e-02\n",
      " -5.99985114e-02  5.99985115e-02 -3.00189503e-02  2.26691742e-05\n",
      "  5.99994887e-02 -6.67123994e-06 -6.52433949e-06  1.29830516e-05\n",
      "  1.96541908e-05  1.96541841e-05  6.52421810e-06  6.45862714e-06\n",
      "  1.96541254e-05] [ 2.69752801e-06 -1.69566249e-05  4.64705044e-05  5.04443813e-05\n",
      " -3.97374100e-06  3.97380921e-06 -1.48856967e-06  1.48871002e-06\n",
      "  1.48860756e-06 -1.48854250e-06 -1.89503477e-05  2.26691742e-05\n",
      " -5.11283013e-07 -6.67123994e-06 -6.52433949e-06  1.29830516e-05\n",
      "  1.96541908e-05  1.96541841e-05  6.52421810e-06  6.45862714e-06\n",
      "  1.96541254e-05]\n",
      "             pts.glc:  0.03000\n",
      "                 pgi:  0.02998\n",
      "                 pfk:  0.03005\n",
      "                 fbp:  0.00005\n",
      "                 fba:  0.03000\n",
      "                 tpi: -0.03000\n",
      "               gapdh:  0.06000\n",
      "                 pgk: -0.06000\n",
      "           gpm.indep: -0.06000\n",
      "                 eno:  0.06000\n",
      "                 pyk: -0.03002\n",
      "                 pps:  0.00002\n",
      "                 pdh:  0.06000\n",
      "                r5pi: -0.00001\n",
      "            tkt.c5c5: -0.00001\n",
      "                 rpe:  0.00001\n",
      "              pglase:  0.00002\n",
      "               pgldh:  0.00002\n",
      "                 tal:  0.00001\n",
      "            tkt.c5c4:  0.00001\n",
      "               g6pdh:  0.00002\n"
     ]
    }
   ],
   "source": [
    "fba = LegacyFbaGd(\n",
    "    network,\n",
    "    intermediates,\n",
    "    {'drivers': LegacyObjective(fba_gd.ProductionObjective(network, {acCoA: 0.06, pep: 0., pyr:  0., r5p: 0., e4p: 0.})),},\n",
    "    w_sparsity=0.,\n",
    ")\n",
    "jiggle = 1e-4 * jax.random.normal(jax.random.PRNGKey(0), optimal_array.shape)\n",
    "soln = fba.solve(v0=optimal_array + jiggle, options={'disp': True})\n",
    "print(soln.velocities, soln.velocities - optimal_array)\n",
    "for r, v in network.reaction_values(soln.velocities).items():\n",
    "    print(f\"{r.id:>20}: {v:8.5f}\")"
   ]
  },
  {
   "cell_type": "markdown",
   "id": "b182a1fa-6f7f-4986-a784-d07d5a792bfe",
   "metadata": {},
   "source": [
    "### Manually break futile cycles"
   ]
  },
  {
   "cell_type": "code",
   "execution_count": 11,
   "id": "cc0185c9-4d36-40d3-bdc1-ee5ea9123216",
   "metadata": {},
   "outputs": [
    {
     "name": "stdout",
     "output_type": "stream",
     "text": [
      "Optimization terminated successfully.\n",
      "         Current function value: 0.000000\n",
      "         Iterations: 53\n",
      "         Function evaluations: 91\n",
      "         Gradient evaluations: 91\n",
      "[ 3.02870793e-02  2.85644768e-02  2.97129603e-02  7.91398382e-08\n",
      "  2.97128813e-02 -2.97128812e-02  5.99999663e-02 -5.99999662e-02\n",
      " -5.99999661e-02  5.99999664e-02 -2.97129058e-02  8.53532326e-09\n",
      "  5.99999886e-02 -5.74198205e-04 -5.74201157e-04  1.14840458e-03\n",
      "  1.72260263e-03  1.72260280e-03  5.74200934e-04  5.74203430e-04\n",
      "  1.72260263e-03]\n",
      "1.4012570535181616e-05\n",
      "             pts.glc:  0.03029\n",
      "                 pgi:  0.02856\n",
      "                 pfk:  0.02971\n",
      "                 fbp:  0.00000\n",
      "                 fba:  0.02971\n",
      "                 tpi: -0.02971\n",
      "               gapdh:  0.06000\n",
      "                 pgk: -0.06000\n",
      "           gpm.indep: -0.06000\n",
      "                 eno:  0.06000\n",
      "                 pyk: -0.02971\n",
      "                 pps:  0.00000\n",
      "                 pdh:  0.06000\n",
      "                r5pi: -0.00057\n",
      "            tkt.c5c5: -0.00057\n",
      "                 rpe:  0.00115\n",
      "              pglase:  0.00172\n",
      "               pgldh:  0.00172\n",
      "                 tal:  0.00057\n",
      "            tkt.c5c4:  0.00057\n",
      "               g6pdh:  0.00172\n"
     ]
    }
   ],
   "source": [
    "fba = LegacyFbaGd(\n",
    "    network,\n",
    "    intermediates,\n",
    "    {\n",
    "        'drivers': LegacyObjective(fba_gd.ProductionObjective(network, {acCoA: 0.06, pep: 0., pyr:  0., r5p: 0., e4p: 0.}, weight=100.)),\n",
    "        'non-futility': LegacyObjective(fba_gd.VelocityObjective(network, {\n",
    "            KB.get(KB.reactions, 'fbp'): 0.,\n",
    "            KB.get(KB.reactions, 'pps'): 0.,\n",
    "        })),\n",
    "    },\n",
    "    w_sparsity=0.,\n",
    ")\n",
    "jiggle = 1e-2 * jax.random.normal(jax.random.PRNGKey(0), optimal_array.shape)\n",
    "soln = fba.solve(v0=optimal_array + jiggle, options={'disp': True})\n",
    "print(soln.velocities)\n",
    "print(np.sum(np.square(soln.velocities - optimal_array)))\n",
    "for r, v in network.reaction_values(soln.velocities).items():\n",
    "    print(f\"{r.id:>20}: {v:8.5f}\")"
   ]
  },
  {
   "cell_type": "markdown",
   "id": "cd628266-d145-4693-963f-3f66f4fe1c76",
   "metadata": {},
   "source": [
    "At least it appears to consistently find a solution. Doesn't knock my socks off though.\n",
    "\n",
    "- Wait, this could be legitimate. We have set an objective for acCoA production, and that is being met exactly (PDH velocity = 0.06000). Some unexpected flux is going through PPP, spending a little extra G6P and getting some NADPH + CO2, but none of our objectives discourage that. If we force 1 G6P => 2 acCoA, or alternatively NADPH = 0, it could consistently find the same (optimal) solution."
   ]
  },
  {
   "cell_type": "code",
   "execution_count": 12,
   "id": "26ec8aab-b28b-4ee9-bef4-1d7f4d6070ac",
   "metadata": {},
   "outputs": [
    {
     "name": "stdout",
     "output_type": "stream",
     "text": [
      "Optimization terminated successfully.\n",
      "         Current function value: 0.000000\n",
      "         Iterations: 94\n",
      "         Function evaluations: 194\n",
      "         Gradient evaluations: 194\n",
      "1.6971035294198116e-13\n",
      "\n",
      "             pts.glc:  0.03000\n",
      "                 pgi:  0.03000\n",
      "                 pfk:  0.03000\n",
      "                 fbp:  0.00000\n",
      "                 fba:  0.03000\n",
      "                 tpi: -0.03000\n",
      "               gapdh:  0.06000\n",
      "                 pgk: -0.06000\n",
      "           gpm.indep: -0.06000\n",
      "                 eno:  0.06000\n",
      "                 pyk: -0.03000\n",
      "                 pps:  0.00000\n",
      "                 pdh:  0.06000\n",
      "                r5pi:  0.00000\n",
      "            tkt.c5c5:  0.00000\n",
      "                 rpe: -0.00000\n",
      "              pglase: -0.00000\n",
      "               pgldh: -0.00000\n",
      "                 tal: -0.00000\n",
      "            tkt.c5c4: -0.00000\n",
      "               g6pdh: -0.00000\n"
     ]
    }
   ],
   "source": [
    "fba = LegacyFbaGd(\n",
    "    network,\n",
    "    intermediates,\n",
    "    {\n",
    "        'drivers': LegacyObjective(\n",
    "            fba_gd.ProductionObjective(network, {acCoA: 0.06, pep: 0., pyr:  0., r5p: 0., e4p: 0., KB.get(KB.compounds, 'Glc.D.ext'): -0.03})),\n",
    "        'non-futility': LegacyObjective(fba_gd.VelocityObjective(network, {\n",
    "            KB.get(KB.reactions, 'fbp'): 0.,\n",
    "            KB.get(KB.reactions, 'pps'): 0.,\n",
    "        })),\n",
    "    },\n",
    "    w_sparsity=0.,\n",
    ")\n",
    "jiggle = 1e-1 * jax.random.normal(jax.random.PRNGKey(0), optimal_array.shape)\n",
    "soln = fba.solve(v0=optimal_array + jiggle, options={'disp': True})\n",
    "print(np.sum(np.square(soln.velocities - optimal_array)))\n",
    "print()\n",
    "for r, v in network.reaction_values(soln.velocities).items():\n",
    "    print(f\"{r.id:>20}: {v:8.5f}\")"
   ]
  },
  {
   "cell_type": "markdown",
   "id": "259ba840-d17e-4880-a928-1f0626a06afd",
   "metadata": {},
   "source": [
    "Ok, that's viable"
   ]
  },
  {
   "cell_type": "markdown",
   "id": "327b96aa-b24f-4ae6-b7e6-9a5a78a2b4c3",
   "metadata": {},
   "source": [
    "## Using scipy.optimize.least_squares, with catenated residual vectors"
   ]
  },
  {
   "cell_type": "code",
   "execution_count": 13,
   "id": "bdb69e09-19d2-466c-8c7f-5acc61511ae2",
   "metadata": {},
   "outputs": [
    {
     "name": "stdout",
     "output_type": "stream",
     "text": [
      "`gtol` termination condition is satisfied.\n",
      "7.814925622663327e-30\n",
      "\n",
      "             pts.glc:  0.03000\n",
      "                 pgi:  0.03000\n",
      "                 pfk:  0.03000\n",
      "                 fbp: -0.00000\n",
      "                 fba:  0.03000\n",
      "                 tpi: -0.03000\n",
      "               gapdh:  0.06000\n",
      "                 pgk: -0.06000\n",
      "           gpm.indep: -0.06000\n",
      "                 eno:  0.06000\n",
      "                 pyk: -0.03000\n",
      "                 pps: -0.00000\n",
      "                 pdh:  0.06000\n",
      "                r5pi:  0.00000\n",
      "            tkt.c5c5: -0.00000\n",
      "                 rpe:  0.00000\n",
      "              pglase:  0.00000\n",
      "               pgldh:  0.00000\n",
      "                 tal:  0.00000\n",
      "            tkt.c5c4:  0.00000\n",
      "               g6pdh:  0.00000\n"
     ]
    }
   ],
   "source": [
    "objectives = {\n",
    "    'steady-state': fba_gd.SteadyStateObjective(network, intermediates, weight=1e4),\n",
    "    'irreversibility': fba_gd.IrreversibilityObjective(network, weight=1e4),\n",
    "    'drivers': fba_gd.ProductionObjective(network, {acCoA: 0.06, pep: 0., pyr:  0., r5p: 0., e4p: 0., KB.get(KB.compounds, 'Glc.D.ext'): -0.03}),\n",
    "    'non-futility': fba_gd.VelocityObjective(network, {KB.get(KB.reactions, 'fbp'): 0., KB.get(KB.reactions, 'pps'): 0.}),\n",
    "}\n",
    "\n",
    "def residual(v, *params):\n",
    "    dmdt = network.s_matrix @ v\n",
    "    return jnp.concatenate([objective.residual(v, dmdt, p) * np.sqrt(objective.weight)\n",
    "                            for objective, p in zip(objectives.values(), params)])\n",
    "\n",
    "# Cache the jitted loss and jacobian functions\n",
    "_loss_jit = jax.jit(residual)\n",
    "_loss_jac = jax.jit(jax.jacfwd(residual))\n",
    "\n",
    "jiggle = 1e-1 * jax.random.normal(jax.random.PRNGKey(0), optimal_array.shape)\n",
    "v0=optimal_array + jiggle\n",
    "\n",
    "params = tuple(objective.params() for objective in objectives.values())\n",
    "soln = scipy.optimize.least_squares(fun=_loss_jit, args=params, x0=v0, jac=_loss_jac)\n",
    "print(soln.message)\n",
    "\n",
    "dmdt = network.s_matrix @ soln.x\n",
    "fba_soln = fba_gd.FbaResult(v0=np.asarray(v0),\n",
    "                            velocities=np.asarray(soln.x),\n",
    "                            dmdt=np.asarray(dmdt),\n",
    "                            fit=sum(np.sum(np.square(objectives[name].loss(soln.x, dmdt, None))) for name in ['steady-state', 'irreversibility']))\n",
    "print(np.sum(np.square(fba_soln.velocities - optimal_array)))\n",
    "print()\n",
    "for r, v in network.reaction_values(fba_soln.velocities).items():\n",
    "    print(f\"{r.id:>20}: {v:8.5f}\")\n"
   ]
  },
  {
   "cell_type": "markdown",
   "id": "4e172193-8f29-409a-bca8-70f920c09fc8",
   "metadata": {},
   "source": [
    "# Methodical comparison over 100 trials"
   ]
  },
  {
   "cell_type": "code",
   "execution_count": 14,
   "id": "11517897-412d-4f54-953b-84c288f60f01",
   "metadata": {},
   "outputs": [],
   "source": [
    "v0 = jax.random.normal(jax.random.PRNGKey(0), (100, network.shape[1]))"
   ]
  },
  {
   "cell_type": "markdown",
   "id": "39b118e0-0a85-447b-b878-960a0b5a3a0d",
   "metadata": {},
   "source": [
    "### with scipy.optimize.minimize, improved as above"
   ]
  },
  {
   "cell_type": "code",
   "execution_count": 15,
   "id": "98fb5f67-bffd-4fa4-87be-e70d2033e811",
   "metadata": {},
   "outputs": [],
   "source": [
    "fba = LegacyFbaGd(\n",
    "    network,\n",
    "    intermediates,\n",
    "    {\n",
    "        'drivers': LegacyObjective(\n",
    "            fba_gd.ProductionObjective(network, {acCoA: 0.06, pep: 0., pyr:  0., r5p: 0., e4p: 0., KB.get(KB.compounds, 'Glc.D.ext'): -0.03})),\n",
    "        'non-futility': LegacyObjective(fba_gd.VelocityObjective(network, {KB.get(KB.reactions, 'fbp'): 0., KB.get(KB.reactions, 'pps'): 0.})),\n",
    "    },\n",
    "    w_sparsity=0.,\n",
    ")"
   ]
  },
  {
   "cell_type": "code",
   "execution_count": 16,
   "id": "fdf93499-53d6-40d4-877c-b125126472c4",
   "metadata": {},
   "outputs": [
    {
     "name": "stdout",
     "output_type": "stream",
     "text": [
      "CPU times: user 3.96 s, sys: 223 µs, total: 3.96 s\n",
      "Wall time: 3.95 s\n"
     ]
    }
   ],
   "source": [
    "%%time\n",
    "results_a = [fba.solve(v0=trial).velocities for trial in v0]"
   ]
  },
  {
   "cell_type": "markdown",
   "id": "85d65a6e-6180-4a66-9e86-bd7f15cfd06e",
   "metadata": {},
   "source": [
    "### same problem with scipy.optimize.least_squares"
   ]
  },
  {
   "cell_type": "code",
   "execution_count": 17,
   "id": "687137a4-8380-45f5-8c34-5e97ccc5f126",
   "metadata": {},
   "outputs": [],
   "source": [
    "objectives = {\n",
    "    'steady-state': fba_gd.SteadyStateObjective(network, intermediates, weight=1e4),\n",
    "    'irreversibility': fba_gd.IrreversibilityObjective(network, weight=1e4),\n",
    "    'drivers': fba_gd.ProductionObjective(network, {acCoA: 0.06, pep: 0., pyr:  0., r5p: 0., e4p: 0., KB.get(KB.compounds, 'Glc.D.ext'): -0.03}),\n",
    "    'non-futility': fba_gd.VelocityObjective(network, {KB.get(KB.reactions, 'fbp'): 0., KB.get(KB.reactions, 'pps'): 0.}),\n",
    "}\n",
    "\n",
    "def residual(v, *params):\n",
    "    dmdt = network.s_matrix @ v\n",
    "    return jnp.concatenate([objective.residual(v, dmdt, p) * np.sqrt(objective.weight)\n",
    "                            for objective, p in zip(objectives.values(), params)])\n",
    "\n",
    "_loss_jit = jax.jit(residual)\n",
    "_loss_jac = jax.jit(jax.jacfwd(residual))\n",
    "\n",
    "params = tuple(objective.params() for objective in objectives.values())"
   ]
  },
  {
   "cell_type": "code",
   "execution_count": 18,
   "id": "13bd7f07-75bf-410b-9692-c83046ddf61d",
   "metadata": {},
   "outputs": [
    {
     "name": "stdout",
     "output_type": "stream",
     "text": [
      "CPU times: user 519 ms, sys: 6.94 ms, total: 526 ms\n",
      "Wall time: 522 ms\n"
     ]
    }
   ],
   "source": [
    "%%time\n",
    "results_b = [scipy.optimize.least_squares(fun=_loss_jit, args=params, x0=trial, jac=_loss_jac).x for trial in v0]"
   ]
  },
  {
   "cell_type": "markdown",
   "id": "3decc892-1a99-4f3f-bbe3-783ba822f56b",
   "metadata": {},
   "source": [
    "So, conservatively ~8x faster"
   ]
  },
  {
   "cell_type": "code",
   "execution_count": 19,
   "id": "53188068-2ad4-4715-827e-67b2b3ae68e2",
   "metadata": {},
   "outputs": [
    {
     "data": {
      "text/plain": [
       "'GlcPTS -> PGI -> PFK -> FBA -> TPI -> GAPDH -> PGK -> GPMM -> ENO -> PYK -> PDH'"
      ]
     },
     "execution_count": 19,
     "metadata": {},
     "output_type": "execute_result"
    }
   ],
   "source": [
    "active = np.nonzero(optimal_array)\n",
    "active_labels = np.array(labels(network.reactions()))[active]\n",
    "' -> '.join(active_labels)"
   ]
  },
  {
   "cell_type": "code",
   "execution_count": 24,
   "id": "54ef573a-ecb7-40c6-9486-1768ad2fdc1e",
   "metadata": {},
   "outputs": [
    {
     "data": {
      "image/png": "[encoded data removed]",
      "text/plain": [
       "<Figure size 864x288 with 2 Axes>"
      ]
     },
     "metadata": {
      "needs_background": "light"
     },
     "output_type": "display_data"
    }
   ],
   "source": [
    "fig, ax = plt.subplots(1, 2, figsize=(12, 4), sharey='all')\n",
    "for result in results_a:\n",
    "    ax[0].plot(np.log(result[active] / optimal_array[active]), color='#00000010')\n",
    "for result in results_b:\n",
    "    ax[1].plot(np.log(result[active] / optimal_array[active]), color='#00000010')\n",
    "\n",
    "ax[0].set_ylabel('error')\n",
    "ax[0].set_xticks(range(len(active_labels)), active_labels, rotation=45)\n",
    "ax[1].set_xticks(range(len(active_labels)), active_labels, rotation=45)\n",
    "plt.show()"
   ]
  },
  {
   "cell_type": "markdown",
   "id": "79b6064d-ba58-42ac-b90c-26551a60ea1b",
   "metadata": {},
   "source": [
    "And waaay more consistent"
   ]
  },
  {
   "cell_type": "code",
   "execution_count": 25,
   "id": "97fe2255-08c6-466a-b98d-931a323de75f",
   "metadata": {},
   "outputs": [
    {
     "name": "stdout",
     "output_type": "stream",
     "text": [
      "minimize() rms error vs optimal: 4.12e-06\n",
      "least_squares() rms error vs optimal: 6.49e-15\n"
     ]
    }
   ],
   "source": [
    "rms_error_a = [np.sqrt(np.mean(np.square(result - optimal_array))) for result in results_a]\n",
    "print(f'minimize() rms error vs optimal: {np.mean(rms_error_a):.2e}')\n",
    "rms_error_b = [np.sqrt(np.mean(np.square(result - optimal_array))) for result in results_b]\n",
    "print(f'least_squares() rms error vs optimal: {np.mean(rms_error_b):.2e}')"
   ]
  },
  {
   "cell_type": "markdown",
   "id": "313e80a6-c09b-4abb-bd60-ccca715b7e36",
   "metadata": {},
   "source": [
    "### One more time, with previous sparsity objective but using least_squares"
   ]
  },
  {
   "cell_type": "code",
   "execution_count": 26,
   "id": "0fe962ff-e5fb-4bb9-a969-bbbd1f51d711",
   "metadata": {},
   "outputs": [],
   "source": [
    "objectives = {\n",
    "    'steady-state': LegacyObjective(fba_gd.SteadyStateObjective(network, intermediates, weight=1e4)),\n",
    "    'irreversibility': LegacyObjective(fba_gd.IrreversibilityObjective(network, weight=1e4)),\n",
    "    'drivers': LegacyObjective(\n",
    "        fba_gd.ProductionObjective(network, {acCoA: 0.06, pep: 0., pyr:  0., r5p: 0., e4p: 0., KB.get(KB.compounds, 'Glc.D.ext'): -0.03})),\n",
    "    # 'non-futility': fba_gd.VelocityObjective(network, {KB.get(KB.reactions, 'fbp'): 0., KB.get(KB.reactions, 'pps'): 0.}),\n",
    "    'sparsity': LegacyObjective(fba_gd.VelocityObjective(network, {rxn: 0.0 for rxn in network.reactions()}, weight=1e-4), aggfun=l_pt5)\n",
    "}\n",
    "\n",
    "def residual(v, *params):\n",
    "    dmdt = network.s_matrix @ v\n",
    "    return jnp.concatenate([objective.residual(v, dmdt, p) * np.sqrt(objective.weight)\n",
    "                            for objective, p in zip(objectives.values(), params)])\n",
    "\n",
    "_loss_jit = jax.jit(residual)\n",
    "_loss_jac = jax.jit(jax.jacfwd(residual))\n",
    "\n",
    "params = tuple(objective.params() for objective in objectives.values())"
   ]
  },
  {
   "cell_type": "code",
   "execution_count": 27,
   "id": "5ad58d4d-75e4-405c-a1cb-c52f08b08a72",
   "metadata": {},
   "outputs": [
    {
     "name": "stdout",
     "output_type": "stream",
     "text": [
      "CPU times: user 842 ms, sys: 151 µs, total: 842 ms\n",
      "Wall time: 837 ms\n"
     ]
    }
   ],
   "source": [
    "%%time\n",
    "results_c = [scipy.optimize.least_squares(fun=_loss_jit, args=params, x0=trial, jac=_loss_jac).x for trial in v0]"
   ]
  },
  {
   "cell_type": "code",
   "execution_count": 28,
   "id": "27fa06a8-f7a7-4129-a832-509070cca71c",
   "metadata": {},
   "outputs": [
    {
     "data": {
      "image/png": "[encoded data removed]",
      "text/plain": [
       "<Figure size 864x288 with 2 Axes>"
      ]
     },
     "metadata": {
      "needs_background": "light"
     },
     "output_type": "display_data"
    },
    {
     "name": "stdout",
     "output_type": "stream",
     "text": [
      "least_squares() with sparsity objective, rms error vs optimal: 3.61e-04\n"
     ]
    }
   ],
   "source": [
    "fig, ax = plt.subplots(1, 2, figsize=(12, 4), sharey='all')\n",
    "for result in results_b:\n",
    "    ax[0].plot(np.log(result[active] / optimal_array[active]), color='#00000010')\n",
    "for result in results_c:\n",
    "    ax[1].plot(np.log(result[active] / optimal_array[active]), color='#00000010')\n",
    "\n",
    "ax[0].set_ylabel('error')\n",
    "ax[0].set_xticks(range(len(active_labels)), active_labels, rotation=45)\n",
    "ax[1].set_xticks(range(len(active_labels)), active_labels, rotation=45)\n",
    "plt.show()\n",
    "\n",
    "rms_error_c = [np.sqrt(np.mean(np.square(result - optimal_array))) for result in results_c]\n",
    "print(f'least_squares() with sparsity objective, rms error vs optimal: {np.mean(rms_error_c):.2e}')"
   ]
  },
  {
   "cell_type": "markdown",
   "id": "71f0428b-f5f0-45cf-89de-a6d6691fe5c8",
   "metadata": {},
   "source": [
    "Unexpected: not just worse, but consistently incorrect, or at least not the intended optimal solution."
   ]
  },
  {
   "cell_type": "code",
   "execution_count": 29,
   "id": "1adfb962-ef41-4aa1-97f8-05917c6d4d2d",
   "metadata": {},
   "outputs": [
    {
     "name": "stdout",
     "output_type": "stream",
     "text": [
      "   Iteration     Total nfev        Cost      Cost reduction    Step norm     Optimality   \n",
      "       0              1         3.1521e+05                                    8.93e+04    \n",
      "       1              2         2.0837e+02      3.15e+05       4.86e+00       2.04e+03    \n",
      "       2              3         4.5913e-04      2.08e+02       2.92e-01       3.05e-02    \n",
      "       3              4         1.1662e-06      4.58e-04       3.78e-01       8.10e-13    \n",
      "`gtol` termination condition is satisfied.\n",
      "Function evaluations 4, initial cost 3.1521e+05, final cost 1.1662e-06, first-order optimality 8.10e-13.\n",
      "Fit: 7.63471524900238e-13\n",
      "[1.0007293  0.97661217 0.99339939 0.99339949 0.99339954 0.99775893\n",
      " 0.99775897 0.99775902 0.99775907 0.99614976 0.99916981]\n"
     ]
    }
   ],
   "source": [
    "soln = scipy.optimize.least_squares(fun=_loss_jit, args=params, x0=v0[0], jac=_loss_jac, verbose=2)\n",
    "dmdt = network.s_matrix @ soln.x\n",
    "print(f\"Fit: {sum(float(objectives[name].loss(soln.x, dmdt, None)) for name in ['steady-state', 'irreversibility'])}\")\n",
    "print(soln.x[active] / optimal_array[active])"
   ]
  },
  {
   "cell_type": "code",
   "execution_count": 30,
   "id": "441718f5-5bbd-4473-8ff9-d49e523e0bbd",
   "metadata": {},
   "outputs": [
    {
     "data": {
      "image/png": "[encoded data removed]",
      "text/plain": [
       "<Figure size 864x288 with 1 Axes>"
      ]
     },
     "metadata": {
      "needs_background": "light"
     },
     "output_type": "display_data"
    }
   ],
   "source": [
    "fig, ax = plt.subplots(figsize=(12, 4))\n",
    "ax.plot(np.abs(optimal_array), label='expected')\n",
    "ax.plot(np.abs(soln.x), label='found')\n",
    "ax.set_xticks(range(network.shape[1]), labels(network.reactions()), rotation=45)\n",
    "plt.show()\n"
   ]
  },
  {
   "cell_type": "markdown",
   "id": "e55359fe-93b1-483e-957f-06aed047f471",
   "metadata": {},
   "source": [
    "**Narrative**: \n",
    "- We disincentivize _all_ non-zero flux, with an L2 loss funciton.\n",
    "- The system can reduce flux through PGI by bypassing via PPP.\n",
    "- The beneift of reducing (squared) PGI flux compensates for the penalty of increased Glc consumption and/or reduced acCoA production.\n",
    "- This is an uninteded artifact of the method we use to minimize futile cycles. An alternative approach is better."
   ]
  },
  {
   "cell_type": "markdown",
   "id": "2c5fcb83-641a-44c8-b8ad-064404101ee0",
   "metadata": {},
   "source": [
    "### Build an objective explicitly to minimize flux in a futile cycle\n",
    "- Added benefit: optimality drives the residual to zero instead of minimizing a positive number"
   ]
  },
  {
   "cell_type": "code",
   "execution_count": 31,
   "id": "c4dd6c9f-5731-4ecc-b0b1-2df489ec77e9",
   "metadata": {},
   "outputs": [],
   "source": [
    "class ExclusionObjective(fba_gd.Objective):\n",
    "    \"\"\"Incentivizes mutually exclusive fluxes within a set of reactions.\"\"\"\n",
    "\n",
    "    def __init__(self, network, reactions, weight=1.0):\n",
    "        super().__init__(weight=weight)\n",
    "        self.network = network\n",
    "        self.indices = np.array([network.reaction_index(rxn) for rxn in reactions], dtype=np.int32)\n",
    "\n",
    "    def residual(self, velocities, dmdt, params=None):\n",
    "        return jnp.prod(velocities[self.indices], keepdims=True)\n"
   ]
  },
  {
   "cell_type": "code",
   "execution_count": 32,
   "id": "5d2faf24-d8bf-42e8-905d-ee1bf3472648",
   "metadata": {},
   "outputs": [],
   "source": [
    "objectives = {\n",
    "    'steady-state': LegacyObjective(fba_gd.SteadyStateObjective(network, intermediates, weight=1e4)),\n",
    "    'irreversibility': LegacyObjective(fba_gd.IrreversibilityObjective(network, weight=1e4)),\n",
    "    'drivers': LegacyObjective(\n",
    "        fba_gd.ProductionObjective(network, {acCoA: 0.06, pep: 0., pyr:  0., r5p: 0., e4p: 0., KB.get(KB.compounds, 'Glc.D.ext'): -0.03})),\n",
    "    'non-futility-fbp': LegacyObjective(ExclusionObjective(network, [KB.get(KB.reactions, 'fbp'), KB.get(KB.reactions, 'pfk')])),\n",
    "    'non-futility-pps': LegacyObjective(ExclusionObjective(network, [KB.get(KB.reactions, 'pps'), KB.get(KB.reactions, 'pyk')])),\n",
    "}\n",
    "\n",
    "def residual(v, *params):\n",
    "    dmdt = network.s_matrix @ v\n",
    "    return jnp.concatenate([objective.residual(v, dmdt, p) * np.sqrt(objective.weight)\n",
    "                            for objective, p in zip(objectives.values(), params)])\n",
    "\n",
    "_loss_jit = jax.jit(residual)\n",
    "_loss_jac = jax.jit(jax.jacfwd(residual))\n",
    "\n",
    "params = tuple(objective.params() for objective in objectives.values())"
   ]
  },
  {
   "cell_type": "code",
   "execution_count": 33,
   "id": "1ad9e0ba-fb17-4382-88e3-763848608dbe",
   "metadata": {},
   "outputs": [
    {
     "name": "stdout",
     "output_type": "stream",
     "text": [
      "CPU times: user 759 ms, sys: 3.57 ms, total: 763 ms\n",
      "Wall time: 757 ms\n"
     ]
    }
   ],
   "source": [
    "%%time\n",
    "results_d = [scipy.optimize.least_squares(fun=_loss_jit, args=params, x0=trial, jac=_loss_jac).x for trial in v0]"
   ]
  },
  {
   "cell_type": "code",
   "execution_count": 34,
   "id": "be268fb2-4135-4f43-944b-85d2015b91af",
   "metadata": {},
   "outputs": [
    {
     "data": {
      "image/png": "[encoded data removed]",
      "text/plain": [
       "<Figure size 864x288 with 2 Axes>"
      ]
     },
     "metadata": {
      "needs_background": "light"
     },
     "output_type": "display_data"
    },
    {
     "name": "stdout",
     "output_type": "stream",
     "text": [
      "least_squares() with exclusion objective, rms error vs optimal: 3.45e-07\n"
     ]
    }
   ],
   "source": [
    "fig, ax = plt.subplots(1, 2, figsize=(12, 4), sharey='all')\n",
    "for result in results_b:\n",
    "    ax[0].plot(np.log(result[active] / optimal_array[active]), color='#00000010')\n",
    "for result in results_d:\n",
    "    ax[1].plot(np.log(result[active] / optimal_array[active]), color='#00000010')\n",
    "\n",
    "ax[0].set_ylabel('error')\n",
    "ax[0].set_xticks(range(len(active_labels)), active_labels, rotation=45)\n",
    "ax[1].set_xticks(range(len(active_labels)), active_labels, rotation=45)\n",
    "plt.show()\n",
    "\n",
    "rms_error_d = [np.sqrt(np.mean(np.square(result - optimal_array))) for result in results_d]\n",
    "print(f'least_squares() with exclusion objective, rms error vs optimal: {np.mean(rms_error_d):.2e}')"
   ]
  },
  {
   "cell_type": "markdown",
   "id": "b6705026-2c34-4021-9f5d-fba4cdc03174",
   "metadata": {},
   "source": [
    "- Better than sparsity, not as good as a pure zero velocity objective. \n",
    "- It does at least specifically target futile cycles."
   ]
  },
  {
   "cell_type": "code",
   "execution_count": 35,
   "id": "2b122c7b-6089-4c6e-a827-8aec0266623f",
   "metadata": {},
   "outputs": [
    {
     "name": "stdout",
     "output_type": "stream",
     "text": [
      "   Iteration     Total nfev        Cost      Cost reduction    Step norm     Optimality   \n",
      "       0              1         3.1521e+05                                    8.93e+04    \n",
      "       1              2         9.6807e+00      3.15e+05       4.86e+00       4.95e+02    \n",
      "       2              3         4.8306e-04      9.68e+00       1.95e-01       3.00e-02    \n",
      "       3              4         2.0721e-06      4.81e-04       3.96e-01       1.27e-04    \n",
      "       4              5         1.0501e-07      1.97e-06       3.03e-02       1.89e-05    \n",
      "       5              6         2.9523e-09      1.02e-07       1.24e-02       2.49e-06    \n",
      "       6              7         1.1959e-11      2.94e-09       3.13e-03       1.48e-07    \n",
      "       7              8         3.3824e-16      1.20e-11       2.28e-04       7.80e-10    \n",
      "`gtol` termination condition is satisfied.\n",
      "Function evaluations 8, initial cost 3.1521e+05, final cost 3.3824e-16, first-order optimality 7.80e-10.\n",
      "Fit: 1.5979970157297492e-31\n",
      "[ 0.00000000e+00 -1.04083409e-17 -3.46944695e-18 -1.80290643e-20\n",
      " -3.46944695e-18  3.46944695e-18  0.00000000e+00  0.00000000e+00\n",
      "  0.00000000e+00  0.00000000e+00 -8.66950519e-07  8.66950519e-07\n",
      "  0.00000000e+00 -2.53502458e-18 -2.81336791e-18  5.92422160e-18\n",
      "  8.43427542e-18  8.45086437e-18  2.77986003e-18  3.11165534e-18\n",
      "  8.42322952e-18]\n"
     ]
    },
    {
     "data": {
      "image/png": "[encoded data removed]",
      "text/plain": [
       "<Figure size 864x288 with 1 Axes>"
      ]
     },
     "metadata": {
      "needs_background": "light"
     },
     "output_type": "display_data"
    }
   ],
   "source": [
    "soln = scipy.optimize.least_squares(fun=_loss_jit, args=params, x0=v0[0], jac=_loss_jac, verbose=2)\n",
    "dmdt = network.s_matrix @ soln.x\n",
    "print(f\"Fit: {sum(float(objectives[name].loss(soln.x, dmdt, None)) for name in ['steady-state', 'irreversibility'])}\")\n",
    "print(soln.x - optimal_array)\n",
    "\n",
    "fig, ax = plt.subplots(figsize=(12, 4))\n",
    "ax.plot(np.abs(optimal_array), label='expected')\n",
    "ax.plot(np.abs(soln.x), label='found')\n",
    "ax.set_xticks(range(network.shape[1]), labels(network.reactions()), rotation=45)\n",
    "plt.show()\n"
   ]
  },
  {
   "cell_type": "markdown",
   "id": "6ae219de-c3c6-4ec8-960e-eca0c4ba9414",
   "metadata": {},
   "source": [
    "**Conclusion**\n",
    "- The graph two cells above highlights the difference between the exclusion objective and blocking FBP and PPS directly. But that difference is actually quite small, < ~0.03%\n",
    "- The exclusion objective is flexible with respect to overall direction, where blocking specific fluxes would need to know which direction is expected.\n",
    "- The tradeoff could be well worth it."
   ]
  },
  {
   "cell_type": "code",
   "execution_count": null,
   "id": "ffb9f138-6d0e-48af-a209-415bcfe8e362",
   "metadata": {},
   "outputs": [],
   "source": []
  }
 ],
 "metadata": {
  "kernelspec": {
   "display_name": "Python 3 (ipykernel)",
   "language": "python",
   "name": "python3"
  },
  "language_info": {
   "codemirror_mode": {
    "name": "ipython",
    "version": 3
   },
   "file_extension": ".py",
   "mimetype": "text/x-python",
   "name": "python",
   "nbconvert_exporter": "python",
   "pygments_lexer": "ipython3",
   "version": "3.8.5"
  }
 },
 "nbformat": 4,
 "nbformat_minor": 5
}
