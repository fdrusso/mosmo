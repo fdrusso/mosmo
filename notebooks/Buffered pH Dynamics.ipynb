{
 "cells": [
  {
   "cell_type": "markdown",
   "id": "69306ce9-6b84-4f5a-b4f5-2cb6cb7f217e",
   "metadata": {},
   "source": [
    "# Buffered pH Dynamics\n",
    "\n",
    "Using checked-in code. Ref: Glaser _et al_ (2014) https://doi.org/10.1021/ed400808c"
   ]
  },
  {
   "cell_type": "code",
   "execution_count": null,
   "id": "7a93eeb7-cd7a-4c3c-8112-c5e242b67f81",
   "metadata": {},
   "outputs": [],
   "source": [
    "import projectpath\n",
    "\n",
    "import jax\n",
    "import jax.numpy as jnp\n",
    "import matplotlib.pyplot as plt\n",
    "import numpy as np\n",
    "import pandas as pd\n",
    "import scipy.integrate\n",
    "import scipy.optimize\n",
    "\n",
    "from kb import kb\n",
    "from model.core import KbEntry, Molecule\n",
    "from sim.ph_dynamics import PROTON, AcidSet, PhBuffer\n",
    "\n",
    "jax.config.update('jax_enable_x64', True)\n",
    "KB = kb.configure_kb()"
   ]
  },
  {
   "cell_type": "markdown",
   "id": "51a7cfea-8101-4474-91b0-2430a019328d",
   "metadata": {},
   "source": [
    "## From Glaser _et al_, malic acid equilibrium in water"
   ]
  },
  {
   "cell_type": "code",
   "execution_count": null,
   "id": "b16c0878-fd28-48e3-aae2-b4e75f56ae35",
   "metadata": {},
   "outputs": [],
   "source": [
    "malate = AcidSet.for_acid('L-mal', 0, [3.46, 5.10])\n",
    "buffer = PhBuffer([malate])\n",
    "%time equilibrium = buffer.equilibrium(concs={('L-mal(+0)', 0): 0.1})\n",
    "print(pd.Series(equilibrium))\n",
    "print(f'Final pH: {-np.log10(equilibrium[PROTON]):.2f}')"
   ]
  },
  {
   "cell_type": "markdown",
   "id": "395c480b-d702-4e29-ada1-2d1c75286c17",
   "metadata": {},
   "source": [
    "### Titrate the mixture to the pKa of the less acidic site"
   ]
  },
  {
   "cell_type": "code",
   "execution_count": null,
   "id": "95745c5e-6fbf-4cd8-bd68-dedd9db01e11",
   "metadata": {},
   "outputs": [],
   "source": [
    "%time equilibrium = buffer.titrate(concs={('L-mal(+0)', 0): 0.1}, pH=malate.p_kas[-1])\n",
    "print(pd.Series(equilibrium))\n",
    "print(f'Final pH: {-np.log10(equilibrium[PROTON]):.2f}')"
   ]
  },
  {
   "cell_type": "markdown",
   "id": "7df9cb1e-6fa7-4e32-81c4-118b5c3d723c",
   "metadata": {},
   "source": [
    "## Reproduce Glaser _et al_ Figure 4: pH as a function of:\n",
    "- [L-mal(+0)]\n",
    "- [L-mal(-1)]\n",
    "- [L-mal(-1)] + 0.01 M [L-mal(+0)]"
   ]
  },
  {
   "cell_type": "code",
   "execution_count": null,
   "id": "230e6174-71d6-44ef-921d-b3ebb83fe504",
   "metadata": {},
   "outputs": [],
   "source": [
    "%%time\n",
    "conc_range = np.power(10, np.arange(-5, 0.5, 0.5))\n",
    "\n",
    "def equilibrium_pH(buffer, concs):\n",
    "    return -np.log10(buffer.equilibrium(concs)[PROTON])\n",
    "\n",
    "dilute_malic_acid_pH = [equilibrium_pH(buffer, {malate.species[0]: conc}) for conc in conc_range]\n",
    "dilute_malate_pH = [equilibrium_pH(buffer, {malate.species[1]: conc}) for conc in conc_range]\n",
    "malate_buffer_pH = [equilibrium_pH(buffer, {malate.species[0]: 0.01, malate.species[1]: conc}) for conc in conc_range]\n",
    "\n",
    "fig, ax = plt.subplots(1, 1, figsize=(6, 4.5))\n",
    "ax.plot(np.log10(conc_range), dilute_malate_pH, label='malate', marker='^', color='g')\n",
    "ax.plot(np.log10(conc_range), dilute_malic_acid_pH, label='malic acid', marker='D', color='b')\n",
    "ax.plot(np.log10(conc_range), malate_buffer_pH, label='malate/malic acid buffer', marker='s', color='r')\n",
    "ax.set_ylabel('pH')\n",
    "ax.set_xlabel('log10 concentration')\n",
    "plt.show()"
   ]
  },
  {
   "cell_type": "markdown",
   "id": "8992f089-e535-47a3-8126-345abcee7f73",
   "metadata": {},
   "source": [
    "## Protonation as a function of pH"
   ]
  },
  {
   "cell_type": "code",
   "execution_count": null,
   "id": "9bc7d799-0beb-4c81-a2a3-a1521b9c71d1",
   "metadata": {},
   "outputs": [],
   "source": [
    "pH_range = np.arange(1.0, 8.0, 0.1)\n",
    "\n",
    "%time species_by_pH = [buffer.titrate(concs={('L-mal(+0)', 0): 0.1}, pH=pH) for pH in pH_range]\n",
    "df = pd.DataFrame(species_by_pH, index=pH_range)\n",
    "\n",
    "protonation = [\n",
    "    df[malate.species[0]] / (df[malate.species[0]] + df[malate.species[1]]),\n",
    "    df[malate.species[1]] / (df[malate.species[1]] + df[malate.species[2]]),\n",
    "]\n",
    "\n",
    "fig, ax = plt.subplots(1, 1, figsize=(6, 4.5))\n",
    "ax.plot(pH_range, protonation[0] * 100, label=f'$pK_a$ = {malate.p_kas[0]:.2f}')\n",
    "ax.plot(pH_range, protonation[1] * 100, label=f'$pK_a$ = {malate.p_kas[1]:.2f}')\n",
    "ax.set_xlabel('pH')\n",
    "ax.set_ylabel('% Protonation')\n",
    "ax.legend()\n",
    "plt.show()"
   ]
  },
  {
   "cell_type": "markdown",
   "id": "91228716-7527-4864-afd0-c993d98aad44",
   "metadata": {},
   "source": [
    "## Protonated species dynamics over time"
   ]
  },
  {
   "cell_type": "code",
   "execution_count": null,
   "id": "1c242869-9245-4b41-9c1b-6a1390d8e5f3",
   "metadata": {},
   "outputs": [],
   "source": [
    "%time sim = buffer.simulate(concs={('L-mal(+0)', 0): 0.1}, pH=7.0, end=1e-6, step=1e-9)\n",
    "pd.DataFrame(\n",
    "    sim.y.T,\n",
    "    index=sim.t * 1e6,\n",
    "    columns=[mol[0] for mol in buffer.mols],\n",
    ").plot(\n",
    "    xlabel='t (μs)',\n",
    "    ylabel='Concentration',\n",
    "    logy=True,\n",
    ")\n",
    "plt.show()\n",
    "print(f'Final pH: {-np.log10(sim.y[0][-1]):.2f}')"
   ]
  }
 ],
 "metadata": {
  "kernelspec": {
   "display_name": "Python 3 (ipykernel)",
   "language": "python",
   "name": "python3"
  },
  "language_info": {
   "codemirror_mode": {
    "name": "ipython",
    "version": 3
   },
   "file_extension": ".py",
   "mimetype": "text/x-python",
   "name": "python",
   "nbconvert_exporter": "python",
   "pygments_lexer": "ipython3",
   "version": "3.8.5"
  }
 },
 "nbformat": 4,
 "nbformat_minor": 5
}
