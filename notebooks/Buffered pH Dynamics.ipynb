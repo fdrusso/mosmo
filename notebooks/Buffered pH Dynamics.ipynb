{
 "cells": [
  {
   "cell_type": "markdown",
   "id": "69306ce9-6b84-4f5a-b4f5-2cb6cb7f217e",
   "metadata": {},
   "source": [
    "# Buffered pH Dynamics\n",
    "\n",
    "Using checked-in code. Ref: Glaser _et al_ (2014) https://doi.org/10.1021/ed400808c"
   ]
  },
  {
   "cell_type": "code",
   "execution_count": 1,
   "id": "7a93eeb7-cd7a-4c3c-8112-c5e242b67f81",
   "metadata": {},
   "outputs": [],
   "source": [
    "import projectpath\n",
    "\n",
    "import jax\n",
    "import jax.numpy as jnp\n",
    "import matplotlib.pyplot as plt\n",
    "import numpy as np\n",
    "import pandas as pd\n",
    "import scipy.integrate\n",
    "import scipy.optimize\n",
    "\n",
    "from mosmo.knowledge import kb\n",
    "from mosmo.knowledge.thermo import Thermodynamics\n",
    "from mosmo.model import Molecule\n",
    "from mosmo.sim.ph_dynamics import PROTON, ProtonationSequence, PhBuffer\n",
    "\n",
    "jax.config.update('jax_enable_x64', True)\n",
    "KB = kb.configure_kb()\n",
    "thermo = Thermodynamics(p_h=7.3, p_mg=1.5, ionic_strength=0.25, temperature=298.15)"
   ]
  },
  {
   "cell_type": "markdown",
   "id": "51a7cfea-8101-4474-91b0-2430a019328d",
   "metadata": {},
   "source": [
    "## From Glaser _et al_, malic acid equilibrium in water"
   ]
  },
  {
   "cell_type": "code",
   "execution_count": 2,
   "id": "eae469d3-26dd-4d9a-8936-2da198208e2f",
   "metadata": {},
   "outputs": [
    {
     "name": "stdout",
     "output_type": "stream",
     "text": [
      "ProtonationSequence(species=[[15589] (S)-malate(2-), [mal.L.1-] (S)-malate(1-), [30797] (S)-malic acid], p_kas=[5.1, 3.46])\n",
      "ProtonationSequence(species=[[30031] succinate(2-), [30779] succinate(1-), [15741] succinic acid], p_kas=[5.69, 3.55])\n"
     ]
    }
   ],
   "source": [
    "malic = KB.get(KB.CHEBI, '30797')  # L-malate,  fully protonated\n",
    "malate_m2 = KB.get(KB.CHEBI, '15589')  # L-malate 2-\n",
    "\n",
    "# Not even ChEBI defines monoprotonated L-malate 1- (at either site). \n",
    "malate_m1 = Molecule(\n",
    "    _id='mal.L.1-',\n",
    "    name='(S)-malate(1-)',\n",
    "    formula='C4H5O5',\n",
    "    mass=133.08,\n",
    "    charge=-1,\n",
    ")\n",
    "\n",
    "# malates = ProtonationSequence([malate_m2, malate_m1, malic], thermo.pkas(malate_m2))\n",
    "malates = ProtonationSequence([malate_m2, malate_m1, malic], [5.10, 3.46])  # The values used in Glaser et al, not the same as eQuilibrator\n",
    "print(malates)\n",
    "\n",
    "# But ChEBI does define the full succinate series\n",
    "succinates = ProtonationSequence(\n",
    "    [KB.get(KB.CHEBI, '30031'), KB.get(KB.CHEBI, '30779'), KB.get(KB.CHEBI, '15741')],\n",
    "    thermo.pkas(KB.get(KB.CHEBI, '15741')))\n",
    "print(succinates)"
   ]
  },
  {
   "cell_type": "code",
   "execution_count": 3,
   "id": "b16c0878-fd28-48e3-aae2-b4e75f56ae35",
   "metadata": {},
   "outputs": [
    {
     "name": "stderr",
     "output_type": "stream",
     "text": [
      "WARNING:absl:No GPU/TPU found, falling back to CPU. (Set TF_CPP_MIN_LOG_LEVEL=0 and rerun for more info.)\n"
     ]
    },
    {
     "name": "stdout",
     "output_type": "stream",
     "text": [
      "CPU times: user 199 ms, sys: 11.5 ms, total: 210 ms\n",
      "Wall time: 205 ms\n",
      "[PROTON] proton              5.725546e-03\n",
      "[HYDROXYL] hydroxyl group    1.746558e-12\n",
      "[WATER] water                1.000000e+00\n",
      "[15589] (S)-malate(2-)       7.921303e-06\n",
      "[mal.L.1-] (S)-malate(1-)    5.709704e-03\n",
      "[30797] (S)-malic acid       9.428237e-02\n",
      "dtype: float64\n",
      "Final pH: 2.24\n"
     ]
    }
   ],
   "source": [
    "buffer = PhBuffer([malates])\n",
    "%time equilibrium = buffer.equilibrium(concs={malic: 0.1})\n",
    "print(pd.Series(equilibrium))\n",
    "print(f'Final pH: {-np.log10(equilibrium[PROTON]):.2f}')"
   ]
  },
  {
   "cell_type": "markdown",
   "id": "395c480b-d702-4e29-ada1-2d1c75286c17",
   "metadata": {},
   "source": [
    "### Titrate the mixture to the pKa of the less acidic site"
   ]
  },
  {
   "cell_type": "code",
   "execution_count": 4,
   "id": "95745c5e-6fbf-4cd8-bd68-dedd9db01e11",
   "metadata": {},
   "outputs": [
    {
     "name": "stdout",
     "output_type": "stream",
     "text": [
      "CPU times: user 303 ms, sys: 3.53 ms, total: 307 ms\n",
      "Wall time: 304 ms\n",
      "[PROTON] proton              7.943282e-06\n",
      "[HYDROXYL] hydroxyl group    1.258925e-09\n",
      "[WATER] water                1.000000e+00\n",
      "[15589] (S)-malate(2-)       4.943377e-02\n",
      "[mal.L.1-] (S)-malate(1-)    4.943377e-02\n",
      "[30797] (S)-malic acid       1.132462e-03\n",
      "dtype: float64\n",
      "Final pH: 5.10\n"
     ]
    }
   ],
   "source": [
    "%time equilibrium = buffer.titrate(concs={malic: 0.1}, pH=malates.p_kas[0])\n",
    "print(pd.Series(equilibrium))\n",
    "print(f'Final pH: {-np.log10(equilibrium[PROTON]):.2f}')"
   ]
  },
  {
   "cell_type": "markdown",
   "id": "7df9cb1e-6fa7-4e32-81c4-118b5c3d723c",
   "metadata": {},
   "source": [
    "## Reproduce Glaser _et al_ Figure 4: pH as a function of:\n",
    "- [L-mal(+0)]\n",
    "- [L-mal(-1)]\n",
    "- [L-mal(-1)] + 0.01 M [L-mal(+0)]"
   ]
  },
  {
   "cell_type": "code",
   "execution_count": 5,
   "id": "230e6174-71d6-44ef-921d-b3ebb83fe504",
   "metadata": {},
   "outputs": [
    {
     "data": {
      "image/png": "[encoded data removed]",
      "text/plain": [
       "<Figure size 432x324 with 1 Axes>"
      ]
     },
     "metadata": {
      "needs_background": "light"
     },
     "output_type": "display_data"
    },
    {
     "name": "stdout",
     "output_type": "stream",
     "text": [
      "CPU times: user 5.52 s, sys: 177 ms, total: 5.7 s\n",
      "Wall time: 5.46 s\n"
     ]
    }
   ],
   "source": [
    "%%time\n",
    "conc_range = np.power(10, np.arange(-5, 0.5, 0.5))\n",
    "\n",
    "def equilibrium_pH(buffer, concs):\n",
    "    return -np.log10(buffer.equilibrium(concs)[PROTON])\n",
    "\n",
    "dilute_malic_acid_pH = [equilibrium_pH(buffer, {malic: conc}) for conc in conc_range]\n",
    "dilute_malate_pH = [equilibrium_pH(buffer, {malate_m1: conc}) for conc in conc_range]\n",
    "malate_buffer_pH = [equilibrium_pH(buffer, {malic: 0.01, malate_m1: conc}) for conc in conc_range]\n",
    "\n",
    "fig, ax = plt.subplots(1, 1, figsize=(6, 4.5))\n",
    "ax.plot(np.log10(conc_range), dilute_malate_pH, label='malate', marker='^', color='g')\n",
    "ax.plot(np.log10(conc_range), dilute_malic_acid_pH, label='malic acid', marker='D', color='b')\n",
    "ax.plot(np.log10(conc_range), malate_buffer_pH, label='malate/malic acid buffer', marker='s', color='r')\n",
    "ax.set_ylabel('pH')\n",
    "ax.set_xlabel('log10 concentration')\n",
    "plt.show()"
   ]
  },
  {
   "cell_type": "markdown",
   "id": "8992f089-e535-47a3-8126-345abcee7f73",
   "metadata": {},
   "source": [
    "## Protonation as a function of pH"
   ]
  },
  {
   "cell_type": "code",
   "execution_count": null,
   "id": "9bc7d799-0beb-4c81-a2a3-a1521b9c71d1",
   "metadata": {},
   "outputs": [],
   "source": [
    "pH_range = np.arange(1.0, 8.0, 0.1)\n",
    "\n",
    "%time species_by_pH = [buffer.titrate(concs={malic: 0.1}, pH=pH) for pH in pH_range]\n",
    "df = pd.DataFrame(species_by_pH, index=pH_range)\n",
    "\n",
    "protonation = [\n",
    "    df[malates.species[1]] / (df[malates.species[0]] + df[malates.species[1]]),\n",
    "    df[malates.species[2]] / (df[malates.species[1]] + df[malates.species[2]]),\n",
    "]\n",
    "\n",
    "fig, ax = plt.subplots(1, 1, figsize=(6, 4.5))\n",
    "ax.plot(pH_range, protonation[0] * 100, label=f'$pK_a$ = {malates.p_kas[0]:.2f}')\n",
    "ax.plot(pH_range, protonation[1] * 100, label=f'$pK_a$ = {malates.p_kas[1]:.2f}')\n",
    "ax.set_xlabel('pH')\n",
    "ax.set_ylabel('% Protonation')\n",
    "ax.legend()\n",
    "plt.show()"
   ]
  },
  {
   "cell_type": "markdown",
   "id": "91228716-7527-4864-afd0-c993d98aad44",
   "metadata": {},
   "source": [
    "## Protonated species dynamics over time"
   ]
  },
  {
   "cell_type": "code",
   "execution_count": null,
   "id": "1c242869-9245-4b41-9c1b-6a1390d8e5f3",
   "metadata": {},
   "outputs": [],
   "source": [
    "%time sim = buffer.simulate(concs={malic: 0.1}, pH=7.0, end=1e-6, step=1e-9)\n",
    "pd.DataFrame(\n",
    "    sim.y.T,\n",
    "    index=sim.t * 1e6,\n",
    "    columns=[mol.name for mol in buffer.species],\n",
    ").plot(\n",
    "    xlabel='t (μs)',\n",
    "    ylabel='Concentration',\n",
    "    logy=True,\n",
    ")\n",
    "plt.show()\n",
    "print(f'Final pH: {-np.log10(sim.y[0][-1]):.2f}')"
   ]
  }
 ],
 "metadata": {
  "kernelspec": {
   "display_name": "Python 3 (ipykernel)",
   "language": "python",
   "name": "python3"
  },
  "language_info": {
   "codemirror_mode": {
    "name": "ipython",
    "version": 3
   },
   "file_extension": ".py",
   "mimetype": "text/x-python",
   "name": "python",
   "nbconvert_exporter": "python",
   "pygments_lexer": "ipython3",
   "version": "3.8.5"
  }
 },
 "nbformat": 4,
 "nbformat_minor": 5
}
