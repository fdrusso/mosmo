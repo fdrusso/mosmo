{
 "cells": [
  {
   "cell_type": "code",
   "execution_count": 1,
   "id": "f5785c11-e19b-4246-910a-a10fcb336535",
   "metadata": {
    "tags": []
   },
   "outputs": [
    {
     "name": "stderr",
     "output_type": "stream",
     "text": [
      "No GPU/TPU found, falling back to CPU. (Set TF_CPP_MIN_LOG_LEVEL=0 and rerun for more info.)\n"
     ]
    }
   ],
   "source": [
    "import projectpath\n",
    "\n",
    "from importlib import resources\n",
    "import time\n",
    "from typing import Any, Callable, Iterable, Mapping, Optional, Tuple, Union\n",
    "\n",
    "# import escher\n",
    "import ipywidgets as widgets\n",
    "import jax\n",
    "import jax.numpy as jnp\n",
    "# import bokeh.models\n",
    "# import bokeh.plotting as plt\n",
    "import numpy as np\n",
    "import pandas as pd\n",
    "# import panel as pn\n",
    "import scipy\n",
    "\n",
    "from mosmo.model import Molecule, Reaction, Pathway, ReactionNetwork\n",
    "from mosmo.knowledge import kb\n",
    "from mosmo.calc import fba_gd\n",
    "import mosmo.preso.escher.pw as pw_files\n",
    "\n",
    "ArrayT = Union[np.ndarray, jnp.ndarray]\n",
    "jax.config.update('jax_enable_x64', True)\n",
    "prng = jax.random.PRNGKey(int(time.time() * 1000))  # Gets the No GPU warning out of the way\n",
    "\n",
    "# plt.output_notebook()\n",
    "\n",
    "KB = kb.configure_kb()"
   ]
  },
  {
   "cell_type": "markdown",
   "id": "48b0fdff-6668-402c-8c61-8ab9987e5d91",
   "metadata": {
    "tags": []
   },
   "source": [
    "## Glycolysis, Pentose Phosphate, and Entner-Doudoroff"
   ]
  },
  {
   "cell_type": "code",
   "execution_count": 2,
   "id": "255934c0-8df7-4daf-821f-cc464b19a171",
   "metadata": {
    "tags": []
   },
   "outputs": [
    {
     "name": "stdout",
     "output_type": "stream",
     "text": [
      "Network has 31 reactants (17 intermediates + 14 boundaries) in 22 reactions\n"
     ]
    }
   ],
   "source": [
    "network = ReactionNetwork()\n",
    "for pw_name in ['glycolysis', 'pentose phosphate', 'entner-doudoroff']:\n",
    "    pws = KB.find(KB.pathways, pw_name)\n",
    "    if not pws:\n",
    "        raise ValueError(f'{pw_name} not found in {KB.pathways}')\n",
    "    if len(pws) > 1:\n",
    "        print(f'Multiple hits to \"{pw_name}\"')\n",
    "    for pw in pws:\n",
    "        for step in pw.steps:\n",
    "            network.add_reaction(step)\n",
    "\n",
    "# TODO: Decide is it reasonable to track intermediates as part of a pathway definition? Or is that always contextual?\n",
    "intermediates = [KB(met_id) for met_id in  (\n",
    "    'Fru.D.6P',\n",
    "    'Fru.D.bis16',\n",
    "    'dhap',\n",
    "    'gap',\n",
    "    'dpg',\n",
    "    '3pg',\n",
    "    '2pg',\n",
    "    'pep',\n",
    "    'pyr',\n",
    "    '6pgdl',\n",
    "    '6pg',\n",
    "    'Rib.D.5P',\n",
    "    'Rul.D.5P',\n",
    "    'Xul.D.5P',\n",
    "    'Sed.D.7P',\n",
    "    'Ery.D.4P',\n",
    "    'kdpg',\n",
    ")]\n",
    "boundaries = [met for met in network.reactants if met not in intermediates]\n",
    "\n",
    "print(f'Network has {network.shape[0]} reactants ({len(intermediates)} intermediates + {len(boundaries)} boundaries) in {network.shape[1]} reactions')\n"
   ]
  },
  {
   "cell_type": "code",
   "execution_count": 3,
   "id": "287a8621-f004-449b-abfe-3454d96ba40a",
   "metadata": {
    "tags": []
   },
   "outputs": [
    {
     "name": "stdout",
     "output_type": "stream",
     "text": [
      "8.45 ms ± 579 µs per loop (mean ± std. dev. of 7 runs, 100 loops each)\n"
     ]
    }
   ],
   "source": [
    "fba = fba_gd.FbaGd(network, intermediates, {\n",
    "    'carbon': fba_gd.ProductionObjective(network, {KB.get(KB.compounds, 'accoa'): 2}),\n",
    "    'redox': fba_gd.VelocityObjective(network, {KB.get(KB.reactions, 'pgldh'): 1, KB.get(KB.reactions, 'pgldhat'): 1}),\n",
    "}, w_fitness=1e6)\n",
    "fba.solve()  # Forces jit\n",
    "\n",
    "%timeit fba.solve()"
   ]
  },
  {
   "cell_type": "code",
   "execution_count": 4,
   "id": "e8df8f3b-f56c-4ffc-b8c2-1c921557a3c2",
   "metadata": {
    "tags": []
   },
   "outputs": [
    {
     "data": {
      "text/plain": [
       "FbaResult(v0=array([-1.21168806, -1.93155138,  0.76493161, -0.48785867, -1.12938319,\n",
       "       -1.03128852, -0.6617512 ,  0.50920547, -0.88039454, -0.52909024,\n",
       "       -0.39837618, -1.54922766, -1.4355266 , -0.09371368, -0.39145972,\n",
       "       -0.66105236, -1.82118187,  1.19629401, -0.6544781 , -0.19953856,\n",
       "       -0.88358456, -0.59103877]), velocities=array([-8.33333333e-01, -1.33226763e-15,  1.66666667e-01, -1.66666667e-01,\n",
       "        1.66666667e-01,  1.00000000e+00, -1.00000000e+00, -1.00000000e+00,\n",
       "        1.00000000e+00, -1.00000000e+00,  2.84494650e-16,  2.00000000e+00,\n",
       "       -3.33333333e-01, -3.33333333e-01,  6.66666667e-01,  2.00000000e+00,\n",
       "        1.00000000e+00,  3.33333333e-01,  3.33333333e-01,  2.00000000e+00,\n",
       "        1.00000000e+00,  1.00000000e+00]), dmdt=array([-1.16666667e+00,  2.22044605e-16,  2.00000000e+00, -2.00000000e+00,\n",
       "        9.43689571e-16,  4.00000000e+00, -1.66666667e-01, -8.33333333e-01,\n",
       "        6.66133815e-16,  2.77555756e-17, -3.00000000e+00,  2.88657986e-15,\n",
       "        3.00000000e+00,  2.10942375e-15, -3.33066907e-16,  1.88737914e-15,\n",
       "       -2.22044605e-16,  2.84494650e-16, -2.00000000e+00,  2.00000000e+00,\n",
       "        3.00000000e+00, -4.44089210e-16,  6.66133815e-16,  3.88578059e-16,\n",
       "        6.66133815e-16,  2.22044605e-15, -2.22044605e-16, -3.00000000e+00,\n",
       "        3.00000000e+00, -1.38777878e-15, -1.11022302e-15]), fit=2.903763095751523e-29)"
      ]
     },
     "execution_count": 4,
     "metadata": {},
     "output_type": "execute_result"
    }
   ],
   "source": [
    "fba.solve()"
   ]
  },
  {
   "cell_type": "markdown",
   "id": "37a2a686-d739-4d62-8a5f-9c477c87e348",
   "metadata": {},
   "source": [
    "## Interface stuff"
   ]
  },
  {
   "cell_type": "code",
   "execution_count": 5,
   "id": "86deeeb3-0484-42c3-8dd5-b55a91b4c163",
   "metadata": {
    "tags": []
   },
   "outputs": [],
   "source": [
    "pgi = KB('pgi')\n",
    "pgldh = KB('pgldh')\n",
    "pgldhat = KB('pgldhat')\n",
    "pfk = KB('pfk')\n",
    "fbp = KB('fbp')\n",
    "pyk = KB('pyk')\n",
    "pps = KB('pps')\n",
    "\n",
    "fba_kinetic = fba_gd.FbaGd(network, intermediates, {\n",
    "    'fluxes': fba_gd.VelocityObjective(network, {pgi: 2, pgldh: 0, pgldhat: 0}),\n",
    "    'futile1': fba_gd.ExclusionObjective(network, [pfk, fbp]),\n",
    "    'futile2': fba_gd.ExclusionObjective(network, [pyk, pps]),\n",
    "})\n",
    "fba_soln = fba_kinetic.solve()\n",
    "\n",
    "# diag = escher.Builder(\n",
    "#     width=600,\n",
    "#     height=600,\n",
    "#     map_json=resources.read_text(pw_files, 'glycolysis_ppp_ed.json'),\n",
    "#     # map_json=resources.read_text(files.pw, 'central_carbon.json'),\n",
    "#     menu='zoom',\n",
    "#     enable_editing=False,\n",
    "#     never_ask_before_quit=True,\n",
    "#     reaction_data={r: v for r, v in zip(network.reactions.labels(), fba_soln.velocities)},\n",
    "#     reaction_styles = ['abs', 'color', 'size',],\n",
    "#     reaction_scale = [\n",
    "#         {'type': 'value', 'value': 0, 'color': '#eeeeee', 'size': 3},\n",
    "#         {'type': 'value', 'value': 5, 'color': '#1f77b4', 'size': 20},\n",
    "#     ],\n",
    "# )\n",
    "\n",
    "# bflux_plot = plt.figure(\n",
    "#     title = 'Boundary Flux',\n",
    "#     width = 300,\n",
    "#     height = 200,\n",
    "#     tools=[],\n",
    "#     x_range=[boundary.label for boundary in boundaries],\n",
    "#     y_range=(-10, 10),\n",
    "# )\n",
    "# bflux_plot.xaxis.major_label_orientation = np.pi/4\n",
    "# bflux_data = bokeh.models.ColumnDataSource({'met': network.reactants.labels(), 'dmdt': fba_soln.dmdt})\n",
    "# bflux_view = bokeh.models.CDSView(\n",
    "#     source=bflux_data,\n",
    "#     filters=[bokeh.models.IndexFilter([network.reactants.index_of(b) for b in boundaries])]\n",
    "# )\n",
    "# bars = bflux_plot.vbar(\n",
    "#     source = bflux_data,\n",
    "#     view = bflux_view,\n",
    "#     x = 'met',\n",
    "#     top = 'dmdt',\n",
    "#     width=0.5,\n",
    "#     color='#1f77b4',\n",
    "# )\n",
    "\n",
    "# target_pgi = widgets.FloatSlider(\n",
    "#     value=2,\n",
    "#     min=0,\n",
    "#     max=5.0,\n",
    "#     step=0.1,\n",
    "#     description='Glycolysis',\n",
    "#     continuous_update=False,\n",
    "#     readout=True,\n",
    "#     readout_format='.1f',\n",
    "# )\n",
    "# target_pgldh = widgets.FloatSlider(\n",
    "#     value=0,\n",
    "#     min=0,\n",
    "#     max=5.0,\n",
    "#     step=0.1,\n",
    "#     description='PPP',\n",
    "#     continuous_update=False,\n",
    "#     readout=True,\n",
    "#     readout_format='.1f',\n",
    "# )\n",
    "# target_pgldhat = widgets.FloatSlider(\n",
    "#     value=0,\n",
    "#     min=0,\n",
    "#     max=5.0,\n",
    "#     step=0.1,\n",
    "#     description='ED',\n",
    "#     continuous_update=False,\n",
    "#     readout=True,\n",
    "#     readout_format='.1f',\n",
    "# )\n",
    "\n",
    "# def update_fba_kinetic(change):\n",
    "#     fba_kinetic.update_params({'fluxes': {pgi: target_pgi.value, pgldh: target_pgldh.value, pgldhat: target_pgldhat.value}})\n",
    "#     fba_soln = fba_kinetic.solve()\n",
    "#     diag.reaction_data = {r: v for r, v in zip(network.reactions.labels(), fba_soln.velocities)}\n",
    "#     bflux_data.data['dmdt'] = fba_soln.dmdt\n",
    "\n",
    "# target_pgi.observe(update_fba_kinetic, names='value')\n",
    "# target_pgldh.observe(update_fba_kinetic, names='value')\n",
    "# target_pgldhat.observe(update_fba_kinetic, names='value')\n",
    "\n",
    "# dashboard = widgets.HBox(\n",
    "#     [widgets.VBox([diag], layout = widgets.Layout(width='60%', height='100%')),\n",
    "#      widgets.VBox([\n",
    "#          target_pgi,\n",
    "#          target_pgldh,\n",
    "#          target_pgldhat,\n",
    "#          pn.ipywidget(bflux_plot)\n",
    "#      ], layout = widgets.Layout(width='40%', height='100%'))],\n",
    "#     layout = widgets.Layout(width='900px', height='600px', border='1px solid green')\n",
    "# )\n",
    "# dashboard"
   ]
  },
  {
   "cell_type": "code",
   "execution_count": 6,
   "id": "e9255be4-29a8-4e99-858e-bd8fd55968d4",
   "metadata": {
    "tags": []
   },
   "outputs": [],
   "source": [
    "acCoA = KB('accoa')\n",
    "atp = KB('atp')\n",
    "nadph = KB('nadp.red')\n",
    "\n",
    "pfk = KB('pfk')\n",
    "fbp = KB('fbp')\n",
    "pyk = KB('pyk')\n",
    "pps = KB('pps')\n",
    "\n",
    "fba_mets = fba_gd.FbaGd(network, intermediates, {\n",
    "    'mets': fba_gd.ProductionObjective(network, {acCoA: 2, atp: 3, nadph: 0}),\n",
    "    'futile1': fba_gd.ExclusionObjective(network, [pfk, fbp]),\n",
    "    'futile2': fba_gd.ExclusionObjective(network, [pyk, pps]),\n",
    "})\n",
    "fba_soln = fba_mets.solve()\n",
    "\n",
    "# diag = escher.Builder(\n",
    "#     width=600,\n",
    "#     height=600,\n",
    "#     map_json=resources.read_text(pw_files, 'glycolysis_ppp_ed.json'),\n",
    "#     # map_json=resources.read_text(files.pw, 'central_carbon.json'),\n",
    "#     menu='zoom',\n",
    "#     enable_editing=False,\n",
    "#     never_ask_before_quit=True,\n",
    "#     reaction_data={r: v for r, v in zip(network.reactions.labels(), fba_soln.velocities)},\n",
    "#     reaction_styles = ['abs', 'color', 'size',],\n",
    "#     reaction_scale = [\n",
    "#         {'type': 'value', 'value': 0, 'color': '#eeeeee', 'size': 3},\n",
    "#         {'type': 'value', 'value': 5, 'color': '#1f77b4', 'size': 20},\n",
    "#     ],\n",
    "# )\n",
    "\n",
    "# bflux_plot = plt.figure(\n",
    "#     title = 'Boundary Flux',\n",
    "#     width = 300,\n",
    "#     height = 200,\n",
    "#     tools=[],\n",
    "#     x_range=[boundary.label for boundary in boundaries],\n",
    "#     y_range=(-10, 10),\n",
    "# )\n",
    "# bflux_plot.xaxis.major_label_orientation = np.pi/4\n",
    "# bflux_data = bokeh.models.ColumnDataSource({'met': network.reactants.labels(), 'dmdt': fba_soln.dmdt})\n",
    "# bflux_view = bokeh.models.CDSView(\n",
    "#     source=bflux_data,\n",
    "#     filters=[bokeh.models.IndexFilter([network.reactants.index_of(b) for b in boundaries])]\n",
    "# )\n",
    "# bars = bflux_plot.vbar(\n",
    "#     source = bflux_data,\n",
    "#     view = bflux_view,\n",
    "#     x = 'met',\n",
    "#     top = 'dmdt',\n",
    "#     width=0.5,\n",
    "#     color='#1f77b4',\n",
    "# )\n",
    "\n",
    "# target_accoa = widgets.FloatSlider(\n",
    "#     value=2,\n",
    "#     min=0,\n",
    "#     max=5.0,\n",
    "#     step=0.1,\n",
    "#     description='acCoA',\n",
    "#     continuous_update=False,\n",
    "#     readout=True,\n",
    "#     readout_format='.1f',\n",
    "# )\n",
    "# target_atp = widgets.FloatSlider(\n",
    "#     value=3,\n",
    "#     min=0,\n",
    "#     max=5.0,\n",
    "#     step=0.1,\n",
    "#     description='ATP',\n",
    "#     continuous_update=False,\n",
    "#     readout=True,\n",
    "#     readout_format='.1f',\n",
    "# )\n",
    "# target_nadph = widgets.FloatSlider(\n",
    "#     value=0,\n",
    "#     min=0,\n",
    "#     max=5.0,\n",
    "#     step=0.1,\n",
    "#     description='NADPH',\n",
    "#     continuous_update=False,\n",
    "#     readout=True,\n",
    "#     readout_format='.1f',\n",
    "# )\n",
    "\n",
    "# def update_fba_mets(change):\n",
    "#     fba_mets.update_params({'mets': {acCoA: target_accoa.value, atp: target_atp.value, nadph: target_nadph.value}})\n",
    "#     fba_soln = fba_mets.solve()\n",
    "#     diag.reaction_data = {r: v for r, v in zip(network.reactions.labels(), fba_soln.velocities)}\n",
    "#     bflux_data.data['dmdt'] = fba_soln.dmdt\n",
    "\n",
    "# target_accoa.observe(update_fba_mets, names='value')\n",
    "# target_atp.observe(update_fba_mets, names='value')\n",
    "# target_nadph.observe(update_fba_mets, names='value')\n",
    "\n",
    "# dashboard = widgets.HBox(\n",
    "#     [widgets.VBox([diag], layout = widgets.Layout(width='60%', height='100%')),\n",
    "#      widgets.VBox([\n",
    "#          target_accoa,\n",
    "#          target_atp,\n",
    "#          target_nadph,\n",
    "#          pn.ipywidget(bflux_plot)\n",
    "#      ], layout = widgets.Layout(width='40%', height='100%'))],\n",
    "#     layout = widgets.Layout(width='900px', height='600px', border='1px solid green')\n",
    "# )\n",
    "# dashboard"
   ]
  },
  {
   "cell_type": "markdown",
   "id": "351840f9-46f0-448d-8821-805e718396cf",
   "metadata": {},
   "source": [
    "## Solution variability\n",
    "\n",
    "**NOTE** Before updates to FbaGd in revision [70baa3605369ec4035a9c87f8834e1a53a3ac678](https://github.com/fdrusso/msmtk/commit/70baa3605369ec4035a9c87f8834e1a53a3ac678) ('Revert to least_squares() instead of minimize()...'), this section showed modest but real variability between solutions from different v0 starting points. After that revision the variability is insignificiant."
   ]
  },
  {
   "cell_type": "code",
   "execution_count": 7,
   "id": "32a1d331-6b71-4ee5-acd5-7bcfaf6fa301",
   "metadata": {
    "tags": []
   },
   "outputs": [
    {
     "name": "stdout",
     "output_type": "stream",
     "text": [
      "CPU times: user 823 ms, sys: 5.23 ms, total: 828 ms\n",
      "Wall time: 822 ms\n"
     ]
    }
   ],
   "source": [
    "%%time\n",
    "results = [fba_kinetic.solve(v0=v0) for v0 in jax.random.uniform(prng, (100, network.shape[1]))]"
   ]
  },
  {
   "cell_type": "code",
   "execution_count": 8,
   "id": "ceba1123-b3b3-4c2e-ae94-d859e753f9fe",
   "metadata": {
    "tags": []
   },
   "outputs": [
    {
     "data": {
      "text/html": [
       "<div>\n",
       "<style scoped>\n",
       "    .dataframe tbody tr th:only-of-type {\n",
       "        vertical-align: middle;\n",
       "    }\n",
       "\n",
       "    .dataframe tbody tr th {\n",
       "        vertical-align: top;\n",
       "    }\n",
       "\n",
       "    .dataframe thead th {\n",
       "        text-align: right;\n",
       "    }\n",
       "</style>\n",
       "<table border=\"1\" class=\"dataframe\">\n",
       "  <thead>\n",
       "    <tr style=\"text-align: right;\">\n",
       "      <th></th>\n",
       "      <th>PGI</th>\n",
       "      <th>PFK</th>\n",
       "      <th>FBP</th>\n",
       "      <th>FBA</th>\n",
       "      <th>TPI</th>\n",
       "      <th>GAPDH</th>\n",
       "      <th>PGK</th>\n",
       "      <th>GPMM</th>\n",
       "      <th>ENO</th>\n",
       "      <th>PYK</th>\n",
       "      <th>...</th>\n",
       "      <th>R5PI</th>\n",
       "      <th>TKT1</th>\n",
       "      <th>RPE</th>\n",
       "      <th>PGLase</th>\n",
       "      <th>PGLDH</th>\n",
       "      <th>TALA</th>\n",
       "      <th>TKT2</th>\n",
       "      <th>G6PDH</th>\n",
       "      <th>KDPGA</th>\n",
       "      <th>PGLDhat</th>\n",
       "    </tr>\n",
       "  </thead>\n",
       "  <tbody>\n",
       "    <tr>\n",
       "      <th>0</th>\n",
       "      <td>2.0</td>\n",
       "      <td>2.0</td>\n",
       "      <td>2.165695e-24</td>\n",
       "      <td>2.0</td>\n",
       "      <td>-2.0</td>\n",
       "      <td>4.0</td>\n",
       "      <td>-4.0</td>\n",
       "      <td>-4.0</td>\n",
       "      <td>4.0</td>\n",
       "      <td>-4.0</td>\n",
       "      <td>...</td>\n",
       "      <td>8.355615e-25</td>\n",
       "      <td>-1.906393e-25</td>\n",
       "      <td>2.080876e-24</td>\n",
       "      <td>-3.541367e-24</td>\n",
       "      <td>-3.425045e-25</td>\n",
       "      <td>-5.751490e-25</td>\n",
       "      <td>2.740036e-24</td>\n",
       "      <td>1.085675e-24</td>\n",
       "      <td>2.662488e-24</td>\n",
       "      <td>-5.040632e-25</td>\n",
       "    </tr>\n",
       "    <tr>\n",
       "      <th>1</th>\n",
       "      <td>2.0</td>\n",
       "      <td>2.0</td>\n",
       "      <td>1.735360e-09</td>\n",
       "      <td>2.0</td>\n",
       "      <td>-2.0</td>\n",
       "      <td>4.0</td>\n",
       "      <td>-4.0</td>\n",
       "      <td>-4.0</td>\n",
       "      <td>4.0</td>\n",
       "      <td>-4.0</td>\n",
       "      <td>...</td>\n",
       "      <td>-5.865703e-20</td>\n",
       "      <td>8.131516e-20</td>\n",
       "      <td>-4.209754e-19</td>\n",
       "      <td>-2.871442e-19</td>\n",
       "      <td>-1.600892e-19</td>\n",
       "      <td>-3.570244e-19</td>\n",
       "      <td>-5.027141e-19</td>\n",
       "      <td>-2.973086e-19</td>\n",
       "      <td>-2.117582e-19</td>\n",
       "      <td>-1.541600e-19</td>\n",
       "    </tr>\n",
       "    <tr>\n",
       "      <th>2</th>\n",
       "      <td>2.0</td>\n",
       "      <td>2.0</td>\n",
       "      <td>3.932727e-17</td>\n",
       "      <td>2.0</td>\n",
       "      <td>-2.0</td>\n",
       "      <td>4.0</td>\n",
       "      <td>-4.0</td>\n",
       "      <td>-4.0</td>\n",
       "      <td>4.0</td>\n",
       "      <td>-4.0</td>\n",
       "      <td>...</td>\n",
       "      <td>-2.171349e-24</td>\n",
       "      <td>9.499652e-25</td>\n",
       "      <td>1.021051e-24</td>\n",
       "      <td>2.481542e-24</td>\n",
       "      <td>4.627042e-24</td>\n",
       "      <td>-5.764415e-24</td>\n",
       "      <td>-3.127777e-24</td>\n",
       "      <td>6.410650e-24</td>\n",
       "      <td>5.583469e-24</td>\n",
       "      <td>1.654361e-24</td>\n",
       "    </tr>\n",
       "    <tr>\n",
       "      <th>3</th>\n",
       "      <td>2.0</td>\n",
       "      <td>2.0</td>\n",
       "      <td>1.324309e-10</td>\n",
       "      <td>2.0</td>\n",
       "      <td>-2.0</td>\n",
       "      <td>4.0</td>\n",
       "      <td>-4.0</td>\n",
       "      <td>-4.0</td>\n",
       "      <td>4.0</td>\n",
       "      <td>-4.0</td>\n",
       "      <td>...</td>\n",
       "      <td>4.182225e-21</td>\n",
       "      <td>2.421985e-21</td>\n",
       "      <td>6.114519e-21</td>\n",
       "      <td>-5.293956e-21</td>\n",
       "      <td>-6.140989e-21</td>\n",
       "      <td>-4.764560e-22</td>\n",
       "      <td>7.623297e-21</td>\n",
       "      <td>1.270549e-21</td>\n",
       "      <td>-6.776264e-21</td>\n",
       "      <td>-2.435220e-21</td>\n",
       "    </tr>\n",
       "    <tr>\n",
       "      <th>4</th>\n",
       "      <td>2.0</td>\n",
       "      <td>2.0</td>\n",
       "      <td>-7.998153e-18</td>\n",
       "      <td>2.0</td>\n",
       "      <td>-2.0</td>\n",
       "      <td>4.0</td>\n",
       "      <td>-4.0</td>\n",
       "      <td>-4.0</td>\n",
       "      <td>4.0</td>\n",
       "      <td>-4.0</td>\n",
       "      <td>...</td>\n",
       "      <td>7.084802e-22</td>\n",
       "      <td>-1.670905e-22</td>\n",
       "      <td>-8.205632e-22</td>\n",
       "      <td>2.388898e-21</td>\n",
       "      <td>-5.360130e-22</td>\n",
       "      <td>1.621274e-21</td>\n",
       "      <td>-6.815968e-22</td>\n",
       "      <td>-2.071260e-21</td>\n",
       "      <td>-3.275635e-21</td>\n",
       "      <td>1.158053e-21</td>\n",
       "    </tr>\n",
       "  </tbody>\n",
       "</table>\n",
       "<p>5 rows × 22 columns</p>\n",
       "</div>"
      ],
      "text/plain": [
       "   PGI  PFK           FBP  FBA  TPI  GAPDH  PGK  GPMM  ENO  PYK  ...  \\\n",
       "0  2.0  2.0  2.165695e-24  2.0 -2.0    4.0 -4.0  -4.0  4.0 -4.0  ...   \n",
       "1  2.0  2.0  1.735360e-09  2.0 -2.0    4.0 -4.0  -4.0  4.0 -4.0  ...   \n",
       "2  2.0  2.0  3.932727e-17  2.0 -2.0    4.0 -4.0  -4.0  4.0 -4.0  ...   \n",
       "3  2.0  2.0  1.324309e-10  2.0 -2.0    4.0 -4.0  -4.0  4.0 -4.0  ...   \n",
       "4  2.0  2.0 -7.998153e-18  2.0 -2.0    4.0 -4.0  -4.0  4.0 -4.0  ...   \n",
       "\n",
       "           R5PI          TKT1           RPE        PGLase         PGLDH  \\\n",
       "0  8.355615e-25 -1.906393e-25  2.080876e-24 -3.541367e-24 -3.425045e-25   \n",
       "1 -5.865703e-20  8.131516e-20 -4.209754e-19 -2.871442e-19 -1.600892e-19   \n",
       "2 -2.171349e-24  9.499652e-25  1.021051e-24  2.481542e-24  4.627042e-24   \n",
       "3  4.182225e-21  2.421985e-21  6.114519e-21 -5.293956e-21 -6.140989e-21   \n",
       "4  7.084802e-22 -1.670905e-22 -8.205632e-22  2.388898e-21 -5.360130e-22   \n",
       "\n",
       "           TALA          TKT2         G6PDH         KDPGA       PGLDhat  \n",
       "0 -5.751490e-25  2.740036e-24  1.085675e-24  2.662488e-24 -5.040632e-25  \n",
       "1 -3.570244e-19 -5.027141e-19 -2.973086e-19 -2.117582e-19 -1.541600e-19  \n",
       "2 -5.764415e-24 -3.127777e-24  6.410650e-24  5.583469e-24  1.654361e-24  \n",
       "3 -4.764560e-22  7.623297e-21  1.270549e-21 -6.776264e-21 -2.435220e-21  \n",
       "4  1.621274e-21 -6.815968e-22 -2.071260e-21 -3.275635e-21  1.158053e-21  \n",
       "\n",
       "[5 rows x 22 columns]"
      ]
     },
     "execution_count": 8,
     "metadata": {},
     "output_type": "execute_result"
    }
   ],
   "source": [
    "velocity_df = pd.DataFrame([soln.velocities for soln in results], columns=network.reactions.labels())\n",
    "velocity_df.head()"
   ]
  },
  {
   "cell_type": "code",
   "execution_count": 9,
   "id": "3cce55f4-196f-42cf-b54e-ec864c0c1e7b",
   "metadata": {
    "tags": []
   },
   "outputs": [
    {
     "data": {
      "text/html": [
       "<div>\n",
       "<style scoped>\n",
       "    .dataframe tbody tr th:only-of-type {\n",
       "        vertical-align: middle;\n",
       "    }\n",
       "\n",
       "    .dataframe tbody tr th {\n",
       "        vertical-align: top;\n",
       "    }\n",
       "\n",
       "    .dataframe thead th {\n",
       "        text-align: right;\n",
       "    }\n",
       "</style>\n",
       "<table border=\"1\" class=\"dataframe\">\n",
       "  <thead>\n",
       "    <tr style=\"text-align: right;\">\n",
       "      <th></th>\n",
       "      <th>G6P</th>\n",
       "      <th>F6P</th>\n",
       "      <th>ATP</th>\n",
       "      <th>ADP</th>\n",
       "      <th>F16bP</th>\n",
       "      <th>H+</th>\n",
       "      <th>H2O</th>\n",
       "      <th>Pi</th>\n",
       "      <th>GAP</th>\n",
       "      <th>DHAP</th>\n",
       "      <th>...</th>\n",
       "      <th>R5P</th>\n",
       "      <th>Ru5P</th>\n",
       "      <th>Sed7P</th>\n",
       "      <th>Xu5P</th>\n",
       "      <th>6PGDL</th>\n",
       "      <th>6PG</th>\n",
       "      <th>NADP+</th>\n",
       "      <th>NADPH</th>\n",
       "      <th>E4P</th>\n",
       "      <th>KDPG</th>\n",
       "    </tr>\n",
       "  </thead>\n",
       "  <tbody>\n",
       "    <tr>\n",
       "      <th>0</th>\n",
       "      <td>-2.0</td>\n",
       "      <td>0.000000e+00</td>\n",
       "      <td>6.0</td>\n",
       "      <td>-6.0</td>\n",
       "      <td>-2.165695e-24</td>\n",
       "      <td>2.0</td>\n",
       "      <td>4.0</td>\n",
       "      <td>-4.0</td>\n",
       "      <td>2.662488e-24</td>\n",
       "      <td>0.0</td>\n",
       "      <td>...</td>\n",
       "      <td>-1.026201e-24</td>\n",
       "      <td>-1.587819e-24</td>\n",
       "      <td>7.657883e-25</td>\n",
       "      <td>-8.497988e-25</td>\n",
       "      <td>4.627042e-24</td>\n",
       "      <td>-2.694799e-24</td>\n",
       "      <td>-7.431701e-25</td>\n",
       "      <td>7.431701e-25</td>\n",
       "      <td>-3.315185e-24</td>\n",
       "      <td>-3.166551e-24</td>\n",
       "    </tr>\n",
       "    <tr>\n",
       "      <th>1</th>\n",
       "      <td>-2.0</td>\n",
       "      <td>0.000000e+00</td>\n",
       "      <td>6.0</td>\n",
       "      <td>-6.0</td>\n",
       "      <td>7.988537e-17</td>\n",
       "      <td>2.0</td>\n",
       "      <td>4.0</td>\n",
       "      <td>-4.0</td>\n",
       "      <td>-2.117582e-19</td>\n",
       "      <td>0.0</td>\n",
       "      <td>...</td>\n",
       "      <td>1.399722e-19</td>\n",
       "      <td>2.022291e-19</td>\n",
       "      <td>2.757092e-19</td>\n",
       "      <td>1.630538e-19</td>\n",
       "      <td>-1.016440e-20</td>\n",
       "      <td>2.710505e-20</td>\n",
       "      <td>4.573978e-19</td>\n",
       "      <td>-4.573978e-19</td>\n",
       "      <td>1.456897e-19</td>\n",
       "      <td>5.759824e-20</td>\n",
       "    </tr>\n",
       "    <tr>\n",
       "      <th>2</th>\n",
       "      <td>-2.0</td>\n",
       "      <td>0.000000e+00</td>\n",
       "      <td>6.0</td>\n",
       "      <td>-6.0</td>\n",
       "      <td>-3.932727e-17</td>\n",
       "      <td>2.0</td>\n",
       "      <td>4.0</td>\n",
       "      <td>-4.0</td>\n",
       "      <td>5.583469e-24</td>\n",
       "      <td>0.0</td>\n",
       "      <td>...</td>\n",
       "      <td>3.121314e-24</td>\n",
       "      <td>1.434641e-24</td>\n",
       "      <td>4.814450e-24</td>\n",
       "      <td>5.098793e-24</td>\n",
       "      <td>3.929108e-24</td>\n",
       "      <td>-3.799861e-24</td>\n",
       "      <td>-1.103769e-23</td>\n",
       "      <td>1.103769e-23</td>\n",
       "      <td>-2.636638e-24</td>\n",
       "      <td>-3.929108e-24</td>\n",
       "    </tr>\n",
       "    <tr>\n",
       "      <th>3</th>\n",
       "      <td>-2.0</td>\n",
       "      <td>0.000000e+00</td>\n",
       "      <td>6.0</td>\n",
       "      <td>-6.0</td>\n",
       "      <td>2.356784e-17</td>\n",
       "      <td>2.0</td>\n",
       "      <td>4.0</td>\n",
       "      <td>-4.0</td>\n",
       "      <td>-6.776264e-21</td>\n",
       "      <td>0.0</td>\n",
       "      <td>...</td>\n",
       "      <td>-1.760240e-21</td>\n",
       "      <td>-8.073283e-21</td>\n",
       "      <td>-1.945529e-21</td>\n",
       "      <td>9.132074e-22</td>\n",
       "      <td>6.564505e-21</td>\n",
       "      <td>3.282253e-21</td>\n",
       "      <td>4.870439e-21</td>\n",
       "      <td>-4.870439e-21</td>\n",
       "      <td>-8.099753e-21</td>\n",
       "      <td>4.341044e-21</td>\n",
       "    </tr>\n",
       "    <tr>\n",
       "      <th>4</th>\n",
       "      <td>-2.0</td>\n",
       "      <td>2.220446e-16</td>\n",
       "      <td>6.0</td>\n",
       "      <td>-6.0</td>\n",
       "      <td>7.998153e-18</td>\n",
       "      <td>2.0</td>\n",
       "      <td>4.0</td>\n",
       "      <td>-4.0</td>\n",
       "      <td>-3.275635e-21</td>\n",
       "      <td>0.0</td>\n",
       "      <td>...</td>\n",
       "      <td>-8.755707e-22</td>\n",
       "      <td>9.930303e-22</td>\n",
       "      <td>-1.454184e-21</td>\n",
       "      <td>-3.060568e-22</td>\n",
       "      <td>-4.460158e-21</td>\n",
       "      <td>1.766858e-21</td>\n",
       "      <td>2.607273e-21</td>\n",
       "      <td>-2.607273e-21</td>\n",
       "      <td>2.302871e-21</td>\n",
       "      <td>4.433688e-21</td>\n",
       "    </tr>\n",
       "  </tbody>\n",
       "</table>\n",
       "<p>5 rows × 31 columns</p>\n",
       "</div>"
      ],
      "text/plain": [
       "   G6P           F6P  ATP  ADP         F16bP   H+  H2O   Pi           GAP  \\\n",
       "0 -2.0  0.000000e+00  6.0 -6.0 -2.165695e-24  2.0  4.0 -4.0  2.662488e-24   \n",
       "1 -2.0  0.000000e+00  6.0 -6.0  7.988537e-17  2.0  4.0 -4.0 -2.117582e-19   \n",
       "2 -2.0  0.000000e+00  6.0 -6.0 -3.932727e-17  2.0  4.0 -4.0  5.583469e-24   \n",
       "3 -2.0  0.000000e+00  6.0 -6.0  2.356784e-17  2.0  4.0 -4.0 -6.776264e-21   \n",
       "4 -2.0  2.220446e-16  6.0 -6.0  7.998153e-18  2.0  4.0 -4.0 -3.275635e-21   \n",
       "\n",
       "   DHAP  ...           R5P          Ru5P         Sed7P          Xu5P  \\\n",
       "0   0.0  ... -1.026201e-24 -1.587819e-24  7.657883e-25 -8.497988e-25   \n",
       "1   0.0  ...  1.399722e-19  2.022291e-19  2.757092e-19  1.630538e-19   \n",
       "2   0.0  ...  3.121314e-24  1.434641e-24  4.814450e-24  5.098793e-24   \n",
       "3   0.0  ... -1.760240e-21 -8.073283e-21 -1.945529e-21  9.132074e-22   \n",
       "4   0.0  ... -8.755707e-22  9.930303e-22 -1.454184e-21 -3.060568e-22   \n",
       "\n",
       "          6PGDL           6PG         NADP+         NADPH           E4P  \\\n",
       "0  4.627042e-24 -2.694799e-24 -7.431701e-25  7.431701e-25 -3.315185e-24   \n",
       "1 -1.016440e-20  2.710505e-20  4.573978e-19 -4.573978e-19  1.456897e-19   \n",
       "2  3.929108e-24 -3.799861e-24 -1.103769e-23  1.103769e-23 -2.636638e-24   \n",
       "3  6.564505e-21  3.282253e-21  4.870439e-21 -4.870439e-21 -8.099753e-21   \n",
       "4 -4.460158e-21  1.766858e-21  2.607273e-21 -2.607273e-21  2.302871e-21   \n",
       "\n",
       "           KDPG  \n",
       "0 -3.166551e-24  \n",
       "1  5.759824e-20  \n",
       "2 -3.929108e-24  \n",
       "3  4.341044e-21  \n",
       "4  4.433688e-21  \n",
       "\n",
       "[5 rows x 31 columns]"
      ]
     },
     "execution_count": 9,
     "metadata": {},
     "output_type": "execute_result"
    }
   ],
   "source": [
    "dmdt_df = pd.DataFrame([soln.dmdt for soln in results], columns=network.reactants.labels())\n",
    "dmdt_df.head()"
   ]
  },
  {
   "cell_type": "code",
   "execution_count": 10,
   "id": "76bfa670-6aeb-437e-a679-ebc1522e72f8",
   "metadata": {
    "tags": []
   },
   "outputs": [
    {
     "data": {
      "text/plain": [
       "<Axes: >"
      ]
     },
     "execution_count": 10,
     "metadata": {},
     "output_type": "execute_result"
    },
    {
     "data": {
      "image/png": "[encoded data removed]",
      "text/plain": [
       "<Figure size 1500x600 with 1 Axes>"
      ]
     },
     "metadata": {},
     "output_type": "display_data"
    }
   ],
   "source": [
    "glycolysis = KB.find(KB.pathways, 'glycolysis')[0]\n",
    "velocity_df.abs()[[step.label for step in glycolysis.steps]].T.plot(color='#0001', legend=False, figsize=(15,6))"
   ]
  },
  {
   "cell_type": "code",
   "execution_count": 11,
   "id": "a9bedae4-0703-4948-81cc-beb118dbd448",
   "metadata": {
    "tags": []
   },
   "outputs": [
    {
     "data": {
      "text/plain": [
       "<Axes: >"
      ]
     },
     "execution_count": 11,
     "metadata": {},
     "output_type": "execute_result"
    },
    {
     "data": {
      "image/png": "[encoded data removed]",
      "text/plain": [
       "<Figure size 1500x600 with 1 Axes>"
      ]
     },
     "metadata": {},
     "output_type": "display_data"
    }
   ],
   "source": [
    "dmdt_df[(sorted(boundary.label for boundary in boundaries))].T.plot(color='#0001', legend=False, figsize=(15,6))"
   ]
  },
  {
   "cell_type": "code",
   "execution_count": 12,
   "id": "4f931f95-310a-4ff4-b189-9b3799111ea0",
   "metadata": {
    "tags": []
   },
   "outputs": [
    {
     "name": "stdout",
     "output_type": "stream",
     "text": [
      "CPU times: user 6.84 s, sys: 9.36 ms, total: 6.85 s\n",
      "Wall time: 6.85 s\n"
     ]
    }
   ],
   "source": [
    "%%time\n",
    "results = []\n",
    "for v0s in jax.random.uniform(prng, (100, 21, network.shape[1])):\n",
    "    v0_ = v0_ = np.median([fba_kinetic.solve(v0=v0).velocities for v0 in v0s], axis=0)\n",
    "    results.append((fba_kinetic.solve(v0=v0_)))\n"
   ]
  },
  {
   "cell_type": "code",
   "execution_count": 13,
   "id": "38cdf593-8f7d-46f1-b4c0-6a6a7ec5c230",
   "metadata": {
    "tags": []
   },
   "outputs": [
    {
     "data": {
      "text/plain": [
       "<Axes: >"
      ]
     },
     "execution_count": 13,
     "metadata": {},
     "output_type": "execute_result"
    },
    {
     "data": {
      "image/png": "[encoded data removed]",
      "text/plain": [
       "<Figure size 1500x600 with 1 Axes>"
      ]
     },
     "metadata": {},
     "output_type": "display_data"
    }
   ],
   "source": [
    "pd.DataFrame([soln.velocities for soln in results], columns=network.reactions.labels()).abs()[[step.label for step in glycolysis.steps]].T.plot(color='#0001', legend=False, figsize=(15,6))"
   ]
  },
  {
   "cell_type": "code",
   "execution_count": 14,
   "id": "71675280-93a4-48b9-ab55-471a3be305d0",
   "metadata": {
    "tags": []
   },
   "outputs": [
    {
     "data": {
      "text/plain": [
       "<Axes: >"
      ]
     },
     "execution_count": 14,
     "metadata": {},
     "output_type": "execute_result"
    },
    {
     "data": {
      "image/png": "[encoded data removed]",
      "text/plain": [
       "<Figure size 1500x600 with 1 Axes>"
      ]
     },
     "metadata": {},
     "output_type": "display_data"
    }
   ],
   "source": [
    "pd.DataFrame([soln.dmdt for soln in results], columns=network.reactants.labels())[sorted(boundary.label for boundary in boundaries)].T.plot(color='#0001', legend=False, figsize=(15,6))"
   ]
  }
 ],
 "metadata": {
  "kernelspec": {
   "display_name": "Python 3 (ipykernel)",
   "language": "python",
   "name": "python3"
  },
  "language_info": {
   "codemirror_mode": {
    "name": "ipython",
    "version": 3
   },
   "file_extension": ".py",
   "mimetype": "text/x-python",
   "name": "python",
   "nbconvert_exporter": "python",
   "pygments_lexer": "ipython3",
   "version": "3.8.16"
  }
 },
 "nbformat": 4,
 "nbformat_minor": 5
}
