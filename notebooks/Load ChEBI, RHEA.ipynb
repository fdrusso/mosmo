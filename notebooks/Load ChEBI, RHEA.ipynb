{
 "cells": [
  {
   "cell_type": "code",
   "execution_count": 1,
   "id": "ccf12407",
   "metadata": {
    "tags": []
   },
   "outputs": [],
   "source": [
    "import projectpath\n",
    "\n",
    "import collections\n",
    "import os\n",
    "from typing import Iterable\n",
    "\n",
    "import pandas as pd\n",
    "import pymongo\n",
    "\n",
    "from mosmo.knowledge import kb\n",
    "from mosmo.model import Molecule, Reaction, KbEntry, DbXref\n",
    "\n",
    "chebi_dir = '/home/fdrusso/work/data/chebi'\n",
    "\n",
    "KB = kb.configure_kb()"
   ]
  },
  {
   "cell_type": "markdown",
   "id": "701c2bd9",
   "metadata": {},
   "source": [
    "# Load ChEBI data verbatim"
   ]
  },
  {
   "cell_type": "code",
   "execution_count": 2,
   "id": "c9a78c78",
   "metadata": {
    "tags": []
   },
   "outputs": [
    {
     "name": "stdout",
     "output_type": "stream",
     "text": [
      "59708 valid compounds\n"
     ]
    }
   ],
   "source": [
    "compounds = {}\n",
    "for row in pd.read_csv(os.path.join(chebi_dir, 'compounds.tsv'), sep='\\t', dtype={'ID': str}).itertuples():\n",
    "    # Policy decision: use confirmed entries and primary ID only; let the source worry about obsolete IDs.\n",
    "    if row.STATUS == 'C' and pd.isnull(row.PARENT_ID):\n",
    "        compounds[row.ID] = Molecule(id=row.ID, name=row.NAME)\n",
    "print(f'{len(compounds)} valid compounds')"
   ]
  },
  {
   "cell_type": "code",
   "execution_count": 3,
   "id": "4a1d2f97",
   "metadata": {
    "tags": []
   },
   "outputs": [],
   "source": [
    "compound_names = collections.defaultdict(set)\n",
    "for row in pd.read_csv(os.path.join(chebi_dir, 'names.tsv'), sep='\\t', dtype={'COMPOUND_ID': str}).itertuples():\n",
    "    if row.COMPOUND_ID in compounds:\n",
    "        compound_names[row.COMPOUND_ID].add(row.NAME)\n",
    "for compound_id, names in compound_names.items():\n",
    "    compound = compounds[compound_id]\n",
    "    compound.aka = list(names - {compound.name})\n",
    "\n",
    "for row in pd.read_csv(os.path.join(chebi_dir, 'chemical_data.tsv'), sep='\\t', dtype={'COMPOUND_ID': str}).itertuples():\n",
    "    if row.COMPOUND_ID in compounds:\n",
    "        if row.TYPE == 'MASS':\n",
    "            compounds[row.COMPOUND_ID].mass = float(row.CHEMICAL_DATA)\n",
    "        elif row.TYPE == 'CHARGE':\n",
    "            compounds[row.COMPOUND_ID].charge = int(row.CHEMICAL_DATA)\n",
    "        elif row.TYPE == 'FORMULA':\n",
    "            compounds[row.COMPOUND_ID].formula = row.CHEMICAL_DATA\n",
    "\n",
    "for row in pd.read_csv(os.path.join(chebi_dir, 'chebiId_inchi.tsv'), sep='\\t', dtype={'CHEBI_ID': str}).itertuples():\n",
    "    if row.CHEBI_ID in compounds:\n",
    "        compounds[row.CHEBI_ID].inchi = row.InChI"
   ]
  },
  {
   "cell_type": "code",
   "execution_count": 4,
   "id": "527900ac",
   "metadata": {
    "tags": []
   },
   "outputs": [],
   "source": [
    "# Xrefs for select db's only, normalizing on all-caps db names.\n",
    "db_mapping = {\n",
    "    'CAS Registry Number': 'CAS',\n",
    "    'KEGG COMPOUND accession': 'KEGG',\n",
    "    'KEGG GLYCAN accession': 'KEGG',\n",
    "    'KEGG DRUG accession': 'KEGG',\n",
    "    'MetaCyc accession': 'METACYC',\n",
    "    'LINCS accession': 'LINCS',\n",
    "    'Wikipedia accession': 'WIKI',\n",
    "}\n",
    "\n",
    "compound_xrefs = collections.defaultdict(set)\n",
    "for row in pd.read_csv(os.path.join(chebi_dir, 'database_accession.tsv'), sep='\\t', dtype={'COMPOUND_ID': str}).itertuples():\n",
    "    if row.COMPOUND_ID in compounds and row.TYPE in db_mapping:\n",
    "        compound_xrefs[row.COMPOUND_ID].add(DbXref(db_mapping[row.TYPE], row.ACCESSION_NUMBER))\n",
    "\n",
    "for compound_id, xrefs in compound_xrefs.items():\n",
    "        compounds[compound_id].xrefs = xrefs\n"
   ]
  },
  {
   "cell_type": "code",
   "execution_count": 5,
   "id": "82692a1c",
   "metadata": {
    "tags": []
   },
   "outputs": [
    {
     "data": {
      "text/plain": [
       "[17634] D-glucose"
      ]
     },
     "execution_count": 5,
     "metadata": {},
     "output_type": "execute_result"
    }
   ],
   "source": [
    "compounds['17634']"
   ]
  },
  {
   "cell_type": "markdown",
   "id": "3eaa3cf4",
   "metadata": {},
   "source": [
    "# Put it in KB.CHEBI"
   ]
  },
  {
   "cell_type": "code",
   "execution_count": 6,
   "id": "942d4f30",
   "metadata": {
    "tags": []
   },
   "outputs": [
    {
     "name": "stdout",
     "output_type": "stream",
     "text": [
      "CPU times: user 20.9 s, sys: 1.22 s, total: 22.1 s\n",
      "Wall time: 36.2 s\n"
     ]
    },
    {
     "data": {
      "text/plain": [
       "'xrefs'"
      ]
     },
     "execution_count": 6,
     "metadata": {},
     "output_type": "execute_result"
    }
   ],
   "source": [
    "%%time\n",
    "collection = KB.client[KB.CHEBI.client_db][KB.CHEBI.collection]\n",
    "collection.drop()\n",
    "for compound in compounds.values():\n",
    "    KB.put(KB.CHEBI, compound, bypass_cache=True)\n",
    "collection.create_index('name', name='name', collation=pymongo.collation.Collation(locale='en_US', strength=1))\n",
    "collection.create_index('aka', name='aka', collation=pymongo.collation.Collation(locale='en_US', strength=1))\n",
    "collection.create_index([('xrefs.id', pymongo.ASCENDING), ('xrefs.db', pymongo.ASCENDING)],\n",
    "                        name='xrefs',\n",
    "                        collation=pymongo.collation.Collation(locale='en_US', strength=1))"
   ]
  },
  {
   "cell_type": "code",
   "execution_count": 7,
   "id": "31958f4a",
   "metadata": {
    "tags": []
   },
   "outputs": [
    {
     "data": {
      "text/plain": [
       "[[33942] ribose,\n",
       " [27476] beta-D-ribopyranose,\n",
       " [45506] alpha-D-ribose,\n",
       " [47013] D-ribofuranose]"
      ]
     },
     "execution_count": 7,
     "metadata": {},
     "output_type": "execute_result"
    }
   ],
   "source": [
    "KB.find(KB.CHEBI, 'ribose')"
   ]
  },
  {
   "cell_type": "markdown",
   "id": "742bab17",
   "metadata": {},
   "source": [
    "# Load RHEA master reactions verbatim\n",
    "\n",
    "RHEA is organized around 'quartets'\n",
    "- Master - indeterminate or unspecified direction\n",
    "- irreversible left -> right\n",
    "- irreversible right -> left\n",
    "- explicitly reversible\n",
    "\n",
    "Not clear what is gained by this representation vs say a reversibility attribute. One possibility is it's all about the cross-references to other reaction DBs. Need to explore a bit more.\n",
    "\n",
    "## Main RHEA reaction definitions are in RDF"
   ]
  },
  {
   "cell_type": "code",
   "execution_count": 8,
   "id": "7edd5929",
   "metadata": {
    "tags": []
   },
   "outputs": [],
   "source": [
    "import rdflib\n",
    "from rdflib.namespace import RDFS\n",
    "\n",
    "RH = rdflib.namespace.Namespace('http://rdf.rhea-db.org/')\n",
    "rhea_dir = '/home/fdrusso/work/data/rhea'"
   ]
  },
  {
   "cell_type": "code",
   "execution_count": 9,
   "id": "e8cb9f6c",
   "metadata": {
    "tags": []
   },
   "outputs": [
    {
     "name": "stdout",
     "output_type": "stream",
     "text": [
      "CPU times: user 2min 15s, sys: 1.21 s, total: 2min 16s\n",
      "Wall time: 2min 16s\n"
     ]
    }
   ],
   "source": [
    "%time rhea_rdf = rdflib.Graph().parse(os.path.join(rhea_dir, 'rhea.rdf'))\n",
    "\n",
    "rhea_rdf.bind('rh', RH)\n",
    "rhea_rdf.bind('rdfs', RDFS)\n",
    "rhea_rdf.bind('ch', rdflib.namespace.Namespace('http://purl.obolibrary.org/obo/'))\n",
    "rhea_rdf.bind('ch2', rdflib.namespace.Namespace('http://purl.obolibrary.org/obo/chebi#'))\n",
    "rhea_rdf.bind('ch3', rdflib.namespace.Namespace('http://purl.obolibrary.org/obo/chebi/'))\n",
    "\n",
    "rhea_rdf.bind('UNIPROT', rdflib.namespace.Namespace('http://purl.uniprot.org/core/'))\n",
    "rhea_rdf.bind('EC', rdflib.namespace.Namespace('http://purl.uniprot.org/enzyme/'))\n",
    "rhea_rdf.bind('PUBMED', rdflib.namespace.Namespace('http://rdf.ncbi.nlm.nih.gov/pubmed/'))\n",
    "rhea_rdf.bind('ECOCYC', rdflib.namespace.Namespace('http://identifiers.org/biocyc/ECOCYC:'))\n",
    "rhea_rdf.bind('METACYC', rdflib.namespace.Namespace('http://identifiers.org/biocyc/METACYC:'))\n",
    "rhea_rdf.bind('KEGG', rdflib.namespace.Namespace('http://identifiers.org/kegg.reaction/'))\n",
    "rhea_rdf.bind('REACT', rdflib.namespace.Namespace('http://identifiers.org/reactome/'))\n",
    "rhea_rdf.bind('MACIE', rdflib.namespace.Namespace('http://identifiers.org/macie/'))"
   ]
  },
  {
   "cell_type": "markdown",
   "id": "5626b11e",
   "metadata": {},
   "source": [
    "## Pull it into a more workable structure"
   ]
  },
  {
   "cell_type": "code",
   "execution_count": 10,
   "id": "0ae96348",
   "metadata": {
    "tags": []
   },
   "outputs": [],
   "source": [
    "# predicate: (extract_fn, is_list)\n",
    "extract_predicate = {\n",
    "    RH.id: (\"value\", False),\n",
    "    RDFS.label: (\"value\", False),\n",
    "    RDFS.comment: (\"value\", False),\n",
    "    RH.status: (\"value\", False),\n",
    "    RH.ec: (\"value\", True),\n",
    "    RDFS.seeAlso: (\"value\", True),\n",
    "\n",
    "    RH.equation: (\"value\", False),\n",
    "    RH.isTransport: (\"value\", False),\n",
    "    RH.bidirectionalReaction: (\"object\", False),\n",
    "    RH.directionalReaction: (\"object\", True),\n",
    "\n",
    "    RH.side: (\"object\", True),\n",
    "    RH.curatedOrder: (\"value\", False),\n",
    "\n",
    "    RH.compound: (\"object\", False),\n",
    "    RH.accession: (\"value\", False),\n",
    "    RH.name: (\"value\", False),\n",
    "    RH.reactivePart: (\"object\", True),\n",
    "    RH.location: (\"value\", False),\n",
    "    RH.position: (\"value\", False),\n",
    "    RH.polymerizationIndex: (\"value\", False),\n",
    "    RH.underlyingChebi: (\"value\", False),\n",
    "}\n",
    "\n",
    "# Special case for funky containsXXX predicates\n",
    "contains_count = {}\n",
    "for contains in rhea_rdf.subjects(RDFS.subPropertyOf, RH.contains):\n",
    "    count = rhea_rdf.value(contains, RH.coefficient).toPython()\n",
    "    # if count.isdigit():\n",
    "    #     count = int(count)\n",
    "    contains_count[contains] = count\n",
    "\n",
    "# Intentionally ignore (redundant)\n",
    "drop = {\n",
    "    RDFS.subClassOf,\n",
    "    RH.charge,\n",
    "    RH.chebi,\n",
    "    RH.citation,\n",
    "    RH.contains,\n",
    "    RH.formula,\n",
    "    RH.htmlEquation,\n",
    "    RH.htmlName,\n",
    "    RH.isChemicallyBalanced,\n",
    "    RH.products,\n",
    "    RH.substrates,\n",
    "    RH.substratesOrProducts,\n",
    "    RH.transformableTo,\n",
    "}\n",
    "\n",
    "def extract_value(g, o):\n",
    "    if type(o) == rdflib.Literal:\n",
    "        return o.toPython()\n",
    "    else:\n",
    "        return o.n3(g.namespace_manager)\n",
    "    \n",
    "def extract_object(g, s):\n",
    "    result = {}\n",
    "    for p, o in g[s]:\n",
    "        if p in extract_predicate:\n",
    "            otype, is_list = extract_predicate[p]\n",
    "            p = extract_value(g, p)\n",
    "            if otype == 'value':\n",
    "                o = extract_value(g, o)\n",
    "            elif otype == 'object':\n",
    "                o = extract_object(g, o)\n",
    "            else:\n",
    "                raise ValueError(f'Misconfigured predicate {p}')\n",
    "\n",
    "            if is_list:\n",
    "                if p in result:\n",
    "                    result[p].append(o)\n",
    "                else:\n",
    "                    result[p] = [o]\n",
    "            else:\n",
    "                if p in result:\n",
    "                    raise ValueError(f'Clobbered {extract_value(g, s)} {extract_value(g, p)}')\n",
    "                result[p] = o\n",
    "\n",
    "        elif p in contains_count:\n",
    "            coeff = contains_count[p]\n",
    "            p = 'rh:contains'\n",
    "            o = {'count': coeff, 'object': extract_object(g, o)}\n",
    "            if p in result:\n",
    "                result[p].append(o)\n",
    "            else:\n",
    "                result[p] = [o]\n",
    "            \n",
    "        elif p not in drop:\n",
    "            print(f'Ignoring {extract_value(g, s)} {extract_value(g, p)}')\n",
    "\n",
    "    return result\n",
    "    "
   ]
  },
  {
   "cell_type": "code",
   "execution_count": 11,
   "id": "109a7e9b-bbe7-4fa1-bc6b-59e052a18f74",
   "metadata": {
    "tags": []
   },
   "outputs": [
    {
     "name": "stdout",
     "output_type": "stream",
     "text": [
      "14040 primary reactions, 14040 extracted successfully\n",
      "CPU times: user 21.5 s, sys: 115 ms, total: 21.6 s\n",
      "Wall time: 21.6 s\n"
     ]
    }
   ],
   "source": [
    "%%time\n",
    "reaction_ids = list(rhea_rdf.subjects(RDFS.subClassOf, RH.Reaction))\n",
    "extracted = [extract_object(rhea_rdf, s) for s in reaction_ids]\n",
    "\n",
    "print(f\"{len(reaction_ids)} primary reactions, {len(extracted)} extracted successfully\")"
   ]
  },
  {
   "cell_type": "markdown",
   "id": "dcca0fee",
   "metadata": {},
   "source": [
    "## Coerce master reactions (only) into the KB Reaction structure"
   ]
  },
  {
   "cell_type": "code",
   "execution_count": 17,
   "id": "cc47df45",
   "metadata": {
    "scrolled": true,
    "tags": []
   },
   "outputs": [
    {
     "data": {
      "text/plain": [
       "[13713] 16389 + 30031 <=> 17976 + 29806"
      ]
     },
     "execution_count": 17,
     "metadata": {},
     "output_type": "execute_result"
    }
   ],
   "source": [
    "def to_dbxref(rhea_xref):\n",
    "    # Special cases\n",
    "    for prefix, db in [\n",
    "        ('ch:GO_', 'GO'),\n",
    "        ('ch:CHEBI_', 'CHEBI')\n",
    "    ]:\n",
    "        if rhea_xref.startswith(prefix):\n",
    "            return DbXref(db, rhea_xref[len(prefix):])\n",
    "\n",
    "    # Generally otherwise just parse it normally\n",
    "    return DbXref.from_str(rhea_xref)\n",
    "\n",
    "\n",
    "def to_reaction(rhea_rxn):\n",
    "    def rxn_xrefs(rxn):\n",
    "        if rxn:\n",
    "            for xref in rxn.get('rh:ec', []):\n",
    "                yield to_dbxref(xref)\n",
    "            for xref in rxn.get('rdfs:seeAlso', []):\n",
    "                yield to_dbxref(xref)\n",
    "\n",
    "    # Lump together all of the quartet's xrefs -- not rigorous by RHEA standards, but reasonable for us.\n",
    "    xrefs = set(rxn_xrefs(rhea_rxn))\n",
    "    for subrxn in rhea_rxn.get('rh:directionalReaction'):\n",
    "        xrefs.update(rxn_xrefs(subrxn))\n",
    "    xrefs.update(rxn_xrefs(rhea_rxn.get('rh:bidirectionalReaction')))\n",
    "\n",
    "    # RHEA does not provide nice names on its own; get the name from EC if possible\n",
    "    ec_nums = [xref for xref in xrefs if xref.db == 'EC']\n",
    "    if ec_nums:\n",
    "        name = KB.get(KB.EC, ec_nums[0].id).name\n",
    "        # Mark names as ambiguous where there are multiple ECs.\n",
    "        if len(ec_nums) > 1:\n",
    "            name = '* ' + name\n",
    "    else:\n",
    "        # Fallback: use the RHEA-provided label, which is just the reaction formula.\n",
    "        name = rhea_rxn['rdfs:label']\n",
    "\n",
    "    reversible = bool(rhea_rxn.get('rh:bidirectionalReaction', {}).get('rdfs:seeAlso'))\n",
    "\n",
    "    multipliers = [None, -1, +1]  # curatedOrder -> stoichiometry sign, 1-based\n",
    "    stoichiometry = {}\n",
    "    for side in rhea_rxn['rh:side']:\n",
    "        multiplier = multipliers[side['rh:curatedOrder']]\n",
    "        for participant in side.get('rh:contains'):\n",
    "            accession = to_dbxref(participant['object']['rh:compound']['rh:accession'])\n",
    "            compound = None\n",
    "            if accession.db == 'CHEBI':\n",
    "                # We'll use the in-memory molecules for now, but this will utimately be a KB lookup\n",
    "                compound = compounds[accession.id]\n",
    "            elif 'rh:underlyingChebi' in participant['object']['rh:compound']:\n",
    "                accession = to_dbxref(participant['object']['rh:compound']['rh:underlyingChebi'])\n",
    "                compound = compounds[accession.id]\n",
    "            \n",
    "            if compound:\n",
    "                stoichiometry[compound] = multiplier * int(participant['count'])\n",
    "            else:\n",
    "                raise ValueError(f'Unrecognized compound ID {accession}')\n",
    "\n",
    "    return Reaction(\n",
    "        id = str(rhea_rxn['rh:id']),\n",
    "        name = name,\n",
    "        xrefs = xrefs or None,\n",
    "        stoichiometry = stoichiometry,\n",
    "        reversible = reversible,\n",
    "    )\n",
    "\n",
    "to_reaction(extract_object(rhea_rdf, RH['13713']))"
   ]
  },
  {
   "cell_type": "code",
   "execution_count": 18,
   "id": "d84030f8",
   "metadata": {
    "tags": []
   },
   "outputs": [
    {
     "name": "stdout",
     "output_type": "stream",
     "text": [
      "10257 reactions parsed succesfully, 3630 skipped\n",
      "CPU times: user 775 ms, sys: 12 ms, total: 787 ms\n",
      "Wall time: 815 ms\n"
     ]
    }
   ],
   "source": [
    "%%time\n",
    "reactions = {}\n",
    "skipped = {}\n",
    "for rhea_rxn in extracted:\n",
    "    if rhea_rxn['rh:status'] == 'rh:Approved':\n",
    "        try:\n",
    "            reaction = to_reaction(rhea_rxn)\n",
    "            reactions[reaction.id] = reaction\n",
    "        \n",
    "        except Exception as e:\n",
    "            skipped[rhea_rxn['rh:id']] = (rhea_rxn, e)\n",
    "\n",
    "print(f'{len(reactions)} reactions parsed succesfully, {len(skipped)} skipped')"
   ]
  },
  {
   "cell_type": "markdown",
   "id": "1c1a483b",
   "metadata": {},
   "source": [
    "## Store to KB.RHEA"
   ]
  },
  {
   "cell_type": "code",
   "execution_count": 19,
   "id": "f3c0c4ca",
   "metadata": {
    "tags": []
   },
   "outputs": [
    {
     "name": "stdout",
     "output_type": "stream",
     "text": [
      "CPU times: user 6.76 s, sys: 295 ms, total: 7.06 s\n",
      "Wall time: 11.7 s\n"
     ]
    },
    {
     "data": {
      "text/plain": [
       "'xrefs'"
      ]
     },
     "execution_count": 19,
     "metadata": {},
     "output_type": "execute_result"
    }
   ],
   "source": [
    "%%time\n",
    "collection = KB.client[KB.RHEA.client_db][KB.RHEA.collection]\n",
    "collection.drop()\n",
    "for reaction in reactions.values():\n",
    "    KB.put(KB.RHEA, reaction, bypass_cache=True)\n",
    "collection.create_index('name', name='name', collation=pymongo.collation.Collation(locale='en_US', strength=1))\n",
    "collection.create_index([('xrefs.id', pymongo.ASCENDING), ('xrefs.db', pymongo.ASCENDING)],\n",
    "                        name='xrefs',\n",
    "                        collation=pymongo.collation.Collation(locale='en_US', strength=1))"
   ]
  }
 ],
 "metadata": {
  "kernelspec": {
   "display_name": "Python 3 (ipykernel)",
   "language": "python",
   "name": "python3"
  },
  "language_info": {
   "codemirror_mode": {
    "name": "ipython",
    "version": 3
   },
   "file_extension": ".py",
   "mimetype": "text/x-python",
   "name": "python",
   "nbconvert_exporter": "python",
   "pygments_lexer": "ipython3",
   "version": "3.8.16"
  }
 },
 "nbformat": 4,
 "nbformat_minor": 5
}
