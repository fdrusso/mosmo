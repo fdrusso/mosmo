{
 "cells": [
  {
   "cell_type": "code",
   "execution_count": 1,
   "id": "cc6486f1",
   "metadata": {},
   "outputs": [],
   "source": [
    "import projectpath\n",
    "\n",
    "import collections\n",
    "import json\n",
    "import os\n",
    "import pronto\n",
    "import xmltodict\n",
    "\n",
    "from kb import kb\n",
    "from scheme import KbEntry, DbXref\n",
    "\n",
    "KB = kb.configure_kb()"
   ]
  },
  {
   "cell_type": "markdown",
   "id": "30168ff7",
   "metadata": {},
   "source": [
    "# EC (from https://www.enzyme-database.org/downloads.php)\n",
    "\n",
    "Hardly pretty, but this seems to be the definitive source. Relatively minimal load: ID, name, aka."
   ]
  },
  {
   "cell_type": "code",
   "execution_count": 2,
   "id": "7ba84e0f",
   "metadata": {},
   "outputs": [
    {
     "name": "stdout",
     "output_type": "stream",
     "text": [
      "  cite: 19654 rows\n",
      " class:   397 rows\n",
      " entry:  7890 rows\n",
      "  hist:  7890 rows\n",
      "  html:  7890 rows\n",
      "  refs: 15472 rows\n"
     ]
    }
   ],
   "source": [
    "# Don't mess with callback in xmltodict itself\n",
    "with open(os.path.join('/home/fdrusso/work/data', 'enzyme-data.xml'), 'r') as f:\n",
    "    xml_dict = xmltodict.parse(f.read())\n",
    "\n",
    "# Extract just the table data from the mysqldump. Convert all <field name='foo'>bar</field> to 'foo': 'bar'.\n",
    "# This simplifies the structure substantially.\n",
    "table_data = {}\n",
    "for table in xml_dict['mysqldump']['database']['table_data']:\n",
    "    table_name = table['@name']\n",
    "    table_data[table_name] = []\n",
    "    for row in table['row']:\n",
    "        table_data[table_name].append({field['@name']: field.get('#text') for field in row['field']})\n",
    "\n",
    "for k, v in table_data.items():\n",
    "    print(f'{k:>6}: {len(v):5d} rows')"
   ]
  },
  {
   "cell_type": "markdown",
   "id": "8c3d2ecc",
   "metadata": {},
   "source": [
    "## `entry` table contains only the fully specied leaf nodes\n",
    "\n",
    "TODO: Do we also want the hierarchical nodes, from the `class` table?"
   ]
  },
  {
   "cell_type": "code",
   "execution_count": 3,
   "id": "6a4ddb52",
   "metadata": {},
   "outputs": [
    {
     "data": {
      "text/plain": [
       "{'ec_num': '1.1.1.2',\n",
       " 'accepted_name': 'alcohol dehydrogenase (NADP+)',\n",
       " 'reaction': 'an alcohol + NADP+ = an aldehyde + NADPH + H+',\n",
       " 'other_names': 'aldehyde reductase (NADPH2); NADP-alcohol dehydrogenase; NADP+-aldehyde reductase; NADP+-dependent aldehyde reductase; NADPH-aldehyde reductase; NADPH-dependent aldehyde reductase; nonspecific succinic semialdehyde reductase; ALR 1; low-Km aldehyde reductase; high-Km aldehyde reductase; alcohol dehydrogenase (NADP)',\n",
       " 'sys_name': 'alcohol:NADP+ oxidoreductase',\n",
       " 'comments': 'A zinc protein. Some members of this group oxidize only primary alcohols; others act also on secondary alcohols. May be identical with EC 1.1.1.19 (L-glucuronate reductase), EC 1.1.1.33 [mevaldate reductase (NADPH)] and EC 1.1.1.55 [lactaldehyde reductase (NADPH)]. Re-specific with respect to NADPH.',\n",
       " 'links': 'BRENDA, EXPASY, IUBMB, KEGG, PDB',\n",
       " 'class': '1',\n",
       " 'subclass': '1',\n",
       " 'subsubclass': '1',\n",
       " 'serial': '2',\n",
       " 'status': None,\n",
       " 'diagram': None,\n",
       " 'cas_num': '9028-12-0',\n",
       " 'glossary': None,\n",
       " 'last_change': '2013-05-28 14:28:31',\n",
       " 'id': '2'}"
      ]
     },
     "execution_count": 3,
     "metadata": {},
     "output_type": "execute_result"
    }
   ],
   "source": [
    "table_data['entry'][1]"
   ]
  },
  {
   "cell_type": "code",
   "execution_count": 4,
   "id": "3edb2e97",
   "metadata": {},
   "outputs": [
    {
     "name": "stdout",
     "output_type": "stream",
     "text": [
      "CPU times: user 1.45 s, sys: 88.7 ms, total: 1.54 s\n",
      "Wall time: 2.05 s\n"
     ]
    }
   ],
   "source": [
    "%%time\n",
    "for entry in table_data['entry']:\n",
    "    if 'accepted_name' in entry:  # Only indicator of valid status?\n",
    "        kb_entry = KbEntry(_id = entry['ec_num'], name = entry['accepted_name'], aka=[])\n",
    "        if entry['sys_name']:\n",
    "            kb_entry.aka.append(entry['sys_name'])\n",
    "        if entry['other_names']:\n",
    "            kb_entry.aka.extend(entry['other_names'].split('; '))\n",
    "        if entry['comments']:\n",
    "            kb_entry.description = entry['comments']\n",
    "\n",
    "        KB.put(KB.EC, kb_entry, bypass_cache=True)"
   ]
  },
  {
   "cell_type": "markdown",
   "id": "a6366a9b",
   "metadata": {},
   "source": [
    "# GO (from http://geneontology.org/docs/download-ontology/)\n",
    "\n",
    "- Using go.obo, presumably the full ontology?"
   ]
  },
  {
   "cell_type": "code",
   "execution_count": 5,
   "id": "4970d4e2",
   "metadata": {},
   "outputs": [
    {
     "name": "stdout",
     "output_type": "stream",
     "text": [
      "This version of GO has 47235 terms.\n"
     ]
    }
   ],
   "source": [
    "go = pronto.Ontology(os.path.join('/home/fdrusso/work/data', 'go.obo'))\n",
    "\n",
    "print(f'This version of GO has {len(go.terms())} terms.')"
   ]
  },
  {
   "cell_type": "code",
   "execution_count": 6,
   "id": "bcfbabfc",
   "metadata": {},
   "outputs": [
    {
     "name": "stdout",
     "output_type": "stream",
     "text": [
      "CPU times: user 12.7 s, sys: 826 ms, total: 13.6 s\n",
      "Wall time: 20 s\n"
     ]
    }
   ],
   "source": [
    "%%time\n",
    "xref_source = {\n",
    "    'Reactome': 'REACT',\n",
    "    'Wikipedia': 'WIKI',\n",
    "    'KEGG_REACTION': 'KEGG',\n",
    "    'KEGG_PATHWAY': 'KEGG',\n",
    "}\n",
    "\n",
    "xref_sources = collections.defaultdict(int)\n",
    "\n",
    "def extract_xref(xref):\n",
    "    parts = xref.id.split(':')\n",
    "    if len(parts) == 2:\n",
    "        xref_sources[parts[0]] += 1\n",
    "        return DbXref(xref_source.get(parts[0], parts[0].upper()), parts[1])\n",
    "    else:\n",
    "        return DbXref(None, xref.id)\n",
    "\n",
    "not_parsed = []\n",
    "for term in go.terms():\n",
    "    if term.obsolete:\n",
    "        continue\n",
    "\n",
    "    id_parts = term.id.split(':')\n",
    "    if len(id_parts) == 2 and id_parts[0] == 'GO':\n",
    "        KB.put(KB.GO, KbEntry(\n",
    "            _id = id_parts[1],\n",
    "            name = term.name,\n",
    "            description = f'[{term.namespace}] {term.definition}',\n",
    "            aka = [synonym.description for synonym in term.synonyms] or None,\n",
    "            xrefs = {extract_xref(xref) for xref in term.xrefs} or None\n",
    "        ), bypass_cache=True)\n",
    "    else:\n",
    "        not_parsed.append(term)\n",
    "\n"
   ]
  }
 ],
 "metadata": {
  "kernelspec": {
   "display_name": "Python 3 (ipykernel)",
   "language": "python",
   "name": "python3"
  },
  "language_info": {
   "codemirror_mode": {
    "name": "ipython",
    "version": 3
   },
   "file_extension": ".py",
   "mimetype": "text/x-python",
   "name": "python",
   "nbconvert_exporter": "python",
   "pygments_lexer": "ipython3",
   "version": "3.8.5"
  }
 },
 "nbformat": 4,
 "nbformat_minor": 5
}
