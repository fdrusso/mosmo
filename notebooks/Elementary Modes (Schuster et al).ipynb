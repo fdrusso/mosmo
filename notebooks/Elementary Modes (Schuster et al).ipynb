{
 "cells": [
  {
   "cell_type": "markdown",
   "id": "652d50d8-657a-4617-9d24-0acdd9048889",
   "metadata": {
    "tags": []
   },
   "source": [
    "# Working up algorithm based on [Schuster _et al_ (2000)](https://www.nature.com/articles/nbt0300_326), [Schuster _et al_ (2002)](https://link.springer.com/article/10.1007/s002850200143)\n",
    "\n",
    "- Use glycolysis + PPP, as in the paper (though stopping at PEP)\n",
    "- Don't worry about efficiency yet, just get a feel for the algorithm\n",
    "- Results won't be identical to Schuster because system and boundaries are different, but it should be reconcilable"
   ]
  },
  {
   "cell_type": "code",
   "execution_count": 1,
   "id": "dd2d679d-f86b-4a50-b6cd-ca2ce73b10b2",
   "metadata": {
    "tags": []
   },
   "outputs": [],
   "source": [
    "import projectpath\n",
    "\n",
    "from importlib import resources\n",
    "import ipywidgets as widgets\n",
    "import json\n",
    "import matplotlib.pyplot as plt\n",
    "import matplotlib\n",
    "import numpy as np\n",
    "import pandas as pd\n",
    "import scipy.linalg\n",
    "\n",
    "from mosmo.knowledge import kb\n",
    "from mosmo.model import KbEntry, Molecule, Reaction, Pathway, ReactionNetwork\n",
    "from mosmo.preso.escher import escher_map\n",
    "import mosmo.preso.escher.pw as pw_files\n",
    "from mosmo.calc import fba_gd\n",
    "\n",
    "KB = kb.configure_kb()\n",
    "\n",
    "def reaction_formula(reaction):\n",
    "    def reactant_term(reactant, count):\n",
    "        label = reactant.label\n",
    "        count = abs(count)\n",
    "        if count == 1:\n",
    "            return label\n",
    "        else:\n",
    "            return f'{count} {label}'\n",
    "    \n",
    "    lhs = [reactant_term(reactant, count) for reactant, count in reaction.stoichiometry.items() if count < 0]\n",
    "    rhs = [reactant_term(reactant, count) for reactant, count in reaction.stoichiometry.items() if count > 0]\n",
    "    \n",
    "    arrow = ' <=> ' if reaction.reversible else ' => '\n",
    "    \n",
    "    return ' + '.join(lhs) + arrow + ' + '.join(rhs)\n",
    "\n",
    "def mode_formula(network, mode):\n",
    "    parts = []\n",
    "    for reaction, coeff in zip(network.reactions.labels(), mode):\n",
    "        if coeff == -1:\n",
    "            parts.append('-')\n",
    "        elif coeff < 0:\n",
    "            parts.append(f'- {-coeff}')\n",
    "        elif coeff == 1:\n",
    "            if parts:\n",
    "                parts.append('+')\n",
    "        elif coeff > 0:\n",
    "            if parts:\n",
    "                parts.append(f'+ {coeff}')\n",
    "            else:\n",
    "                parts.append(f'{coeff}')\n",
    "        \n",
    "        if coeff:\n",
    "            parts.append(reaction)\n",
    "    \n",
    "    return ' '.join(parts)"
   ]
  },
  {
   "cell_type": "markdown",
   "id": "72a07fd6-4ce3-433c-b7bf-f2cbbc8db80f",
   "metadata": {},
   "source": [
    "## Define the network\n",
    "\n",
    "- Slightly modified from Schuster _et al_, but maintaining the same structure and behavior"
   ]
  },
  {
   "cell_type": "code",
   "execution_count": 2,
   "id": "e1fc55f9-70e3-49cb-a13c-b2fea6402767",
   "metadata": {
    "tags": []
   },
   "outputs": [
    {
     "data": {
      "application/vnd.jupyter.widget-view+json": {
       "model_id": "fbbf63ba3be34ea893f2b60e77b49337",
       "version_major": 2,
       "version_minor": 0
      },
      "text/plain": [
       "Output()"
      ]
     },
     "execution_count": 2,
     "metadata": {},
     "output_type": "execute_result"
    }
   ],
   "source": [
    "# KB pathways and metabolites for convenience\n",
    "glycolysis = KB.find(KB.pathways, 'glycolysis')[0]\n",
    "ppp = KB.find(KB.pathways, 'pentose phosphate')[0]\n",
    "\n",
    "g6p = KB('Glc.D.6P')\n",
    "pep = KB('pep')\n",
    "r5p = KB('Rib.D.5P')\n",
    "# e4p = KB('Ery.D.4P')\n",
    "\n",
    "amp = KB('amp')\n",
    "adp = KB('adp')\n",
    "atp = KB('atp')\n",
    "nad = KB('nad.ox')\n",
    "nadh = KB('nad.red')\n",
    "nadp = KB('nadp.ox')\n",
    "nadph = KB('nadp.red')\n",
    "pi = KB('pi')\n",
    "h2o = KB('h2o')\n",
    "co2 = KB('co2')\n",
    "proton = KB('h+')\n",
    "\n",
    "\n",
    "# Build the network, but stop at PEP. We'll treat the PEP-pyruvate-acCoA system separately. Also skip E-D for now (minor?)\n",
    "# TODO: reflect these choices in the KB pathway objects.\n",
    "exclude = ['pyk', 'pps', 'pdh']\n",
    "network = ReactionNetwork(r for r in glycolysis.steps + ppp.steps if r.id not in exclude)\n",
    "\n",
    "# No specific reaction to consume R5P, just treat it as external. Also, we do not ignore water and protons.\n",
    "bounds = {r5p, co2, nadp, nadph, pep, nad, nadh, pi, amp, adp, atp, g6p, h2o, proton}\n",
    "\n",
    "scale = escher_map.Scale({0.: (\"#eeeeee\", 3), 6.: (\"#1f77cc\", 50)}, use_abs=True)\n",
    "diag = escher_map.EscherMap(json.loads(resources.read_text(pw_files, 'glycolysis_ppp_ed.json')), width=\"6in\", reaction_scale=scale)\n",
    "diag.draw(reaction_data={rxn_id: 1 for rxn_id in network.reactions.labels()})"
   ]
  },
  {
   "cell_type": "markdown",
   "id": "6cc8f160-a181-4cd0-a185-3bf593d7e150",
   "metadata": {},
   "source": [
    "## Approach 1\n",
    "\n",
    "- Filter S matrix to internal metabolites\n",
    "- No additional simplifications (e.g. collapsing linear reaction chains)\n",
    "- PFK and FBP are explicitly irreversible; all others are reversible\n",
    "- Take reactions as written, e.g. PGK and GPMM run the 'wrong' way, so e.g. their flux will be negative for textbook glycolysis\n",
    "\n",
    "The algorithm works over iterations, where iteration j ensures the first j metabolites are\n",
    "at steady state for all flux modes, and all flux modes are elemental at least with respect to those metabolites.\n"
   ]
  },
  {
   "cell_type": "code",
   "execution_count": 3,
   "id": "0b05b61d-2d39-41ef-8e64-822b046893ab",
   "metadata": {
    "tags": []
   },
   "outputs": [],
   "source": [
    "def build_internal_system(network, bounds):\n",
    "    \"\"\"Returns S matrix with rows for internal (non-bounds) metabolites only.\"\"\"\n",
    "    intermediates = [met not in bounds for met in network.reactants]\n",
    "    return network.s_matrix[intermediates].astype(int)\n",
    "\n",
    "def sort_tableau(tableau, j):\n",
    "    # Existing modes that already satisfy steady state j will be part of the next tableau. Others will either be merged or dropped.\n",
    "    elementary = []\n",
    "    pending = []\n",
    "    for mode, reversible, zeros in tableau:\n",
    "        if mode[j] == 0:\n",
    "            elementary.append((mode, reversible, zeros))\n",
    "        else:\n",
    "            pending.append((mode, reversible, zeros))\n",
    "    return elementary, pending\n",
    "\n",
    "def generate_candidates(pending, j):\n",
    "    # All pending mode pairs are merge candidates, unless they violate irreversibility.\n",
    "    candidates = []\n",
    "    for i, (mode_i, reversible_i, zeros_i) in enumerate(pending):\n",
    "        for mode_m, reversible_m, zeros_m in pending[i+1:]:\n",
    "            # Put a reversible mode second if possible, so we can always multiply the first by a positive number\n",
    "            if reversible_m:\n",
    "                candidates.append((mode_i, mode_m, reversible_i and reversible_m, zeros_i & zeros_m))\n",
    "            elif reversible_i:\n",
    "                candidates.append((mode_m, mode_i, reversible_i and reversible_m, zeros_i & zeros_m))\n",
    "\n",
    "            # Otherwise we can still combine them, if they have opposite stoichiometry\n",
    "            elif mode_i[j] * mode_m[j] < 0:\n",
    "                candidates.append((mode_i, mode_m, False, zeros_i & zeros_m))\n",
    "    return candidates\n",
    "\n",
    "def merge_modes(mode_i, mode_m, reversible, j, num_rxns):\n",
    "    # All integer arithmetic. We want integer scaling in simplest form.\n",
    "    multiple = int(np.lcm(mode_i[j], mode_m[j]))\n",
    "    # scale_i is always positive\n",
    "    scale_i = int(multiple / abs(mode_i[j]))\n",
    "    # scale_m satisfies scale_i * mode_i[j] + scale_m * mode_m[j] = 0. \n",
    "    scale_m = -int(scale_i * mode_i[j] / mode_m[j])\n",
    "\n",
    "    # Combine modes, and reduce to simplest integers.\n",
    "    mode = scale_i * mode_i + scale_m * mode_m\n",
    "    mode = (mode / np.gcd.reduce(mode)).astype(int)\n",
    "    \n",
    "    # Determine the actual new zeros set on the moerged mode.\n",
    "    zeros = set(np.nonzero(mode[-num_rxns:] == 0)[0])\n",
    "    \n",
    "    # Mostly esthetic, but prefer original reaction direction for reversible modes\n",
    "    if reversible:\n",
    "        involved = num_rxns - len(zeros)\n",
    "        forward = np.nonzero(mode[-num_rxns:] > 0)[0].shape[0]\n",
    "        if forward * 2 < involved:\n",
    "            mode = -mode\n",
    "\n",
    "    return mode, reversible, zeros\n",
    "\n",
    "def process_candidates(candidates, modes, j, num_rxns):\n",
    "    # Compare candidates against all other elementary modes, based on the non-subset zeros test.\n",
    "    for i, (mode_i, mode_m, reversible, zeros) in enumerate(candidates):\n",
    "        passing = True\n",
    "        for _, _, other_zeros in modes:\n",
    "            if zeros <= other_zeros:  # subset or equal\n",
    "                # print(f'  {mode_i} + {mode_m} Fails because {zeros} <= {other_zeros}')\n",
    "                passing = False\n",
    "                break\n",
    "\n",
    "        # If the candidate survived, keep it. Other candidates must now compare against this new mode too.\n",
    "        if passing:\n",
    "            modes.append(merge_modes(mode_i, mode_m, reversible, j, num_rxns))\n",
    "    \n",
    "    return modes\n",
    "\n",
    "# def elementary_modes(network, bounds):\n",
    "def elementary_modes(s_matrix, reversibilities):\n",
    "    # tableau = init_tableau(network, bounds)\n",
    "    num_mets, num_rxns = s_matrix.shape\n",
    "    modes = list(np.concatenate([s_matrix, np.eye(num_rxns, dtype=int)]).T)\n",
    "    tableau = [(mode, reversible, set(np.nonzero(mode[-num_rxns:] == 0)[0]))\n",
    "                for mode, reversible in zip(modes, reversibilities)]\n",
    "\n",
    "    for j in range(num_mets):\n",
    "        modes, pending = sort_tableau(tableau, j)\n",
    "        candidates = generate_candidates(pending, j)\n",
    "        # TODO: optimization based on cardinality of merged zeros set, per Urbanczik & Wagner (2004)?\n",
    "        \n",
    "        tableau = process_candidates(candidates, modes, j, num_rxns)\n",
    "        \n",
    "    modes = []\n",
    "    rev = []\n",
    "    for mode, reversible, zeros in tableau:\n",
    "        modes.append(mode[-num_rxns:])\n",
    "        rev.append(reversible)\n",
    "    \n",
    "    return np.array(modes, dtype=int).T, rev"
   ]
  },
  {
   "cell_type": "code",
   "execution_count": 4,
   "id": "8f67b911-0b0e-4846-a2dc-743b5d9f0cb8",
   "metadata": {
    "tags": []
   },
   "outputs": [
    {
     "name": "stdout",
     "output_type": "stream",
     "text": [
      "CPU times: user 5.84 ms, sys: 1.16 ms, total: 7 ms\n",
      "Wall time: 6.13 ms\n"
     ]
    }
   ],
   "source": [
    "%%time\n",
    "modes, rev = elementary_modes(build_internal_system(network, bounds), (reaction.reversible for reaction in network.reactions))"
   ]
  },
  {
   "cell_type": "markdown",
   "id": "be438aa3-34dd-4a18-81ee-35cfa0e9c9a8",
   "metadata": {},
   "source": [
    "### Reaction usage and net reaction per elementary mode"
   ]
  },
  {
   "cell_type": "code",
   "execution_count": 5,
   "id": "d523a161-514b-43b4-8341-646d6abd5e5e",
   "metadata": {
    "tags": []
   },
   "outputs": [],
   "source": [
    "def show_modes(network, modes, rev):\n",
    "    s_elementary = (network.s_matrix.astype(int) @ modes)\n",
    "    net_reactions = []\n",
    "    for i, (mode, reversible) in enumerate(zip(s_elementary.T, rev)):\n",
    "        stoich = {}\n",
    "        for met, count in zip(network.reactants, mode):\n",
    "            if count != 0:\n",
    "                stoich[met] = count\n",
    "\n",
    "        net_reaction = Reaction(_id=f'mode{i}', name=f'Elementary Mode {i}', stoichiometry=stoich, reversible=reversible)\n",
    "        net_reactions.append(net_reaction)\n",
    "\n",
    "    w = f'{160 + modes.shape[1] * 8:d}px' if modes.shape[1] < 80 else '100%'\n",
    "    mode_select = widgets.IntSlider(\n",
    "        value=0,\n",
    "        min=0,\n",
    "        max=modes.shape[1] - 1,\n",
    "        description='Mode',\n",
    "        continuous_update=True,\n",
    "        readout=True,\n",
    "        layout={'width': w}\n",
    "    )\n",
    "    mode_fluxes = widgets.Text(description='flux ratios', layout={\"width\": \"99%\"})\n",
    "    mode_net = widgets.Text(description='net reaction', layout={\"width\": \"99%\"})\n",
    "    diag = escher_map.EscherMap(json.loads(resources.read_text(pw_files, 'glycolysis_ppp_ed.json')), width=\"100%\", reaction_scale=scale)\n",
    "\n",
    "    def show_mode(change):\n",
    "        mode = mode_select.value\n",
    "        mode_fluxes.value = mode_formula(network, modes.T[mode])\n",
    "        mode_net.value = reaction_formula(net_reactions[mode])\n",
    "        diag.draw(reaction_data={r.label: v for r, v in zip(network.reactions, modes.T[mode])})\n",
    "\n",
    "    mode_select.observe(show_mode, names='value')\n",
    "    show_mode(None)\n",
    "\n",
    "    return widgets.VBox([mode_select, mode_fluxes, mode_net, diag.widget], layout={\"width\": \"6in\"})"
   ]
  },
  {
   "cell_type": "code",
   "execution_count": 6,
   "id": "e0c93cc4-b823-403f-9be0-f47de67b7378",
   "metadata": {
    "tags": []
   },
   "outputs": [
    {
     "data": {
      "application/vnd.jupyter.widget-view+json": {
       "model_id": "4d2c399229b842458b7bdf5f515a7568",
       "version_major": 2,
       "version_minor": 0
      },
      "text/plain": [
       "VBox(children=(IntSlider(value=0, description='Mode', layout=Layout(width='272px'), max=13), Text(value='PFK +…"
      ]
     },
     "execution_count": 6,
     "metadata": {},
     "output_type": "execute_result"
    }
   ],
   "source": [
    "show_modes(network, modes, rev)"
   ]
  },
  {
   "cell_type": "markdown",
   "id": "dfc0e93e-c7ef-4d4b-8a10-b66e6866ff0c",
   "metadata": {},
   "source": [
    "# Try to make the network identical to Schuster et al (2000)"
   ]
  },
  {
   "cell_type": "code",
   "execution_count": 7,
   "id": "192cba52-b295-48f2-960b-a6a6c65f80e8",
   "metadata": {
    "tags": []
   },
   "outputs": [
    {
     "data": {
      "application/vnd.jupyter.widget-view+json": {
       "model_id": "ab476c22052843e1828750c719d82aca",
       "version_major": 2,
       "version_minor": 0
      },
      "text/plain": [
       "VBox(children=(IntSlider(value=0, description='Mode', layout=Layout(width='232px'), max=8), Text(value='PFK + …"
      ]
     },
     "execution_count": 7,
     "metadata": {},
     "output_type": "execute_result"
    }
   ],
   "source": [
    "# Extend to pyruvate and to R5Pex.\n",
    "r5p_ex = Molecule(_id='r5p_ex', name='Incorporated R5P', shorthand='R5Pex')\n",
    "prs_deob = Reaction(\n",
    "    _id='prs_deob',\n",
    "    name='R5P nucleotide incorporation',\n",
    "    stoichiometry={\n",
    "        r5p: -1,\n",
    "        r5p_ex: +1\n",
    "    },\n",
    "    reversible=False)\n",
    "\n",
    "#  *** Pyk is irreversible, but the wrong way! Semanitics of the name 'pyruvate *kinase*' aside, define the reaction as strictly PEP + ADP -> pyruvate + ATP ***\n",
    "pyk = KB.get(KB.reactions, 'pyk')\n",
    "pyk_irr = Reaction(\n",
    "    _id='pyk_irr',\n",
    "    name='Glycolytic PYK',\n",
    "    shorthand='PYK',\n",
    "    stoichiometry = {met: -count for met, count in pyk.stoichiometry.items()},\n",
    "    reversible=False,\n",
    ")\n",
    "\n",
    "exclude = {'pps', 'pdh', 'pyk'}\n",
    "network = ReactionNetwork(r for r in glycolysis.steps + ppp.steps + [pyk_irr, prs_deob] if r.id not in exclude)\n",
    "\n",
    "# We still keep track of protons and water, where they do not. This *shouldn't* make a difference...\n",
    "pyr = KB('pyr')\n",
    "bounds = {g6p, pyr, r5p_ex, nad, nadh, nadp, nadph, amp, adp, atp, pi, co2, h2o, proton}\n",
    "\n",
    "modes, rev = elementary_modes(build_internal_system(network, bounds), (reaction.reversible for reaction in network.reactions))\n",
    "show_modes(network, modes, rev)"
   ]
  },
  {
   "cell_type": "markdown",
   "id": "fd11a41b-055e-43fb-8c4b-57e3f7538155",
   "metadata": {
    "tags": []
   },
   "source": [
    "Most correspond to modes as in Schuster _et al_ (2000)\n",
    "- 0 = G = futile cycle\n",
    "- 1 = A = textbook glycolysis\n",
    "- 2 = D = G6P to R5P + CO2\n",
    "- 3 = E = 5 G6P to 6 R5P\n",
    "- 5 = F = burn G6P completely to CO2, generating NADPH\n",
    "- 6 = B = burn G6P half to CO2, half to pyruvate\n",
    "- 7 = C = burn G6p 1/6 to CO2, the rest to pyruvate\n",
    "\n",
    "Two extra modes:\n",
    "- 4 = pure carbon fixation 6 CO2 -> G6P, consuming ATP and NADPH.\n",
    "- 8 = lesser carbon fixation, G6P + 4 CO2 -> 2 R5P\n",
    "\n",
    "**Bingo:** the two extra modes use PGLDH (6-phosphogluconate dehydrogenase) in reverse, while Schuster _et al_ treat it as irreversible. eQuilibrator gives its standard ΔG as +10.7 kJ/mol, which is _uphill_, though at cellular concentrations I calculate it at more like -11. So we do expect it to run in the direction given, but it is not impossible that it could go the opposite way under the right conditions.\n",
    "\n",
    "### Either way, check that making it irreversible reproduces the published result:"
   ]
  },
  {
   "cell_type": "code",
   "execution_count": 8,
   "id": "ff1ca938-c3cd-4a59-a973-ae4598bf2938",
   "metadata": {
    "tags": []
   },
   "outputs": [
    {
     "data": {
      "application/vnd.jupyter.widget-view+json": {
       "model_id": "d84169b2182e43e88a920c82ba84672e",
       "version_major": 2,
       "version_minor": 0
      },
      "text/plain": [
       "VBox(children=(IntSlider(value=0, description='Mode', layout=Layout(width='216px'), max=6), Text(value='PFK + …"
      ]
     },
     "execution_count": 8,
     "metadata": {},
     "output_type": "execute_result"
    }
   ],
   "source": [
    "#  Replace PGLDH with an irreversible copy.\n",
    "pgldh = KB.get(KB.reactions, 'pgldh')\n",
    "pgldh_irr = Reaction(\n",
    "    _id=pgldh.id + '_irr',\n",
    "    name=pgldh.name,\n",
    "    shorthand=pgldh.shorthand,\n",
    "    stoichiometry = pgldh.stoichiometry,\n",
    "    reversible=False,\n",
    ")\n",
    "\n",
    "exclude = {'pps', 'pdh', 'pyk', 'pgldh'}\n",
    "network = ReactionNetwork(r for r in glycolysis.steps + ppp.steps + [pyk_irr, pgldh_irr, prs_deob] if r.id not in exclude)\n",
    "\n",
    "# Same bounds as above\n",
    "bounds = {g6p, pyr, r5p_ex, nad, nadh, nadp, nadph, amp, adp, atp, pi, co2, h2o, proton}\n",
    "modes, rev = elementary_modes(build_internal_system(network, bounds), (reaction.reversible for reaction in network.reactions))\n",
    "show_modes(network, modes, rev)"
   ]
  },
  {
   "cell_type": "markdown",
   "id": "d5be5cd0-f09b-4af0-9383-66344847a9d3",
   "metadata": {},
   "source": [
    "Same 7 elementary modes as in Schuster _et al_ (2000). **Declare success**."
   ]
  },
  {
   "cell_type": "markdown",
   "id": "17ac6ff1-3dc6-483b-97d9-0273c7cdf452",
   "metadata": {},
   "source": [
    "### Reproducibility of elementary modes\n",
    "\n",
    "- Randomly permute reactions and metabolites, and collect the resulting elementary modes."
   ]
  },
  {
   "cell_type": "code",
   "execution_count": 9,
   "id": "88a6bf7b-97dc-46c0-8c24-e1a663077aff",
   "metadata": {
    "tags": []
   },
   "outputs": [
    {
     "name": "stdout",
     "output_type": "stream",
     "text": [
      "CPU times: user 2.86 s, sys: 7.98 ms, total: 2.87 s\n",
      "Wall time: 2.86 s\n"
     ]
    }
   ],
   "source": [
    "%%time\n",
    "rng = np.random.default_rng()\n",
    "\n",
    "s_internal = build_internal_system(network, bounds)\n",
    "reversibilities = np.array([reaction.reversible for reaction in network.reactions])\n",
    "\n",
    "results = []\n",
    "for _ in range(1000):\n",
    "    met_perm = rng.permutation(s_internal.shape[0])\n",
    "    rxn_perm = rng.permutation(s_internal.shape[1])\n",
    "    \n",
    "    # Permute the input matrix by both row and column\n",
    "    modes, rev = elementary_modes(s_internal[met_perm][:, rxn_perm], reversibilities[rxn_perm])\n",
    "    \n",
    "    # Restore the original reaction ordering\n",
    "    results.append((met_perm, rxn_perm, modes[np.argsort(rxn_perm)], rev))"
   ]
  },
  {
   "cell_type": "code",
   "execution_count": 10,
   "id": "d87fcd50-6f62-4c40-8745-df5950ccae01",
   "metadata": {
    "tags": []
   },
   "outputs": [],
   "source": [
    "for i, (_, _, modes, _) in enumerate(results):\n",
    "    if modes.shape != (19, 7):\n",
    "        print(i, modes.shape)"
   ]
  },
  {
   "cell_type": "markdown",
   "id": "6d88e397-7757-4196-ab7b-8ee020097e3a",
   "metadata": {},
   "source": [
    "Always 7 modes"
   ]
  },
  {
   "cell_type": "code",
   "execution_count": 11,
   "id": "cf886047-84bd-4dbe-af6b-180c1777bd90",
   "metadata": {
    "tags": []
   },
   "outputs": [
    {
     "data": {
      "text/plain": [
       "(1000, 19, 7)"
      ]
     },
     "execution_count": 11,
     "metadata": {},
     "output_type": "execute_result"
    }
   ],
   "source": [
    "mode_sorted = []\n",
    "for _, _, modes, _ in results:\n",
    "    modes = modes[:, modes[1].argsort()]\n",
    "    modes = modes[:, modes[0].argsort(kind='stable')]\n",
    "    mode_sorted.append(modes)\n",
    "allmodes = np.array(mode_sorted)\n",
    "allmodes.shape"
   ]
  },
  {
   "cell_type": "code",
   "execution_count": 12,
   "id": "d379a6d6-3aec-43c9-9825-6a1a66139b0f",
   "metadata": {
    "tags": []
   },
   "outputs": [
    {
     "data": {
      "text/plain": [
       "array([[-5., -2.,  0.,  0.,  0.,  1.,  5.],\n",
       "       [ 0.,  0.,  0.,  1.,  2.,  1.,  1.],\n",
       "       [ 1.,  0.,  0.,  1.,  0.,  0.,  0.],\n",
       "       [-1.,  0.,  0.,  0.,  2.,  1.,  1.],\n",
       "       [ 1.,  0.,  0.,  0., -2., -1., -1.],\n",
       "       [ 0.,  1.,  0.,  0.,  5.,  2.,  0.],\n",
       "       [ 0., -1.,  0.,  0., -5., -2.,  0.],\n",
       "       [ 0., -1.,  0.,  0., -5., -2.,  0.],\n",
       "       [ 0.,  1.,  0.,  0.,  5.,  2.,  0.],\n",
       "       [-2., -1., -1.,  0., -1.,  0., -4.],\n",
       "       [-2., -1.,  0.,  0., -1.,  0.,  2.],\n",
       "       [ 4.,  2.,  0.,  0.,  2.,  0., -4.],\n",
       "       [ 6.,  3.,  1.,  0.,  3.,  0.,  0.],\n",
       "       [ 2.,  1.,  0.,  0.,  1.,  0., -2.],\n",
       "       [ 2.,  1.,  0.,  0.,  1.,  0., -2.],\n",
       "       [ 6.,  3.,  1.,  0.,  3.,  0.,  0.],\n",
       "       [ 0.,  1.,  0.,  0.,  5.,  2.,  0.],\n",
       "       [ 6.,  3.,  1.,  0.,  3.,  0.,  0.],\n",
       "       [ 0.,  0.,  1.,  0.,  0.,  0.,  6.]])"
      ]
     },
     "execution_count": 12,
     "metadata": {},
     "output_type": "execute_result"
    }
   ],
   "source": [
    "np.mean(allmodes, axis=0)"
   ]
  },
  {
   "cell_type": "markdown",
   "id": "b60451a5-8caf-4b20-b1d0-e6b9f9033f49",
   "metadata": {},
   "source": [
    "OK, looks 100% consistent"
   ]
  },
  {
   "cell_type": "markdown",
   "id": "7671122a-41d7-446d-8453-38052d8a3bbb",
   "metadata": {},
   "source": [
    "## Approach 2 - Only a minor variation\n",
    "\n",
    "- Treat at least some of the boundaries as exchanges rather than external metabolites\n",
    "- _Should_ give the same result e.g. for FBA\n",
    "  - Unconstrained dM/dt is the same as an unconstrained exchange via a one-metabolite pseudo-reaction\n",
    "- But for elementary mode analysis it could matter\n",
    "  - Keeps the metabolite row of interest in the subsetted S matrix used for the elementary mode algorithm.\n",
    "    - This could make the difference for a given reaction being included in the analysis at all, e.g. between two metabolites that could both also exchange\n",
    "  - The exchange could be marked irreversible to restrict to a relevant subset of modes\n"
   ]
  },
  {
   "cell_type": "code",
   "execution_count": 13,
   "id": "7a008d61-b575-46a6-9239-e5e2dadd1f9b",
   "metadata": {
    "tags": []
   },
   "outputs": [],
   "source": [
    "def augmented_internal_system(network, exchanges, bounds):\n",
    "    \"\"\"Returns S matrix with rows for internal and exchanged metabolites only.\"\"\"\n",
    "    \n",
    "    # Append columns ('reactions') with a single entry for each exchange\n",
    "    exchange_cols = np.zeros((network.shape[0], len(exchanges)), dtype=int)\n",
    "    for j, met in enumerate(exchanges):\n",
    "        exchange_cols[network.reactants.index_of(met), j] = 1\n",
    "\n",
    "    intermediates = [met not in bounds for met in network.reactants]\n",
    "    s_matrix = np.concatenate([network.s_matrix.astype(int), exchange_cols], axis=1)\n",
    "    return s_matrix[intermediates]\n"
   ]
  },
  {
   "cell_type": "code",
   "execution_count": 14,
   "id": "958fc94c-7020-48a8-b290-d5b9bc07d6c8",
   "metadata": {
    "tags": []
   },
   "outputs": [
    {
     "data": {
      "text/plain": [
       "(15, 19)"
      ]
     },
     "execution_count": 14,
     "metadata": {},
     "output_type": "execute_result"
    }
   ],
   "source": [
    "build_internal_system(network, bounds).shape"
   ]
  },
  {
   "cell_type": "code",
   "execution_count": 15,
   "id": "74d0f2a2-7558-4a08-855b-e1c2dda6943b",
   "metadata": {
    "tags": []
   },
   "outputs": [
    {
     "data": {
      "text/plain": [
       "(17, 21)"
      ]
     },
     "execution_count": 15,
     "metadata": {},
     "output_type": "execute_result"
    }
   ],
   "source": [
    "augmented_internal_system(network, {g6p, pyr}, bounds - {g6p, pyr}).shape"
   ]
  },
  {
   "cell_type": "code",
   "execution_count": 16,
   "id": "255d6196-46c1-46bc-b8f6-97d41fcd7771",
   "metadata": {
    "tags": []
   },
   "outputs": [],
   "source": [
    "modes, rev = elementary_modes(\n",
    "    augmented_internal_system(network, {g6p, pyr}, bounds - {g6p, pyr}),\n",
    "    [reaction.reversible for reaction in network.reactions] + [True, True])"
   ]
  },
  {
   "cell_type": "code",
   "execution_count": 17,
   "id": "f4767784-2cd8-4cfa-8287-5f73eb02ddf4",
   "metadata": {
    "tags": []
   },
   "outputs": [
    {
     "data": {
      "text/plain": [
       "(21, 7)"
      ]
     },
     "execution_count": 17,
     "metadata": {},
     "output_type": "execute_result"
    }
   ],
   "source": [
    "modes.shape"
   ]
  },
  {
   "cell_type": "code",
   "execution_count": 18,
   "id": "9ea5f4d5-2817-4f05-ac63-68392c2014df",
   "metadata": {},
   "outputs": [
    {
     "data": {
      "application/vnd.jupyter.widget-view+json": {
       "model_id": "977e102b3dcc430dad93264fb8685fc0",
       "version_major": 2,
       "version_minor": 0
      },
      "text/plain": [
       "VBox(children=(IntSlider(value=0, description='Mode', layout=Layout(width='216px'), max=6), Text(value='PFK + …"
      ]
     },
     "execution_count": 18,
     "metadata": {},
     "output_type": "execute_result"
    }
   ],
   "source": [
    "show_modes(network, modes[:network.shape[1]], rev)"
   ]
  },
  {
   "cell_type": "markdown",
   "id": "f20c0ac1-a2e6-455c-8acf-84b427ba4e15",
   "metadata": {},
   "source": [
    "Same"
   ]
  }
 ],
 "metadata": {
  "kernelspec": {
   "display_name": "Python 3 (ipykernel)",
   "language": "python",
   "name": "python3"
  },
  "language_info": {
   "codemirror_mode": {
    "name": "ipython",
    "version": 3
   },
   "file_extension": ".py",
   "mimetype": "text/x-python",
   "name": "python",
   "nbconvert_exporter": "python",
   "pygments_lexer": "ipython3",
   "version": "3.8.16"
  }
 },
 "nbformat": 4,
 "nbformat_minor": 5
}
